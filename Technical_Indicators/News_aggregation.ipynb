{
 "cells": [
  {
   "cell_type": "code",
   "execution_count": 64,
   "id": "7381c012",
   "metadata": {},
   "outputs": [],
   "source": [
    "import pandas as pd\n",
    "import numpy as np\n",
    "import newsapi\n",
    "from newsapi import NewsApiClient\n",
    "import requests\n",
    "import json\n",
    "from dotenv import load_dotenv\n",
    "import os"
   ]
  },
  {
   "cell_type": "code",
   "execution_count": 50,
   "id": "17ae4ce7",
   "metadata": {},
   "outputs": [],
   "source": [
    "from bs4 import BeautifulSoup"
   ]
  },
  {
   "cell_type": "code",
   "execution_count": 7,
   "id": "23f5c1e5",
   "metadata": {},
   "outputs": [
    {
     "data": {
      "text/plain": [
       "True"
      ]
     },
     "execution_count": 7,
     "metadata": {},
     "output_type": "execute_result"
    }
   ],
   "source": [
    "load_dotenv()"
   ]
  },
  {
   "cell_type": "code",
   "execution_count": 67,
   "id": "c12a729b",
   "metadata": {},
   "outputs": [],
   "source": [
    "news_api_key = os.getenv(\"NEWS_API_KEY\")"
   ]
  },
  {
   "cell_type": "code",
   "execution_count": 69,
   "id": "b737c47e",
   "metadata": {},
   "outputs": [],
   "source": [
    "news_api = NewsApiClient(api_key=news_api_key)"
   ]
  },
  {
   "cell_type": "code",
   "execution_count": 13,
   "id": "8003e04d",
   "metadata": {},
   "outputs": [],
   "source": [
    "fmp_api = os.getenv(\"FMP_API\")"
   ]
  },
  {
   "cell_type": "code",
   "execution_count": 14,
   "id": "8c258fa0",
   "metadata": {},
   "outputs": [],
   "source": [
    "tickers = json.loads(requests.get(f\"https://fmpcloud.io/api/v3/available-traded/list?apikey={fmp_api}\").content)"
   ]
  },
  {
   "cell_type": "code",
   "execution_count": 28,
   "id": "7bf98889",
   "metadata": {},
   "outputs": [
    {
     "data": {
      "text/plain": [
       "31400"
      ]
     },
     "execution_count": 28,
     "metadata": {},
     "output_type": "execute_result"
    }
   ],
   "source": [
    "len(tickers)"
   ]
  },
  {
   "cell_type": "code",
   "execution_count": 29,
   "id": "874a5b92",
   "metadata": {},
   "outputs": [
    {
     "data": {
      "text/plain": [
       "{'symbol': 'SPY',\n",
       " 'name': 'SPDR S&P 500 ETF Trust',\n",
       " 'price': 469.44,\n",
       " 'exchange': 'New York Stock Exchange Arca',\n",
       " 'exchangeShortName': 'AMEX'}"
      ]
     },
     "execution_count": 29,
     "metadata": {},
     "output_type": "execute_result"
    }
   ],
   "source": [
    "tickers[0]"
   ]
  },
  {
   "cell_type": "code",
   "execution_count": 18,
   "id": "2a6f3012",
   "metadata": {},
   "outputs": [],
   "source": [
    "tickers_df = pd.DataFrame(tickers)"
   ]
  },
  {
   "cell_type": "code",
   "execution_count": 24,
   "id": "76a8de1c",
   "metadata": {},
   "outputs": [
    {
     "data": {
      "text/html": [
       "<div>\n",
       "<style scoped>\n",
       "    .dataframe tbody tr th:only-of-type {\n",
       "        vertical-align: middle;\n",
       "    }\n",
       "\n",
       "    .dataframe tbody tr th {\n",
       "        vertical-align: top;\n",
       "    }\n",
       "\n",
       "    .dataframe thead th {\n",
       "        text-align: right;\n",
       "    }\n",
       "</style>\n",
       "<table border=\"1\" class=\"dataframe\">\n",
       "  <thead>\n",
       "    <tr style=\"text-align: right;\">\n",
       "      <th></th>\n",
       "      <th>symbol</th>\n",
       "      <th>name</th>\n",
       "      <th>price</th>\n",
       "      <th>exchange</th>\n",
       "      <th>exchangeShortName</th>\n",
       "    </tr>\n",
       "  </thead>\n",
       "  <tbody>\n",
       "    <tr>\n",
       "      <th>0</th>\n",
       "      <td>SPY</td>\n",
       "      <td>SPDR S&amp;P 500 ETF Trust</td>\n",
       "      <td>469.44</td>\n",
       "      <td>New York Stock Exchange Arca</td>\n",
       "      <td>AMEX</td>\n",
       "    </tr>\n",
       "    <tr>\n",
       "      <th>1</th>\n",
       "      <td>CMCSA</td>\n",
       "      <td>Comcast Corporation</td>\n",
       "      <td>51.88</td>\n",
       "      <td>Nasdaq Global Select</td>\n",
       "      <td>NASDAQ</td>\n",
       "    </tr>\n",
       "    <tr>\n",
       "      <th>2</th>\n",
       "      <td>KMI</td>\n",
       "      <td>Kinder Morgan, Inc.</td>\n",
       "      <td>16.52</td>\n",
       "      <td>New York Stock Exchange</td>\n",
       "      <td>NYSE</td>\n",
       "    </tr>\n",
       "    <tr>\n",
       "      <th>3</th>\n",
       "      <td>INTC</td>\n",
       "      <td>Intel Corporation</td>\n",
       "      <td>49.76</td>\n",
       "      <td>Nasdaq Global Select</td>\n",
       "      <td>NASDAQ</td>\n",
       "    </tr>\n",
       "    <tr>\n",
       "      <th>4</th>\n",
       "      <td>MU</td>\n",
       "      <td>Micron Technology, Inc.</td>\n",
       "      <td>86.21</td>\n",
       "      <td>Nasdaq Global Select</td>\n",
       "      <td>NASDAQ</td>\n",
       "    </tr>\n",
       "  </tbody>\n",
       "</table>\n",
       "</div>"
      ],
      "text/plain": [
       "  symbol                     name   price                      exchange  \\\n",
       "0    SPY   SPDR S&P 500 ETF Trust  469.44  New York Stock Exchange Arca   \n",
       "1  CMCSA      Comcast Corporation   51.88          Nasdaq Global Select   \n",
       "2    KMI      Kinder Morgan, Inc.   16.52       New York Stock Exchange   \n",
       "3   INTC        Intel Corporation   49.76          Nasdaq Global Select   \n",
       "4     MU  Micron Technology, Inc.   86.21          Nasdaq Global Select   \n",
       "\n",
       "  exchangeShortName  \n",
       "0              AMEX  \n",
       "1            NASDAQ  \n",
       "2              NYSE  \n",
       "3            NASDAQ  \n",
       "4            NASDAQ  "
      ]
     },
     "execution_count": 24,
     "metadata": {},
     "output_type": "execute_result"
    }
   ],
   "source": [
    "tickers_df.head()"
   ]
  },
  {
   "cell_type": "code",
   "execution_count": 20,
   "id": "24810bf7",
   "metadata": {},
   "outputs": [
    {
     "data": {
      "text/plain": [
       "array(['New York Stock Exchange Arca', 'Nasdaq Global Select',\n",
       "       'New York Stock Exchange', 'Nasdaq Global Market',\n",
       "       'Nasdaq Capital Market', 'BATS Exchange', 'BATS',\n",
       "       'NASDAQ Global Market', 'OTC', 'Other OTC', 'Paris', 'Amsterdam',\n",
       "       'Brussels', 'Lisbon', 'Toronto', 'YHD', 'EURONEXT', 'Swiss', 'MCX',\n",
       "       'XETRA', 'NSE', 'LSE', 'SIX', 'HKSE', 'OSE', 'NASDAQ', 'Sao Paolo',\n",
       "       'TSXV', 'Frankfurt', 'HKG', 'NCM', 'MCE', 'ASE', 'OSL', 'Oslo',\n",
       "       'FGI', 'Irish', 'Canadian Sec', 'NZSE', 'Nasdaq', 'Jakarta',\n",
       "       'Vienna', 'Santiago', 'Shenzhen', 'Shanghai', 'Hamburg',\n",
       "       'Copenhagen', 'Helsinki', 'Athens', 'Milan', 'Tokyo', 'KSE',\n",
       "       'KOSDAQ', 'Stockholm', 'Istanbul', 'Taiwan', 'Mexico',\n",
       "       'Johannesburg', 'São Paulo', '', 'Tel Aviv', 'Warsaw', 'Thailand',\n",
       "       'IOB', 'Qatar', 'Prague', 'SES', 'Berlin', 'Taipei Exchange',\n",
       "       'Saudi', 'NasdaqGM', 'NasdaqGS', 'Iceland', 'NYSE American'],\n",
       "      dtype=object)"
      ]
     },
     "execution_count": 20,
     "metadata": {},
     "output_type": "execute_result"
    }
   ],
   "source": [
    "tickers_df.exchange.unique()"
   ]
  },
  {
   "cell_type": "code",
   "execution_count": 25,
   "id": "fd84a77e",
   "metadata": {},
   "outputs": [],
   "source": [
    "exchanges_tossed = ['Paris', 'Amsterdam','Brussels', 'Lisbon', 'Toronto', 'YHD', 'EURONEXT', 'Swiss', 'MCX','XETRA', 'LSE', 'SIX', 'HKSE', 'OSE', 'Sao Paolo',\n",
    "                    'TSXV', 'Frankfurt', 'HKG', 'NCM', 'MCE', 'ASE', 'OSL', 'Oslo','FGI', 'Irish', 'Canadian Sec', 'NZSE', 'Nasdaq', 'Jakarta',\n",
    "                    'Vienna', 'Santiago', 'Shenzhen', 'Shanghai', 'Hamburg','Copenhagen', 'Helsinki', 'Athens', 'Milan', 'Tokyo', 'KSE','KOSDAQ', 'Stockholm', 'Istanbul', 'Taiwan', 'Mexico',\n",
    "                    'Johannesburg', 'São Paulo', '', 'Tel Aviv', 'Warsaw', 'Thailand','IOB', 'Qatar', 'Prague', 'SES', 'Berlin', 'Taipei Exchange','Saudi','Iceland']"
   ]
  },
  {
   "cell_type": "code",
   "execution_count": 30,
   "id": "154744a6",
   "metadata": {},
   "outputs": [],
   "source": [
    "i = 0\n",
    "tickers_used_in_analysis = []\n",
    "while i < len(tickers):\n",
    "    if tickers[i]['exchange'] not in exchanges_tossed:\n",
    "        tickers_used_in_analysis.append(tickers[i])\n",
    "    else:\n",
    "        pass\n",
    "    i+=1"
   ]
  },
  {
   "cell_type": "code",
   "execution_count": 36,
   "id": "f14ad2b9",
   "metadata": {},
   "outputs": [
    {
     "data": {
      "text/plain": [
       "{'symbol': 'CMCSA',\n",
       " 'name': 'Comcast Corporation',\n",
       " 'price': 51.88,\n",
       " 'exchange': 'Nasdaq Global Select',\n",
       " 'exchangeShortName': 'NASDAQ'}"
      ]
     },
     "execution_count": 36,
     "metadata": {},
     "output_type": "execute_result"
    }
   ],
   "source": [
    "tickers_used_in_analysis[1]"
   ]
  },
  {
   "cell_type": "code",
   "execution_count": 33,
   "id": "bb5eabb5",
   "metadata": {},
   "outputs": [
    {
     "data": {
      "text/plain": [
       "13796"
      ]
     },
     "execution_count": 33,
     "metadata": {},
     "output_type": "execute_result"
    }
   ],
   "source": [
    "len(tickers_used_in_analysis)"
   ]
  },
  {
   "cell_type": "code",
   "execution_count": 79,
   "id": "23cc28e6",
   "metadata": {},
   "outputs": [],
   "source": [
    "news_headlines = json.loads(requests.get(f\"https://fmpcloud.io/api/v3/stock_news?tickers={tickers_used_in_analysis[0]['symbol']}&limit=20&apikey={fmp_api}\").content)"
   ]
  },
  {
   "cell_type": "code",
   "execution_count": 88,
   "id": "273caad8",
   "metadata": {},
   "outputs": [
    {
     "data": {
      "text/plain": [
       "{'symbol': 'SPY',\n",
       " 'publishedDate': '2021-11-24 19:08:06',\n",
       " 'title': 'Slight Relief Rally Ahead of Thanksgiving Holiday',\n",
       " 'image': 'https://cdn.snapi.dev/images/v1/1/a/etf8-1124083.jpg',\n",
       " 'site': 'Zacks Investment Research',\n",
       " 'text': 'We were nearly able to report across-the-board gains among main market indexes today, though the Dow came up just short.',\n",
       " 'url': 'https://www.zacks.com/stock/news/1831612/slight-relief-rally-ahead-of-thanksgiving-holiday'}"
      ]
     },
     "execution_count": 88,
     "metadata": {},
     "output_type": "execute_result"
    }
   ],
   "source": [
    "news_headlines[0]"
   ]
  },
  {
   "cell_type": "code",
   "execution_count": 81,
   "id": "8767918c",
   "metadata": {
    "collapsed": true,
    "jupyter": {
     "outputs_hidden": true
    }
   },
   "outputs": [
    {
     "data": {
      "text/plain": [
       "[{'symbol': 'SPY',\n",
       "  'publishedDate': '2021-11-24 19:08:06',\n",
       "  'title': 'Slight Relief Rally Ahead of Thanksgiving Holiday',\n",
       "  'image': 'https://cdn.snapi.dev/images/v1/1/a/etf8-1124083.jpg',\n",
       "  'site': 'Zacks Investment Research',\n",
       "  'text': 'We were nearly able to report across-the-board gains among main market indexes today, though the Dow came up just short.',\n",
       "  'url': 'https://www.zacks.com/stock/news/1831612/slight-relief-rally-ahead-of-thanksgiving-holiday'},\n",
       " {'symbol': 'SPY',\n",
       "  'publishedDate': '2021-11-23 17:49:24',\n",
       "  'title': 'GBTC: A Few Events To Watch For In Grayscale Bitcoin Trust',\n",
       "  'image': 'https://cdn.snapi.dev/images/v1/j/x/software31-1122422.jpg',\n",
       "  'site': 'Seeking Alpha',\n",
       "  'text': 'GBTC: A Few Events To Watch For In Grayscale Bitcoin Trust',\n",
       "  'url': 'https://seekingalpha.com/article/4471633-gbtc-few-events-to-watch-for-grayscale-bitcoin-trust'},\n",
       " {'symbol': 'SPY',\n",
       "  'publishedDate': '2021-11-23 17:37:03',\n",
       "  'title': '5 Value Picks as 2022 Approaches',\n",
       "  'image': 'https://cdn.snapi.dev/images/v1/l/t/chemicals16-1122413.jpg',\n",
       "  'site': 'Zacks Investment Research',\n",
       "  'text': 'There is value in stocks trading at a discount to their 2022 estimates.',\n",
       "  'url': 'https://www.zacks.com/stock/news/1831095/5-value-picks-as-2022-approaches'},\n",
       " {'symbol': 'SPY',\n",
       "  'publishedDate': '2021-11-23 16:03:27',\n",
       "  'title': 'Vanguard Economic and Market Outlook for 2022',\n",
       "  'image': 'https://cdn.snapi.dev/images/v1/n/i/etf40-1122150.jpg',\n",
       "  'site': 'GuruFocus',\n",
       "  'text': 'Our outlook for 2021 focused on the impact of COVID-19 health outcomes on economic and financial conditions. Our view was that economic growth would prove unusually strong, with the prospects for an \"inflation scare\" as growth picked up.',\n",
       "  'url': 'https://www.gurufocus.com/news/1581093/vanguard-economic-and-market-outlook-for-2022'},\n",
       " {'symbol': 'SPY',\n",
       "  'publishedDate': '2021-11-23 07:13:24',\n",
       "  'title': \"Today's Stock Market News & Events: 11/23/2021\",\n",
       "  'image': 'https://cdn.snapi.dev/images/v1/r/2/etf24-1120969.jpg',\n",
       "  'site': 'Schaeffers Research',\n",
       "  'text': \"Both the Markit manufacturing and services purchasing managers' indexes (PMI) are due out today.\",\n",
       "  'url': 'https://www.schaeffersresearch.com/content/news/2021/11/23/todays-stock-market-news-events-11-23-2021'},\n",
       " {'symbol': 'SPY',\n",
       "  'publishedDate': '2021-11-22 20:54:20',\n",
       "  'title': \"Sharp Moves Lower On Today's Charts (Technically Speaking For 11/22)\",\n",
       "  'image': 'https://cdn.snapi.dev/images/v1/x/n/stocksvsbonds-gettyimages-1147519501-3cc77a34b38e4f6f97768b53bd09477c-750823-1120648.jpg',\n",
       "  'site': 'Seeking Alpha',\n",
       "  'text': 'Several RRG charts have sectors that are moving counter to the general trend of the charts. Existing home sales increased.',\n",
       "  'url': 'https://seekingalpha.com/article/4471316-sharp-moves-lower-on-todays-charts-technically-speaking-for-1122'},\n",
       " {'symbol': 'SPY',\n",
       "  'publishedDate': '2021-11-22 17:36:04',\n",
       "  'title': 'Ride the Thanksgiving Rally With These ETFs',\n",
       "  'image': 'https://cdn.snapi.dev/images/v1/y/i/etf21-1120491.jpg',\n",
       "  'site': 'Zacks Investment Research',\n",
       "  'text': 'Impressive third-quarter earnings and upbeat economic data releases are spreading optimism among investors. Also, market analysts are upbeat about the Wall Street rally in the holiday-shortened Thanksgiving week.',\n",
       "  'url': 'https://www.zacks.com/stock/news/1830613/ride-the-thanksgiving-rally-with-these-etfs'},\n",
       " {'symbol': 'SPY',\n",
       "  'publishedDate': '2021-11-22 17:11:31',\n",
       "  'title': 'Bank ETFs Advance Amid Powell Renomination',\n",
       "  'image': 'https://cdn.snapi.dev/images/v1/b/a/bank-etfs-advance-amid-powell-renomination-440x250-1120469.jpg',\n",
       "  'site': 'ETF Trends',\n",
       "  'text': \"Bank stocks and ETFs are responding positively to the renomination of Chairman Jerome Powell, who helmed the Federal Reserve and the nation's economy through the dramatic and abrupt coronavirus-induced recession by utilizing unprecedented monetary stimulus. President Biden announced Powell's renomination on Monday morning, after protracted concerns investors might see Fed Governor Lael Brainard replace Powell [.\",\n",
       "  'url': 'https://www.etftrends.com/bank-etfs-advance-amid-powell-renomination/'},\n",
       " {'symbol': 'SPY',\n",
       "  'publishedDate': '2021-11-22 16:15:03',\n",
       "  'title': 'Oakmark Funds Celebrate 3 Anniversary Milestones',\n",
       "  'image': 'https://cdn.snapi.dev/images/v1/k/5/etf20-1120328.jpg',\n",
       "  'site': 'GuruFocus',\n",
       "  'text': 'The past quarter has been an important one for Oakmark milestones. In August, we marked the 30th anniversary of the Oakmark Fund, in October we celebrated 15 years of Oakmark Global Select and this month we hit 25 years for Oakmark Select.',\n",
       "  'url': 'https://www.gurufocus.com/news/1580174/oakmark-funds-celebrate-3-anniversary-milestones'},\n",
       " {'symbol': 'SPY',\n",
       "  'publishedDate': '2021-11-22 09:05:11',\n",
       "  'title': 'SPY, Early Retirement, And Dynamic Cash Reserve',\n",
       "  'image': 'https://cdn.snapi.dev/images/v1/b/w/etf9-1119301.jpg',\n",
       "  'site': 'Seeking Alpha',\n",
       "  'text': \"The SPDR S&P 500 Trust ETF (SPY) fund is a cornerstone fund in our early retirement portfolio. However, the fund's valuation is currently near a record high in its entire history, actually the entire stock market history. And it has suffered large volatility risks in the past.\",\n",
       "  'url': 'https://seekingalpha.com/article/4471164-spy-early-retirement-and-dynamic-cash-reserve'},\n",
       " {'symbol': 'SPY',\n",
       "  'publishedDate': '2021-11-22 07:07:21',\n",
       "  'title': \"Today's Stock Market News & Events: 11/22/2021\",\n",
       "  'image': 'https://cdn.snapi.dev/images/v1/v/1/etf2-1118909.jpg',\n",
       "  'site': 'Schaeffers Research',\n",
       "  'text': 'Wall Street will be quiet during the second half of the holiday-shortened week this week, and the first half is packed to the brim with fresh economic indicators.',\n",
       "  'url': 'https://www.schaeffersresearch.com/content/news/2021/11/22/todays-stock-market-news-events-11-22-2021'},\n",
       " {'symbol': 'SPY',\n",
       "  'publishedDate': '2021-11-21 09:48:54',\n",
       "  'title': 'SPY: May Not Be The Best Place To Park Your Cash',\n",
       "  'image': 'https://cdn.snapi.dev/images/v1/3/3/33dew23-1118586.',\n",
       "  'site': 'Seeking Alpha',\n",
       "  'text': 'The S&P 500 has had above-inflation returns in recent years, but there are signs that this may change. Alternatives to SPY are available that may offer investors higher returns in an inflationary environment.',\n",
       "  'url': 'https://seekingalpha.com/article/4471051-spy-etf-not-the-best-place-to-park-your-cash'},\n",
       " {'symbol': 'SPY',\n",
       "  'publishedDate': '2021-11-21 09:00:00',\n",
       "  'title': 'Dividend Increases: November 13-19, 2021',\n",
       "  'image': 'https://cdn.snapi.dev/images/v1/u/r/urlhttps3a2f2fgfoolcdncom2feditorial2fimages2f5651522fcalendar-cash-penjpgw700opresize-1118579.jpg',\n",
       "  'site': 'Seeking Alpha',\n",
       "  'text': 'This weekly article series covers dividend changes. A summary table presents relevant data and key statistics of dividend increases.',\n",
       "  'url': 'https://seekingalpha.com/article/4471023-dividend-increases-november-13-19-2021'},\n",
       " {'symbol': 'SPY',\n",
       "  'publishedDate': '2021-11-20 08:10:00',\n",
       "  'title': 'Burned by the Market? Try These 3 Passive Investments Instead',\n",
       "  'image': 'https://cdn.snapi.dev/images/v1/r/h/etf23-1118391.jpg',\n",
       "  'site': 'The Motley Fool',\n",
       "  'text': \"Investors don't have to sacrifice good returns to steer clear of the market's uncomfortable volatility.\",\n",
       "  'url': 'https://www.fool.com/investing/2021/11/20/burned-by-market-try-passive-investments-instead/'},\n",
       " {'symbol': 'SPY',\n",
       "  'publishedDate': '2021-11-19 10:45:27',\n",
       "  'title': 'What Retail Earnings from This Week Tell Us',\n",
       "  'image': 'https://cdn.snapi.dev/images/v1/2/f/sde34ghh-1-73qgu3dmw6-1117394.jpg',\n",
       "  'site': 'Zacks Investment Research',\n",
       "  'text': 'Retail earnings tell us that supply chains remain tight but supply chain relations and scale are helping larger players.',\n",
       "  'url': 'https://www.zacks.com/stock/news/1829801/what-retail-earnings-from-this-week-tell-us'},\n",
       " {'symbol': 'SPY',\n",
       "  'publishedDate': '2021-11-19 08:35:00',\n",
       "  'title': 'I Put Half Of My Retirement Savings Into These Investments',\n",
       "  'image': 'https://cdn.snapi.dev/images/v1/r/r/bank2-1117073.jpg',\n",
       "  'site': 'Seeking Alpha',\n",
       "  'text': 'Planning the allocation of your portfolio is extremely important.',\n",
       "  'url': 'https://seekingalpha.com/article/4470374-i-put-half-of-my-retirement-savings-into-these-investments'},\n",
       " {'symbol': 'SPY',\n",
       "  'publishedDate': '2021-11-19 07:18:59',\n",
       "  'title': \"Today's Stock Market News & Events: 11/19/2021\",\n",
       "  'image': 'https://cdn.snapi.dev/images/v1/q/w/etf20-1116907.jpg',\n",
       "  'site': 'Schaeffers Research',\n",
       "  'text': 'This week will end on a quiet note as there is no economic data on tap today.',\n",
       "  'url': 'https://www.schaeffersresearch.com/content/news/2021/11/19/todays-stock-market-news-events-11-19-2021'},\n",
       " {'symbol': 'SPY',\n",
       "  'publishedDate': '2021-11-18 15:18:21',\n",
       "  'title': \"4 Agriculture ETF Areas At a One-Year High: Here's Why\",\n",
       "  'image': 'https://cdn.snapi.dev/images/v1/a/m/etf17-1116070.jpg',\n",
       "  'site': 'Zacks Investment Research',\n",
       "  'text': 'Several agricultural commodities specifically surged lately due to weather concerns, rising demand, supply disruptions and a lower greenback.',\n",
       "  'url': 'https://www.zacks.com/stock/news/1829575/4-agriculture-etf-areas-at-a-one-year-high-here-s-why'},\n",
       " {'symbol': 'SPY',\n",
       "  'publishedDate': '2021-11-18 09:42:10',\n",
       "  'title': \"Today's Stock Market News & Events: 11/18/2021\",\n",
       "  'image': 'https://cdn.snapi.dev/images/v1/i/y/etf10-1115258.jpg',\n",
       "  'site': 'Schaeffers Research',\n",
       "  'text': 'The latest round of initial and continuing jobless claims is expected today.',\n",
       "  'url': 'https://www.schaeffersresearch.com/content/news/2021/11/18/todays-stock-market-news-events-11-18-2021'},\n",
       " {'symbol': 'SPY',\n",
       "  'publishedDate': '2021-11-18 07:40:08',\n",
       "  'title': 'Should SPDR S&P 500 ETF (SPY) Be on Your Investing Radar?',\n",
       "  'image': 'https://cdn.snapi.dev/images/v1/y/g/etf7-1114732.jpg',\n",
       "  'site': 'Zacks Investment Research',\n",
       "  'text': 'Style Box ETF report for SPY',\n",
       "  'url': 'https://www.zacks.com/stock/news/1829165/should-spdr-s-p-500-etf-spy-be-on-your-investing-radar'}]"
      ]
     },
     "execution_count": 81,
     "metadata": {},
     "output_type": "execute_result"
    }
   ],
   "source": [
    "# news_articles: [article1, article2, article3]"
   ]
  },
  {
   "cell_type": "code",
   "execution_count": 84,
   "id": "b3e7dc85",
   "metadata": {},
   "outputs": [],
   "source": [
    "symbols = []\n",
    "i = 0\n",
    "while i < len(tickers_used_in_analysis):\n",
    "    symbols.append(tickers_used_in_analysis[i]['symbol'])\n",
    "    i+=1"
   ]
  },
  {
   "cell_type": "code",
   "execution_count": 85,
   "id": "ccb96201",
   "metadata": {},
   "outputs": [
    {
     "data": {
      "text/plain": [
       "['SPY', 'CMCSA', 'KMI', 'INTC', 'MU', 'GDX', 'GE', 'BAC', 'EEM', 'XLF']"
      ]
     },
     "execution_count": 85,
     "metadata": {},
     "output_type": "execute_result"
    }
   ],
   "source": [
    "symbols[0:10]"
   ]
  },
  {
   "cell_type": "code",
   "execution_count": 139,
   "id": "f7b38228",
   "metadata": {},
   "outputs": [
    {
     "data": {
      "text/plain": [
       "13796"
      ]
     },
     "execution_count": 139,
     "metadata": {},
     "output_type": "execute_result"
    }
   ],
   "source": [
    "len(tickers_used_in_analysis)"
   ]
  },
  {
   "cell_type": "code",
   "execution_count": 114,
   "id": "653b793f",
   "metadata": {},
   "outputs": [],
   "source": [
    "news_articles = [{}]"
   ]
  },
  {
   "cell_type": "code",
   "execution_count": 98,
   "id": "5a074545",
   "metadata": {},
   "outputs": [],
   "source": [
    "i = 101\n",
    "while i < 200:\n",
    "    news_headlines = json.loads(requests.get(f\"https://fmpcloud.io/api/v3/stock_news?tickers={symbols[i]}&limit=20&apikey={fmp_api}\").content)\n",
    "    news_list = []\n",
    "    j = 0\n",
    "    while j < len(news_headlines):\n",
    "        news_list.append(news_headlines[j]['text'])\n",
    "        j+=1\n",
    "    news_articles[0][symbols[i]] = news_list\n",
    "    i+=1"
   ]
  },
  {
   "cell_type": "code",
   "execution_count": 116,
   "id": "e60276a6",
   "metadata": {},
   "outputs": [
    {
     "data": {
      "text/plain": [
       "{}"
      ]
     },
     "execution_count": 116,
     "metadata": {},
     "output_type": "execute_result"
    }
   ],
   "source": [
    "news_articles[0]"
   ]
  },
  {
   "cell_type": "code",
   "execution_count": 140,
   "id": "fea8e99e",
   "metadata": {},
   "outputs": [],
   "source": [
    "def aggregate_hedlines(news_articles, symbols):\n",
    "    i = 0\n",
    "    batch_size =100\n",
    "    while i < batch_size:\n",
    "        news_headlines = json.loads(requests.get(f\"https://fmpcloud.io/api/v3/stock_news?tickers={symbols[i]}&limit=20&apikey={fmp_api}\").content)\n",
    "        news_list = []\n",
    "        j = 0\n",
    "        while j < len(news_headlines):\n",
    "            news_list.append(news_headlines[j]['text'])\n",
    "            j+=1\n",
    "        news_articles[0][symbols[i]] = news_list\n",
    "        i+=1\n",
    "        if (i == batch_size) and (batch_size < len(symbols)):\n",
    "            if (len(symbols) - i) < 100:\n",
    "                batch_size +=(len(symbols) - i)\n",
    "            else:\n",
    "                batch_size+=100\n",
    "        else:\n",
    "            pass\n",
    "    return news_articles\n",
    "    "
   ]
  },
  {
   "cell_type": "code",
   "execution_count": 141,
   "id": "8e5e39a5",
   "metadata": {},
   "outputs": [],
   "source": [
    "articles = aggregate_hedlines(news_articles, symbols)"
   ]
  },
  {
   "cell_type": "code",
   "execution_count": 142,
   "id": "8ffbfd24",
   "metadata": {},
   "outputs": [
    {
     "data": {
      "text/plain": [
       "13796"
      ]
     },
     "execution_count": 142,
     "metadata": {},
     "output_type": "execute_result"
    }
   ],
   "source": [
    "len(articles[0])"
   ]
  },
  {
   "cell_type": "code",
   "execution_count": null,
   "id": "4951d3a6",
   "metadata": {},
   "outputs": [],
   "source": [
    "profile_list = []\n",
    "for request in profile_requests_list:\n",
    "    profile_list.append(json.loads(requests.get(request).content))"
   ]
  }
 ],
 "metadata": {
  "kernelspec": {
   "display_name": "Python 3 (ipykernel)",
   "language": "python",
   "name": "python3"
  },
  "language_info": {
   "codemirror_mode": {
    "name": "ipython",
    "version": 3
   },
   "file_extension": ".py",
   "mimetype": "text/x-python",
   "name": "python",
   "nbconvert_exporter": "python",
   "pygments_lexer": "ipython3",
   "version": "3.7.11"
  }
 },
 "nbformat": 4,
 "nbformat_minor": 5
}
