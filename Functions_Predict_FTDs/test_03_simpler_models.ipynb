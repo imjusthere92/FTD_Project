{
 "cells": [
  {
   "cell_type": "code",
   "execution_count": 1,
   "id": "aa871576-4970-4882-8ee4-a9769a42fde3",
   "metadata": {},
   "outputs": [],
   "source": [
    "## Try running models using FTD data to predict FTD data. \n",
    "## Might show patterns? Unclear "
   ]
  },
  {
   "cell_type": "code",
   "execution_count": null,
   "id": "4a50a62e-4973-4b55-9553-b35c653a6bd9",
   "metadata": {},
   "outputs": [],
   "source": []
  }
 ],
 "metadata": {
  "kernelspec": {
   "display_name": "Python 3 (ipykernel)",
   "language": "python",
   "name": "python3"
  },
  "language_info": {
   "codemirror_mode": {
    "name": "ipython",
    "version": 3
   },
   "file_extension": ".py",
   "mimetype": "text/x-python",
   "name": "python",
   "nbconvert_exporter": "python",
   "pygments_lexer": "ipython3",
   "version": "3.7.11"
  }
 },
 "nbformat": 4,
 "nbformat_minor": 5
}
