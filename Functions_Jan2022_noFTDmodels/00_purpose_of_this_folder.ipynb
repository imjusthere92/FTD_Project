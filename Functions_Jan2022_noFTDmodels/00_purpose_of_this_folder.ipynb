{
 "cells": [
  {
   "cell_type": "code",
   "execution_count": 1,
   "id": "c5325340-907d-429a-a092-03857f117c8b",
   "metadata": {},
   "outputs": [],
   "source": [
    "## This folder (Functions_[date]_noFTDmodels) and code included is going to be used to test \n",
    "## machine learning models using the same data, except without the FTD data included. \n",
    "\n",
    "## This is for two reasons - to provide a control alongside the FTD data, to see if the FTD data \n",
    "## is even relevant to the model, and the model isn't actually just trading off short-interest and\n",
    "## technical-indicator data\n",
    "\n",
    "## As well as to update the existing datasets with up-to-date data. As any dataframe that currently \n",
    "## includes the FTD statistics from the SEC is permanently deleayed by at least 15 calendar days, \n",
    "## due to the nature of the reporting requirements (etc) from the SEC in regards to FTD data. \n",
    "\n",
    "## Short interest data, on the other-hand, is released (for free) at the end of every trading day, \n",
    "## or more accurately, before the start of the following trading day. It can be found through \n",
    "## https://data.nasdaq.com/data/FINRA-financial-industry-regulatory-authority using QUANDL/NASDAQ\n",
    "## API calls. \n",
    "\n",
    "## So - this folder will end up doing two things. Creating models without FTD data in order to compare \n",
    "## them against the models including FTD data. As well as to test a short-interest model using actual  \n",
    "## up-to-date data, whether suplmented by FTD data, or not. "
   ]
  },
  {
   "cell_type": "code",
   "execution_count": null,
   "id": "ed15c60c-e29b-492c-ae2e-7b084e3f1c75",
   "metadata": {},
   "outputs": [],
   "source": []
  }
 ],
 "metadata": {
  "kernelspec": {
   "display_name": "Python 3",
   "language": "python",
   "name": "python3"
  },
  "language_info": {
   "codemirror_mode": {
    "name": "ipython",
    "version": 3
   },
   "file_extension": ".py",
   "mimetype": "text/x-python",
   "name": "python",
   "nbconvert_exporter": "python",
   "pygments_lexer": "ipython3",
   "version": "3.7.10"
  }
 },
 "nbformat": 4,
 "nbformat_minor": 5
}
