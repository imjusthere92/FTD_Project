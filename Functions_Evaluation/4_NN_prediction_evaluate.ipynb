{
 "cells": [
  {
   "cell_type": "code",
   "execution_count": 1,
   "id": "d6e9e16b-0b54-4eec-b631-251bc90e3848",
   "metadata": {},
   "outputs": [],
   "source": [
    "## This file will evaluate Model_4 \n",
    "\n",
    "## Model_4 is one of the two sets of models that attempts to truly predict and forecast stock close prices.\n",
    "## It trains until the end of January, then attempts to predict the first \n",
    "## 1, 2, 5, or 10 trading days of February. "
   ]
  },
  {
   "cell_type": "code",
   "execution_count": 2,
   "id": "761bf183-69a8-4b96-be13-a9c5969609c0",
   "metadata": {},
   "outputs": [],
   "source": [
    "import pandas as pd\n",
    "import numpy as np\n",
    "\n",
    "from pathlib import Path"
   ]
  },
  {
   "cell_type": "code",
   "execution_count": 3,
   "id": "374bb427-2990-4389-9e45-c60077c469b8",
   "metadata": {},
   "outputs": [],
   "source": [
    "# Machine-learning specific imports\n",
    "from tensorflow.keras.models import Sequential\n",
    "from tensorflow.keras.layers import Dense\n",
    "from tensorflow.keras.models import model_from_json\n",
    "\n",
    "import matplotlib.pyplot as plt\n",
    "\n",
    "from sklearn.preprocessing import StandardScaler\n",
    "\n",
    "%matplotlib inline"
   ]
  },
  {
   "cell_type": "code",
   "execution_count": 4,
   "id": "11d39ca3-6fda-4d68-9424-f05150bb88fc",
   "metadata": {},
   "outputs": [],
   "source": [
    "## Load pickle for exports and imports of data  \n",
    "import pickle \n",
    "def load_obj(path):\n",
    "    with open(path, 'rb') as f:\n",
    "        return pickle.load(f)\n",
    "    \n",
    "def save_obj(obj, path ):\n",
    "    with open(path, 'wb') as f:\n",
    "        pickle.dump(obj, f, pickle.HIGHEST_PROTOCOL)"
   ]
  },
  {
   "cell_type": "code",
   "execution_count": 5,
   "id": "f8143ece-8930-4dcb-bea4-dd7ccb2f5505",
   "metadata": {},
   "outputs": [],
   "source": [
    "## API Imports \n",
    "import os\n",
    "import requests\n",
    "import json\n",
    "\n",
    "from dotenv import load_dotenv\n",
    "load_dotenv()\n",
    "\n",
    "## FMP Constants \n",
    "fmpbase_urlv3 = 'https://fmpcloud.io/api/v3/'\n",
    "fmpbase_urlv4 = 'https://fmpcloud.io/api/v4/'\n",
    "api_key = os.getenv(\"FMP_CLOUD_API_KEY\")\n",
    "\n",
    "start_date = '2022-01-01'\n",
    "end_date = '2022-01-31'\n",
    "\n",
    "## FMP Functions \n",
    "def get_FMP_historical_data(symbol, startDate=start_date, endDate=end_date, apiKey=api_key):\n",
    "    url_hist_price = fmpbase_urlv3+'historical-price-full/'\n",
    "    url_hist_query_with_date = url_hist_price+symbol+'?from='+startDate+'&to='+endDate+'&apikey='+apiKey\n",
    "    resp_data = requests.get(url_hist_query_with_date)\n",
    "    json_ = resp_data.json()\n",
    "    data = json_['historical']\n",
    "    df = pd.DataFrame(data)\n",
    "    df.rename(columns={'date':'Date'},inplace=True)\n",
    "    df['Date'] = pd.to_datetime(df['Date'])\n",
    "    df = df.reindex(index=df.index[::-1]) ## Reverse the DataFrame \n",
    "    df.set_index('Date',inplace=True)\n",
    "    df.drop(columns='label',inplace=True)\n",
    "    return df"
   ]
  },
  {
   "cell_type": "code",
   "execution_count": 6,
   "id": "a4afd56a-6469-45d3-85cb-6144c9271830",
   "metadata": {},
   "outputs": [],
   "source": [
    "import datetime\n",
    "\n",
    "def get_data_updated(symbol,n_days):\n",
    "    import_path = Path('../FilesExport_Updated_DFs_01_31/'+symbol+'_ti_df_no_ftd.pkl')\n",
    "    data = load_obj(import_path)\n",
    "    import_df = data[symbol]\n",
    "    \n",
    "    #df - import_df.copy()\n",
    "\n",
    "    df_close = import_df[['close']]\n",
    "    df_close = df_close.reset_index().rename(columns={\"Date\": \"Close_Date\"})    \n",
    "    \n",
    "    features_df = import_df.reset_index().drop(columns=['close','adjClose'])\n",
    "    \n",
    "    new_close_df = df_close.iloc[n_days: , :].reset_index(drop=True)\n",
    "    \n",
    "    last_date = new_close_df.iloc[-1]['Close_Date']\n",
    "    last_price = new_close_df.iloc[-1]['close']\n",
    "\n",
    "    for i in range(n_days):\n",
    "        if i == 0:\n",
    "            next_date = last_date + datetime.timedelta(days=1)\n",
    "            if next_date.weekday() == 5:\n",
    "                next_date = next_date + datetime.timedelta(days=2)\n",
    "            d = {'Close_Date': [last_date], 'close': [last_price]}\n",
    "            df1 = pd.DataFrame(data=d)\n",
    "            \n",
    "\n",
    "        else:\n",
    "            next_date = next_date + datetime.timedelta(days=1)\n",
    "\n",
    "            if next_date.weekday() == 5:\n",
    "                next_date = next_date + datetime.timedelta(days=2)\n",
    "\n",
    "            d2 = {'Close_Date': [next_date], 'close': [last_price]}\n",
    "            df2 = pd.DataFrame(data=d2)\n",
    "\n",
    "        ## Append to df1\n",
    "            df1 = df1.append(df2,ignore_index=True)\n",
    "\n",
    "    new_close_df = new_close_df.append(df1,ignore_index=True)\n",
    "    \n",
    "    return features_df, new_close_df\n",
    "\n",
    "## Prepare Data for ML\n",
    "def prepare_data_updated(symbol,n_days,return_data=False):\n",
    "    features_df, new_close_df = get_data_updated(symbol,n_days)\n",
    "    \n",
    "    X = features_df.drop(columns={'Date'}).values\n",
    "    y = new_close_df['close'].values\n",
    "    \n",
    "    scaler = StandardScaler().fit(X)\n",
    "    X = scaler.transform(X)\n",
    "    \n",
    "    if return_data == True:\n",
    "        return X, y, features_df, new_close_df\n",
    "    else:\n",
    "        return X, y"
   ]
  },
  {
   "cell_type": "code",
   "execution_count": 7,
   "id": "6f39a42d-c7ad-476b-bcfd-e6913e65c336",
   "metadata": {},
   "outputs": [],
   "source": [
    "# x_df, y_df = get_data_updated('GME',5)"
   ]
  },
  {
   "cell_type": "code",
   "execution_count": 8,
   "id": "bb6c5bb4-ac99-41e6-8460-89d16bed8c67",
   "metadata": {},
   "outputs": [],
   "source": [
    "# y_df"
   ]
  },
  {
   "cell_type": "code",
   "execution_count": 9,
   "id": "cc0c2760-5a96-4e42-9749-cb31c5c63b55",
   "metadata": {},
   "outputs": [
    {
     "data": {
      "text/plain": [
       "3068"
      ]
     },
     "execution_count": 9,
     "metadata": {},
     "output_type": "execute_result"
    }
   ],
   "source": [
    "## Import symbol_accuracy_dict\n",
    "path = Path('../Resources/Feb2022_symbol_accuracy_dict.pkl')\n",
    "symbol_accuracy_dict = load_obj(path)\n",
    "len(symbol_accuracy_dict)"
   ]
  },
  {
   "cell_type": "code",
   "execution_count": 10,
   "id": "a5263935-1546-44e9-a031-04f0f711d607",
   "metadata": {},
   "outputs": [
    {
     "data": {
      "text/plain": [
       "767.0"
      ]
     },
     "execution_count": 10,
     "metadata": {},
     "output_type": "execute_result"
    }
   ],
   "source": [
    "len(symbol_accuracy_dict) / 4"
   ]
  },
  {
   "cell_type": "code",
   "execution_count": 11,
   "id": "fcbdef35-41be-4416-b8c4-4751644b6408",
   "metadata": {},
   "outputs": [
    {
     "data": {
      "text/html": [
       "<div>\n",
       "<style scoped>\n",
       "    .dataframe tbody tr th:only-of-type {\n",
       "        vertical-align: middle;\n",
       "    }\n",
       "\n",
       "    .dataframe tbody tr th {\n",
       "        vertical-align: top;\n",
       "    }\n",
       "\n",
       "    .dataframe thead th {\n",
       "        text-align: right;\n",
       "    }\n",
       "</style>\n",
       "<table border=\"1\" class=\"dataframe\">\n",
       "  <thead>\n",
       "    <tr style=\"text-align: right;\">\n",
       "      <th></th>\n",
       "      <th>model_accuracy</th>\n",
       "      <th>n_days</th>\n",
       "    </tr>\n",
       "  </thead>\n",
       "  <tbody>\n",
       "    <tr>\n",
       "      <th>AAL_1</th>\n",
       "      <td>1.005525</td>\n",
       "      <td>1</td>\n",
       "    </tr>\n",
       "    <tr>\n",
       "      <th>AAL_2</th>\n",
       "      <td>1.990746</td>\n",
       "      <td>2</td>\n",
       "    </tr>\n",
       "    <tr>\n",
       "      <th>AAL_5</th>\n",
       "      <td>3.858438</td>\n",
       "      <td>5</td>\n",
       "    </tr>\n",
       "    <tr>\n",
       "      <th>AAL_10</th>\n",
       "      <td>7.194328</td>\n",
       "      <td>10</td>\n",
       "    </tr>\n",
       "    <tr>\n",
       "      <th>AAU_1</th>\n",
       "      <td>0.001576</td>\n",
       "      <td>1</td>\n",
       "    </tr>\n",
       "    <tr>\n",
       "      <th>...</th>\n",
       "      <td>...</td>\n",
       "      <td>...</td>\n",
       "    </tr>\n",
       "    <tr>\n",
       "      <th>ZROZ_10</th>\n",
       "      <td>25.287083</td>\n",
       "      <td>10</td>\n",
       "    </tr>\n",
       "    <tr>\n",
       "      <th>ZYNE_1</th>\n",
       "      <td>0.386303</td>\n",
       "      <td>1</td>\n",
       "    </tr>\n",
       "    <tr>\n",
       "      <th>ZYNE_2</th>\n",
       "      <td>0.619263</td>\n",
       "      <td>2</td>\n",
       "    </tr>\n",
       "    <tr>\n",
       "      <th>ZYNE_5</th>\n",
       "      <td>1.142342</td>\n",
       "      <td>5</td>\n",
       "    </tr>\n",
       "    <tr>\n",
       "      <th>ZYNE_10</th>\n",
       "      <td>2.071246</td>\n",
       "      <td>10</td>\n",
       "    </tr>\n",
       "  </tbody>\n",
       "</table>\n",
       "<p>3068 rows × 2 columns</p>\n",
       "</div>"
      ],
      "text/plain": [
       "         model_accuracy  n_days\n",
       "AAL_1          1.005525       1\n",
       "AAL_2          1.990746       2\n",
       "AAL_5          3.858438       5\n",
       "AAL_10         7.194328      10\n",
       "AAU_1          0.001576       1\n",
       "...                 ...     ...\n",
       "ZROZ_10       25.287083      10\n",
       "ZYNE_1         0.386303       1\n",
       "ZYNE_2         0.619263       2\n",
       "ZYNE_5         1.142342       5\n",
       "ZYNE_10        2.071246      10\n",
       "\n",
       "[3068 rows x 2 columns]"
      ]
     },
     "execution_count": 11,
     "metadata": {},
     "output_type": "execute_result"
    }
   ],
   "source": [
    "## Put into DF\n",
    "symbol_accuracy_df = pd.DataFrame.from_dict(symbol_accuracy_dict,orient='index')\n",
    "symbol_accuracy_df"
   ]
  },
  {
   "cell_type": "code",
   "execution_count": 12,
   "id": "3c7f4230-5801-48d3-949f-801e2e3b55b4",
   "metadata": {},
   "outputs": [
    {
     "data": {
      "text/html": [
       "<div>\n",
       "<style scoped>\n",
       "    .dataframe tbody tr th:only-of-type {\n",
       "        vertical-align: middle;\n",
       "    }\n",
       "\n",
       "    .dataframe tbody tr th {\n",
       "        vertical-align: top;\n",
       "    }\n",
       "\n",
       "    .dataframe thead th {\n",
       "        text-align: right;\n",
       "    }\n",
       "</style>\n",
       "<table border=\"1\" class=\"dataframe\">\n",
       "  <thead>\n",
       "    <tr style=\"text-align: right;\">\n",
       "      <th></th>\n",
       "      <th>model_accuracy</th>\n",
       "      <th>n_days</th>\n",
       "    </tr>\n",
       "  </thead>\n",
       "  <tbody>\n",
       "    <tr>\n",
       "      <th>XPL_10</th>\n",
       "      <td>0.002958</td>\n",
       "      <td>10</td>\n",
       "    </tr>\n",
       "    <tr>\n",
       "      <th>DHY_10</th>\n",
       "      <td>0.003600</td>\n",
       "      <td>10</td>\n",
       "    </tr>\n",
       "    <tr>\n",
       "      <th>AUMN_10</th>\n",
       "      <td>0.003715</td>\n",
       "      <td>10</td>\n",
       "    </tr>\n",
       "    <tr>\n",
       "      <th>CPHI_10</th>\n",
       "      <td>0.005113</td>\n",
       "      <td>10</td>\n",
       "    </tr>\n",
       "    <tr>\n",
       "      <th>UAMY_10</th>\n",
       "      <td>0.005323</td>\n",
       "      <td>10</td>\n",
       "    </tr>\n",
       "    <tr>\n",
       "      <th>MSN_10</th>\n",
       "      <td>0.007071</td>\n",
       "      <td>10</td>\n",
       "    </tr>\n",
       "    <tr>\n",
       "      <th>KIQ_10</th>\n",
       "      <td>0.008040</td>\n",
       "      <td>10</td>\n",
       "    </tr>\n",
       "    <tr>\n",
       "      <th>VGZ_10</th>\n",
       "      <td>0.008749</td>\n",
       "      <td>10</td>\n",
       "    </tr>\n",
       "    <tr>\n",
       "      <th>AAU_10</th>\n",
       "      <td>0.010365</td>\n",
       "      <td>10</td>\n",
       "    </tr>\n",
       "    <tr>\n",
       "      <th>GPL_10</th>\n",
       "      <td>0.010849</td>\n",
       "      <td>10</td>\n",
       "    </tr>\n",
       "  </tbody>\n",
       "</table>\n",
       "</div>"
      ],
      "text/plain": [
       "         model_accuracy  n_days\n",
       "XPL_10         0.002958      10\n",
       "DHY_10         0.003600      10\n",
       "AUMN_10        0.003715      10\n",
       "CPHI_10        0.005113      10\n",
       "UAMY_10        0.005323      10\n",
       "MSN_10         0.007071      10\n",
       "KIQ_10         0.008040      10\n",
       "VGZ_10         0.008749      10\n",
       "AAU_10         0.010365      10\n",
       "GPL_10         0.010849      10"
      ]
     },
     "execution_count": 12,
     "metadata": {},
     "output_type": "execute_result"
    }
   ],
   "source": [
    "n_days = 10\n",
    "\n",
    "acc_df = symbol_accuracy_df[symbol_accuracy_df[\"n_days\"].isin([n_days])]\n",
    "acc_df.sort_values('model_accuracy').head(10)"
   ]
  },
  {
   "cell_type": "code",
   "execution_count": 13,
   "id": "35cf7624-946d-44e3-8ebc-c2b9d543ea20",
   "metadata": {},
   "outputs": [],
   "source": [
    "# symbol = 'XPL'\n",
    "\n",
    "# n_days = 10\n",
    "# model_type = 'NN'\n",
    "\n",
    "# n_days_string = str(n_days)\n",
    "\n",
    "# import_path='../Model_Data/Feb2022_NN_models/Low_Acc/'\n",
    "# import_path_prefix = import_path+symbol+'_'+model_type+'_'+n_days_string\n",
    "\n",
    "# file_path = Path(import_path_prefix+'_model_data.json')\n",
    "# with open(file_path, \"r\") as json_file:\n",
    "#     model_json = json_file.read()\n",
    "# loaded_model = model_from_json(model_json)\n",
    "\n",
    "# # load weights into new model\n",
    "# file_path = Path(import_path_prefix+'_model_weights.h5')\n",
    "# loaded_model.load_weights(file_path)\n",
    "\n",
    "# X, y, features_df, close_df = prepare_data_updated(symbol,n_days,return_data=True)\n",
    "\n",
    "# X = features_df.drop(columns={'Date'}).values\n",
    "# #y = close_df['close'].values\n",
    "\n",
    "# scaler = StandardScaler().fit(X)\n",
    "# X = scaler.transform(X)\n",
    "\n",
    "# close_df[\"predicted\"] = loaded_model.predict(X)\n",
    "# close_df.set_index('Close_Date',inplace=True)\n",
    "# close_df[['close','predicted']].tail(30).plot(use_index=True)"
   ]
  },
  {
   "cell_type": "code",
   "execution_count": 14,
   "id": "9941995b-d19f-40a1-ae12-31b86d8b0048",
   "metadata": {},
   "outputs": [],
   "source": [
    "def load_model_and_predict_model(symbol,n_days):\n",
    "    model_type = 'NN'\n",
    "\n",
    "    n_days_string = str(n_days)\n",
    "\n",
    "    import_path='../Model_Data/Feb2022_NN_models/Low_Acc/'\n",
    "    import_path_prefix = import_path+symbol+'_'+model_type+'_'+n_days_string\n",
    "\n",
    "    file_path = Path(import_path_prefix+'_model_data.json')\n",
    "    with open(file_path, \"r\") as json_file:\n",
    "        model_json = json_file.read()\n",
    "    loaded_model = model_from_json(model_json)\n",
    "\n",
    "    # load weights into new model\n",
    "    file_path = Path(import_path_prefix+'_model_weights.h5')\n",
    "    loaded_model.load_weights(file_path)\n",
    "    \n",
    "    ## Load model summary\n",
    "    file_path = Path(import_path_prefix+'_model_summary.pkl')\n",
    "    model_summary = load_obj(file_path)\n",
    "\n",
    "    X, y, features_df, close_df = prepare_data_updated(symbol,n_days,return_data=True)\n",
    "\n",
    "    X = features_df.drop(columns={'Date'}).values\n",
    "    #y = close_df['close'].values\n",
    "\n",
    "    scaler = StandardScaler().fit(X)\n",
    "    X = scaler.transform(X)\n",
    "\n",
    "    close_df[\"predicted\"] = loaded_model.predict(X)\n",
    "    close_df.set_index('Close_Date',inplace=True)\n",
    "    \n",
    "    predicted_df = close_df[['close','predicted']]\n",
    "    \n",
    "    return loaded_model, model_summary, predicted_df"
   ]
  },
  {
   "cell_type": "code",
   "execution_count": 23,
   "id": "94a04631-197c-4f8b-9b76-bbf2d50f6ad3",
   "metadata": {},
   "outputs": [
    {
     "data": {
      "text/html": [
       "<div>\n",
       "<style scoped>\n",
       "    .dataframe tbody tr th:only-of-type {\n",
       "        vertical-align: middle;\n",
       "    }\n",
       "\n",
       "    .dataframe tbody tr th {\n",
       "        vertical-align: top;\n",
       "    }\n",
       "\n",
       "    .dataframe thead th {\n",
       "        text-align: right;\n",
       "    }\n",
       "</style>\n",
       "<table border=\"1\" class=\"dataframe\">\n",
       "  <thead>\n",
       "    <tr style=\"text-align: right;\">\n",
       "      <th></th>\n",
       "      <th>model_accuracy</th>\n",
       "      <th>n_days</th>\n",
       "    </tr>\n",
       "  </thead>\n",
       "  <tbody>\n",
       "    <tr>\n",
       "      <th>CGA_10</th>\n",
       "      <td>1.053035</td>\n",
       "      <td>10</td>\n",
       "    </tr>\n",
       "    <tr>\n",
       "      <th>CGC_10</th>\n",
       "      <td>9.679084</td>\n",
       "      <td>10</td>\n",
       "    </tr>\n",
       "    <tr>\n",
       "      <th>CHAD_10</th>\n",
       "      <td>1.634626</td>\n",
       "      <td>10</td>\n",
       "    </tr>\n",
       "    <tr>\n",
       "      <th>CHAU_10</th>\n",
       "      <td>5.243118</td>\n",
       "      <td>10</td>\n",
       "    </tr>\n",
       "    <tr>\n",
       "      <th>CHEF_10</th>\n",
       "      <td>5.758785</td>\n",
       "      <td>10</td>\n",
       "    </tr>\n",
       "    <tr>\n",
       "      <th>CHEK_10</th>\n",
       "      <td>5.174751</td>\n",
       "      <td>10</td>\n",
       "    </tr>\n",
       "    <tr>\n",
       "      <th>CIBR_10</th>\n",
       "      <td>2.381992</td>\n",
       "      <td>10</td>\n",
       "    </tr>\n",
       "    <tr>\n",
       "      <th>CIDM_10</th>\n",
       "      <td>0.047116</td>\n",
       "      <td>10</td>\n",
       "    </tr>\n",
       "    <tr>\n",
       "      <th>CIVI_10</th>\n",
       "      <td>719.779663</td>\n",
       "      <td>10</td>\n",
       "    </tr>\n",
       "    <tr>\n",
       "      <th>CJJD_10</th>\n",
       "      <td>0.034691</td>\n",
       "      <td>10</td>\n",
       "    </tr>\n",
       "  </tbody>\n",
       "</table>\n",
       "</div>"
      ],
      "text/plain": [
       "         model_accuracy  n_days\n",
       "CGA_10         1.053035      10\n",
       "CGC_10         9.679084      10\n",
       "CHAD_10        1.634626      10\n",
       "CHAU_10        5.243118      10\n",
       "CHEF_10        5.758785      10\n",
       "CHEK_10        5.174751      10\n",
       "CIBR_10        2.381992      10\n",
       "CIDM_10        0.047116      10\n",
       "CIVI_10      719.779663      10\n",
       "CJJD_10        0.034691      10"
      ]
     },
     "execution_count": 23,
     "metadata": {},
     "output_type": "execute_result"
    }
   ],
   "source": [
    "acc_df[100:110]"
   ]
  },
  {
   "cell_type": "code",
   "execution_count": 24,
   "id": "08420a97-b267-4090-8747-43baec812b62",
   "metadata": {},
   "outputs": [],
   "source": [
    "model, summary, pred_df = load_model_and_predict_model('CIBR',10)"
   ]
  },
  {
   "cell_type": "code",
   "execution_count": 25,
   "id": "771ffa46-2ab9-4b63-96f0-1f2a859f96da",
   "metadata": {},
   "outputs": [
    {
     "data": {
      "text/plain": [
       "2.1142420768737793"
      ]
     },
     "execution_count": 25,
     "metadata": {},
     "output_type": "execute_result"
    }
   ],
   "source": [
    "summary['model_accuracy']"
   ]
  },
  {
   "cell_type": "code",
   "execution_count": 26,
   "id": "77ab9850-7e7a-40fb-911f-8cab2184f85d",
   "metadata": {},
   "outputs": [],
   "source": [
    "# for col in features_df.columns:\n",
    "#     print(col)"
   ]
  },
  {
   "cell_type": "code",
   "execution_count": 27,
   "id": "cf8c9596-9841-4656-9fa2-c8fb4d39b481",
   "metadata": {},
   "outputs": [
    {
     "data": {
      "text/plain": [
       "<AxesSubplot:xlabel='Close_Date'>"
      ]
     },
     "execution_count": 27,
     "metadata": {},
     "output_type": "execute_result"
    },
    {
     "data": {
      "image/png": "[encoded data removed]",
      "text/plain": [
       "<Figure size 432x288 with 1 Axes>"
      ]
     },
     "metadata": {
      "needs_background": "light"
     },
     "output_type": "display_data"
    }
   ],
   "source": [
    "#close_df\n",
    "pred_df[['close','predicted']].tail(30).plot(use_index=True)"
   ]
  },
  {
   "cell_type": "code",
   "execution_count": null,
   "id": "657ba0c1-4acd-4aab-af3f-cafc9ea8506f",
   "metadata": {},
   "outputs": [],
   "source": []
  },
  {
   "cell_type": "code",
   "execution_count": null,
   "id": "1535abd8-4f78-4160-ad5d-0ed4ba0c43aa",
   "metadata": {},
   "outputs": [],
   "source": [
    "NN_symbol_acc_dict_path = '../Resources/Feb_NN_symbol_acc_dict.pkl'\n",
    "NN_symbol_acc_dict = {}"
   ]
  }
 ],
 "metadata": {
  "kernelspec": {
   "display_name": "Python 3 (ipykernel)",
   "language": "python",
   "name": "python3"
  },
  "language_info": {
   "codemirror_mode": {
    "name": "ipython",
    "version": 3
   },
   "file_extension": ".py",
   "mimetype": "text/x-python",
   "name": "python",
   "nbconvert_exporter": "python",
   "pygments_lexer": "ipython3",
   "version": "3.7.11"
  }
 },
 "nbformat": 4,
 "nbformat_minor": 5
}
