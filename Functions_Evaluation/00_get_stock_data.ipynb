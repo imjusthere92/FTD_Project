{
 "cells": [
  {
   "cell_type": "code",
   "execution_count": 1,
   "id": "9d8e9958-9ba0-44f8-9f10-81569b1d23af",
   "metadata": {},
   "outputs": [],
   "source": [
    "## '../FilesExport_Complete_DataDicts/'+symbol+'_data_dict.pkl'"
   ]
  },
  {
   "cell_type": "code",
   "execution_count": 2,
   "id": "d70e1150-5725-44e6-a094-b4e5f9a34f4a",
   "metadata": {},
   "outputs": [],
   "source": [
    "## Create file that loads fundamental information "
   ]
  },
  {
   "cell_type": "code",
   "execution_count": 3,
   "id": "33d49673-8637-4171-bee6-1a04b2436352",
   "metadata": {},
   "outputs": [],
   "source": [
    "import pandas as pd\n",
    "import numpy as np\n",
    "\n",
    "from pathlib import Path"
   ]
  },
  {
   "cell_type": "code",
   "execution_count": 4,
   "id": "76a94ecd-ee54-440a-b601-8747ca5f5027",
   "metadata": {},
   "outputs": [],
   "source": [
    "## Load pickle for exports and imports of data  \n",
    "import pickle \n",
    "def load_obj(path):\n",
    "    with open(path, 'rb') as f:\n",
    "        return pickle.load(f)\n",
    "    \n",
    "def save_obj(obj, path ):\n",
    "    with open(path, 'wb') as f:\n",
    "        pickle.dump(obj, f, pickle.HIGHEST_PROTOCOL)"
   ]
  },
  {
   "cell_type": "code",
   "execution_count": 16,
   "id": "d2501d96-5f35-4d5a-af09-3c8e474165b1",
   "metadata": {},
   "outputs": [],
   "source": [
    "symbol = 'GME'\n",
    "\n",
    "import_path = Path('../FilesExport_Complete_DataDicts/'+symbol+'_data_dict.pkl')\n",
    "loaded_obj = load_obj(import_path)\n",
    "#loaded_obj"
   ]
  },
  {
   "cell_type": "code",
   "execution_count": null,
   "id": "7b61efbc-b24b-4c2f-9c16-37f4463b64ef",
   "metadata": {},
   "outputs": [],
   "source": []
  },
  {
   "cell_type": "code",
   "execution_count": 14,
   "id": "903f927d-434c-4750-abc2-2627e81e828d",
   "metadata": {},
   "outputs": [],
   "source": [
    "def get_stock_data(symbol):\n",
    "    data = {}\n",
    "    import_path = Path('../FilesExport_Complete_DataDicts/'+symbol+'_data_dict.pkl')\n",
    "    loaded_obj = load_obj(import_path)\n",
    "    \n",
    "    data = {\n",
    "        'sharesOutstanding':loaded_obj[symbol]['sharesOutstanding'],\n",
    "        'floatShares':loaded_obj[symbol]['floatShares'],\n",
    "        'os_ftd_pct_ytd':loaded_obj[symbol]['os_ftd_pct_ytd'],\n",
    "        'short_volume_NSDQpct_ytd':loaded_obj[symbol]['short_volume_NSDQpct_ytd']\n",
    "    }\n",
    "    \n",
    "    return data"
   ]
  },
  {
   "cell_type": "code",
   "execution_count": 15,
   "id": "6fe97a8c-3cd7-4154-8c99-0f657c3a5e95",
   "metadata": {},
   "outputs": [],
   "source": [
    "def get_all_stock_data(symbol):\n",
    "    import_path = Path('../FilesExport_Complete_DataDicts/'+symbol+'_data_dict.pkl')\n",
    "    loaded_obj = load_obj(import_path)\n",
    "    return loaded_obj"
   ]
  },
  {
   "cell_type": "code",
   "execution_count": null,
   "id": "3295348a-b728-43b6-92f4-7ec5d5bb7639",
   "metadata": {},
   "outputs": [],
   "source": []
  }
 ],
 "metadata": {
  "kernelspec": {
   "display_name": "Python 3 (ipykernel)",
   "language": "python",
   "name": "python3"
  },
  "language_info": {
   "codemirror_mode": {
    "name": "ipython",
    "version": 3
   },
   "file_extension": ".py",
   "mimetype": "text/x-python",
   "name": "python",
   "nbconvert_exporter": "python",
   "pygments_lexer": "ipython3",
   "version": "3.7.11"
  }
 },
 "nbformat": 4,
 "nbformat_minor": 5
}
