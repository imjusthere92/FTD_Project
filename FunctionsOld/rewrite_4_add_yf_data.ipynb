{
 "cells": [
  {
   "cell_type": "code",
   "execution_count": 1,
   "id": "b4442603",
   "metadata": {},
   "outputs": [],
   "source": [
    "import pandas as pd\n",
    "\n",
    "import glob\n",
    "\n",
    "from pathlib import Path\n",
    "import csv\n",
    "import pickle\n",
    "\n",
    "# import os\n",
    "# import requests\n",
    "# import json\n",
    "\n",
    "# import quandl\n",
    "\n",
    "# from dotenv import load_dotenv\n",
    "# load_dotenv()"
   ]
  },
  {
   "cell_type": "code",
   "execution_count": 2,
   "id": "cc544860",
   "metadata": {},
   "outputs": [],
   "source": [
    "def load_obj(path):\n",
    "    with open(path, 'rb') as f:\n",
    "        return pickle.load(f)\n",
    "    \n",
    "def save_obj(obj, path ):\n",
    "    with open(path, 'wb') as f:\n",
    "        pickle.dump(obj, f, pickle.HIGHEST_PROTOCOL)"
   ]
  },
  {
   "cell_type": "code",
   "execution_count": 3,
   "id": "375ebfaf",
   "metadata": {},
   "outputs": [],
   "source": [
    "pkl_path_1 = Path('../Resources/complete_data_0_10000.pkl')\n",
    "pkl_path_2 = Path('../Resources/incomplete_data_0_10000.pkl')\n",
    "complete_data  = load_obj(pkl_path_1)\n",
    "incomplete_data= load_obj(pkl_path_2)"
   ]
  },
  {
   "cell_type": "code",
   "execution_count": 4,
   "id": "786b4553",
   "metadata": {},
   "outputs": [],
   "source": [
    "import yfinance as yf\n",
    "\n",
    "def get_ticker_info_yf(symbol):\n",
    "    str_symbol = str(symbol)\n",
    "    ticker = yf.Ticker(str_symbol)\n",
    "    try:\n",
    "        ticker_info = ticker.info\n",
    "    except TypeError:\n",
    "        ticker_info = {\n",
    "            'sharesOutstanding' : 0,\n",
    "            'floatShares': 0\n",
    "        }\n",
    "    try:\n",
    "        sharesOutstanding = ticker_info['sharesOutstanding']\n",
    "    except KeyError:\n",
    "        sharesOutstanding = 0\n",
    "    try:\n",
    "        floatShares = ticker_info['floatShares']\n",
    "    except KeyError:\n",
    "        floatShares = 0\n",
    "    dictionary = {\n",
    "        'sharesOutstanding' : sharesOutstanding,\n",
    "        'floatShares' : floatShares\n",
    "    }\n",
    "    return dictionary"
   ]
  },
  {
   "cell_type": "code",
   "execution_count": 5,
   "id": "f902efef",
   "metadata": {},
   "outputs": [
    {
     "data": {
      "text/plain": [
       "2519"
      ]
     },
     "execution_count": 5,
     "metadata": {},
     "output_type": "execute_result"
    }
   ],
   "source": [
    "key_list = []\n",
    "for key in complete_data.keys():\n",
    "    key_list.append(key)\n",
    "length_ = len(key_list)\n",
    "length_"
   ]
  },
  {
   "cell_type": "code",
   "execution_count": 8,
   "id": "75069690",
   "metadata": {},
   "outputs": [],
   "source": [
    "## Iterate through in blocks of 100 \n",
    "\n",
    "## Start at 0 / 100 , increase by 100 \n",
    "\n",
    "x = 2500\n",
    "y = 2519\n",
    "increment = 100\n",
    "#select_symbol_list = []\n",
    "\n",
    "while (x < length_):\n",
    "    info_dict = {}\n",
    "    selected_dict = {}\n",
    "\n",
    "\n",
    "    range_var = range(x,y)\n",
    "    str_symbol1 = str(x)\n",
    "    str_symbol2 = str(y)\n",
    "\n",
    "\n",
    "    for counter in range_var:\n",
    "        i = key_list[counter]   ## i will equal symbol for key \n",
    "        df = complete_data[i].copy()\n",
    "        ftd_sum = df.QUANTITY_FAILS.sum()\n",
    "        i_info = get_ticker_info_yf(i)\n",
    "        try:\n",
    "            if i_info['sharesOutstanding'] != 0:\n",
    "                pct_ftd_SO = ftd_sum / i_info['sharesOutstanding']\n",
    "            else:\n",
    "                pct_ftd_SO = 0\n",
    "            if i_info['floatShares'] != 0:\n",
    "                pct_ftd_float = ftd_sum / i_info['floatShares']\n",
    "            else:\n",
    "                pct_ftd_float = 0\n",
    "        except TypeError:\n",
    "            pct_ftd_SO = 0\n",
    "            pct_ftd_float = 0\n",
    "\n",
    "        info_dict[i] = {\n",
    "            'FTD_sum' : ftd_sum,\n",
    "            'sharesOutstanding' : i_info['sharesOutstanding'],\n",
    "            'floatShares' : i_info['floatShares'],\n",
    "            'pct_ftd_SO' : pct_ftd_SO,\n",
    "            'pct_ftd_float' : pct_ftd_float\n",
    "        }\n",
    "\n",
    "        if pct_ftd_float > 1.0:\n",
    "            select_symbol_list.append(i)\n",
    "            selected_dict[i] = {\n",
    "            'FTD_sum' : ftd_sum,\n",
    "            'sharesOutstanding' : i_info['sharesOutstanding'],\n",
    "            'floatShares' : i_info['floatShares'],\n",
    "            'pct_ftd_SO' : pct_ftd_SO,\n",
    "            'pct_ftd_float' : pct_ftd_float\n",
    "            }\n",
    "\n",
    "    ## Export if it finishes\n",
    "    yf_export_path = Path('../FilesExportYF_Data/yf_data_'+str_symbol1+'_'+str_symbol2+'.pkl')\n",
    "    save_obj(info_dict,yf_export_path)\n",
    "    select_export_path = Path('../FilesExportSelectYF_Data/select_yf_data_'+str_symbol1+'_'+str_symbol2+'.pkl')\n",
    "    save_obj(selected_dict,select_export_path)\n",
    "    \n",
    "    x += increment\n",
    "    y += increment\n",
    "    \n",
    "## Export List at End \n",
    "select_list_path = Path('../Resources/select_symbol_list.pkl')\n",
    "save_obj(select_symbol_list,select_list_path)"
   ]
  },
  {
   "cell_type": "code",
   "execution_count": 7,
   "id": "2a77ff5f",
   "metadata": {},
   "outputs": [],
   "source": [
    "select_list_path = Path('../Resources/select_symbol_list.pkl')\n",
    "save_obj(select_symbol_list,select_list_path)"
   ]
  },
  {
   "cell_type": "code",
   "execution_count": null,
   "id": "3421f93b",
   "metadata": {},
   "outputs": [],
   "source": []
  }
 ],
 "metadata": {
  "kernelspec": {
   "display_name": "Python [conda env:pyvizenv] *",
   "language": "python",
   "name": "conda-env-pyvizenv-py"
  },
  "language_info": {
   "codemirror_mode": {
    "name": "ipython",
    "version": 3
   },
   "file_extension": ".py",
   "mimetype": "text/x-python",
   "name": "python",
   "nbconvert_exporter": "python",
   "pygments_lexer": "ipython3",
   "version": "3.7.10"
  }
 },
 "nbformat": 4,
 "nbformat_minor": 5
}
