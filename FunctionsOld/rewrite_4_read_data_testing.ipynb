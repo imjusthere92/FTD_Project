{
 "cells": [
  {
   "cell_type": "code",
   "execution_count": 1,
   "id": "68df1615",
   "metadata": {},
   "outputs": [
    {
     "data": {
      "text/plain": [
       "True"
      ]
     },
     "execution_count": 1,
     "metadata": {},
     "output_type": "execute_result"
    }
   ],
   "source": [
    "import pandas as pd\n",
    "\n",
    "import glob\n",
    "\n",
    "from pathlib import Path\n",
    "import csv\n",
    "import pickle\n",
    "\n",
    "import os\n",
    "import requests\n",
    "import json\n",
    "\n",
    "import quandl\n",
    "\n",
    "from dotenv import load_dotenv\n",
    "load_dotenv()"
   ]
  },
  {
   "cell_type": "code",
   "execution_count": 2,
   "id": "995d0b30",
   "metadata": {},
   "outputs": [],
   "source": [
    "def load_obj(path):\n",
    "    with open(path, 'rb') as f:\n",
    "        return pickle.load(f)\n",
    "    \n",
    "def save_obj(obj, path ):\n",
    "    with open(path, 'wb') as f:\n",
    "        pickle.dump(obj, f, pickle.HIGHEST_PROTOCOL)"
   ]
  },
  {
   "cell_type": "code",
   "execution_count": 3,
   "id": "8ff71d5c",
   "metadata": {},
   "outputs": [],
   "source": [
    "pkl_path_1 = Path('../Resources/complete_data_0_10000.pkl')\n",
    "pkl_path_2 = Path('../Resources/incomplete_data_0_10000.pkl')\n",
    "complete_data  = load_obj(pkl_path_1)\n",
    "incomplete_data= load_obj(pkl_path_2)"
   ]
  },
  {
   "cell_type": "code",
   "execution_count": 7,
   "id": "8575aa84",
   "metadata": {},
   "outputs": [],
   "source": [
    "# #complete_data\n",
    "# for key in complete_data.keys():\n",
    "#         complete_data[key].anything  "
   ]
  },
  {
   "cell_type": "code",
   "execution_count": 9,
   "id": "5b003d7c",
   "metadata": {},
   "outputs": [],
   "source": [
    "# symbol_df = pd.read_csv(\n",
    "#     Path('../Resources/symbol_all_list.csv'),\n",
    "#     index_col=0\n",
    "# )\n",
    "# len(symbol_df)"
   ]
  },
  {
   "cell_type": "code",
   "execution_count": 12,
   "id": "04e584ea",
   "metadata": {},
   "outputs": [],
   "source": [
    "# pkl_path_3 = Path('../FilesExportComplete/data_complete_10000_11000.pkl')\n",
    "# complete_data3  = load_obj(pkl_path_3)"
   ]
  },
  {
   "cell_type": "code",
   "execution_count": 9,
   "id": "19454839",
   "metadata": {},
   "outputs": [
    {
     "name": "stdout",
     "output_type": "stream",
     "text": [
      "2519\n"
     ]
    }
   ],
   "source": [
    "i = 0\n",
    "for key in complete_data.keys():\n",
    "    i += 1\n",
    "data_length = i\n",
    "i = 0\n",
    "print(data_length)"
   ]
  },
  {
   "cell_type": "code",
   "execution_count": 15,
   "id": "76fcc6fb",
   "metadata": {},
   "outputs": [],
   "source": [
    "#complete_data"
   ]
  },
  {
   "cell_type": "code",
   "execution_count": 10,
   "id": "4eea6081",
   "metadata": {},
   "outputs": [],
   "source": [
    "key_list = []\n",
    "for key in complete_data.keys():\n",
    "    key_list.append(key)    "
   ]
  },
  {
   "cell_type": "code",
   "execution_count": 12,
   "id": "aac26929",
   "metadata": {},
   "outputs": [
    {
     "data": {
      "text/plain": [
       "2519"
      ]
     },
     "execution_count": 12,
     "metadata": {},
     "output_type": "execute_result"
    }
   ],
   "source": [
    "len(key_list)"
   ]
  },
  {
   "cell_type": "code",
   "execution_count": 14,
   "id": "2b88b8dd",
   "metadata": {},
   "outputs": [
    {
     "data": {
      "text/plain": [
       "'AAPL'"
      ]
     },
     "execution_count": 14,
     "metadata": {},
     "output_type": "execute_result"
    }
   ],
   "source": [
    "index = key_list[10]\n",
    "index"
   ]
  },
  {
   "cell_type": "code",
   "execution_count": 16,
   "id": "736a1877",
   "metadata": {},
   "outputs": [
    {
     "data": {
      "text/html": [
       "<div>\n",
       "<style scoped>\n",
       "    .dataframe tbody tr th:only-of-type {\n",
       "        vertical-align: middle;\n",
       "    }\n",
       "\n",
       "    .dataframe tbody tr th {\n",
       "        vertical-align: top;\n",
       "    }\n",
       "\n",
       "    .dataframe thead th {\n",
       "        text-align: right;\n",
       "    }\n",
       "</style>\n",
       "<table border=\"1\" class=\"dataframe\">\n",
       "  <thead>\n",
       "    <tr style=\"text-align: right;\">\n",
       "      <th></th>\n",
       "      <th>close</th>\n",
       "      <th>volume</th>\n",
       "      <th>change</th>\n",
       "      <th>changePercent</th>\n",
       "      <th>changeOverTime</th>\n",
       "      <th>QUANTITY_FAILS</th>\n",
       "      <th>TotalShortVolume</th>\n",
       "      <th>TotalVolume</th>\n",
       "      <th>SHORToverTOTALvolume</th>\n",
       "    </tr>\n",
       "    <tr>\n",
       "      <th>Date</th>\n",
       "      <th></th>\n",
       "      <th></th>\n",
       "      <th></th>\n",
       "      <th></th>\n",
       "      <th></th>\n",
       "      <th></th>\n",
       "      <th></th>\n",
       "      <th></th>\n",
       "      <th></th>\n",
       "    </tr>\n",
       "  </thead>\n",
       "  <tbody>\n",
       "    <tr>\n",
       "      <th>2021-01-04</th>\n",
       "      <td>129.41</td>\n",
       "      <td>143301887</td>\n",
       "      <td>-3.28</td>\n",
       "      <td>-0.0247</td>\n",
       "      <td>-0.040483</td>\n",
       "      <td>5930.0</td>\n",
       "      <td>35765540.0</td>\n",
       "      <td>63704764.0</td>\n",
       "      <td>56.142646</td>\n",
       "    </tr>\n",
       "    <tr>\n",
       "      <th>2021-01-05</th>\n",
       "      <td>131.01</td>\n",
       "      <td>97664898</td>\n",
       "      <td>1.6</td>\n",
       "      <td>0.0124</td>\n",
       "      <td>-0.02862</td>\n",
       "      <td>95768.0</td>\n",
       "      <td>27372650.0</td>\n",
       "      <td>47733385.0</td>\n",
       "      <td>57.344875</td>\n",
       "    </tr>\n",
       "    <tr>\n",
       "      <th>2021-01-06</th>\n",
       "      <td>126.6</td>\n",
       "      <td>155087970</td>\n",
       "      <td>-4.41</td>\n",
       "      <td>-0.0337</td>\n",
       "      <td>-0.061318</td>\n",
       "      <td>0.0</td>\n",
       "      <td>42484021.0</td>\n",
       "      <td>73034054.0</td>\n",
       "      <td>58.170153</td>\n",
       "    </tr>\n",
       "    <tr>\n",
       "      <th>2021-01-07</th>\n",
       "      <td>130.92</td>\n",
       "      <td>109578157</td>\n",
       "      <td>4.32</td>\n",
       "      <td>0.0341</td>\n",
       "      <td>-0.029287</td>\n",
       "      <td>272530.0</td>\n",
       "      <td>30246166.0</td>\n",
       "      <td>51859535.0</td>\n",
       "      <td>58.323250</td>\n",
       "    </tr>\n",
       "    <tr>\n",
       "      <th>2021-01-08</th>\n",
       "      <td>132.05</td>\n",
       "      <td>105158245</td>\n",
       "      <td>1.13</td>\n",
       "      <td>0.0086</td>\n",
       "      <td>-0.020909</td>\n",
       "      <td>1750.0</td>\n",
       "      <td>29142533.0</td>\n",
       "      <td>50045713.0</td>\n",
       "      <td>58.231827</td>\n",
       "    </tr>\n",
       "  </tbody>\n",
       "</table>\n",
       "</div>"
      ],
      "text/plain": [
       "             close     volume change changePercent changeOverTime  \\\n",
       "Date                                                                \n",
       "2021-01-04  129.41  143301887  -3.28       -0.0247      -0.040483   \n",
       "2021-01-05  131.01   97664898    1.6        0.0124       -0.02862   \n",
       "2021-01-06   126.6  155087970  -4.41       -0.0337      -0.061318   \n",
       "2021-01-07  130.92  109578157   4.32        0.0341      -0.029287   \n",
       "2021-01-08  132.05  105158245   1.13        0.0086      -0.020909   \n",
       "\n",
       "            QUANTITY_FAILS  TotalShortVolume  TotalVolume  \\\n",
       "Date                                                        \n",
       "2021-01-04          5930.0        35765540.0   63704764.0   \n",
       "2021-01-05         95768.0        27372650.0   47733385.0   \n",
       "2021-01-06             0.0        42484021.0   73034054.0   \n",
       "2021-01-07        272530.0        30246166.0   51859535.0   \n",
       "2021-01-08          1750.0        29142533.0   50045713.0   \n",
       "\n",
       "            SHORToverTOTALvolume  \n",
       "Date                              \n",
       "2021-01-04             56.142646  \n",
       "2021-01-05             57.344875  \n",
       "2021-01-06             58.170153  \n",
       "2021-01-07             58.323250  \n",
       "2021-01-08             58.231827  "
      ]
     },
     "execution_count": 16,
     "metadata": {},
     "output_type": "execute_result"
    }
   ],
   "source": [
    "complete_data[index].head()"
   ]
  },
  {
   "cell_type": "code",
   "execution_count": 17,
   "id": "23a21906",
   "metadata": {},
   "outputs": [
    {
     "data": {
      "text/html": [
       "<div>\n",
       "<style scoped>\n",
       "    .dataframe tbody tr th:only-of-type {\n",
       "        vertical-align: middle;\n",
       "    }\n",
       "\n",
       "    .dataframe tbody tr th {\n",
       "        vertical-align: top;\n",
       "    }\n",
       "\n",
       "    .dataframe thead th {\n",
       "        text-align: right;\n",
       "    }\n",
       "</style>\n",
       "<table border=\"1\" class=\"dataframe\">\n",
       "  <thead>\n",
       "    <tr style=\"text-align: right;\">\n",
       "      <th></th>\n",
       "      <th>close</th>\n",
       "      <th>volume</th>\n",
       "      <th>change</th>\n",
       "      <th>changePercent</th>\n",
       "      <th>changeOverTime</th>\n",
       "      <th>QUANTITY_FAILS</th>\n",
       "      <th>TotalShortVolume</th>\n",
       "      <th>TotalVolume</th>\n",
       "      <th>SHORToverTOTALvolume</th>\n",
       "    </tr>\n",
       "    <tr>\n",
       "      <th>Date</th>\n",
       "      <th></th>\n",
       "      <th></th>\n",
       "      <th></th>\n",
       "      <th></th>\n",
       "      <th></th>\n",
       "      <th></th>\n",
       "      <th></th>\n",
       "      <th></th>\n",
       "      <th></th>\n",
       "    </tr>\n",
       "  </thead>\n",
       "  <tbody>\n",
       "    <tr>\n",
       "      <th>2021-01-04</th>\n",
       "      <td>129.41</td>\n",
       "      <td>143301887</td>\n",
       "      <td>-3.28</td>\n",
       "      <td>-0.0247</td>\n",
       "      <td>-0.040483</td>\n",
       "      <td>5930.0</td>\n",
       "      <td>35765540.0</td>\n",
       "      <td>63704764.0</td>\n",
       "      <td>56.142646</td>\n",
       "    </tr>\n",
       "    <tr>\n",
       "      <th>2021-01-05</th>\n",
       "      <td>131.01</td>\n",
       "      <td>97664898</td>\n",
       "      <td>1.6</td>\n",
       "      <td>0.0124</td>\n",
       "      <td>-0.02862</td>\n",
       "      <td>95768.0</td>\n",
       "      <td>27372650.0</td>\n",
       "      <td>47733385.0</td>\n",
       "      <td>57.344875</td>\n",
       "    </tr>\n",
       "    <tr>\n",
       "      <th>2021-01-06</th>\n",
       "      <td>126.6</td>\n",
       "      <td>155087970</td>\n",
       "      <td>-4.41</td>\n",
       "      <td>-0.0337</td>\n",
       "      <td>-0.061318</td>\n",
       "      <td>0.0</td>\n",
       "      <td>42484021.0</td>\n",
       "      <td>73034054.0</td>\n",
       "      <td>58.170153</td>\n",
       "    </tr>\n",
       "    <tr>\n",
       "      <th>2021-01-07</th>\n",
       "      <td>130.92</td>\n",
       "      <td>109578157</td>\n",
       "      <td>4.32</td>\n",
       "      <td>0.0341</td>\n",
       "      <td>-0.029287</td>\n",
       "      <td>272530.0</td>\n",
       "      <td>30246166.0</td>\n",
       "      <td>51859535.0</td>\n",
       "      <td>58.323250</td>\n",
       "    </tr>\n",
       "    <tr>\n",
       "      <th>2021-01-08</th>\n",
       "      <td>132.05</td>\n",
       "      <td>105158245</td>\n",
       "      <td>1.13</td>\n",
       "      <td>0.0086</td>\n",
       "      <td>-0.020909</td>\n",
       "      <td>1750.0</td>\n",
       "      <td>29142533.0</td>\n",
       "      <td>50045713.0</td>\n",
       "      <td>58.231827</td>\n",
       "    </tr>\n",
       "  </tbody>\n",
       "</table>\n",
       "</div>"
      ],
      "text/plain": [
       "             close     volume change changePercent changeOverTime  \\\n",
       "Date                                                                \n",
       "2021-01-04  129.41  143301887  -3.28       -0.0247      -0.040483   \n",
       "2021-01-05  131.01   97664898    1.6        0.0124       -0.02862   \n",
       "2021-01-06   126.6  155087970  -4.41       -0.0337      -0.061318   \n",
       "2021-01-07  130.92  109578157   4.32        0.0341      -0.029287   \n",
       "2021-01-08  132.05  105158245   1.13        0.0086      -0.020909   \n",
       "\n",
       "            QUANTITY_FAILS  TotalShortVolume  TotalVolume  \\\n",
       "Date                                                        \n",
       "2021-01-04          5930.0        35765540.0   63704764.0   \n",
       "2021-01-05         95768.0        27372650.0   47733385.0   \n",
       "2021-01-06             0.0        42484021.0   73034054.0   \n",
       "2021-01-07        272530.0        30246166.0   51859535.0   \n",
       "2021-01-08          1750.0        29142533.0   50045713.0   \n",
       "\n",
       "            SHORToverTOTALvolume  \n",
       "Date                              \n",
       "2021-01-04             56.142646  \n",
       "2021-01-05             57.344875  \n",
       "2021-01-06             58.170153  \n",
       "2021-01-07             58.323250  \n",
       "2021-01-08             58.231827  "
      ]
     },
     "execution_count": 17,
     "metadata": {},
     "output_type": "execute_result"
    }
   ],
   "source": [
    "## Sum QUANTITY_FAILS\n",
    "test_df = complete_data[index].copy()\n",
    "test_df.head()"
   ]
  },
  {
   "cell_type": "code",
   "execution_count": 18,
   "id": "1f89707b",
   "metadata": {},
   "outputs": [
    {
     "data": {
      "text/plain": [
       "18371378.0"
      ]
     },
     "execution_count": 18,
     "metadata": {},
     "output_type": "execute_result"
    }
   ],
   "source": [
    "test_df.QUANTITY_FAILS.sum()"
   ]
  },
  {
   "cell_type": "code",
   "execution_count": 19,
   "id": "143b2a86",
   "metadata": {},
   "outputs": [],
   "source": [
    "## Get sharesOutstanding and floatShares from Yahoo Finance \n",
    "## Please find a better source \n",
    "## IEX can be used for sharesOutstanding but not floatShares :\\ \n",
    "import yfinance as yf\n",
    "\n",
    "def get_ticker_info_yf(symbol):\n",
    "    str_symbol = str(symbol)\n",
    "    ticker = yf.Ticker(str_symbol)\n",
    "    ticker_info = ticker.info\n",
    "    try:\n",
    "        sharesOutstanding = ticker_info['sharesOutstanding']\n",
    "    except KeyError:\n",
    "        sharesOutstanding = 0\n",
    "    try:\n",
    "        floatShares = ticker_info['floatShares']\n",
    "    except KeyError:\n",
    "        floatShares = 0\n",
    "    dictionary = {\n",
    "        'sharesOutstanding' : sharesOutstanding,\n",
    "        'floatShares' : floatShares\n",
    "    }\n",
    "    return dictionary"
   ]
  },
  {
   "cell_type": "code",
   "execution_count": 36,
   "id": "20a9b593",
   "metadata": {},
   "outputs": [
    {
     "data": {
      "text/plain": [
       "10"
      ]
     },
     "execution_count": 36,
     "metadata": {},
     "output_type": "execute_result"
    }
   ],
   "source": [
    "test_list = key_list[1:11]\n",
    "len(test_list)"
   ]
  },
  {
   "cell_type": "code",
   "execution_count": 40,
   "id": "e31e502c",
   "metadata": {},
   "outputs": [],
   "source": [
    "# i = 0\n",
    "# while i < 10:\n",
    "#     print(test_list[i])\n",
    "#     i += 1"
   ]
  },
  {
   "cell_type": "code",
   "execution_count": 59,
   "id": "8d6be239",
   "metadata": {},
   "outputs": [
    {
     "data": {
      "text/plain": [
       "{'AA': {'FTD_sum': 948121.0,\n",
       "  'sharesOutstanding': 187060000,\n",
       "  'floatShares': 185713212,\n",
       "  'pct_ftd_SO': 0.005068539506040842,\n",
       "  'pct_ftd_float': 0.005105296439544646},\n",
       " 'AAAU': {'FTD_sum': 8243234.0,\n",
       "  'sharesOutstanding': 0,\n",
       "  'floatShares': 0,\n",
       "  'pct_ftd_SO': 0,\n",
       "  'pct_ftd_float': 0},\n",
       " 'AACG': {'FTD_sum': 3700237.0,\n",
       "  'sharesOutstanding': 31376900,\n",
       "  'floatShares': 8743140,\n",
       "  'pct_ftd_SO': 0.11792869913853822,\n",
       "  'pct_ftd_float': 0.4232160299389007},\n",
       " 'AAIC': {'FTD_sum': 391773.0,\n",
       "  'sharesOutstanding': 32331100,\n",
       "  'floatShares': 29061104,\n",
       "  'pct_ftd_SO': 0.012117527705521929,\n",
       "  'pct_ftd_float': 0.013481008842609696},\n",
       " 'AAL': {'FTD_sum': 47828675.0,\n",
       "  'sharesOutstanding': 647513984,\n",
       "  'floatShares': 642401246,\n",
       "  'pct_ftd_SO': 0.07386508427901381,\n",
       "  'pct_ftd_float': 0.07445296113264388},\n",
       " 'AAN': {'FTD_sum': 117137.0,\n",
       "  'sharesOutstanding': 31483200,\n",
       "  'floatShares': 31096948,\n",
       "  'pct_ftd_SO': 0.0037206192509020683,\n",
       "  'pct_ftd_float': 0.0037668326808148506},\n",
       " 'AAOI': {'FTD_sum': 445268.0,\n",
       "  'sharesOutstanding': 27141400,\n",
       "  'floatShares': 25941177,\n",
       "  'pct_ftd_SO': 0.01640549124216142,\n",
       "  'pct_ftd_float': 0.017164525726801064},\n",
       " 'AAON': {'FTD_sum': 72248.0,\n",
       "  'sharesOutstanding': 52403700,\n",
       "  'floatShares': 41430915,\n",
       "  'pct_ftd_SO': 0.0013786812763220918,\n",
       "  'pct_ftd_float': 0.001743818595365321},\n",
       " 'AAP': {'FTD_sum': 213491.0,\n",
       "  'sharesOutstanding': 63000700,\n",
       "  'floatShares': 62209649,\n",
       "  'pct_ftd_SO': 0.0033887083794307046,\n",
       "  'pct_ftd_float': 0.003431798819504672},\n",
       " 'AAPL': {'FTD_sum': 18371378.0,\n",
       "  'sharesOutstanding': 16530199552,\n",
       "  'floatShares': 16513139929,\n",
       "  'pct_ftd_SO': 0.0011113827115158592,\n",
       "  'pct_ftd_float': 0.001112530874139606}}"
      ]
     },
     "execution_count": 59,
     "metadata": {},
     "output_type": "execute_result"
    }
   ],
   "source": [
    "test_info_dict = {}\n",
    "infinity = float(\"Inf\") ## Define Infinity value \n",
    "for i in test_list:\n",
    "    df = complete_data[i].copy()\n",
    "    ftd_sum = df.QUANTITY_FAILS.sum()\n",
    "    i_info = get_ticker_info_yf(i)\n",
    "    \n",
    "    if i_info['sharesOutstanding'] != 0:\n",
    "        pct_ftd_SO = ftd_sum / i_info['sharesOutstanding']\n",
    "    else:\n",
    "        pct_ftd_SO = 0\n",
    "    if i_info['floatShares'] != 0:\n",
    "        pct_ftd_float = ftd_sum / i_info['floatShares']\n",
    "    else:\n",
    "        pct_ftd_float = 0\n",
    "    \n",
    "## Above is better fix for dividing by infinity - checks before it happens \n",
    "#     pct_ftd_SO = ftd_sum / i_info['sharesOutstanding']\n",
    "#     if pct_ftd_SO == infinity:\n",
    "#         pct_ftd_SO = 0\n",
    "#     pct_ftd_float = ftd_sum / i_info['floatShares'] \n",
    "#     if pct_ftd_float == infinity:\n",
    "#         pct_ftd_float = 0    \n",
    "        \n",
    "    test_info_dict[i] = {\n",
    "        'FTD_sum' : ftd_sum,\n",
    "        'sharesOutstanding' : i_info['sharesOutstanding'],\n",
    "        'floatShares' : i_info['floatShares'],\n",
    "        'pct_ftd_SO' : pct_ftd_SO,\n",
    "        'pct_ftd_float' : pct_ftd_float\n",
    "    }\n",
    "    \n",
    "test_info_dict\n",
    "## Works - issue with '0' values causing infite division though "
   ]
  },
  {
   "cell_type": "code",
   "execution_count": 56,
   "id": "6c156659",
   "metadata": {},
   "outputs": [
    {
     "name": "stderr",
     "output_type": "stream",
     "text": [
      "C:\\Users\\watso\\anaconda3\\envs\\pyvizenv\\lib\\site-packages\\ipykernel_launcher.py:10: RuntimeWarning: divide by zero encountered in double_scalars\n",
      "  # Remove the CWD from sys.path while we load stuff.\n",
      "C:\\Users\\watso\\anaconda3\\envs\\pyvizenv\\lib\\site-packages\\ipykernel_launcher.py:11: RuntimeWarning: divide by zero encountered in double_scalars\n",
      "  # This is added back by InteractiveShellApp.init_path()\n"
     ]
    },
    {
     "data": {
      "text/plain": [
       "inf"
      ]
     },
     "execution_count": 56,
     "metadata": {},
     "output_type": "execute_result"
    }
   ],
   "source": [
    "## Try to solve infinite division \n",
    "# AAAU\n",
    "infinity = float(\"Inf\")\n",
    "\n",
    "\n",
    "i = 'AAAU'\n",
    "df = complete_data[i].copy()\n",
    "ftd_sum = df.QUANTITY_FAILS.sum()\n",
    "i_info = get_ticker_info_yf(i)\n",
    "pct_ftd_SO = ftd_sum / i_info['sharesOutstanding'] \n",
    "pct_ftd_float = ftd_sum / i_info['floatShares'] \n",
    "pct_ftd_float"
   ]
  },
  {
   "cell_type": "code",
   "execution_count": 57,
   "id": "dd90db21",
   "metadata": {},
   "outputs": [
    {
     "data": {
      "text/plain": [
       "0"
      ]
     },
     "execution_count": 57,
     "metadata": {},
     "output_type": "execute_result"
    }
   ],
   "source": [
    "if pct_ftd_float == infinity:\n",
    "    pct_ftd_float = 0\n",
    "pct_ftd_float"
   ]
  },
  {
   "cell_type": "code",
   "execution_count": 55,
   "id": "c74835fe",
   "metadata": {},
   "outputs": [
    {
     "name": "stdout",
     "output_type": "stream",
     "text": [
      "inf\n"
     ]
    },
    {
     "data": {
      "text/plain": [
       "inf"
      ]
     },
     "execution_count": 55,
     "metadata": {},
     "output_type": "execute_result"
    }
   ],
   "source": [
    "infinity = float(\"Inf\")\n",
    "print(infinity)\n",
    "\n",
    "inf"
   ]
  },
  {
   "cell_type": "code",
   "execution_count": null,
   "id": "001cea74",
   "metadata": {},
   "outputs": [],
   "source": []
  }
 ],
 "metadata": {
  "kernelspec": {
   "display_name": "Python 3",
   "language": "python",
   "name": "python3"
  },
  "language_info": {
   "codemirror_mode": {
    "name": "ipython",
    "version": 3
   },
   "file_extension": ".py",
   "mimetype": "text/x-python",
   "name": "python",
   "nbconvert_exporter": "python",
   "pygments_lexer": "ipython3",
   "version": "3.7.10"
  }
 },
 "nbformat": 4,
 "nbformat_minor": 5
}
