{
 "cells": [
  {
   "cell_type": "code",
   "execution_count": null,
   "id": "6e148eba",
   "metadata": {},
   "outputs": [],
   "source": [
    "import pandas as pd\n",
    "\n",
    "import glob\n",
    "\n",
    "from pathlib import Path\n",
    "import csv\n",
    "import pickle\n",
    "\n",
    "import os\n",
    "import requests\n",
    "import json\n",
    "\n",
    "import quandl\n",
    "from iexfinance.stocks import Stock\n",
    "\n",
    "from dotenv import load_dotenv\n",
    "load_dotenv()"
   ]
  },
  {
   "cell_type": "code",
   "execution_count": null,
   "id": "3292ff91",
   "metadata": {},
   "outputs": [],
   "source": [
    "## Constants \n",
    "\n",
    "## Set start date variable - dataframes will be created starting from this date\n",
    "start_date = '2021-01-01'\n",
    "end_date = '2021-09-30'\n",
    "default_range = '10m' ## Default Range for IEX functions - don't need more at the moment\n",
    "\n",
    "# # Flag for IEX - set to false for Sandbox Data. Set to True for Real Data \n",
    "# token_status = False         ## Not useful anymore, could probably remove "
   ]
  },
  {
   "cell_type": "code",
   "execution_count": 3,
   "id": "11aead85",
   "metadata": {},
   "outputs": [],
   "source": [
    "## Import FTD File \n",
    "ftd_df = pd.read_csv(\n",
    "    Path('../Resources/ftd_all_data.csv'),\n",
    "    index_col=0, parse_dates=True\n",
    ")\n",
    "\n",
    "## Import Symbol and CUSIP list \n",
    "symbol_df = pd.read_csv(\n",
    "    Path('../Resources/symbol_all_list.csv'),\n",
    "    index_col=0\n",
    ")"
   ]
  },
  {
   "cell_type": "code",
   "execution_count": 4,
   "id": "5b831109",
   "metadata": {},
   "outputs": [],
   "source": [
    "def return_ftd_data_cusip(cusip_number):\n",
    "    df = ftd_df\n",
    "    df = df.reset_index()\n",
    "    df = df.set_index(\"CUSIP\")\n",
    "    df = df.loc[cusip_number]\n",
    "    df = df.set_index('Date')\n",
    "    return df\n",
    "\n",
    "def return_CUSIP_from_symbol(symbol):\n",
    "    new_symbol_df = pd.DataFrame(symbol_df)\n",
    "    new_symbol_df.dropna(inplace=True)\n",
    "    new_symbol_df.reset_index(inplace=True,drop=True)\n",
    "    new_symbol_df.set_index('SYMBOL',inplace=True)\n",
    "    cusip_variable = new_symbol_df.loc[symbol]\n",
    "    cusip_variable = cusip_variable['CUSIP']\n",
    "    return cusip_variable"
   ]
  },
  {
   "cell_type": "code",
   "execution_count": 5,
   "id": "0007fc58",
   "metadata": {},
   "outputs": [
    {
     "data": {
      "text/plain": [
       "<Response [200]>"
      ]
     },
     "execution_count": 5,
     "metadata": {},
     "output_type": "execute_result"
    }
   ],
   "source": [
    "# iex_api_key = os.getenv(\"IEX_API_KEY\")\n",
    "# iex_test_api_key = os.getenv(\"IEX_TEST_API_KEY\")\n",
    "\n",
    "# real_token = os.environ.get('IEX_API_KEY')\n",
    "# test_token = os.environ.get('IEX_TEST_API_KEY')\n",
    "\n",
    "base_url_iex = 'https://cloud.iexapis.com/stable/'\n",
    "# sandbox_url = 'https://sandbox.iexapis.com/stable/'\n",
    "\n",
    "## QUANDL/NASDAQ \n",
    "nsdq_api_key = os.environ.get('NASDAQ_API_KEY')\n",
    "base_url_nsdq = 'https://data.nasdaq.com/api/v3/datasets/FINRA/'\n",
    "\n",
    "## IEX Status Test \n",
    "test_resp = requests.get(base_url_iex + 'status')\n",
    "test_resp"
   ]
  },
  {
   "cell_type": "code",
   "execution_count": 6,
   "id": "ba81eb57",
   "metadata": {},
   "outputs": [
    {
     "name": "stdout",
     "output_type": "stream",
     "text": [
      "stable\n",
      "pandas\n"
     ]
    }
   ],
   "source": [
    "iex_token = os.getenv(\"IEX_TOKEN\")\n",
    "iex_api_ver = os.getenv(\"IEX_API_VERSION\")\n",
    "iex_out_form = os.getenv(\"IEX_OUTPUT_FORMAT\")\n",
    "\n",
    "## Check sandbox vs stable \n",
    "#print(iex_token)\n",
    "print(iex_api_ver)\n",
    "print(iex_out_form)"
   ]
  },
  {
   "cell_type": "code",
   "execution_count": 7,
   "id": "78194552",
   "metadata": {},
   "outputs": [],
   "source": [
    "def get_short_data_QUANDL(symbol):\n",
    "    string_nsdq = \"FINRA/FNSQ_\"+symbol\n",
    "    string_nyse = \"FINRA/FNYX_\"+symbol\n",
    "    \n",
    "    df1 = quandl.get(string_nsdq,start_date=start_date,end_date=end_date,authtoken=nsdq_api_key)   ## Nasdaq\n",
    "    df2 = quandl.get(string_nyse,start_date=start_date,end_date=end_date,authtoken=nsdq_api_key)   ## NYSE\n",
    "\n",
    "    df1 = df1.rename(columns={'ShortVolume':'ShortVolumeNSDQ','TotalVolume':'TotalVolumeNSDQ'})\n",
    "    df1 = df1.drop(columns={'ShortExemptVolume'})\n",
    "\n",
    "    df2 = df2.rename(columns={'ShortVolume':'ShortVolumeNYSE','TotalVolume':'TotalVolumeNYSE'})\n",
    "    df2 = df2.drop(columns={'ShortExemptVolume'})\n",
    "\n",
    "    df3 = pd.merge(df1,df2,on='Date',how='outer')\n",
    "\n",
    "    df3['TotalShortVolume'] = df3['ShortVolumeNSDQ'] + df3['ShortVolumeNYSE']\n",
    "    df3['TotalVolume'] = df3['TotalVolumeNSDQ'] + df3['TotalVolumeNYSE']\n",
    "    df3['SHORToverTOTALvolume'] = df3['TotalShortVolume'] / df3['TotalVolume'] * 100\n",
    "    short_df = df3[['TotalShortVolume','TotalVolume','SHORToverTOTALvolume']]\n",
    "    return short_df"
   ]
  },
  {
   "cell_type": "code",
   "execution_count": 8,
   "id": "6be1374c",
   "metadata": {},
   "outputs": [],
   "source": [
    "def get_data_all(symbol):\n",
    "    cusip_number = return_CUSIP_from_symbol(symbol)\n",
    "    ftd_data = return_ftd_data_cusip(cusip_number)\n",
    "    ftd_data = ftd_data.drop(columns={'SYMBOL'})\n",
    "    iex_data = Stock(symbol).get_historical_prices(range='10m',chartCloseOnly=True)\n",
    "    iex_data = iex_data[start_date:end_date]\n",
    "    iex_data.reset_index(inplace=True)\n",
    "    iex_data.rename(columns={'index':'Date'},inplace=True)\n",
    "    iex_data['Date'] = pd.to_datetime(iex_data['Date'])\n",
    "    iex_data.set_index('Date',inplace=True)\n",
    "    df1 = pd.merge(iex_data, ftd_data, on='Date',how='outer')\n",
    "    df1['QUANTITY_FAILS'] = df1['QUANTITY_FAILS'].fillna(0)\n",
    "    df2 = get_short_data_QUANDL(symbol)\n",
    "    df = pd.merge(df1,df2,on='Date',how='outer')\n",
    "    return df \n",
    "\n",
    "## Use pickle module to export and save files\n",
    "def save_obj(obj, path ):\n",
    "    with open(path, 'wb') as f:\n",
    "        pickle.dump(obj, f, pickle.HIGHEST_PROTOCOL)"
   ]
  },
  {
   "cell_type": "code",
   "execution_count": 9,
   "id": "6b10a2d5",
   "metadata": {},
   "outputs": [],
   "source": [
    "# test_symbol = 'GME'\n",
    "# test_df = get_data_all(test_symbol)\n",
    "# test_df"
   ]
  },
  {
   "cell_type": "code",
   "execution_count": 10,
   "id": "da80e81c",
   "metadata": {},
   "outputs": [],
   "source": [
    "## Test Variables if necessary \n",
    "#symbol_test_range = symbol_df.iloc[0:201]"
   ]
  },
  {
   "cell_type": "code",
   "execution_count": null,
   "id": "f6aeb404",
   "metadata": {},
   "outputs": [],
   "source": [
    "## Set iteration through symbol_df \n",
    "length_ = len(symbol_df)\n",
    "iex_api_ver = os.getenv(\"IEX_API_VERSION\")\n",
    "sandbox = 'iexcloud-sandbox'\n",
    "real = 'stable'\n",
    "## Change as necessary to begin where left off in case of failure \n",
    "## Completed up to x = 900\n",
    "## Start at x = 1000 - set Max at 9900\n",
    "## All data went to incomplete up to 6600/6700 \n",
    "## Finishing Data from 6700/6800 on \n",
    "## Oct 29th - 2,415,426 (49%) API Usage \n",
    "## May need to redo 0-6700 \n",
    "## Done up to 10,000\n",
    "\n",
    "## Do in 1000 increments now\n",
    "## Did 10000-11000, but others wrong \n",
    "## Start 11000 now \n",
    "\n",
    "## Finished 12000_13000 before API calls ran out for month\n",
    "## Start again from 13000/14000 next time \n",
    "x = 13000    \n",
    "y = 14000\n",
    "increment = 1000  ## Make sure increment is right\n",
    "\n",
    "## If testing set to \"iexcloud-sandbox\"(sandbox) to not burn tokens and check your .env variables \n",
    "## If not testing, set to \"stable\"(real) and load your secret key as .env variable \n",
    "## Set to sandbox in order to not worry about worry about wasting IEX API tokens \n",
    "while (x <= length_) and (iex_api_ver == real):\n",
    "    complete_dict = {}\n",
    "    incomplete_dict = {}\n",
    "    \n",
    "    range_var = range(x,y)\n",
    "    str_symbol1 = str(x)\n",
    "    str_symbol2 = str(y)\n",
    "    \n",
    "    for i in range_var: \n",
    "        symbol_var = symbol_df['SYMBOL'][i]\n",
    "        try:\n",
    "            data_df = get_data_all(symbol_var)\n",
    "        except KeyError:\n",
    "            continue\n",
    "        except:\n",
    "            continue\n",
    "        ## Check if null values, add to different dicts if null values present, or no nulls present\n",
    "        bool_var = data_df.isnull().values.any()\n",
    "        if bool_var == False:\n",
    "            complete_dict[symbol_var] = data_df\n",
    "        elif bool_var == True:\n",
    "            incomplete_dict[symbol_var] = data_df\n",
    "\n",
    "    \n",
    "    pickle_path1= Path('../FilesExportComplete/data_complete_'+str_symbol1+'_'+str_symbol2+'.pkl')\n",
    "    save_obj(complete_dict,pickle_path1)\n",
    "    pickle_path2= Path('../FilesExportIncomplete/data_incomplete_'+str_symbol1+'_'+str_symbol2+'.pkl')\n",
    "    save_obj(incomplete_dict,pickle_path2)\n",
    "    \n",
    "    ## Check before run, if incorrect, can waste a lot of API credits  \n",
    "    x += increment\n",
    "    y += increment\n",
    "    \n",
    "    ## Export in blocks of 100 in-case there are errors while processing data. \n",
    "    ## Can pick up where the function left off by changing x and y vars to\n",
    "    ## avoid repeating API calls by doing this in order to not burn \n",
    "    ## IEX API tokens unnecessarily \n",
    "    "
   ]
  },
  {
   "cell_type": "code",
   "execution_count": null,
   "id": "61976f05",
   "metadata": {},
   "outputs": [],
   "source": [
    "# test_df = get_data_all('GME')\n",
    "# test_df"
   ]
  },
  {
   "cell_type": "code",
   "execution_count": null,
   "id": "f66c51cf",
   "metadata": {},
   "outputs": [],
   "source": [
    "increment = 1000 "
   ]
  },
  {
   "cell_type": "code",
   "execution_count": null,
   "id": "ecef265d",
   "metadata": {},
   "outputs": [],
   "source": [
    "#ftd_df"
   ]
  },
  {
   "cell_type": "code",
   "execution_count": null,
   "id": "8975ee4b",
   "metadata": {},
   "outputs": [],
   "source": []
  }
 ],
 "metadata": {
  "kernelspec": {
   "display_name": "Python 3",
   "language": "python",
   "name": "python3"
  },
  "language_info": {
   "codemirror_mode": {
    "name": "ipython",
    "version": 3
   },
   "file_extension": ".py",
   "mimetype": "text/x-python",
   "name": "python",
   "nbconvert_exporter": "python",
   "pygments_lexer": "ipython3",
   "version": "3.7.10"
  }
 },
 "nbformat": 4,
 "nbformat_minor": 5
}
