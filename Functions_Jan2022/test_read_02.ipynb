{
 "cells": [
  {
   "cell_type": "code",
   "execution_count": 1,
   "id": "d2506493-7116-4420-9179-bd4b2081f80c",
   "metadata": {},
   "outputs": [],
   "source": [
    "import pandas as pd\n",
    "\n",
    "from pathlib import Path"
   ]
  },
  {
   "cell_type": "code",
   "execution_count": 2,
   "id": "3412be09-44ed-4556-a915-075afd284032",
   "metadata": {},
   "outputs": [],
   "source": [
    "## Use pickle module to import and export and save files\n",
    "import pickle\n",
    "def load_obj(path):\n",
    "    with open(path, 'rb') as f:\n",
    "        return pickle.load(f)\n",
    "def save_obj(obj, path ):\n",
    "    with open(path, 'wb') as f:\n",
    "        pickle.dump(obj, f, pickle.HIGHEST_PROTOCOL)"
   ]
  },
  {
   "cell_type": "code",
   "execution_count": 3,
   "id": "370026ed-fbe9-4129-9f79-01bef024662b",
   "metadata": {},
   "outputs": [
    {
     "data": {
      "text/plain": [
       "['A',\n",
       " 'AA',\n",
       " 'AA',\n",
       " 'AA',\n",
       " 'AAA',\n",
       " 'AACG',\n",
       " 'AADR',\n",
       " 'AAIC',\n",
       " 'AAL',\n",
       " 'AAMC',\n",
       " 'AAME',\n",
       " 'AAN',\n",
       " 'AAN',\n",
       " 'AAN',\n",
       " 'AAOI',\n",
       " 'AAON',\n",
       " 'AAP',\n",
       " 'AAPL',\n",
       " 'AAT',\n",
       " 'AATC',\n",
       " 'AAU',\n",
       " 'AAWW',\n",
       " 'AAXJ',\n",
       " 'AB']"
      ]
     },
     "execution_count": 3,
     "metadata": {},
     "output_type": "execute_result"
    }
   ],
   "source": [
    "symbol_success_list = load_obj('../Resources/02_symbol_success_list.pkl')\n",
    "symbol_success_list"
   ]
  },
  {
   "cell_type": "code",
   "execution_count": 4,
   "id": "801b17bd-61f1-43e3-82b0-4e06b18f4303",
   "metadata": {},
   "outputs": [],
   "source": [
    "def save_and_export_raw_df_pkl(data, symbol, path='None'):\n",
    "    ## Can set custom path (useful for testing) otherwise will default to below path\n",
    "    if path=='None':\n",
    "        path = ('../FilesExport_TimeSeries_DFs/'+symbol+'_combined_df.pkl')\n",
    "    save_obj(data,path)"
   ]
  },
  {
   "cell_type": "code",
   "execution_count": 5,
   "id": "dcebe869-34b5-4d9f-8399-2ff64b6c6a69",
   "metadata": {},
   "outputs": [
    {
     "data": {
      "text/plain": [
       "'A'"
      ]
     },
     "execution_count": 5,
     "metadata": {},
     "output_type": "execute_result"
    }
   ],
   "source": [
    "symbol = symbol_success_list[0]\n",
    "symbol"
   ]
  },
  {
   "cell_type": "code",
   "execution_count": 6,
   "id": "2cc1df39-02a8-4f50-998c-349fa43aae18",
   "metadata": {},
   "outputs": [
    {
     "data": {
      "text/plain": [
       "'../FilesExport_TimeSeries_DFs/A_combined_df.pkl'"
      ]
     },
     "execution_count": 6,
     "metadata": {},
     "output_type": "execute_result"
    }
   ],
   "source": [
    "path = '../FilesExport_TimeSeries_DFs/'+symbol+'_combined_df.pkl'\n",
    "path"
   ]
  },
  {
   "cell_type": "code",
   "execution_count": 8,
   "id": "6025c69d-a83d-42c8-a809-110bd01e788a",
   "metadata": {},
   "outputs": [
    {
     "data": {
      "text/plain": [
       "{'A':                   open        high         low       close    adjClose  \\\n",
       " Date                                                                     \n",
       " 2016-01-04   41.060001   41.189999   40.340000   40.689999   38.664238   \n",
       " 2016-01-05   40.730000   40.950001   40.340000   40.549999   38.531204   \n",
       " 2016-01-06   40.240002   40.990002   40.049999   40.730000   38.702248   \n",
       " 2016-01-07   40.139999   40.150002   38.810001   39.000000   37.058384   \n",
       " 2016-01-08   39.220001   39.709999   38.470001   38.590000   36.668793   \n",
       " ...                ...         ...         ...         ...         ...   \n",
       " 2021-12-28  159.679993  159.789993  158.119995  159.179993  158.970612   \n",
       " 2021-12-29  159.830002  161.389999  159.179993  160.649994  160.438675   \n",
       " 2021-12-30  161.110001  162.619995  160.600006  160.880005  160.668396   \n",
       " 2021-12-31  160.350006  161.449997  159.520004  159.649994  159.440002   \n",
       " 2018-12-05    0.000000    0.000000    0.000000    0.000000    0.000000   \n",
       " \n",
       "                volume  unadjustedVolume   change  changePercent       vwap  \\\n",
       " Date                                                                         \n",
       " 2016-01-04  3287300.0         3287300.0 -0.37000         -0.901   40.74000   \n",
       " 2016-01-05  2587200.0         2587200.0 -0.18000         -0.442   40.61333   \n",
       " 2016-01-06  2103600.0         2103600.0  0.49000          1.218   40.59000   \n",
       " 2016-01-07  3504300.0         3504300.0 -1.14000         -2.840   39.32000   \n",
       " 2016-01-08  3736700.0         3736700.0 -0.63000         -1.606   38.92333   \n",
       " ...               ...               ...      ...            ...        ...   \n",
       " 2021-12-28   764300.0          764300.0 -0.50000         -0.313  159.02999   \n",
       " 2021-12-29   833100.0          833100.0  0.81999          0.513  160.40666   \n",
       " 2021-12-30   771000.0          771000.0 -0.23000         -0.143  161.36667   \n",
       " 2021-12-31  1315500.0         1315500.0 -0.70001         -0.437  160.20667   \n",
       " 2018-12-05        0.0               0.0  0.00000          0.000    0.00000   \n",
       " \n",
       "             changeOverTime  QUANTITY_FAILS  ShortVolumeNSDQ  \\\n",
       " Date                                                          \n",
       " 2016-01-04        -0.00901          2736.0         164975.0   \n",
       " 2016-01-05        -0.00442          1952.0         112203.0   \n",
       " 2016-01-06         0.01218           195.0         141252.0   \n",
       " 2016-01-07        -0.02840           388.0         190525.0   \n",
       " 2016-01-08        -0.01606           178.0         135665.0   \n",
       " ...                    ...             ...              ...   \n",
       " 2021-12-28        -0.00313             0.0          55865.0   \n",
       " 2021-12-29         0.00513             0.0          53692.0   \n",
       " 2021-12-30        -0.00143             0.0          38469.0   \n",
       " 2021-12-31        -0.00437             0.0         109046.0   \n",
       " 2018-12-05         0.00000            38.0              0.0   \n",
       " \n",
       "             ShortExemptVolumeNSDQ  TotalVolumeNSDQ  ShortVolumeNYSE  \\\n",
       " Date                                                                  \n",
       " 2016-01-04                  100.0         399301.0          17970.0   \n",
       " 2016-01-05                  444.0         630356.0          16440.0   \n",
       " 2016-01-06                    3.0         342833.0          23085.0   \n",
       " 2016-01-07                    0.0         591883.0          16659.0   \n",
       " 2016-01-08                 1490.0         553832.0          30905.0   \n",
       " ...                           ...              ...              ...   \n",
       " 2021-12-28                    0.0         148923.0           2265.0   \n",
       " 2021-12-29                   78.0         151620.0           3722.0   \n",
       " 2021-12-30                   35.0         104159.0           2085.0   \n",
       " 2021-12-31                   10.0         216363.0           5080.0   \n",
       " 2018-12-05                    0.0              0.0              0.0   \n",
       " \n",
       "             ShortExemptVolumeNYSE  TotalVolumeNYSE  \n",
       " Date                                                \n",
       " 2016-01-04                    0.0          41398.0  \n",
       " 2016-01-05                    0.0          56653.0  \n",
       " 2016-01-06                    0.0          54694.0  \n",
       " 2016-01-07                    0.0          89885.0  \n",
       " 2016-01-08                    0.0          86357.0  \n",
       " ...                           ...              ...  \n",
       " 2021-12-28                  104.0           7918.0  \n",
       " 2021-12-29                    0.0          11501.0  \n",
       " 2021-12-30                    0.0           5923.0  \n",
       " 2021-12-31                    0.0          13433.0  \n",
       " 2018-12-05                    0.0              0.0  \n",
       " \n",
       " [1512 rows x 18 columns]}"
      ]
     },
     "execution_count": 8,
     "metadata": {},
     "output_type": "execute_result"
    }
   ],
   "source": [
    "test_load_df = load_obj(path)\n",
    "test_load_df[0]"
   ]
  },
  {
   "cell_type": "code",
   "execution_count": 11,
   "id": "cc050d1c-1c58-4799-a403-cc82c0428d27",
   "metadata": {},
   "outputs": [
    {
     "name": "stdout",
     "output_type": "stream",
     "text": [
      "A\n"
     ]
    }
   ],
   "source": [
    "for key in test_load_df[0]:\n",
    "    print(key)"
   ]
  },
  {
   "cell_type": "code",
   "execution_count": null,
   "id": "bc129435-7f43-4259-b690-718747f7dc1a",
   "metadata": {},
   "outputs": [],
   "source": []
  }
 ],
 "metadata": {
  "kernelspec": {
   "display_name": "Python 3",
   "language": "python",
   "name": "python3"
  },
  "language_info": {
   "codemirror_mode": {
    "name": "ipython",
    "version": 3
   },
   "file_extension": ".py",
   "mimetype": "text/x-python",
   "name": "python",
   "nbconvert_exporter": "python",
   "pygments_lexer": "ipython3",
   "version": "3.7.10"
  }
 },
 "nbformat": 4,
 "nbformat_minor": 5
}
