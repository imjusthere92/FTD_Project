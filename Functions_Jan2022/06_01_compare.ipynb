{
 "cells": [
  {
   "cell_type": "code",
   "execution_count": 1,
   "id": "64d77f35-6761-4784-b6a7-9c56f8dc2d3f",
   "metadata": {},
   "outputs": [],
   "source": [
    "import pandas as pd\n",
    "\n",
    "from pathlib import Path\n",
    "\n",
    "from datetime import date\n",
    "import datetime\n",
    "from datetime import timedelta"
   ]
  },
  {
   "cell_type": "code",
   "execution_count": 2,
   "id": "2c3ed033-109f-4c7f-87ef-6cf3007f9dbd",
   "metadata": {},
   "outputs": [],
   "source": [
    "# # Initial imports\n",
    "from tensorflow.keras.models import Sequential\n",
    "from tensorflow.keras.layers import Dense\n",
    "from tensorflow.keras.models import model_from_json\n",
    "\n",
    "# import matplotlib.pyplot as plt\n",
    "\n",
    "# #from sklearn.model_selection import train_test_split\n",
    "from sklearn.preprocessing import StandardScaler\n",
    "\n",
    "# %matplotlib inline"
   ]
  },
  {
   "cell_type": "code",
   "execution_count": 3,
   "id": "091f176b-f805-4855-9cd0-2523d83c7ef6",
   "metadata": {},
   "outputs": [],
   "source": [
    "## Load pickle for exports and imports of data  \n",
    "import pickle \n",
    "def load_obj(path):\n",
    "    with open(path, 'rb') as f:\n",
    "        return pickle.load(f)\n",
    "    \n",
    "def save_obj(obj, path ):\n",
    "    with open(path, 'wb') as f:\n",
    "        pickle.dump(obj, f, pickle.HIGHEST_PROTOCOL)"
   ]
  },
  {
   "cell_type": "code",
   "execution_count": 4,
   "id": "5ba68546-1132-41aa-8f30-79c049217364",
   "metadata": {},
   "outputs": [],
   "source": [
    "## Create function to return dataframe based off symbol and if shift or no shift \n",
    "## Default to no shift \n",
    "def return_dataframe(symbol,shift=False):\n",
    "    if shift == False:\n",
    "        path = Path('../FilesExport_DFs_with_TI_pkl/'+symbol+'_data_dict_with_technicals.pkl')\n",
    "        data_import = load_obj(path)\n",
    "        df = data_import[symbol].copy()\n",
    "    elif shift == True:\n",
    "        path = Path('../FilesExport_DFs_with_TI_shifted/'+symbol+'_df_with_shifted_TI.pkl')\n",
    "        data_import = load_obj(path)\n",
    "        df = data_import[symbol].copy()\n",
    "        \n",
    "    return df "
   ]
  },
  {
   "cell_type": "code",
   "execution_count": 5,
   "id": "e2311317-42d1-4d94-a484-0f3ff94010bb",
   "metadata": {},
   "outputs": [
    {
     "data": {
      "text/plain": [
       "379"
      ]
     },
     "execution_count": 5,
     "metadata": {},
     "output_type": "execute_result"
    }
   ],
   "source": [
    "## Import symbol list \n",
    "path = Path('../Resources/short_list_for_ML.pkl')\n",
    "key_list = load_obj(path)\n",
    "len(key_list)"
   ]
  },
  {
   "cell_type": "code",
   "execution_count": 6,
   "id": "43c9d03a-5fed-4f70-866e-9a78d2c06921",
   "metadata": {},
   "outputs": [],
   "source": [
    "## Load non-shifted data \n",
    "def get_no_shift_model(symbol):\n",
    "    \n",
    "    df = return_dataframe(symbol,shift=False)\n",
    "\n",
    "    ## Set X and y data \n",
    "    X = df.drop(columns={'close','adjClose'}).values\n",
    "    y = df['close'].values\n",
    "\n",
    "    scaler = StandardScaler().fit(X)\n",
    "    X = scaler.transform(X)\n",
    "\n",
    "    # load json and create model\n",
    "    file_path = Path('../Model_Data_low_loss/'+symbol+'_model_data.json')\n",
    "    with open(file_path, \"r\") as json_file:\n",
    "        model_json = json_file.read()\n",
    "    loaded_model = model_from_json(model_json)\n",
    "\n",
    "    # load weights into new model\n",
    "    file_path = Path('../Model_Data_low_loss/'+symbol+'_model_weights.h5')\n",
    "    loaded_model.load_weights(file_path)\n",
    "\n",
    "    ## Compile loaded model and print mse score \n",
    "    loaded_model.compile(loss=\"mean_squared_error\", optimizer=\"adam\", metrics=[\"mse\"])\n",
    "    \n",
    "    return loaded_model, df , X , y"
   ]
  },
  {
   "cell_type": "code",
   "execution_count": 7,
   "id": "8ee8cb8d-2a5e-46e2-8437-ace9fe2ef3dc",
   "metadata": {},
   "outputs": [],
   "source": [
    "## Load shifted data \n",
    "def get_with_shift_model(symbol):\n",
    "    \n",
    "    df = return_dataframe(symbol,shift=True)\n",
    "\n",
    "    ## Set X and y data \n",
    "    X = df.drop(columns={'close'}).values\n",
    "    y = df['close'].values\n",
    "\n",
    "    scaler = StandardScaler().fit(X)\n",
    "    X = scaler.transform(X)\n",
    "\n",
    "    # load json and create model\n",
    "    file_path = Path('../Model_Data_shift_low_loss/'+symbol+'_model_data.json')\n",
    "    with open(file_path, \"r\") as json_file:\n",
    "        model_json = json_file.read()\n",
    "    loaded_model = model_from_json(model_json)\n",
    "\n",
    "    # load weights into new model\n",
    "    file_path = Path('../Model_Data_shift_low_loss/'+symbol+'_model_weights.h5')\n",
    "    loaded_model.load_weights(file_path)\n",
    "\n",
    "    ## Compile loaded model and print mse score \n",
    "    loaded_model.compile(loss=\"mean_squared_error\", optimizer=\"adam\", metrics=[\"mse\"])\n",
    "    \n",
    "    return loaded_model, df , X , y"
   ]
  },
  {
   "cell_type": "code",
   "execution_count": 8,
   "id": "1fbc3052-8c15-49b7-8e1b-dd33a8ff45ba",
   "metadata": {},
   "outputs": [],
   "source": [
    "model_dict_info = {} \n",
    "#dataframe_dict = {}\n",
    "\n",
    "## Compare shifted model against non-shifted model \n",
    "## Keep whichever model is more accurate and store info in a dict  \n",
    "def evaluate_models(symbol):\n",
    "    noshift_model, df , X , y = get_no_shift_model(symbol)\n",
    "    shift_model, df_shift , X_shift , y_shift = get_with_shift_model(symbol)\n",
    "    noshift_score_ = noshift_model.evaluate(X, y, verbose=0)\n",
    "    noshift_score = noshift_score_[0]\n",
    "    shift_score_ = shift_model.evaluate(X_shift, y_shift, verbose=0)\n",
    "    shift_score = shift_score_[0]\n",
    "    \n",
    "    if shift_score < noshift_score:\n",
    "        model_dict_info[symbol] = {\n",
    "            'model_type' : 'shift',\n",
    "            'acc' : shift_score\n",
    "        }\n",
    "        #dataframe_dict[symbol] = df_shift\n",
    "    else:\n",
    "        model_dict_info[symbol] = {\n",
    "            'model_type' : 'no_shift',\n",
    "            'acc' : noshift_score\n",
    "        }\n",
    "        #dataframe_dict[symbol] = df"
   ]
  },
  {
   "cell_type": "code",
   "execution_count": 9,
   "id": "a390d864-330c-414b-858c-5d06ab070189",
   "metadata": {},
   "outputs": [],
   "source": [
    "def fix_date(df):\n",
    "    df = df.reset_index()\n",
    "    df['Date'] = df['Date'] + timedelta(days=21)\n",
    "    df = df.set_index('Date')\n",
    "    \n",
    "    return df \n",
    "\n",
    "## Do predicitions \n",
    "def return_predictions_df(symbol):\n",
    "    model_type = model_info_df.loc[symbol].model_type\n",
    "    if model_type == 'shift':\n",
    "        loaded_model, df , X , Y = get_with_shift_model(symbol)\n",
    "    elif model_type == 'no_shift':\n",
    "        loaded_model, df , X , y = get_no_shift_model(symbol)\n",
    "      \n",
    "    df['predicted'] = loaded_model.predict(X)\n",
    "    df_pred = df[['close','predicted']]\n",
    "    if model_type == 'shift':\n",
    "        ## Fix Date labels for graph x-axis\n",
    "        df_pred = fix_date(df_pred)\n",
    "    return df_pred"
   ]
  },
  {
   "cell_type": "code",
   "execution_count": 10,
   "id": "702555f3-8bff-455e-97f5-03e4e4623fd8",
   "metadata": {},
   "outputs": [],
   "source": [
    "# ## For testing \n",
    "# length_ = 190\n",
    "# test_list = key_list[0:length_]\n",
    "# test_list[length_-1]"
   ]
  },
  {
   "cell_type": "code",
   "execution_count": 11,
   "id": "ae6bfb51-6501-4133-9baf-e5cb3ed07557",
   "metadata": {},
   "outputs": [
    {
     "name": "stdout",
     "output_type": "stream",
     "text": [
      "379\n",
      "\n",
      "\n"
     ]
    },
    {
     "data": {
      "text/html": [
       "<div>\n",
       "<style scoped>\n",
       "    .dataframe tbody tr th:only-of-type {\n",
       "        vertical-align: middle;\n",
       "    }\n",
       "\n",
       "    .dataframe tbody tr th {\n",
       "        vertical-align: top;\n",
       "    }\n",
       "\n",
       "    .dataframe thead th {\n",
       "        text-align: right;\n",
       "    }\n",
       "</style>\n",
       "<table border=\"1\" class=\"dataframe\">\n",
       "  <thead>\n",
       "    <tr style=\"text-align: right;\">\n",
       "      <th></th>\n",
       "      <th>model_type</th>\n",
       "      <th>acc</th>\n",
       "    </tr>\n",
       "  </thead>\n",
       "  <tbody>\n",
       "    <tr>\n",
       "      <th>SIRI</th>\n",
       "      <td>no_shift</td>\n",
       "      <td>3.990680e-05</td>\n",
       "    </tr>\n",
       "    <tr>\n",
       "      <th>GBR</th>\n",
       "      <td>no_shift</td>\n",
       "      <td>1.303723e-04</td>\n",
       "    </tr>\n",
       "    <tr>\n",
       "      <th>EUO</th>\n",
       "      <td>no_shift</td>\n",
       "      <td>2.867345e-04</td>\n",
       "    </tr>\n",
       "    <tr>\n",
       "      <th>NYMX</th>\n",
       "      <td>shift</td>\n",
       "      <td>8.786818e-04</td>\n",
       "    </tr>\n",
       "    <tr>\n",
       "      <th>TCCO</th>\n",
       "      <td>no_shift</td>\n",
       "      <td>1.013549e-03</td>\n",
       "    </tr>\n",
       "    <tr>\n",
       "      <th>...</th>\n",
       "      <td>...</td>\n",
       "      <td>...</td>\n",
       "    </tr>\n",
       "    <tr>\n",
       "      <th>VNE</th>\n",
       "      <td>shift</td>\n",
       "      <td>6.604219e+02</td>\n",
       "    </tr>\n",
       "    <tr>\n",
       "      <th>FBRX</th>\n",
       "      <td>shift</td>\n",
       "      <td>2.086767e+03</td>\n",
       "    </tr>\n",
       "    <tr>\n",
       "      <th>TMBR</th>\n",
       "      <td>no_shift</td>\n",
       "      <td>1.622322e+04</td>\n",
       "    </tr>\n",
       "    <tr>\n",
       "      <th>SPXZ</th>\n",
       "      <td>no_shift</td>\n",
       "      <td>1.018164e+05</td>\n",
       "    </tr>\n",
       "    <tr>\n",
       "      <th>AAA</th>\n",
       "      <td>shift</td>\n",
       "      <td>1.375291e+06</td>\n",
       "    </tr>\n",
       "  </tbody>\n",
       "</table>\n",
       "<p>379 rows × 2 columns</p>\n",
       "</div>"
      ],
      "text/plain": [
       "     model_type           acc\n",
       "SIRI   no_shift  3.990680e-05\n",
       "GBR    no_shift  1.303723e-04\n",
       "EUO    no_shift  2.867345e-04\n",
       "NYMX      shift  8.786818e-04\n",
       "TCCO   no_shift  1.013549e-03\n",
       "...         ...           ...\n",
       "VNE       shift  6.604219e+02\n",
       "FBRX      shift  2.086767e+03\n",
       "TMBR   no_shift  1.622322e+04\n",
       "SPXZ   no_shift  1.018164e+05\n",
       "AAA       shift  1.375291e+06\n",
       "\n",
       "[379 rows x 2 columns]"
      ]
     },
     "execution_count": 11,
     "metadata": {},
     "output_type": "execute_result"
    }
   ],
   "source": [
    "model_dict_info = {} \n",
    "for key in key_list:\n",
    "    evaluate_models(key)\n",
    "print(len(model_dict_info))\n",
    "print()\n",
    "print()\n",
    "model_info_df = pd.DataFrame.from_dict(model_dict_info, orient='index')\n",
    "model_info_df.sort_values('acc',inplace=True)  ## Most accurate models come first \n",
    "model_info_df"
   ]
  },
  {
   "cell_type": "code",
   "execution_count": 12,
   "id": "358f899e-512f-4cb6-9194-a6b584663f4e",
   "metadata": {},
   "outputs": [],
   "source": [
    "path = Path('../Resources/model_info_df.pkl')\n",
    "save_obj(model_info_df,path)"
   ]
  },
  {
   "cell_type": "code",
   "execution_count": 13,
   "id": "b0628c00-37a4-4ac5-9b58-f76b052903b2",
   "metadata": {},
   "outputs": [
    {
     "data": {
      "text/html": [
       "<div>\n",
       "<style scoped>\n",
       "    .dataframe tbody tr th:only-of-type {\n",
       "        vertical-align: middle;\n",
       "    }\n",
       "\n",
       "    .dataframe tbody tr th {\n",
       "        vertical-align: top;\n",
       "    }\n",
       "\n",
       "    .dataframe thead th {\n",
       "        text-align: right;\n",
       "    }\n",
       "</style>\n",
       "<table border=\"1\" class=\"dataframe\">\n",
       "  <thead>\n",
       "    <tr style=\"text-align: right;\">\n",
       "      <th></th>\n",
       "      <th>model_type</th>\n",
       "      <th>acc</th>\n",
       "    </tr>\n",
       "  </thead>\n",
       "  <tbody>\n",
       "    <tr>\n",
       "      <th>GLO</th>\n",
       "      <td>no_shift</td>\n",
       "      <td>0.033871</td>\n",
       "    </tr>\n",
       "    <tr>\n",
       "      <th>FTEK</th>\n",
       "      <td>shift</td>\n",
       "      <td>0.035042</td>\n",
       "    </tr>\n",
       "    <tr>\n",
       "      <th>BGFV</th>\n",
       "      <td>no_shift</td>\n",
       "      <td>0.036806</td>\n",
       "    </tr>\n",
       "    <tr>\n",
       "      <th>DYAI</th>\n",
       "      <td>no_shift</td>\n",
       "      <td>0.037673</td>\n",
       "    </tr>\n",
       "    <tr>\n",
       "      <th>XTNT</th>\n",
       "      <td>no_shift</td>\n",
       "      <td>0.041067</td>\n",
       "    </tr>\n",
       "    <tr>\n",
       "      <th>EWC</th>\n",
       "      <td>no_shift</td>\n",
       "      <td>0.041116</td>\n",
       "    </tr>\n",
       "    <tr>\n",
       "      <th>FINX</th>\n",
       "      <td>shift</td>\n",
       "      <td>0.043778</td>\n",
       "    </tr>\n",
       "    <tr>\n",
       "      <th>EUM</th>\n",
       "      <td>shift</td>\n",
       "      <td>0.045406</td>\n",
       "    </tr>\n",
       "    <tr>\n",
       "      <th>LXRX</th>\n",
       "      <td>no_shift</td>\n",
       "      <td>0.046221</td>\n",
       "    </tr>\n",
       "    <tr>\n",
       "      <th>HRZN</th>\n",
       "      <td>shift</td>\n",
       "      <td>0.047896</td>\n",
       "    </tr>\n",
       "  </tbody>\n",
       "</table>\n",
       "</div>"
      ],
      "text/plain": [
       "     model_type       acc\n",
       "GLO    no_shift  0.033871\n",
       "FTEK      shift  0.035042\n",
       "BGFV   no_shift  0.036806\n",
       "DYAI   no_shift  0.037673\n",
       "XTNT   no_shift  0.041067\n",
       "EWC    no_shift  0.041116\n",
       "FINX      shift  0.043778\n",
       "EUM       shift  0.045406\n",
       "LXRX   no_shift  0.046221\n",
       "HRZN      shift  0.047896"
      ]
     },
     "execution_count": 13,
     "metadata": {},
     "output_type": "execute_result"
    }
   ],
   "source": [
    "model_info_df.iloc[80:90]"
   ]
  },
  {
   "cell_type": "code",
   "execution_count": 14,
   "id": "ae54f538-5b45-46a7-8bf1-99d32422eb30",
   "metadata": {},
   "outputs": [
    {
     "name": "stdout",
     "output_type": "stream",
     "text": [
      "            acc\n",
      "model_type     \n",
      "no_shift    184\n",
      "shift       195\n"
     ]
    }
   ],
   "source": [
    "#model_info_df.model_type.sum\n",
    "print(model_info_df.groupby(['model_type']).count())"
   ]
  },
  {
   "cell_type": "code",
   "execution_count": 15,
   "id": "6f4ca765-490c-4fd9-a48a-a5f27af6b0f2",
   "metadata": {},
   "outputs": [
    {
     "data": {
      "text/html": [
       "<div>\n",
       "<style scoped>\n",
       "    .dataframe tbody tr th:only-of-type {\n",
       "        vertical-align: middle;\n",
       "    }\n",
       "\n",
       "    .dataframe tbody tr th {\n",
       "        vertical-align: top;\n",
       "    }\n",
       "\n",
       "    .dataframe thead th {\n",
       "        text-align: right;\n",
       "    }\n",
       "</style>\n",
       "<table border=\"1\" class=\"dataframe\">\n",
       "  <thead>\n",
       "    <tr style=\"text-align: right;\">\n",
       "      <th></th>\n",
       "      <th>model_type</th>\n",
       "      <th>acc</th>\n",
       "    </tr>\n",
       "  </thead>\n",
       "  <tbody>\n",
       "    <tr>\n",
       "      <th>SIRI</th>\n",
       "      <td>no_shift</td>\n",
       "      <td>0.000040</td>\n",
       "    </tr>\n",
       "    <tr>\n",
       "      <th>GBR</th>\n",
       "      <td>no_shift</td>\n",
       "      <td>0.000130</td>\n",
       "    </tr>\n",
       "    <tr>\n",
       "      <th>EUO</th>\n",
       "      <td>no_shift</td>\n",
       "      <td>0.000287</td>\n",
       "    </tr>\n",
       "    <tr>\n",
       "      <th>NYMX</th>\n",
       "      <td>shift</td>\n",
       "      <td>0.000879</td>\n",
       "    </tr>\n",
       "    <tr>\n",
       "      <th>TCCO</th>\n",
       "      <td>no_shift</td>\n",
       "      <td>0.001014</td>\n",
       "    </tr>\n",
       "    <tr>\n",
       "      <th>GALT</th>\n",
       "      <td>shift</td>\n",
       "      <td>0.001867</td>\n",
       "    </tr>\n",
       "    <tr>\n",
       "      <th>LPTH</th>\n",
       "      <td>shift</td>\n",
       "      <td>0.002069</td>\n",
       "    </tr>\n",
       "    <tr>\n",
       "      <th>LPTX</th>\n",
       "      <td>shift</td>\n",
       "      <td>0.002369</td>\n",
       "    </tr>\n",
       "    <tr>\n",
       "      <th>TEUM</th>\n",
       "      <td>no_shift</td>\n",
       "      <td>0.002396</td>\n",
       "    </tr>\n",
       "    <tr>\n",
       "      <th>VTVT</th>\n",
       "      <td>no_shift</td>\n",
       "      <td>0.002872</td>\n",
       "    </tr>\n",
       "  </tbody>\n",
       "</table>\n",
       "</div>"
      ],
      "text/plain": [
       "     model_type       acc\n",
       "SIRI   no_shift  0.000040\n",
       "GBR    no_shift  0.000130\n",
       "EUO    no_shift  0.000287\n",
       "NYMX      shift  0.000879\n",
       "TCCO   no_shift  0.001014\n",
       "GALT      shift  0.001867\n",
       "LPTH      shift  0.002069\n",
       "LPTX      shift  0.002369\n",
       "TEUM   no_shift  0.002396\n",
       "VTVT   no_shift  0.002872"
      ]
     },
     "execution_count": 15,
     "metadata": {},
     "output_type": "execute_result"
    }
   ],
   "source": [
    "model_info_df.head(10)"
   ]
  },
  {
   "cell_type": "code",
   "execution_count": 16,
   "id": "fbc717bf-a2ad-43f1-91da-2321552b5dc8",
   "metadata": {},
   "outputs": [
    {
     "data": {
      "text/html": [
       "<div>\n",
       "<style scoped>\n",
       "    .dataframe tbody tr th:only-of-type {\n",
       "        vertical-align: middle;\n",
       "    }\n",
       "\n",
       "    .dataframe tbody tr th {\n",
       "        vertical-align: top;\n",
       "    }\n",
       "\n",
       "    .dataframe thead th {\n",
       "        text-align: right;\n",
       "    }\n",
       "</style>\n",
       "<table border=\"1\" class=\"dataframe\">\n",
       "  <thead>\n",
       "    <tr style=\"text-align: right;\">\n",
       "      <th></th>\n",
       "      <th>model_type</th>\n",
       "      <th>acc</th>\n",
       "    </tr>\n",
       "  </thead>\n",
       "  <tbody>\n",
       "    <tr>\n",
       "      <th>CSIQ</th>\n",
       "      <td>shift</td>\n",
       "      <td>0.011877</td>\n",
       "    </tr>\n",
       "    <tr>\n",
       "      <th>NEPT</th>\n",
       "      <td>no_shift</td>\n",
       "      <td>0.012285</td>\n",
       "    </tr>\n",
       "    <tr>\n",
       "      <th>ORMP</th>\n",
       "      <td>no_shift</td>\n",
       "      <td>0.012285</td>\n",
       "    </tr>\n",
       "    <tr>\n",
       "      <th>CRF</th>\n",
       "      <td>shift</td>\n",
       "      <td>0.012613</td>\n",
       "    </tr>\n",
       "    <tr>\n",
       "      <th>EURN</th>\n",
       "      <td>no_shift</td>\n",
       "      <td>0.012800</td>\n",
       "    </tr>\n",
       "    <tr>\n",
       "      <th>ZIOP</th>\n",
       "      <td>shift</td>\n",
       "      <td>0.013203</td>\n",
       "    </tr>\n",
       "    <tr>\n",
       "      <th>DARE</th>\n",
       "      <td>shift</td>\n",
       "      <td>0.013526</td>\n",
       "    </tr>\n",
       "    <tr>\n",
       "      <th>HEWJ</th>\n",
       "      <td>shift</td>\n",
       "      <td>0.014088</td>\n",
       "    </tr>\n",
       "    <tr>\n",
       "      <th>HEZU</th>\n",
       "      <td>shift</td>\n",
       "      <td>0.014168</td>\n",
       "    </tr>\n",
       "    <tr>\n",
       "      <th>EUSC</th>\n",
       "      <td>no_shift</td>\n",
       "      <td>0.014682</td>\n",
       "    </tr>\n",
       "  </tbody>\n",
       "</table>\n",
       "</div>"
      ],
      "text/plain": [
       "     model_type       acc\n",
       "CSIQ      shift  0.011877\n",
       "NEPT   no_shift  0.012285\n",
       "ORMP   no_shift  0.012285\n",
       "CRF       shift  0.012613\n",
       "EURN   no_shift  0.012800\n",
       "ZIOP      shift  0.013203\n",
       "DARE      shift  0.013526\n",
       "HEWJ      shift  0.014088\n",
       "HEZU      shift  0.014168\n",
       "EUSC   no_shift  0.014682"
      ]
     },
     "execution_count": 16,
     "metadata": {},
     "output_type": "execute_result"
    }
   ],
   "source": [
    "model_info_df.iloc[30:40]"
   ]
  },
  {
   "cell_type": "code",
   "execution_count": 17,
   "id": "c1ee4839-ea34-410d-b5e0-4b252018fc04",
   "metadata": {},
   "outputs": [],
   "source": [
    "# ## Interesting Stocks - AEZS ,  \n",
    "# interesting_list = ['AEZS','CTIB','EURN']\n",
    "# test_df = predictions_df('EURN')\n",
    "# print(test_df)\n",
    "# print()\n",
    "# print()\n",
    "# ## Plot \n",
    "# ## Slice last 100 days \n",
    "# test_df2 = test_df.tail(30)\n",
    "# test_df2.plot()"
   ]
  },
  {
   "cell_type": "code",
   "execution_count": 18,
   "id": "877710cd-f059-46cf-bfe5-7e6dcc3e931a",
   "metadata": {},
   "outputs": [
    {
     "data": {
      "text/plain": [
       "model_type       shift\n",
       "acc           2.260811\n",
       "Name: GME, dtype: object"
      ]
     },
     "execution_count": 18,
     "metadata": {},
     "output_type": "execute_result"
    }
   ],
   "source": [
    "model_info_df.loc['GME']"
   ]
  },
  {
   "cell_type": "code",
   "execution_count": 19,
   "id": "e2abe236-fbf7-45b6-bf31-60aef6a584de",
   "metadata": {},
   "outputs": [
    {
     "data": {
      "text/plain": [
       "<AxesSubplot:xlabel='Date'>"
      ]
     },
     "execution_count": 19,
     "metadata": {},
     "output_type": "execute_result"
    },
    {
     "data": {
      "image/png": "[encoded data removed]",
      "text/plain": [
       "<Figure size 432x288 with 1 Axes>"
      ]
     },
     "metadata": {
      "needs_background": "light"
     },
     "output_type": "display_data"
    }
   ],
   "source": [
    "test_symbol = 'EUSC'\n",
    "test_df = return_predictions_df(test_symbol)\n",
    "test_df2 = test_df.tail(15)\n",
    "test_df2.plot()"
   ]
  },
  {
   "cell_type": "code",
   "execution_count": 20,
   "id": "17c17850-e656-4668-aea4-26f6c25299a6",
   "metadata": {},
   "outputs": [
    {
     "data": {
      "text/plain": [
       "<AxesSubplot:xlabel='Date'>"
      ]
     },
     "execution_count": 20,
     "metadata": {},
     "output_type": "execute_result"
    },
    {
     "data": {
      "image/png": "[encoded data removed]",
      "text/plain": [
       "<Figure size 432x288 with 1 Axes>"
      ]
     },
     "metadata": {
      "needs_background": "light"
     },
     "output_type": "display_data"
    }
   ],
   "source": [
    "test_symbol = 'GME'\n",
    "test_df = return_predictions_df(test_symbol)\n",
    "test_df2 = test_df.tail(15)\n",
    "graph_ = test_df2.plot()\n",
    "graph_"
   ]
  },
  {
   "cell_type": "code",
   "execution_count": 21,
   "id": "b8f8a730-1243-43f2-be8c-9442c18a5c0d",
   "metadata": {},
   "outputs": [],
   "source": [
    "## Make nice graphs "
   ]
  },
  {
   "cell_type": "code",
   "execution_count": null,
   "id": "daab5995-28bc-4fb9-8976-746ca88d700e",
   "metadata": {},
   "outputs": [],
   "source": []
  }
 ],
 "metadata": {
  "kernelspec": {
   "display_name": "Python 3",
   "language": "python",
   "name": "python3"
  },
  "language_info": {
   "codemirror_mode": {
    "name": "ipython",
    "version": 3
   },
   "file_extension": ".py",
   "mimetype": "text/x-python",
   "name": "python",
   "nbconvert_exporter": "python",
   "pygments_lexer": "ipython3",
   "version": "3.7.10"
  }
 },
 "nbformat": 4,
 "nbformat_minor": 5
}
