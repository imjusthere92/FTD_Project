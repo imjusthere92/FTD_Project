{
 "cells": [
  {
   "cell_type": "code",
   "execution_count": 17,
   "id": "9639d0c7-d26c-4d79-9365-b081cb1ac5f4",
   "metadata": {},
   "outputs": [
    {
     "data": {
      "text/plain": [
       "True"
      ]
     },
     "execution_count": 17,
     "metadata": {},
     "output_type": "execute_result"
    }
   ],
   "source": [
    "import pandas as pd\n",
    "\n",
    "from pathlib import Path\n",
    "#import csv\n",
    "\n",
    "import os\n",
    "import requests\n",
    "import json\n",
    "\n",
    "from dotenv import load_dotenv\n",
    "load_dotenv()"
   ]
  },
  {
   "cell_type": "code",
   "execution_count": 2,
   "id": "0d30636a-fc20-42ce-a961-abc1a27ef87a",
   "metadata": {},
   "outputs": [
    {
     "data": {
      "text/plain": [
       "<Response [200]>"
      ]
     },
     "execution_count": 2,
     "metadata": {},
     "output_type": "execute_result"
    }
   ],
   "source": [
    "## IEX Constants\n",
    "iex_api_key = os.getenv(\"IEX_API_KEY\")\n",
    "iex_test_api_key = os.getenv(\"IEX_TEST_API_KEY\")\n",
    "\n",
    "## Redundant Assignment but improves Readability throughout code \n",
    "real_token = iex_api_key\n",
    "test_token = iex_test_api_key\n",
    "\n",
    "base_url_iex = 'https://cloud.iexapis.com/stable/'\n",
    "sandbox_url = 'https://sandbox.iexapis.com/stable/'\n",
    "\n",
    "## IEX Status Test \n",
    "test_resp = requests.get(base_url_iex + 'status')\n",
    "test_resp"
   ]
  },
  {
   "cell_type": "code",
   "execution_count": 3,
   "id": "1213f88b-5a73-4469-aec8-62f77adde90c",
   "metadata": {},
   "outputs": [],
   "source": [
    "token_status = test_token ## Set to either real token or test token for IEX"
   ]
  },
  {
   "cell_type": "code",
   "execution_count": 7,
   "id": "d1a78860-943e-451e-b31a-e6670b2d19d2",
   "metadata": {},
   "outputs": [],
   "source": [
    "## Use pickle module to import and export and save files\n",
    "import pickle\n",
    "def load_obj(path):\n",
    "    with open(path, 'rb') as f:\n",
    "        return pickle.load(f)\n",
    "def save_obj(obj, path ):\n",
    "    with open(path, 'wb') as f:\n",
    "        pickle.dump(obj, f, pickle.HIGHEST_PROTOCOL)"
   ]
  },
  {
   "cell_type": "code",
   "execution_count": 4,
   "id": "c6fd526f-54d4-42f7-9f0b-33523bcec651",
   "metadata": {},
   "outputs": [],
   "source": [
    "## Load IEX to get ETF statistics \n",
    "def get_IEX_statistics(stock_ticker, token=token_status):\n",
    "    if token == test_token:\n",
    "        resp_data = requests.get(sandbox_url+'stock/'+stock_ticker+'/stats/?token='+test_token)\n",
    "        data_json = resp_data.json()\n",
    "    elif token == real_token:\n",
    "        resp_data = requests.get(base_url_iex+'stock/'+stock_ticker+'/stats/?token='+real_token)\n",
    "        data_json = resp_data.json()\n",
    "        \n",
    "    return data_json"
   ]
  },
  {
   "cell_type": "code",
   "execution_count": 5,
   "id": "bd5b5579-916c-49e3-acaf-fd97d95f5377",
   "metadata": {},
   "outputs": [],
   "source": [
    "## FMP Constants \n",
    "fmpbase_urlv3 = 'https://fmpcloud.io/api/v3/'\n",
    "fmpbase_urlv4 = 'https://fmpcloud.io/api/v4/'\n",
    "api_key = os.getenv(\"FMP_CLOUD_API_KEY\")"
   ]
  },
  {
   "cell_type": "code",
   "execution_count": 30,
   "id": "bd980a77-fe21-4c99-905a-4849988f27ef",
   "metadata": {},
   "outputs": [],
   "source": [
    "def get_float_data_FMP(symbol):\n",
    "    url_float_shares = fmpbase_urlv4+'shares_float?symbol='\n",
    "    url_query_float_data = url_float_shares+symbol+'&apikey='+api_key\n",
    "    resp_data = requests.get(url_query_float_data)\n",
    "    #df = pd.DataFrame(resp_data.json())\n",
    "    json_ = resp_data.json()\n",
    "    return json_[0]\n",
    "\n",
    "def get_company_profile_FMP_json(symbol):\n",
    "    ## https://fmpcloud.io/api/v3/profile/AAPL?apikey='yourkeyhere'\n",
    "    url_company_profile_url = fmpbase_urlv3+'profile/'+symbol+'?apikey='+api_key\n",
    "    resp_data = requests.get(url_company_profile_url)\n",
    "    json_response = resp_data.json()\n",
    "    return json_response[0]"
   ]
  },
  {
   "cell_type": "code",
   "execution_count": 31,
   "id": "b4898dcc-8cf4-41e5-a8f2-f03fea46b92a",
   "metadata": {},
   "outputs": [
    {
     "data": {
      "text/plain": [
       "557"
      ]
     },
     "execution_count": 31,
     "metadata": {},
     "output_type": "execute_result"
    }
   ],
   "source": [
    "symbol_success_list = load_obj('../Resources/02_symbol_success_list.pkl')\n",
    "len(symbol_success_list)"
   ]
  },
  {
   "cell_type": "code",
   "execution_count": 32,
   "id": "cc0b7103-b8ba-47e5-a932-7ff3f122afac",
   "metadata": {},
   "outputs": [],
   "source": [
    "# test_symbol = symbol_success_list[0]\n",
    "# test_symbol"
   ]
  },
  {
   "cell_type": "code",
   "execution_count": 33,
   "id": "a12b0090-189f-4682-9b92-6102d7ec90a4",
   "metadata": {},
   "outputs": [],
   "source": [
    "# path = '../FilesExport_TimeSeries_DFs/'+test_symbol+'_combined_df.pkl'\n",
    "# test_load_df = load_obj(path)\n",
    "# df = test_load_df[0][test_symbol]\n",
    "# df.sort_index()"
   ]
  },
  {
   "cell_type": "code",
   "execution_count": 34,
   "id": "36334be8-caf6-4515-90eb-aba529b8a8d3",
   "metadata": {},
   "outputs": [],
   "source": [
    "# ## If you need key directly from imported pkl obj\n",
    "# for key in test_load_df[0]:\n",
    "#     print(key)"
   ]
  },
  {
   "cell_type": "code",
   "execution_count": 35,
   "id": "5b35b05b-6833-4457-a909-b4c3b86ea4af",
   "metadata": {},
   "outputs": [],
   "source": [
    "## Create while loop that accesses APIs\n",
    "## The point of creating the while loop is to be able to pick up where you left off, \n",
    "## in case the for loop fails, for example if the computer loses connection to the APIs, \n",
    "## the code will fail. Can then load and view the exported list, and pick up where the \n",
    "## for loop left off by editing the x and y starting values \n",
    "x = 0    \n",
    "y = 50\n",
    "increment = 50  ## Make sure increment is right\n",
    "\n",
    "## Initialize lists for successful calls\n",
    "datadict_success_list = []    ## Contains symbols, used to track successful api calls. \n",
    "                              ## Updates after each run of for loop.  \n",
    "\n",
    "test_list = symbol_success_list[0:100]\n",
    "    \n",
    "length_ = len(symbol_success_list)\n",
    "test_length = len(test_list)\n",
    "\n",
    "iex_token = test_token     ## Token status for IEX \n",
    "loop_length = test_length  ## Set to length_ to run as full, or your test_length"
   ]
  },
  {
   "cell_type": "code",
   "execution_count": 21,
   "id": "4ad71253-921f-4613-b63b-6badcb14bda3",
   "metadata": {},
   "outputs": [],
   "source": [
    "while x < loop_length:\n",
    "    \n",
    "    ## Set y value for end of while loop\n",
    "    if y >= length_: y = length_\n",
    "    ## In theory this should stop the for loop from crashing \n",
    "    ## at the end and running out of index range \n",
    "\n",
    "    range_var = range(x,y)\n",
    "    temp_symbol_list = []\n",
    "\n",
    "    for i in range_var:\n",
    "        symbol = symbol_success_list[i]\n",
    "        \n",
    "        ## Create temp lists \n",
    "        temp_symbol_list.append(symbol)\n",
    "        \n",
    "        \n",
    "        err_symbol = symbol    ## For error tracking \n",
    "\n",
    "        path = '../FilesExport_TimeSeries_DFs/'+symbol+'_combined_df.pkl'\n",
    "        import_obj = load_obj(path)\n",
    "        time_series_df = import_obj[0][symbol].sort_index()\n",
    "\n",
    "        ## IEX \n",
    "        try:\n",
    "            iex_stats = get_IEX_statistics(stock_ticker=symbol,token=iex_token)        \n",
    "            sharesOutstanding = iex_stats['sharesOutstanding']\n",
    "            peRatio = iex_stats['peRatio']\n",
    "            beta = iex_stats['beta']\n",
    "            week52high = iex_stats['week52high']\n",
    "            week52low = iex_stats['week52low']\n",
    "            week52change = iex_stats['week52change']\n",
    "            avg10Volume = iex_stats['avg10Volume']\n",
    "            avg30Volume = iex_stats['avg30Volume']\n",
    "            marketcap_IEX = iex_stats['marketcap']\n",
    "        except:\n",
    "            iex_stats = 0\n",
    "            sharesOutstanding = 0\n",
    "            peRatio = 0\n",
    "            beta = 0\n",
    "            week52high = 0\n",
    "            week52low = 0\n",
    "            week52change = 0\n",
    "            avg10Volume = 0\n",
    "            avg30Volume = 0\n",
    "            marketcap_IEX = 0\n",
    "\n",
    "        ## FMP \n",
    "        try:\n",
    "            fmp_profile = get_company_profile_FMP_json(symbol)\n",
    "            exchange = fmp_profile['exchangeShortName']\n",
    "            marketcap_FMP = fmp_profile['mktCap']\n",
    "        except:\n",
    "            fmp_profile = 0\n",
    "            exchange = 0\n",
    "            marketcap_FMP = 0\n",
    "        try:\n",
    "            float_data = get_float_data_FMP(symbol)\n",
    "            floatShares = float_data['floatShares']\n",
    "        except:\n",
    "            float_data = 0\n",
    "            floatShares = 0\n",
    "            \n",
    "        ## Create data_dict:\n",
    "        data = {symbol : {\n",
    "        'Fundamentals':                    \t\t\t    ## Fundamental Data about the stock \n",
    "        {\n",
    "            'sharesOutstanding': sharesOutstanding,\t\t## Sourced from IEX for ETFs, FMP for Equity\n",
    "            'floatShares': floatShares,\t\t\t        ## Can't source for ETFs at the moment - can get from FMP for Equity \n",
    "            'exchange': exchange,                       ## Sourced from FMP \n",
    "            'final_close_price': time_series_df.iloc[-1]['close'],\t\t## Sourced from time_series_df, last close price \n",
    "            'peRatio': peRatio,\t\t\t                ## Sourced from iex_statistics, =0 for ETFs\n",
    "            'beta': beta,\t\t\t                    ## Sourced from iex_statistics for Equity, =0 for ETFs\n",
    "            'week52high': week52high,\t\t\t\t\t## Sourced from iex_statistics\n",
    "            'week52low': week52low,\t\t\t\t\t    ## Sourced from iex_statistics\n",
    "            'week52change': week52change,               ## Sourced from iex_statistics\n",
    "            'avg10Volume': avg10Volume,\t\t\t\t    ## Sourced from iex_statistics\n",
    "            'avg30Volume': avg30Volume,\t\t\t\t    ## Sourced from iex_statistics\n",
    "            'marketcap_IEX': marketcap_IEX,\t\t        ## Sourced from iex_statistics\n",
    "            'marketcap_FMP': marketcap_FMP\t\t\t    ## Sourced from FMP\t\n",
    "        },\n",
    "        'dataFrame':time_series_df,\t\t\t\t\t\t\t## FMP historical merged with Nasdaq Short Data and SEC FTD Data\n",
    "        'companyProfile':fmp_profile,         \t## Sourced from FMP, otherwise =0\n",
    "        'floatData':float_data,   \t\t\t\t\t## Sourced from FMP, otherwise =0\n",
    "        #'textNews':['article1','article2','article3'],    \t## Not sourced\n",
    "        #'returns':'returns_data',    \t\t\t\t\t\t## Not calculated\n",
    "        'iex_statistics': iex_stats     \t## Added to completed data_dicts, both ETFs and Equity\n",
    "        }}\n",
    "\n",
    "        export_path = Path('../FilesExport_DataDicts/'+symbol+'data_dict.pkl')\n",
    "        save_obj(data,export_path)\n",
    "        \n",
    "        ## End for loop \n",
    "        \n",
    "    ## If for loop successful, extend temp_symbol lits to main datadict_success_list \n",
    "    datadict_success_list.extend(temp_symbol_list)\n",
    "    \n",
    "    ## Export main list each time, and rewrite during each iteration of while loop \n",
    "    ## Can read in list afterwards, to figure out where loop went wrong, and where to restart \n",
    "    save_obj(datadict_success_list,'../Resources/03_datadict_success_list.pkl')\n",
    "    \n",
    "    ## Check before run, if incorrect, can waste a lot of API credits  \n",
    "    x += increment\n",
    "    y += increment"
   ]
  },
  {
   "cell_type": "code",
   "execution_count": null,
   "id": "197e9f14-994c-420e-b459-8b1fdddc3bac",
   "metadata": {},
   "outputs": [],
   "source": []
  }
 ],
 "metadata": {
  "kernelspec": {
   "display_name": "Python 3",
   "language": "python",
   "name": "python3"
  },
  "language_info": {
   "codemirror_mode": {
    "name": "ipython",
    "version": 3
   },
   "file_extension": ".py",
   "mimetype": "text/x-python",
   "name": "python",
   "nbconvert_exporter": "python",
   "pygments_lexer": "ipython3",
   "version": "3.7.10"
  }
 },
 "nbformat": 4,
 "nbformat_minor": 5
}
