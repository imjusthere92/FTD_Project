{
 "cells": [
  {
   "cell_type": "code",
   "execution_count": 1,
   "id": "c4642c0d-7578-4604-9b78-fceb746a4d5e",
   "metadata": {},
   "outputs": [],
   "source": [
    "## Load finished model data and compare results "
   ]
  },
  {
   "cell_type": "code",
   "execution_count": 1,
   "id": "2605dc8b-35ca-44b1-959b-874f67319de4",
   "metadata": {},
   "outputs": [],
   "source": [
    "import pandas as pd\n",
    "import numpy as np\n",
    "# import requests\n",
    "import json\n",
    "# import hvplot.pandas\n",
    "# from dotenv import load_dotenv\n",
    "from datetime import date\n",
    "import os\n",
    "from scipy import stats\n",
    "from numpy.lib.stride_tricks import as_strided\n",
    "from numpy.lib import pad\n",
    "#import pad\n",
    "# import matplotlib.pyplot as plt\n",
    "# %matplotlib inline\n",
    "\n",
    "from pathlib import Path"
   ]
  },
  {
   "cell_type": "code",
   "execution_count": 2,
   "id": "c25affe3-0c7d-4e68-9ac2-58e69ca979fa",
   "metadata": {},
   "outputs": [],
   "source": []
  },
  {
   "cell_type": "code",
   "execution_count": null,
   "id": "23d90096-363a-4159-95d7-41b63947e7d7",
   "metadata": {},
   "outputs": [],
   "source": []
  },
  {
   "cell_type": "code",
   "execution_count": null,
   "id": "9099fe3e-d3ab-49bd-b7dc-c37d1154d6b2",
   "metadata": {},
   "outputs": [],
   "source": []
  }
 ],
 "metadata": {
  "kernelspec": {
   "display_name": "Python 3 (ipykernel)",
   "language": "python",
   "name": "python3"
  },
  "language_info": {
   "codemirror_mode": {
    "name": "ipython",
    "version": 3
   },
   "file_extension": ".py",
   "mimetype": "text/x-python",
   "name": "python",
   "nbconvert_exporter": "python",
   "pygments_lexer": "ipython3",
   "version": "3.7.11"
  }
 },
 "nbformat": 4,
 "nbformat_minor": 5
}
