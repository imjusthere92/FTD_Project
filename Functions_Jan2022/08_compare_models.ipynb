{
 "cells": [
  {
   "cell_type": "code",
   "execution_count": 1,
   "id": "c4642c0d-7578-4604-9b78-fceb746a4d5e",
   "metadata": {},
   "outputs": [],
   "source": [
    "## Load finished model data and compare results "
   ]
  },
  {
   "cell_type": "code",
   "execution_count": null,
   "id": "2605dc8b-35ca-44b1-959b-874f67319de4",
   "metadata": {},
   "outputs": [],
   "source": []
  }
 ],
 "metadata": {
  "kernelspec": {
   "display_name": "Python 3",
   "language": "python",
   "name": "python3"
  },
  "language_info": {
   "codemirror_mode": {
    "name": "ipython",
    "version": 3
   },
   "file_extension": ".py",
   "mimetype": "text/x-python",
   "name": "python",
   "nbconvert_exporter": "python",
   "pygments_lexer": "ipython3",
   "version": "3.7.10"
  }
 },
 "nbformat": 4,
 "nbformat_minor": 5
}
