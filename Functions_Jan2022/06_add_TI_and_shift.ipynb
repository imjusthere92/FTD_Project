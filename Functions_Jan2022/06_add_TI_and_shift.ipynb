{
 "cells": [
  {
   "cell_type": "code",
   "execution_count": 1,
   "id": "db371bb2-546a-4939-b671-3cf9841aae60",
   "metadata": {},
   "outputs": [],
   "source": [
    "## Rewrite to add TI indicators to symbols from machine_learning_dict"
   ]
  },
  {
   "cell_type": "code",
   "execution_count": null,
   "id": "68bc5275-9187-460b-b85e-d6faadfe5d8f",
   "metadata": {},
   "outputs": [],
   "source": []
  }
 ],
 "metadata": {
  "kernelspec": {
   "display_name": "Python 3",
   "language": "python",
   "name": "python3"
  },
  "language_info": {
   "codemirror_mode": {
    "name": "ipython",
    "version": 3
   },
   "file_extension": ".py",
   "mimetype": "text/x-python",
   "name": "python",
   "nbconvert_exporter": "python",
   "pygments_lexer": "ipython3",
   "version": "3.7.10"
  }
 },
 "nbformat": 4,
 "nbformat_minor": 5
}
