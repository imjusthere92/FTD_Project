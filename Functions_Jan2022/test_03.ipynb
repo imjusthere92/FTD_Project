{
 "cells": [
  {
   "cell_type": "code",
   "execution_count": 1,
   "id": "9639d0c7-d26c-4d79-9365-b081cb1ac5f4",
   "metadata": {},
   "outputs": [
    {
     "data": {
      "text/plain": [
       "True"
      ]
     },
     "execution_count": 1,
     "metadata": {},
     "output_type": "execute_result"
    }
   ],
   "source": [
    "import pandas as pd\n",
    "\n",
    "from pathlib import Path\n",
    "#import csv\n",
    "\n",
    "import os\n",
    "import requests\n",
    "import json\n",
    "\n",
    "from dotenv import load_dotenv\n",
    "load_dotenv()"
   ]
  },
  {
   "cell_type": "code",
   "execution_count": 2,
   "id": "0d30636a-fc20-42ce-a961-abc1a27ef87a",
   "metadata": {},
   "outputs": [
    {
     "data": {
      "text/plain": [
       "<Response [200]>"
      ]
     },
     "execution_count": 2,
     "metadata": {},
     "output_type": "execute_result"
    }
   ],
   "source": [
    "## IEX Constants\n",
    "iex_api_key = os.getenv(\"IEX_API_KEY\")\n",
    "iex_test_api_key = os.getenv(\"IEX_TEST_API_KEY\")\n",
    "\n",
    "## Redundant Assignment but improves Readability throughout code \n",
    "real_token = iex_api_key\n",
    "test_token = iex_test_api_key\n",
    "\n",
    "base_url_iex = 'https://cloud.iexapis.com/stable/'\n",
    "sandbox_url = 'https://sandbox.iexapis.com/stable/'\n",
    "\n",
    "## IEX Status Test \n",
    "test_resp = requests.get(base_url_iex + 'status')\n",
    "test_resp"
   ]
  },
  {
   "cell_type": "code",
   "execution_count": 3,
   "id": "1213f88b-5a73-4469-aec8-62f77adde90c",
   "metadata": {},
   "outputs": [],
   "source": [
    "token_status = test_token ## Set to either real token or test token for IEX"
   ]
  },
  {
   "cell_type": "code",
   "execution_count": 4,
   "id": "d1a78860-943e-451e-b31a-e6670b2d19d2",
   "metadata": {},
   "outputs": [],
   "source": [
    "## Use pickle module to import and export and save files\n",
    "import pickle\n",
    "def load_obj(path):\n",
    "    with open(path, 'rb') as f:\n",
    "        return pickle.load(f)\n",
    "def save_obj(obj, path ):\n",
    "    with open(path, 'wb') as f:\n",
    "        pickle.dump(obj, f, pickle.HIGHEST_PROTOCOL)"
   ]
  },
  {
   "cell_type": "code",
   "execution_count": 5,
   "id": "c6fd526f-54d4-42f7-9f0b-33523bcec651",
   "metadata": {},
   "outputs": [],
   "source": [
    "## Load IEX to get ETF statistics \n",
    "def get_IEX_statistics(stock_ticker, token=token_status):\n",
    "    if token == test_token:\n",
    "        resp_data = requests.get(sandbox_url+'stock/'+stock_ticker+'/stats/?token='+test_token)\n",
    "        data_json = resp_data.json()\n",
    "    elif token == real_token:\n",
    "        resp_data = requests.get(base_url_iex+'stock/'+stock_ticker+'/stats/?token='+real_token)\n",
    "        data_json = resp_data.json()\n",
    "        \n",
    "    return data_json"
   ]
  },
  {
   "cell_type": "code",
   "execution_count": 6,
   "id": "bd5b5579-916c-49e3-acaf-fd97d95f5377",
   "metadata": {},
   "outputs": [],
   "source": [
    "## FMP Constants \n",
    "fmpbase_urlv3 = 'https://fmpcloud.io/api/v3/'\n",
    "fmpbase_urlv4 = 'https://fmpcloud.io/api/v4/'\n",
    "api_key = os.getenv(\"FMP_CLOUD_API_KEY\")"
   ]
  },
  {
   "cell_type": "code",
   "execution_count": 7,
   "id": "bd980a77-fe21-4c99-905a-4849988f27ef",
   "metadata": {},
   "outputs": [],
   "source": [
    "def get_float_data_FMP(symbol):\n",
    "    url_float_shares = fmpbase_urlv4+'shares_float?symbol='\n",
    "    url_query_float_data = url_float_shares+symbol+'&apikey='+api_key\n",
    "    resp_data = requests.get(url_query_float_data)\n",
    "    #df = pd.DataFrame(resp_data.json())\n",
    "    json_ = resp_data.json()\n",
    "    return json_[0]\n",
    "\n",
    "def get_company_profile_FMP_json(symbol):\n",
    "    ## https://fmpcloud.io/api/v3/profile/AAPL?apikey='yourkeyhere'\n",
    "    url_company_profile_url = fmpbase_urlv3+'profile/'+symbol+'?apikey='+api_key\n",
    "    resp_data = requests.get(url_company_profile_url)\n",
    "    json_response = resp_data.json()\n",
    "    return json_response[0]"
   ]
  },
  {
   "cell_type": "code",
   "execution_count": 8,
   "id": "b4898dcc-8cf4-41e5-a8f2-f03fea46b92a",
   "metadata": {},
   "outputs": [
    {
     "data": {
      "text/plain": [
       "6620"
      ]
     },
     "execution_count": 8,
     "metadata": {},
     "output_type": "execute_result"
    }
   ],
   "source": [
    "symbol_success_list = load_obj('../Resources/02_symbol_success_list.pkl')\n",
    "len(symbol_success_list)"
   ]
  },
  {
   "cell_type": "code",
   "execution_count": 9,
   "id": "3c526ece-c411-403a-8591-ea2f805c88ce",
   "metadata": {},
   "outputs": [
    {
     "name": "stdout",
     "output_type": "stream",
     "text": [
      "True\n"
     ]
    }
   ],
   "source": [
    "## Check if duplicates \n",
    "symbol_success_list_set = set(symbol_success_list) \n",
    "contains_duplicates = len(symbol_success_list) != len(symbol_success_list_set)\n",
    "print(contains_duplicates)"
   ]
  },
  {
   "cell_type": "code",
   "execution_count": 10,
   "id": "f37f4058-5429-4b61-83b4-acbba61910ae",
   "metadata": {},
   "outputs": [
    {
     "name": "stdout",
     "output_type": "stream",
     "text": [
      "5493\n"
     ]
    }
   ],
   "source": [
    "if contains_duplicates == True:\n",
    "    symbol_success_list = list( dict.fromkeys(symbol_success_list) )\n",
    "    print(len(symbol_success_list))"
   ]
  },
  {
   "cell_type": "code",
   "execution_count": 11,
   "id": "cc0b7103-b8ba-47e5-a932-7ff3f122afac",
   "metadata": {},
   "outputs": [],
   "source": [
    "# test_symbol = symbol_success_list[0]\n",
    "# test_symbol"
   ]
  },
  {
   "cell_type": "code",
   "execution_count": 12,
   "id": "a12b0090-189f-4682-9b92-6102d7ec90a4",
   "metadata": {},
   "outputs": [],
   "source": [
    "# path = '../FilesExport_TimeSeries_DFs/'+test_symbol+'_combined_df.pkl'\n",
    "# test_load_df = load_obj(path)\n",
    "# df = test_load_df[0][test_symbol]\n",
    "# df.sort_index()"
   ]
  },
  {
   "cell_type": "code",
   "execution_count": 14,
   "id": "36334be8-caf6-4515-90eb-aba529b8a8d3",
   "metadata": {},
   "outputs": [],
   "source": [
    "# ## If you need key directly from imported pkl obj\n",
    "# for key in test_load_df[0]:\n",
    "#     print(key)"
   ]
  },
  {
   "cell_type": "code",
   "execution_count": 15,
   "id": "5b35b05b-6833-4457-a909-b4c3b86ea4af",
   "metadata": {},
   "outputs": [],
   "source": [
    "## Create while loop that accesses APIs\n",
    "## The point of creating the while loop is to be able to pick up where you left off, \n",
    "## in case the for loop fails, for example if the computer loses connection to the APIs, \n",
    "## the code will fail. Can then load and view the exported list, and pick up where the \n",
    "## for loop left off by editing the x and y starting values \n",
    "\n",
    "\n",
    "## Initialize lists for successful calls\n",
    "datadict_success_list = []    ## Contains symbols, used to track successful api calls. \n",
    "                              ## Updates after each run of for loop.  \n",
    "\n",
    "test_list = symbol_success_list[0:100]\n",
    "    \n",
    "length_ = len(symbol_success_list)\n",
    "test_length = len(test_list)"
   ]
  },
  {
   "cell_type": "code",
   "execution_count": 17,
   "id": "b5bb979f-37fc-4aee-b4a0-ebc61775f490",
   "metadata": {},
   "outputs": [],
   "source": [
    "iex_token = test_token     ## Token status for IEX - use real_token or test_token variables \n",
    "loop_length = test_length  ## Set to length_ to run as full, or your test_length\n",
    "\n",
    "x = 0    \n",
    "y = 50\n",
    "increment = 50  ## Make sure increment is right"
   ]
  },
  {
   "cell_type": "code",
   "execution_count": 18,
   "id": "4ad71253-921f-4613-b63b-6badcb14bda3",
   "metadata": {},
   "outputs": [],
   "source": [
    "while x < loop_length:\n",
    "    \n",
    "    ## Set y value for end of while loop\n",
    "    if y >= loop_length: y = loop_length\n",
    "    ## In theory this should stop the for loop from crashing \n",
    "    ## at the end and running out of index range \n",
    "\n",
    "    range_var = range(x,y)\n",
    "    ## Create/Clear temp list \n",
    "    temp_symbol_list = []\n",
    "\n",
    "    for i in range_var:\n",
    "        symbol = symbol_success_list[i]\n",
    "        \n",
    "        ## Add to temp list \n",
    "        temp_symbol_list.append(symbol)\n",
    "        \n",
    "        \n",
    "        err_symbol = symbol    ## Helps for error tracking if loop fails\n",
    "\n",
    "        path = '../FilesExport_TimeSeries_DFs/'+symbol+'_combined_df.pkl'\n",
    "        import_obj = load_obj(path)\n",
    "        time_series_df = import_obj[0][symbol].sort_index()\n",
    "\n",
    "        ## IEX \n",
    "        try:\n",
    "            iex_stats = get_IEX_statistics(stock_ticker=symbol,token=iex_token)        \n",
    "            sharesOutstanding = iex_stats['sharesOutstanding']\n",
    "            peRatio = iex_stats['peRatio']\n",
    "            beta = iex_stats['beta']\n",
    "            week52high = iex_stats['week52high']\n",
    "            week52low = iex_stats['week52low']\n",
    "            week52change = iex_stats['week52change']\n",
    "            avg10Volume = iex_stats['avg10Volume']\n",
    "            avg30Volume = iex_stats['avg30Volume']\n",
    "            marketcap_IEX = iex_stats['marketcap']\n",
    "        except:\n",
    "            iex_stats = 0\n",
    "            sharesOutstanding = 0\n",
    "            peRatio = 0\n",
    "            beta = 0\n",
    "            week52high = 0\n",
    "            week52low = 0\n",
    "            week52change = 0\n",
    "            avg10Volume = 0\n",
    "            avg30Volume = 0\n",
    "            marketcap_IEX = 0\n",
    "\n",
    "        ## FMP \n",
    "        try:\n",
    "            fmp_profile = get_company_profile_FMP_json(symbol)\n",
    "            exchange = fmp_profile['exchangeShortName']\n",
    "            marketcap_FMP = fmp_profile['mktCap']\n",
    "        except:\n",
    "            fmp_profile = 0\n",
    "            exchange = 0\n",
    "            marketcap_FMP = 0\n",
    "        try:\n",
    "            float_data = get_float_data_FMP(symbol)\n",
    "            floatShares = float_data['floatShares']\n",
    "        except:\n",
    "            float_data = 0\n",
    "            floatShares = 0\n",
    "            \n",
    "        ## Create data_dict:\n",
    "        data = {symbol : {\n",
    "        'Fundamentals':                    \t\t\t    ## Fundamental Data about the stock \n",
    "        {\n",
    "            'sharesOutstanding': sharesOutstanding,\t\t## Sourced from IEX for ETFs, FMP for Equity\n",
    "            'floatShares': floatShares,\t\t\t        ## Can't source for ETFs at the moment - can get from FMP for Equity \n",
    "            'exchange': exchange,                       ## Sourced from FMP \n",
    "            'final_close_price': time_series_df.iloc[-1]['close'],\t\t## Sourced from time_series_df, use last close price \n",
    "            'peRatio': peRatio,\t\t\t                ## Sourced from iex_statistics, =0 for ETFs\n",
    "            'beta': beta,\t\t\t                    ## Sourced from iex_statistics for Equity, =0 for ETFs\n",
    "            'week52high': week52high,\t\t\t\t\t## Sourced from iex_statistics\n",
    "            'week52low': week52low,\t\t\t\t\t    ## Sourced from iex_statistics\n",
    "            'week52change': week52change,               ## Sourced from iex_statistics\n",
    "            'avg10Volume': avg10Volume,\t\t\t\t    ## Sourced from iex_statistics\n",
    "            'avg30Volume': avg30Volume,\t\t\t\t    ## Sourced from iex_statistics\n",
    "            'marketcap_IEX': marketcap_IEX,\t\t        ## Sourced from iex_statistics\n",
    "            'marketcap_FMP': marketcap_FMP\t\t\t    ## Sourced from FMP\t\n",
    "        },\n",
    "        'dataFrame':time_series_df,\t\t\t\t\t\t\t## FMP historical merged with Nasdaq Short Data and SEC FTD Data\n",
    "        'companyProfile':fmp_profile,         \t## Sourced from FMP, otherwise =0\n",
    "        'floatData':float_data,   \t\t\t\t\t## Sourced from FMP, otherwise =0\n",
    "        #'textNews':['article1','article2','article3'],    \t## Not sourced\n",
    "        #'returns':'returns_data',    \t\t\t\t\t\t## Not calculated\n",
    "        'iex_statistics': iex_stats     \t## Added to completed data_dicts, both ETFs and Equity\n",
    "        }}\n",
    "\n",
    "        export_path = Path('../FilesExport_DataDicts/'+symbol+'_data_dict.pkl')\n",
    "        save_obj(data,export_path)\n",
    "        \n",
    "        ## End for loop \n",
    "        \n",
    "    ## If for loop successful, extend temp_symbol lits to main datadict_success_list \n",
    "    datadict_success_list.extend(temp_symbol_list)\n",
    "    \n",
    "    ## Export main list each time, and rewrite during each iteration of while loop \n",
    "    ## Can read in list afterwards, to figure out where loop went wrong, and where to restart \n",
    "    save_obj(datadict_success_list,'../Resources/03_datadict_success_list.pkl')\n",
    "    \n",
    "    ## Check before run, if incorrect, can waste a lot of API credits  \n",
    "    x += increment\n",
    "    y += increment"
   ]
  },
  {
   "cell_type": "code",
   "execution_count": 19,
   "id": "197e9f14-994c-420e-b459-8b1fdddc3bac",
   "metadata": {},
   "outputs": [],
   "source": [
    "## Test import \n",
    "\n",
    "import_obj = load_obj('../FilesExport_DataDicts/AAA_data_dict.pkl')"
   ]
  },
  {
   "cell_type": "code",
   "execution_count": 20,
   "id": "f64698e0-43f1-454a-b493-b2dccf1d99cb",
   "metadata": {},
   "outputs": [
    {
     "data": {
      "text/plain": [
       "{'AAA': {'Fundamentals': {'sharesOutstanding': 408082,\n",
       "   'floatShares': 0,\n",
       "   'exchange': 'AMEX',\n",
       "   'final_close_price': 25.02,\n",
       "   'peRatio': 0,\n",
       "   'beta': -0.001070470930587948,\n",
       "   'week52high': 26.18,\n",
       "   'week52low': 25,\n",
       "   'week52change': 0.004356621615075882,\n",
       "   'avg10Volume': 2220,\n",
       "   'avg30Volume': 2055,\n",
       "   'marketcap_IEX': 10121134,\n",
       "   'marketcap_FMP': 0},\n",
       "  'dataFrame':                     open          high           low         close  \\\n",
       "  Date                                                                 \n",
       "  2016-01-04   9474.320313   9782.429688   9474.320313   9705.400391   \n",
       "  2016-01-05   9551.349609  10475.700195   9551.349609  10398.599609   \n",
       "  2016-01-06  10398.599609  10475.700195  10013.500000  10167.599609   \n",
       "  2016-01-07  10090.500000  10398.599609   9936.480469  10167.599609   \n",
       "  2016-01-08  10013.500000  10090.500000   9782.429688  10090.500000   \n",
       "  ...                  ...           ...           ...           ...   \n",
       "  2021-12-27     25.015000     25.015000     25.015000     25.015000   \n",
       "  2021-12-28     25.020000     25.032000     25.020000     25.025000   \n",
       "  2021-12-29     25.000000     25.010000     25.000000     25.010000   \n",
       "  2021-12-30     25.020000     25.020000     25.010000     25.010000   \n",
       "  2021-12-31     25.020000     25.020000     25.020000     25.020000   \n",
       "  \n",
       "                  adjClose     volume  unadjustedVolume     change  \\\n",
       "  Date                                                               \n",
       "  2016-01-04   9705.400391   420956.0          420956.0  231.08008   \n",
       "  2016-01-05  10398.599609  2391392.0         2391392.0  847.25000   \n",
       "  2016-01-06  10167.599609   323789.0          323789.0 -231.00000   \n",
       "  2016-01-07  10167.599609   433731.0          433731.0   77.09961   \n",
       "  2016-01-08  10090.500000   218131.0          218131.0   77.00000   \n",
       "  ...                  ...        ...               ...        ...   \n",
       "  2021-12-27     25.015000       33.0              33.0    0.00000   \n",
       "  2021-12-28     25.025000      400.0             400.0    0.00500   \n",
       "  2021-12-29     25.010000      434.0             434.0    0.01000   \n",
       "  2021-12-30     25.010000      101.0             101.0   -0.01000   \n",
       "  2021-12-31     25.020000        5.0               5.0    0.00000   \n",
       "  \n",
       "              changePercent         vwap  changeOverTime  QUANTITY_FAILS  \\\n",
       "  Date                                                                     \n",
       "  2016-01-04          2.439   9654.05013         0.02439             0.0   \n",
       "  2016-01-05          8.870  10141.88314         0.08870             0.0   \n",
       "  2016-01-06         -2.221  10218.93327        -0.02221             0.0   \n",
       "  2016-01-07          0.764  10167.55990         0.00764             0.0   \n",
       "  2016-01-08          0.769   9987.80990         0.00769             0.0   \n",
       "  ...                   ...          ...             ...             ...   \n",
       "  2021-12-27          0.000     25.01500         0.00000             0.0   \n",
       "  2021-12-28          0.020     25.02567         0.00020             0.0   \n",
       "  2021-12-29          0.040     25.00667         0.00040             0.0   \n",
       "  2021-12-30         -0.040     25.01333        -0.00040             0.0   \n",
       "  2021-12-31          0.000     25.02000         0.00000             0.0   \n",
       "  \n",
       "              ShortVolumeNSDQ  ShortExemptVolumeNSDQ  TotalVolumeNSDQ  \\\n",
       "  Date                                                                  \n",
       "  2016-01-04              0.0                    0.0              0.0   \n",
       "  2016-01-05              0.0                    0.0              0.0   \n",
       "  2016-01-06              0.0                    0.0              0.0   \n",
       "  2016-01-07              0.0                    0.0              0.0   \n",
       "  2016-01-08              0.0                    0.0              0.0   \n",
       "  ...                     ...                    ...              ...   \n",
       "  2021-12-27              0.0                    0.0              0.0   \n",
       "  2021-12-28            250.0                    0.0            250.0   \n",
       "  2021-12-29            334.0                    0.0            334.0   \n",
       "  2021-12-30              0.0                    0.0              0.0   \n",
       "  2021-12-31              1.0                    0.0              1.0   \n",
       "  \n",
       "              ShortVolumeNYSE  ShortExemptVolumeNYSE  TotalVolumeNYSE  \n",
       "  Date                                                                 \n",
       "  2016-01-04              0.0                    0.0              0.0  \n",
       "  2016-01-05              0.0                    0.0              0.0  \n",
       "  2016-01-06              0.0                    0.0              0.0  \n",
       "  2016-01-07              0.0                    0.0              0.0  \n",
       "  2016-01-08              0.0                    0.0              0.0  \n",
       "  ...                     ...                    ...              ...  \n",
       "  2021-12-27             10.0                    0.0             13.0  \n",
       "  2021-12-28              0.0                    0.0              0.0  \n",
       "  2021-12-29              0.0                    0.0              0.0  \n",
       "  2021-12-30              0.0                    0.0              0.0  \n",
       "  2021-12-31              0.0                    0.0              0.0  \n",
       "  \n",
       "  [1507 rows x 18 columns],\n",
       "  'companyProfile': {'symbol': 'AAA',\n",
       "   'price': 25.0,\n",
       "   'beta': 0.0,\n",
       "   'volAvg': 4416,\n",
       "   'mktCap': 0,\n",
       "   'lastDiv': 0.24699999999999997,\n",
       "   'range': '24.84-25.4',\n",
       "   'changes': 0.0,\n",
       "   'companyName': 'AAF First Priority CLO Bond ETF',\n",
       "   'currency': 'USD',\n",
       "   'cik': '',\n",
       "   'isin': 'US53656F6566',\n",
       "   'cusip': None,\n",
       "   'exchange': 'New York Stock Exchange Arca',\n",
       "   'exchangeShortName': 'AMEX',\n",
       "   'industry': '',\n",
       "   'website': '',\n",
       "   'description': 'The fund is an actively-managed exchange-traded fund (\"ETF\") that pursues its investment objective by investing, under normal circumstances, at least 80% of its net assets (plus any borrowings made for investment purposes) in AAA rated first priority debt tranches of U.S. dollar-dominated collateralized loan obligations (\"CLOs\"). It may invest in CLOs of any maturity. The fund is actively managed and does not seek to track the performance of any particular index.',\n",
       "   'ceo': '',\n",
       "   'sector': '',\n",
       "   'country': 'US',\n",
       "   'fullTimeEmployees': '',\n",
       "   'phone': '800-617-0004',\n",
       "   'address': '',\n",
       "   'city': '',\n",
       "   'state': '',\n",
       "   'zip': None,\n",
       "   'dcfDiff': None,\n",
       "   'dcf': 0.0,\n",
       "   'image': 'https://fmpcloud.io/image-stock/AAA.png',\n",
       "   'ipoDate': '2020-09-09',\n",
       "   'defaultImage': False,\n",
       "   'isEtf': True,\n",
       "   'isActivelyTrading': True,\n",
       "   'isAdr': False,\n",
       "   'isFund': True},\n",
       "  'floatData': 0,\n",
       "  'iex_statistics': {'companyName': 'Listed Funds Trust',\n",
       "   'marketcap': 10121134,\n",
       "   'week52high': 26.18,\n",
       "   'week52low': 25,\n",
       "   'week52highSplitAdjustOnly': 25.8,\n",
       "   'week52lowSplitAdjustOnly': 25.36,\n",
       "   'week52change': 0.004356621615075882,\n",
       "   'sharesOutstanding': 408082,\n",
       "   'float': 0,\n",
       "   'avg10Volume': 2220,\n",
       "   'avg30Volume': 2055,\n",
       "   'day200MovingAvg': 25.53,\n",
       "   'day50MovingAvg': 26,\n",
       "   'employees': 0,\n",
       "   'ttmEPS': 0,\n",
       "   'ttmDividendRate': 0.2657209778802488,\n",
       "   'dividendYield': 0.010703149539255125,\n",
       "   'nextDividendDate': '',\n",
       "   'exDividendDate': '2021-12-26',\n",
       "   'nextEarningsDate': '',\n",
       "   'peRatio': 0,\n",
       "   'beta': -0.001070470930587948,\n",
       "   'maxChangePercent': 0.011315518194338797,\n",
       "   'year5ChangePercent': 0.011411601318012726,\n",
       "   'year2ChangePercent': 0.011627970314403272,\n",
       "   'year1ChangePercent': 0.004267068997967847,\n",
       "   'ytdChangePercent': -0.0008385080858710742,\n",
       "   'month6ChangePercent': 0.004377355943883094,\n",
       "   'month3ChangePercent': 0.002482148215945683,\n",
       "   'month1ChangePercent': 0.00011091045838102241,\n",
       "   'day30ChangePercent': 0.00011141373607465579,\n",
       "   'day5ChangePercent': 0.0006154636084510846}}}"
      ]
     },
     "execution_count": 20,
     "metadata": {},
     "output_type": "execute_result"
    }
   ],
   "source": [
    "import_obj"
   ]
  },
  {
   "cell_type": "code",
   "execution_count": null,
   "id": "2399f888-867b-46d0-b656-25ba1cd4b24e",
   "metadata": {},
   "outputs": [],
   "source": []
  }
 ],
 "metadata": {
  "kernelspec": {
   "display_name": "Python 3",
   "language": "python",
   "name": "python3"
  },
  "language_info": {
   "codemirror_mode": {
    "name": "ipython",
    "version": 3
   },
   "file_extension": ".py",
   "mimetype": "text/x-python",
   "name": "python",
   "nbconvert_exporter": "python",
   "pygments_lexer": "ipython3",
   "version": "3.7.10"
  }
 },
 "nbformat": 4,
 "nbformat_minor": 5
}
