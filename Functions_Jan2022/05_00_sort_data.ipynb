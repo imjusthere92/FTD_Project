{
 "cells": [
  {
   "cell_type": "code",
   "execution_count": 1,
   "id": "e17e618b-1a2d-41df-a103-05b35443370a",
   "metadata": {},
   "outputs": [],
   "source": [
    "## Use this file to sort stock symbols by their FTD_stats. "
   ]
  },
  {
   "cell_type": "code",
   "execution_count": null,
   "id": "91d192b9-e68c-484d-aecf-6305fd9d9579",
   "metadata": {},
   "outputs": [],
   "source": []
  }
 ],
 "metadata": {
  "kernelspec": {
   "display_name": "Python 3",
   "language": "python",
   "name": "python3"
  },
  "language_info": {
   "codemirror_mode": {
    "name": "ipython",
    "version": 3
   },
   "file_extension": ".py",
   "mimetype": "text/x-python",
   "name": "python",
   "nbconvert_exporter": "python",
   "pygments_lexer": "ipython3",
   "version": "3.7.10"
  }
 },
 "nbformat": 4,
 "nbformat_minor": 5
}
