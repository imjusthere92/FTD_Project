{
 "cells": [
  {
   "cell_type": "code",
   "execution_count": 1,
   "id": "cc5ea17a-0e06-4a45-a8ce-cbfdac70b47c",
   "metadata": {},
   "outputs": [],
   "source": [
    "import pandas as pd\n",
    "\n",
    "import glob\n",
    "\n",
    "from pathlib import Path\n",
    "import csv\n",
    "\n",
    "import glob"
   ]
  },
  {
   "cell_type": "code",
   "execution_count": 2,
   "id": "7446a23f-cd55-444e-add5-d3b80f5533e1",
   "metadata": {},
   "outputs": [],
   "source": [
    "# Machine-learning specific imports\n",
    "from tensorflow.keras.models import Sequential\n",
    "from tensorflow.keras.layers import Dense\n",
    "from tensorflow.keras.models import model_from_json\n",
    "\n",
    "import matplotlib.pyplot as plt\n",
    "\n",
    "from sklearn.preprocessing import StandardScaler\n",
    "\n",
    "%matplotlib inline"
   ]
  },
  {
   "cell_type": "code",
   "execution_count": 3,
   "id": "bbd1b1c6-ad69-4896-9e95-d7633eee832b",
   "metadata": {},
   "outputs": [
    {
     "data": {
      "text/plain": [
       "True"
      ]
     },
     "execution_count": 3,
     "metadata": {},
     "output_type": "execute_result"
    }
   ],
   "source": [
    "## API Imports \n",
    "import os\n",
    "import requests\n",
    "import json\n",
    "\n",
    "from dotenv import load_dotenv\n",
    "load_dotenv()"
   ]
  },
  {
   "cell_type": "code",
   "execution_count": 4,
   "id": "f8dbec91-7182-4f5a-8636-65ce97fad2a1",
   "metadata": {},
   "outputs": [],
   "source": [
    "## Load pickle for exports and imports of data  \n",
    "import pickle \n",
    "def load_obj(path):\n",
    "    with open(path, 'rb') as f:\n",
    "        return pickle.load(f)\n",
    "    \n",
    "def save_obj(obj, path ):\n",
    "    with open(path, 'wb') as f:\n",
    "        pickle.dump(obj, f, pickle.HIGHEST_PROTOCOL)"
   ]
  },
  {
   "cell_type": "code",
   "execution_count": 5,
   "id": "720d24fa-c328-4002-b95d-9bd2f9273f33",
   "metadata": {},
   "outputs": [],
   "source": [
    "## FMP Constants \n",
    "fmpbase_urlv3 = 'https://fmpcloud.io/api/v3/'\n",
    "fmpbase_urlv4 = 'https://fmpcloud.io/api/v4/'\n",
    "api_key = os.getenv(\"FMP_CLOUD_API_KEY\")\n",
    "\n",
    "start_date = '2022-01-01'\n",
    "end_date = '2022-01-31'\n",
    "\n",
    "## FMP Functions \n",
    "def get_FMP_historical_data(symbol, startDate=start_date, endDate=end_date, apiKey=api_key):\n",
    "    url_hist_price = fmpbase_urlv3+'historical-price-full/'\n",
    "    url_hist_query_with_date = url_hist_price+symbol+'?from='+startDate+'&to='+endDate+'&apikey='+apiKey\n",
    "    resp_data = requests.get(url_hist_query_with_date)\n",
    "    json_ = resp_data.json()\n",
    "    data = json_['historical']\n",
    "    df = pd.DataFrame(data)\n",
    "    df.rename(columns={'date':'Date'},inplace=True)\n",
    "    df['Date'] = pd.to_datetime(df['Date'])\n",
    "    df = df.reindex(index=df.index[::-1]) ## Reverse the DataFrame \n",
    "    df.set_index('Date',inplace=True)\n",
    "    df.drop(columns='label',inplace=True)\n",
    "    return df"
   ]
  },
  {
   "cell_type": "code",
   "execution_count": 9,
   "id": "f5aa3337-decd-491c-9b38-ec2a62298bfa",
   "metadata": {},
   "outputs": [],
   "source": [
    "def get_data(symbol, n_days):\n",
    "    path = Path('../FilesExport_Complete_DFs_TI_noShift/'+symbol+'_TI_DF_no_shift.pkl')\n",
    "    data = load_obj(path)\n",
    "    df = data[symbol]\n",
    "    \n",
    "    df_close = df[['close']]\n",
    "    df_close = df_close.reset_index().rename(columns={\"Date\": \"Close_Date\"})\n",
    "    \n",
    "    features_df = df.reset_index().drop(columns=['close','adjClose'])\n",
    "    \n",
    "    new_close_df = df_close.iloc[n_days: , :].reset_index(drop=True)\n",
    "    \n",
    "    api_df = get_FMP_historical_data(symbol)\n",
    "    new_data = api_df[['close']]\n",
    "    new_data = new_data.reset_index().rename(columns={\"Date\": \"Close_Date\"})\n",
    "    new_data = new_data.iloc[0:n_days]\n",
    "    \n",
    "    new_close_df = new_close_df.append(new_data, ignore_index=True)\n",
    "    \n",
    "    return features_df, new_close_df\n",
    "\n",
    "## Dropping QUANTITY_FAILS from dataframe before machine learning \n",
    "\n",
    "def prepare_data_no_FTD(symbol,n_days,return_data=False):\n",
    "    features_df, new_close_df = get_data(symbol,n_days)\n",
    "    \n",
    "    X = features_df.drop(columns={'Date','QUANTITY_FAILS'}).values\n",
    "    y = new_close_df['close'].values\n",
    "    \n",
    "    scaler = StandardScaler().fit(X)\n",
    "    X = scaler.transform(X)\n",
    "    \n",
    "    if return_data == True:\n",
    "        return X, y, features_df, new_close_df\n",
    "    else:\n",
    "        return X, y\n",
    "    \n",
    "def prepare_data(symbol,n_days,return_data=False):\n",
    "    features_df, new_close_df = get_data(symbol,n_days)\n",
    "    \n",
    "    X = features_df.drop(columns='Date').values\n",
    "    y = new_close_df['close'].values\n",
    "    \n",
    "    scaler = StandardScaler().fit(X)\n",
    "    X = scaler.transform(X)\n",
    "    \n",
    "    if return_data == True:\n",
    "        return X, y, features_df, new_close_df\n",
    "    else:\n",
    "        return X, y"
   ]
  },
  {
   "cell_type": "code",
   "execution_count": 13,
   "id": "437f4ff5-49ee-49ea-8fb8-e2536f219ccf",
   "metadata": {},
   "outputs": [
    {
     "data": {
      "text/plain": [
       "<AxesSubplot:xlabel='Close_Date'>"
      ]
     },
     "execution_count": 13,
     "metadata": {},
     "output_type": "execute_result"
    },
    {
     "data": {
      "image/png": "[encoded data removed]",
      "text/plain": [
       "<Figure size 432x288 with 1 Axes>"
      ]
     },
     "metadata": {
      "needs_background": "light"
     },
     "output_type": "display_data"
    }
   ],
   "source": [
    "n_days = 6\n",
    "symbol = 'GME'\n",
    "\n",
    "export_path='../Model_Data/Date_Test_NN_noFTD/'\n",
    "model_type = 'NN'\n",
    "n_days_string = str(n_days)\n",
    "export_path_prefix = export_path+symbol+'_'+model_type+'_'+n_days_string\n",
    "\n",
    "file_path = Path(export_path_prefix+'_model_data.json')\n",
    "with open(file_path, \"r\") as json_file:\n",
    "    model_json = json_file.read()\n",
    "loaded_model = model_from_json(model_json)\n",
    "\n",
    "# load weights into new model\n",
    "file_path = Path(export_path_prefix+'_model_weights.h5')\n",
    "loaded_model.load_weights(file_path)\n",
    "\n",
    "X , y, features, close_df = prepare_data_no_FTD(symbol,n_days,return_data=True)\n",
    "\n",
    "\n",
    "close_df[\"predicted\"] = loaded_model.predict(X)\n",
    "close_df.set_index('Close_Date',inplace=True)\n",
    "close_df[['close','predicted']].tail(30).plot(use_index=True)"
   ]
  },
  {
   "cell_type": "code",
   "execution_count": 14,
   "id": "ffc168d2-7141-413a-86e7-d13628b9e26c",
   "metadata": {},
   "outputs": [
    {
     "data": {
      "text/plain": [
       "<AxesSubplot:xlabel='Close_Date'>"
      ]
     },
     "execution_count": 14,
     "metadata": {},
     "output_type": "execute_result"
    },
    {
     "data": {
      "image/png": "[encoded data removed]",
      "text/plain": [
       "<Figure size 432x288 with 1 Axes>"
      ]
     },
     "metadata": {
      "needs_background": "light"
     },
     "output_type": "display_data"
    }
   ],
   "source": [
    "# n_days = 1\n",
    "# symbol = 'GME'\n",
    "\n",
    "export_path='../Model_Data/Date_Test_NN/'\n",
    "model_type = 'NN'\n",
    "n_days_string = str(n_days)\n",
    "export_path_prefix = export_path+symbol+'_'+model_type+'_'+n_days_string\n",
    "\n",
    "file_path = Path(export_path_prefix+'_model_data.json')\n",
    "with open(file_path, \"r\") as json_file:\n",
    "    model_json = json_file.read()\n",
    "loaded_model = model_from_json(model_json)\n",
    "\n",
    "# load weights into new model\n",
    "file_path = Path(export_path_prefix+'_model_weights.h5')\n",
    "loaded_model.load_weights(file_path)\n",
    "\n",
    "X , y, features, close_df = prepare_data(symbol,n_days,return_data=True)\n",
    "\n",
    "\n",
    "close_df[\"predicted\"] = loaded_model.predict(X)\n",
    "close_df.set_index('Close_Date',inplace=True)\n",
    "close_df[['close','predicted']].tail(30).plot(use_index=True)"
   ]
  },
  {
   "cell_type": "code",
   "execution_count": null,
   "id": "d8bbf29c-63ce-4980-b888-378668638be1",
   "metadata": {},
   "outputs": [],
   "source": []
  }
 ],
 "metadata": {
  "kernelspec": {
   "display_name": "Python 3 (ipykernel)",
   "language": "python",
   "name": "python3"
  },
  "language_info": {
   "codemirror_mode": {
    "name": "ipython",
    "version": 3
   },
   "file_extension": ".py",
   "mimetype": "text/x-python",
   "name": "python",
   "nbconvert_exporter": "python",
   "pygments_lexer": "ipython3",
   "version": "3.7.11"
  }
 },
 "nbformat": 4,
 "nbformat_minor": 5
}
