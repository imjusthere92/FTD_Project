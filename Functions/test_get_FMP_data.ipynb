{
 "cells": [
  {
   "cell_type": "code",
   "execution_count": 1,
   "id": "27bfba5f-9121-4870-9316-406e43e456d1",
   "metadata": {},
   "outputs": [],
   "source": [
    "## Test file for accessing FMP cloud and creating functions to do so"
   ]
  },
  {
   "cell_type": "code",
   "execution_count": 2,
   "id": "8c209780-33c0-4c85-9bbb-245e101b0f01",
   "metadata": {},
   "outputs": [
    {
     "data": {
      "text/plain": [
       "True"
      ]
     },
     "execution_count": 2,
     "metadata": {},
     "output_type": "execute_result"
    }
   ],
   "source": [
    "import pandas as pd\n",
    "\n",
    "import glob\n",
    "\n",
    "from pathlib import Path\n",
    "import csv\n",
    "\n",
    "import os\n",
    "import requests\n",
    "import json\n",
    "\n",
    "import quandl\n",
    "\n",
    "from dotenv import load_dotenv\n",
    "load_dotenv()"
   ]
  },
  {
   "cell_type": "code",
   "execution_count": 3,
   "id": "1461f41f-c9ff-4010-a374-57b3c28e3cc9",
   "metadata": {},
   "outputs": [],
   "source": [
    "## https://fmpcloud.io/api/v3/historical-price-full/AAPL?from=2018-03-12&to=2019-03-12&apikey=64522afe231fb8989717ff4643b36c43"
   ]
  },
  {
   "cell_type": "code",
   "execution_count": 4,
   "id": "4d15bc1f-d6d9-4d96-b947-e4228ee48906",
   "metadata": {},
   "outputs": [
    {
     "data": {
      "text/plain": [
       "'https://fmpcloud.io/api/v3/historical-price-full/GME?from=2020-01-01&to=2021-10-29&apikey=64522afe231fb8989717ff4643b36c43'"
      ]
     },
     "execution_count": 4,
     "metadata": {},
     "output_type": "execute_result"
    }
   ],
   "source": [
    "## Get Historical Data \n",
    "base_urlv3 = 'https://fmpcloud.io/api/v3/'\n",
    "url_hist_price = base_urlv3+'historical-price-full/'\n",
    "stock_symbol = 'GME'\n",
    "start_date = '2020-01-01'\n",
    "end_date = '2021-10-29'\n",
    "api_key = os.getenv(\"FMP_CLOUD_API_KEY\")\n",
    "hist_query_with_date = url_hist_price+stock_symbol+'?from='+start_date+'&to='+end_date+'&apikey='+api_key\n",
    "hist_query_with_date"
   ]
  },
  {
   "cell_type": "code",
   "execution_count": 5,
   "id": "47d64f84-2cdd-46a6-b631-356c0d8e0b21",
   "metadata": {},
   "outputs": [
    {
     "data": {
      "text/plain": [
       "'https://fmpcloud.io/api/v4/shares_float?symbol=GME&apikey=64522afe231fb8989717ff4643b36c43'"
      ]
     },
     "execution_count": 5,
     "metadata": {},
     "output_type": "execute_result"
    }
   ],
   "source": [
    "## Get Share Data\n",
    "## https://fmpcloud.io/api/v4/shares_float?symbol=AAPL&apikey=64522afe231fb8989717ff4643b36c43\n",
    "base_urlv4 = 'https://fmpcloud.io/api/v4/'\n",
    "url_float_shares = base_urlv4+'shares_float?symbol='\n",
    "stock_symbol = 'GME'\n",
    "url_query_float_data = url_float_shares+stock_symbol+'&apikey='+api_key\n",
    "url_query_float_data"
   ]
  },
  {
   "cell_type": "code",
   "execution_count": 6,
   "id": "40780ead-9a9e-41f8-8432-5794d6e3d2b7",
   "metadata": {},
   "outputs": [
    {
     "data": {
      "text/plain": [
       "<Response [200]>"
      ]
     },
     "execution_count": 6,
     "metadata": {},
     "output_type": "execute_result"
    }
   ],
   "source": [
    "resp_data = requests.get(url_query_float_data)\n",
    "resp_data"
   ]
  },
  {
   "cell_type": "code",
   "execution_count": 7,
   "id": "ba300164-4004-4022-9671-69c90336fe61",
   "metadata": {},
   "outputs": [
    {
     "data": {
      "text/html": [
       "<div>\n",
       "<style scoped>\n",
       "    .dataframe tbody tr th:only-of-type {\n",
       "        vertical-align: middle;\n",
       "    }\n",
       "\n",
       "    .dataframe tbody tr th {\n",
       "        vertical-align: top;\n",
       "    }\n",
       "\n",
       "    .dataframe thead th {\n",
       "        text-align: right;\n",
       "    }\n",
       "</style>\n",
       "<table border=\"1\" class=\"dataframe\">\n",
       "  <thead>\n",
       "    <tr style=\"text-align: right;\">\n",
       "      <th></th>\n",
       "      <th>symbol</th>\n",
       "      <th>date</th>\n",
       "      <th>freeFloat</th>\n",
       "      <th>floatShares</th>\n",
       "      <th>outstandingShares</th>\n",
       "      <th>source</th>\n",
       "    </tr>\n",
       "  </thead>\n",
       "  <tbody>\n",
       "    <tr>\n",
       "      <th>0</th>\n",
       "      <td>GME</td>\n",
       "      <td>2021-11-24</td>\n",
       "      <td>80.734943</td>\n",
       "      <td>61755372.0</td>\n",
       "      <td>76491504.0</td>\n",
       "      <td>https://www.sec.gov/Archives/edgar/data/132638...</td>\n",
       "    </tr>\n",
       "  </tbody>\n",
       "</table>\n",
       "</div>"
      ],
      "text/plain": [
       "  symbol        date  freeFloat  floatShares  outstandingShares  \\\n",
       "0    GME  2021-11-24  80.734943   61755372.0         76491504.0   \n",
       "\n",
       "                                              source  \n",
       "0  https://www.sec.gov/Archives/edgar/data/132638...  "
      ]
     },
     "execution_count": 7,
     "metadata": {},
     "output_type": "execute_result"
    }
   ],
   "source": [
    "df = pd.DataFrame(resp_data.json())\n",
    "df"
   ]
  },
  {
   "cell_type": "code",
   "execution_count": 8,
   "id": "3cc93b96-96e7-46af-86bb-715e6fe650af",
   "metadata": {},
   "outputs": [
    {
     "data": {
      "text/plain": [
       "[{'symbol': 'GME',\n",
       "  'date': '2021-11-24',\n",
       "  'freeFloat': 80.73494279835313,\n",
       "  'floatShares': 61755372.0,\n",
       "  'outstandingShares': 76491504.0,\n",
       "  'source': 'https://www.sec.gov/Archives/edgar/data/1326380/000132638021000090/gme-20210731.htm'}]"
      ]
     },
     "execution_count": 8,
     "metadata": {},
     "output_type": "execute_result"
    }
   ],
   "source": [
    "resp_data.json()"
   ]
  },
  {
   "cell_type": "code",
   "execution_count": 9,
   "id": "e75896ed-641d-4108-901e-4fdafa933855",
   "metadata": {},
   "outputs": [
    {
     "data": {
      "text/plain": [
       "76491504.0"
      ]
     },
     "execution_count": 9,
     "metadata": {},
     "output_type": "execute_result"
    }
   ],
   "source": [
    "df['outstandingShares'][0]"
   ]
  },
  {
   "cell_type": "code",
   "execution_count": 10,
   "id": "c7b2f9bf-d945-46d3-8a13-e941ffb225a3",
   "metadata": {},
   "outputs": [],
   "source": [
    "## Create function for get_float_data\n",
    "## Set FMP Constants \n",
    "base_urlv3 = 'https://fmpcloud.io/api/v3/'\n",
    "base_urlv4 = 'https://fmpcloud.io/api/v4/'\n",
    "start_date = '2020-01-01'\n",
    "end_date = '2021-10-29'\n",
    "api_key = os.getenv(\"FMP_CLOUD_API_KEY\")\n",
    "def get_float_data_FMP(symbol):\n",
    "    url_float_shares = base_urlv4+'shares_float?symbol='\n",
    "    url_query_float_data = url_float_shares+symbol+'&apikey='+api_key\n",
    "    resp_data = requests.get(url_query_float_data)\n",
    "    df = pd.DataFrame(resp_data.json())\n",
    "    return df"
   ]
  },
  {
   "cell_type": "code",
   "execution_count": 11,
   "id": "12e83ea6-4e9d-4b7d-acdd-dc6166072912",
   "metadata": {},
   "outputs": [
    {
     "data": {
      "text/html": [
       "<div>\n",
       "<style scoped>\n",
       "    .dataframe tbody tr th:only-of-type {\n",
       "        vertical-align: middle;\n",
       "    }\n",
       "\n",
       "    .dataframe tbody tr th {\n",
       "        vertical-align: top;\n",
       "    }\n",
       "\n",
       "    .dataframe thead th {\n",
       "        text-align: right;\n",
       "    }\n",
       "</style>\n",
       "<table border=\"1\" class=\"dataframe\">\n",
       "  <thead>\n",
       "    <tr style=\"text-align: right;\">\n",
       "      <th></th>\n",
       "      <th>symbol</th>\n",
       "      <th>date</th>\n",
       "      <th>freeFloat</th>\n",
       "      <th>floatShares</th>\n",
       "      <th>outstandingShares</th>\n",
       "      <th>source</th>\n",
       "    </tr>\n",
       "  </thead>\n",
       "  <tbody>\n",
       "    <tr>\n",
       "      <th>0</th>\n",
       "      <td>GME</td>\n",
       "      <td>2021-11-24</td>\n",
       "      <td>80.734943</td>\n",
       "      <td>61755372.0</td>\n",
       "      <td>76491504.0</td>\n",
       "      <td>https://www.sec.gov/Archives/edgar/data/132638...</td>\n",
       "    </tr>\n",
       "  </tbody>\n",
       "</table>\n",
       "</div>"
      ],
      "text/plain": [
       "  symbol        date  freeFloat  floatShares  outstandingShares  \\\n",
       "0    GME  2021-11-24  80.734943   61755372.0         76491504.0   \n",
       "\n",
       "                                              source  \n",
       "0  https://www.sec.gov/Archives/edgar/data/132638...  "
      ]
     },
     "execution_count": 11,
     "metadata": {},
     "output_type": "execute_result"
    }
   ],
   "source": [
    "test_float_df = get_float_data_FMP('GME')\n",
    "test_float_df"
   ]
  },
  {
   "cell_type": "code",
   "execution_count": 12,
   "id": "6b51321a-451e-4da8-b8b4-1985f84a75f1",
   "metadata": {},
   "outputs": [],
   "source": [
    "## Get company profile \n",
    "def get_company_profile_FMP_json(symbol):\n",
    "    ## https://fmpcloud.io/api/v3/profile/AAPL?apikey='yourkeyhere'\n",
    "    url_company_profile_url = base_urlv3+'profile/'+symbol+'?apikey='+api_key\n",
    "    resp_data = requests.get(url_company_profile_url)\n",
    "    json_response = resp_data.json()\n",
    "    return json_response"
   ]
  },
  {
   "cell_type": "code",
   "execution_count": 13,
   "id": "e047c0c6-571d-4c39-a4dc-f506fb43fd7d",
   "metadata": {},
   "outputs": [],
   "source": [
    "test_symbol = 'GME'\n",
    "test_company_resp = get_company_profile_FMP_json(test_symbol)"
   ]
  },
  {
   "cell_type": "code",
   "execution_count": 14,
   "id": "a414fb8c-4c4a-488d-a810-cdc32f30e14c",
   "metadata": {},
   "outputs": [
    {
     "data": {
      "text/plain": [
       "False"
      ]
     },
     "execution_count": 14,
     "metadata": {},
     "output_type": "execute_result"
    }
   ],
   "source": [
    "test_company_resp[0]['isEtf']"
   ]
  },
  {
   "cell_type": "code",
   "execution_count": 15,
   "id": "a0d04a34-7d72-4efe-a51d-825c5695c85f",
   "metadata": {},
   "outputs": [],
   "source": [
    "json_response = test_company_resp"
   ]
  },
  {
   "cell_type": "code",
   "execution_count": 16,
   "id": "5d10a217-7812-45a7-998b-d9dffbb06171",
   "metadata": {},
   "outputs": [
    {
     "data": {
      "text/plain": [
       "'GME'"
      ]
     },
     "execution_count": 16,
     "metadata": {},
     "output_type": "execute_result"
    }
   ],
   "source": [
    "json_response[0]['symbol']"
   ]
  },
  {
   "cell_type": "code",
   "execution_count": 17,
   "id": "0af9e7b3-e2cf-4aec-8087-64799bdcf7f6",
   "metadata": {},
   "outputs": [
    {
     "data": {
      "text/plain": [
       "'New York Stock Exchange'"
      ]
     },
     "execution_count": 17,
     "metadata": {},
     "output_type": "execute_result"
    }
   ],
   "source": [
    "json_response[0]['exchange']"
   ]
  },
  {
   "cell_type": "code",
   "execution_count": 18,
   "id": "84619bab-b2f2-4c59-b24f-f611c46cc4e2",
   "metadata": {},
   "outputs": [
    {
     "data": {
      "text/plain": [
       "[{'symbol': 'VOO',\n",
       "  'price': 431.53,\n",
       "  'beta': 0.0,\n",
       "  'volAvg': 4564928,\n",
       "  'mktCap': 111153118580,\n",
       "  'lastDiv': 5.287,\n",
       "  'range': '330.04-435.41',\n",
       "  'changes': 1.0599976,\n",
       "  'companyName': 'Vanguard S&P 500 ETF',\n",
       "  'currency': 'USD',\n",
       "  'cik': None,\n",
       "  'isin': 'US9229083632',\n",
       "  'cusip': None,\n",
       "  'exchange': 'New York Stock Exchange Arca',\n",
       "  'exchangeShortName': 'AMEX',\n",
       "  'industry': '',\n",
       "  'website': '',\n",
       "  'description': 'The investment seeks to track the performance of a benchmark index that measures the investment return of large-capitalization stocks.\\n The fund employs an indexing investment approach designed to track the performance of the Standard & Poor&#39;s 500 Index, a widely recognized benchmark of U.S. stock market performance that is dominated by the stocks of large U.S. companies. The advisor attempts to replicate the target index by investing all, or substantially all, of its assets in the stocks that make up the index, holding each stock in approximately the same proportion as its weighting in the index.',\n",
       "  'ceo': 'None',\n",
       "  'sector': '',\n",
       "  'country': 'US',\n",
       "  'fullTimeEmployees': None,\n",
       "  'phone': '866-499-8473',\n",
       "  'address': '',\n",
       "  'city': '',\n",
       "  'state': '',\n",
       "  'zip': None,\n",
       "  'dcfDiff': None,\n",
       "  'dcf': 0.0,\n",
       "  'image': 'https://fmpcloud.io/image-stock/VOO.png',\n",
       "  'ipoDate': '2010-09-07',\n",
       "  'defaultImage': False,\n",
       "  'isEtf': True,\n",
       "  'isActivelyTrading': True,\n",
       "  'isAdr': False,\n",
       "  'isFund': False}]"
      ]
     },
     "execution_count": 18,
     "metadata": {},
     "output_type": "execute_result"
    }
   ],
   "source": [
    "## Check if ETF \n",
    "test_etf = get_company_profile_FMP_json('VOO')\n",
    "test_etf"
   ]
  },
  {
   "cell_type": "code",
   "execution_count": 19,
   "id": "5e2dc0db-df27-41ee-8676-b472be4c2b7c",
   "metadata": {},
   "outputs": [],
   "source": [
    "def get_float_data_FMP_json(symbol):\n",
    "    url_float_shares = base_urlv4+'shares_float?symbol='\n",
    "    url_query_float_data = url_float_shares+symbol+'&apikey='+api_key\n",
    "    resp_data = requests.get(url_query_float_data)\n",
    "    #df = pd.DataFrame(resp_data.json())\n",
    "    json_ = resp_data.json()\n",
    "    return json_[0]"
   ]
  },
  {
   "cell_type": "code",
   "execution_count": 20,
   "id": "95dcc9f1-e1bd-4d75-b0c1-e184eb87e797",
   "metadata": {},
   "outputs": [],
   "source": [
    "test_df = get_float_data_FMP('TSLA')"
   ]
  },
  {
   "cell_type": "code",
   "execution_count": 21,
   "id": "0718b7f9-6822-4752-be66-9838ec8e9e70",
   "metadata": {},
   "outputs": [
    {
     "data": {
      "text/plain": [
       "'TSLA'"
      ]
     },
     "execution_count": 21,
     "metadata": {},
     "output_type": "execute_result"
    }
   ],
   "source": [
    "test_df['symbol'][0]"
   ]
  },
  {
   "cell_type": "code",
   "execution_count": 22,
   "id": "8e67a53e-8f54-4965-b7e4-02bd24266fac",
   "metadata": {},
   "outputs": [
    {
     "ename": "IndexError",
     "evalue": "list index out of range",
     "output_type": "error",
     "traceback": [
      "\u001b[1;31m---------------------------------------------------------------------------\u001b[0m",
      "\u001b[1;31mIndexError\u001b[0m                                Traceback (most recent call last)",
      "\u001b[1;32m<ipython-input-22-1d9a7d0fa33e>\u001b[0m in \u001b[0;36m<module>\u001b[1;34m\u001b[0m\n\u001b[1;32m----> 1\u001b[1;33m \u001b[0mtest_json\u001b[0m \u001b[1;33m=\u001b[0m \u001b[0mget_float_data_FMP_json\u001b[0m\u001b[1;33m(\u001b[0m\u001b[1;34m'AACQ'\u001b[0m\u001b[1;33m)\u001b[0m\u001b[1;33m\u001b[0m\u001b[1;33m\u001b[0m\u001b[0m\n\u001b[0m\u001b[0;32m      2\u001b[0m \u001b[0mtest_json\u001b[0m\u001b[1;33m\u001b[0m\u001b[1;33m\u001b[0m\u001b[0m\n",
      "\u001b[1;32m<ipython-input-19-e0bf618db101>\u001b[0m in \u001b[0;36mget_float_data_FMP_json\u001b[1;34m(symbol)\u001b[0m\n\u001b[0;32m      5\u001b[0m     \u001b[1;31m#df = pd.DataFrame(resp_data.json())\u001b[0m\u001b[1;33m\u001b[0m\u001b[1;33m\u001b[0m\u001b[1;33m\u001b[0m\u001b[0m\n\u001b[0;32m      6\u001b[0m     \u001b[0mjson_\u001b[0m \u001b[1;33m=\u001b[0m \u001b[0mresp_data\u001b[0m\u001b[1;33m.\u001b[0m\u001b[0mjson\u001b[0m\u001b[1;33m(\u001b[0m\u001b[1;33m)\u001b[0m\u001b[1;33m\u001b[0m\u001b[1;33m\u001b[0m\u001b[0m\n\u001b[1;32m----> 7\u001b[1;33m     \u001b[1;32mreturn\u001b[0m \u001b[0mjson_\u001b[0m\u001b[1;33m[\u001b[0m\u001b[1;36m0\u001b[0m\u001b[1;33m]\u001b[0m\u001b[1;33m\u001b[0m\u001b[1;33m\u001b[0m\u001b[0m\n\u001b[0m",
      "\u001b[1;31mIndexError\u001b[0m: list index out of range"
     ]
    }
   ],
   "source": [
    "test_json = get_float_data_FMP_json('AACQ')\n",
    "test_json"
   ]
  },
  {
   "cell_type": "code",
   "execution_count": null,
   "id": "acc1a5d9-ad1c-44cb-8c13-dbae9cbbed40",
   "metadata": {},
   "outputs": [],
   "source": [
    "if test_json != 0:\n",
    "    print('yes')"
   ]
  },
  {
   "cell_type": "code",
   "execution_count": null,
   "id": "89725e47-8f58-466d-b42c-da72c26111e1",
   "metadata": {},
   "outputs": [],
   "source": []
  }
 ],
 "metadata": {
  "kernelspec": {
   "display_name": "Python 3",
   "language": "python",
   "name": "python3"
  },
  "language_info": {
   "codemirror_mode": {
    "name": "ipython",
    "version": 3
   },
   "file_extension": ".py",
   "mimetype": "text/x-python",
   "name": "python",
   "nbconvert_exporter": "python",
   "pygments_lexer": "ipython3",
   "version": "3.7.10"
  }
 },
 "nbformat": 4,
 "nbformat_minor": 5
}
