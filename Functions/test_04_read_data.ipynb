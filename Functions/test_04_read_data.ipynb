{
 "cells": [
  {
   "cell_type": "code",
   "execution_count": 1,
   "id": "83459ba6-4058-4e1b-90f0-c37e9d41a533",
   "metadata": {},
   "outputs": [],
   "source": [
    "## Finished DFs with Time-Series data, Fundamentals data, with IEX and (most) FMP statistics attached to \n",
    "## the data dicts. \n",
    "\n",
    "## Data can still be added and appended further - but calling FMP and IEX *should* be finished for the most part. \n",
    "\n",
    "## Don't use this file to append data from APIs. Only to read data and clean it and export it further"
   ]
  },
  {
   "cell_type": "code",
   "execution_count": 2,
   "id": "2bcf5c54-75d0-417a-8f14-3b59e98e3b8d",
   "metadata": {},
   "outputs": [],
   "source": [
    "import pandas as pd\n",
    "\n",
    "#import glob\n",
    "\n",
    "from pathlib import Path\n",
    "#import csv\n",
    "\n",
    "# import os\n",
    "# import requests\n",
    "#import json\n",
    "\n",
    "# from dotenv import load_dotenv\n",
    "# load_dotenv()"
   ]
  },
  {
   "cell_type": "code",
   "execution_count": 3,
   "id": "7db4b75a-fb86-4ec6-bf7b-c06c86fca413",
   "metadata": {},
   "outputs": [],
   "source": [
    "## Use pickle module to import and export and save files\n",
    "import pickle\n",
    "def load_obj(path):\n",
    "    with open(path, 'rb') as f:\n",
    "        return pickle.load(f)\n",
    "def save_obj(obj, path ):\n",
    "    with open(path, 'wb') as f:\n",
    "        pickle.dump(obj, f, pickle.HIGHEST_PROTOCOL)"
   ]
  },
  {
   "cell_type": "code",
   "execution_count": 4,
   "id": "873fa589-3d9e-4610-bd3c-fe839523aa0d",
   "metadata": {},
   "outputs": [],
   "source": [
    "## Import Data\n",
    "path = Path('../Resources/combined_FMPIEX_complete_data.pkl')\n",
    "imported_data = load_obj(path)"
   ]
  },
  {
   "cell_type": "code",
   "execution_count": 5,
   "id": "0208d5d7-1ea3-48c4-94ff-fd4e8145b3a4",
   "metadata": {},
   "outputs": [
    {
     "data": {
      "text/plain": [
       "3573"
      ]
     },
     "execution_count": 5,
     "metadata": {},
     "output_type": "execute_result"
    }
   ],
   "source": [
    "imported_key_list = []\n",
    "for key in imported_data.keys():\n",
    "    imported_key_list.append(key) \n",
    "    \n",
    "len(imported_key_list)"
   ]
  },
  {
   "cell_type": "code",
   "execution_count": 6,
   "id": "d1b511e5-1377-4f87-abd8-50f3417abcfc",
   "metadata": {},
   "outputs": [
    {
     "data": {
      "text/plain": [
       "{'sharesOutstanding': 16406397000,\n",
       " 'floatShares': 16389334347.0,\n",
       " 'debt_ratio': 'debt_ratioValue',\n",
       " 'exchange': 'Nasdaq Global Select',\n",
       " 'final_close_price': 149.800003,\n",
       " 'peRatio': 14.030692491444867,\n",
       " 'beta': 1.4194496670737902,\n",
       " 'week52high': 165.7,\n",
       " 'week52low': 115.51,\n",
       " 'week52change': 0.4042773486785796,\n",
       " 'avg10Volume': 98024270,\n",
       " 'avg30Volume': 77733276,\n",
       " 'marketcap_IEX': 2656851930180,\n",
       " 'marketcap_FMP': 2656852508672}"
      ]
     },
     "execution_count": 6,
     "metadata": {},
     "output_type": "execute_result"
    }
   ],
   "source": [
    "## How to access data - view data_dict_structure.txt to see a breakdown of the data structre \n",
    "\n",
    "## View an entry \n",
    "#imported_data['GME']\n",
    "\n",
    "## View fundamentals\n",
    "imported_data['AAPL']['Fundamentals']\n",
    "\n",
    "## View a dataframe\n",
    "#imported_data['SPCE']['dataFrame']\n",
    "\n",
    "## View companyProfile - sourced from FMP. 144 entries at the moment don't have profile data from FMP\n",
    "## See code lower below for more info\n",
    "## If missing? Can be relevant for checking isEtf \n",
    "#imported_data['ARKQ']['companyProfile']\n",
    "#imported_data['ARKQ']['companyProfile']['isEtf']\n",
    "\n",
    "## View floatData - this is sourced from FMP. Float data =0 for ETFs - no source at the moment \n",
    "## IEX Provides source for outstanding shares from its statistics, and has replaced the \n",
    "##    'sharesOutstanding' value in 'Fundamentals'\n",
    "#imported_data['XRT']['floatData']  ## ETF \n",
    "#imported_data['MSFT']['floatData']  ## Equity \n",
    "\n",
    "## View textNews - this will be for articles. Will replace placeholder data \n",
    "#imported_data['AMC']['textNews']\n",
    "\n",
    "## View returns - still needs to be calculated, and how to be entered/displayed \n",
    "#imported_data['TSLA']['returns']\n",
    "\n",
    "## View iex_statistics - returns the data pulled from IEX for any stock the data dict,\n",
    "##   even if there's no companyProfile from FMP \n",
    "#imported_data['ACP']['iex_statistics']"
   ]
  },
  {
   "cell_type": "code",
   "execution_count": 7,
   "id": "bbb7ee42-3213-4a39-ba1f-f2020b93ead8",
   "metadata": {},
   "outputs": [],
   "source": [
    "## Seperate data that has all FMP data, and data that is missing FMP data \n",
    "\n",
    "## The difference will be the 'companyProfile' section. \n",
    "## If a stock is missing companyProfile, but is still included at this point, \n",
    "##   it means it still has a full time-series dataframe attached to the symbol,\n",
    "##   and IEX was able to source statistics for the symbol and append information \n",
    "full_key_list = []\n",
    "notfull_key_list = []\n",
    "notfull_key_data_dict = {}          \n",
    "full_key_data_dict = {}\n",
    "for i in imported_key_list:\n",
    "    if imported_data[i]['companyProfile'] != 0:\n",
    "        full_key_list.append(i)\n",
    "        data = imported_data[i]\n",
    "        full_key_data_dict[i] = data\n",
    "    elif imported_data[i]['companyProfile'] == 0:\n",
    "        notfull_key_list.append(i)\n",
    "        data = imported_data[i]\n",
    "        notfull_key_data_dict[i] = data  \n",
    "        \n",
    "\n",
    "path = Path('../Resources/read_04_full_key_list.pkl')\n",
    "save_obj(full_key_list,path)"
   ]
  },
  {
   "cell_type": "code",
   "execution_count": 8,
   "id": "df25a2ac-242f-423b-8b67-c327f6654d92",
   "metadata": {},
   "outputs": [
    {
     "data": {
      "text/plain": [
       "144"
      ]
     },
     "execution_count": 8,
     "metadata": {},
     "output_type": "execute_result"
    }
   ],
   "source": [
    "len(notfull_key_list)"
   ]
  },
  {
   "cell_type": "code",
   "execution_count": 9,
   "id": "9c23370b-f26c-43d4-aeb1-8746743c12ed",
   "metadata": {},
   "outputs": [
    {
     "data": {
      "text/plain": [
       "{'Fundamentals': {'sharesOutstanding': 17432096,\n",
       "  'floatShares': 0,\n",
       "  'debt_ratio': 'debt_ratioValue',\n",
       "  'exchange': 0,\n",
       "  'final_close_price': 11.3,\n",
       "  'peRatio': 0,\n",
       "  'beta': 0.4417520248505773,\n",
       "  'week52high': 11.92,\n",
       "  'week52low': 9.13,\n",
       "  'week52change': 0.2189378922121588,\n",
       "  'avg10Volume': 137142,\n",
       "  'avg30Volume': 121161,\n",
       "  'marketcap_IEX': 194019228,\n",
       "  'marketcap_FMP': 0},\n",
       " 'dataFrame':              open   high    low  close   adjClose    volume  unadjustedVolume  \\\n",
       " Date                                                                            \n",
       " 2020-01-02  11.52  11.58  11.52  11.56   9.015274  222527.0          222527.0   \n",
       " 2020-01-03  11.56  11.58  11.45  11.46   8.937287  147144.0          147144.0   \n",
       " 2020-01-06  11.46  11.54  11.46  11.50   8.968482   83005.0           83005.0   \n",
       " 2020-01-07  11.53  11.55  11.51  11.53   8.991878   72302.0           72302.0   \n",
       " 2020-01-08  11.61  11.63  11.50  11.51   8.976281  181378.0          181378.0   \n",
       " ...           ...    ...    ...    ...        ...       ...               ...   \n",
       " 2021-10-25  11.32  11.32  11.19  11.23  11.131578  126610.0          126610.0   \n",
       " 2021-10-26  11.27  11.27  11.20  11.24  11.141490   94437.0           94437.0   \n",
       " 2021-10-27  11.25  11.26  11.14  11.19  11.091928  180501.0          180501.0   \n",
       " 2021-10-28  11.20  11.31  11.16  11.26  11.161315   61080.0           61080.0   \n",
       " 2021-10-29  11.28  11.33  11.18  11.30  11.200964  183504.0          183504.0   \n",
       " \n",
       "             change  changePercent      vwap  changeOverTime  QUANTITY_FAILS  \\\n",
       " Date                                                                          \n",
       " 2020-01-02    0.04          0.347  11.55333         0.00347             0.0   \n",
       " 2020-01-03   -0.10         -0.865  11.49667        -0.00865           303.0   \n",
       " 2020-01-06    0.04          0.349  11.50000         0.00349             0.0   \n",
       " 2020-01-07    0.00          0.000  11.53000         0.00000           378.0   \n",
       " 2020-01-08   -0.10         -0.861  11.54667        -0.00861             0.0   \n",
       " ...            ...            ...       ...             ...             ...   \n",
       " 2021-10-25   -0.09         -0.795  11.24667        -0.00795            25.0   \n",
       " 2021-10-26   -0.03         -0.266  11.23667        -0.00266             0.0   \n",
       " 2021-10-27   -0.06         -0.533  11.19667        -0.00533             0.0   \n",
       " 2021-10-28    0.06          0.536  11.24333         0.00536            10.0   \n",
       " 2021-10-29    0.02          0.177  11.27000         0.00177            10.0   \n",
       " \n",
       "             ShortVolumeNSDQ  ShortExemptVolumeNSDQ  TotalVolumeNSDQ  \\\n",
       " Date                                                                  \n",
       " 2020-01-02          37218.0                  300.0         130414.0   \n",
       " 2020-01-03          31103.0                    0.0          52916.0   \n",
       " 2020-01-06          10854.0                    0.0          27538.0   \n",
       " 2020-01-07          17907.0                    0.0          34459.0   \n",
       " 2020-01-08          34909.0                  915.0          69827.0   \n",
       " ...                     ...                    ...              ...   \n",
       " 2021-10-25           4206.0                    0.0          63000.0   \n",
       " 2021-10-26           4965.0                    0.0          43744.0   \n",
       " 2021-10-27          11774.0                    0.0          57047.0   \n",
       " 2021-10-28           3678.0                  100.0          15795.0   \n",
       " 2021-10-29          28520.0                 1566.0          77357.0   \n",
       " \n",
       "             ShortVolumeNYSE  ShortExemptVolumeNYSE  TotalVolumeNYSE  \n",
       " Date                                                                 \n",
       " 2020-01-02           2181.0                    0.0          17993.0  \n",
       " 2020-01-03           5822.0                    0.0          19303.0  \n",
       " 2020-01-06           7772.0                 1011.0          12475.0  \n",
       " 2020-01-07           4305.0                    0.0          13044.0  \n",
       " 2020-01-08           7726.0                    0.0          20654.0  \n",
       " ...                     ...                    ...              ...  \n",
       " 2021-10-25           2041.0                    0.0          13162.0  \n",
       " 2021-10-26           3749.0                    0.0          11302.0  \n",
       " 2021-10-27           1812.0                    0.0          13047.0  \n",
       " 2021-10-28            658.0                    0.0           6320.0  \n",
       " 2021-10-29           6112.0                  400.0          19564.0  \n",
       " \n",
       " [462 rows x 18 columns],\n",
       " 'companyProfile': 0,\n",
       " 'floatData': 0,\n",
       " 'textNews': ['article1', 'article2', 'article3'],\n",
       " 'returns': 'returns_data',\n",
       " 'iex_statistics': {'companyName': 'Aberdeen Income Credit Strategies Fund',\n",
       "  'marketcap': 194019228,\n",
       "  'week52high': 11.92,\n",
       "  'week52low': 9.13,\n",
       "  'week52highSplitAdjustOnly': 12.67,\n",
       "  'week52lowSplitAdjustOnly': 10.14,\n",
       "  'week52change': 0.2189378922121588,\n",
       "  'sharesOutstanding': 17432096,\n",
       "  'float': 0,\n",
       "  'avg10Volume': 137142,\n",
       "  'avg30Volume': 121161,\n",
       "  'day200MovingAvg': 10.98,\n",
       "  'day50MovingAvg': 11.15,\n",
       "  'employees': 0,\n",
       "  'ttmEPS': 0,\n",
       "  'ttmDividendRate': 1.1443256941316111,\n",
       "  'dividendYield': 0.10281452777462811,\n",
       "  'nextDividendDate': '',\n",
       "  'exDividendDate': '2021-11-18',\n",
       "  'nextEarningsDate': '',\n",
       "  'peRatio': 0,\n",
       "  'beta': 0.4417520248505773,\n",
       "  'maxChangePercent': 0.7982356932820629,\n",
       "  'year5ChangePercent': 0.624106230847804,\n",
       "  'year2ChangePercent': 0.3058628902629328,\n",
       "  'year1ChangePercent': 0.2261895581090461,\n",
       "  'ytdChangePercent': 0.14671337317123445,\n",
       "  'month6ChangePercent': 0.026345637800503585,\n",
       "  'month3ChangePercent': 0.010504525934466937,\n",
       "  'month1ChangePercent': -0.00631210549340655,\n",
       "  'day30ChangePercent': -0.00011678779657353644,\n",
       "  'day5ChangePercent': -0.013297872340425454}}"
      ]
     },
     "execution_count": 9,
     "metadata": {},
     "output_type": "execute_result"
    }
   ],
   "source": [
    "notfull_key_list\n",
    "notfull_key_data_dict['ACP']  ## See 'companyProfile' for difference in data between \n",
    "                              ##   full_key_data_dict and notfull_key_data_dict. \n",
    "    ## This means 144 stocks have no value easily to seperate stocks by ETF/Equity \n",
    "    ## Example: if imported_data[symbol]['companyProfile']['isEtf'] == True:"
   ]
  },
  {
   "cell_type": "code",
   "execution_count": 11,
   "id": "565881ab-30de-41db-a711-593fcf30fb26",
   "metadata": {},
   "outputs": [
    {
     "data": {
      "text/plain": [
       "3429"
      ]
     },
     "execution_count": 11,
     "metadata": {},
     "output_type": "execute_result"
    }
   ],
   "source": [
    "full_key_data_dict['TSLA']\n",
    "len(full_key_data_dict)"
   ]
  },
  {
   "cell_type": "code",
   "execution_count": null,
   "id": "9e99c149-6b5d-42a4-9fda-e53c856f6dc4",
   "metadata": {},
   "outputs": [],
   "source": []
  }
 ],
 "metadata": {
  "kernelspec": {
   "display_name": "Python 3",
   "language": "python",
   "name": "python3"
  },
  "language_info": {
   "codemirror_mode": {
    "name": "ipython",
    "version": 3
   },
   "file_extension": ".py",
   "mimetype": "text/x-python",
   "name": "python",
   "nbconvert_exporter": "python",
   "pygments_lexer": "ipython3",
   "version": "3.7.10"
  }
 },
 "nbformat": 4,
 "nbformat_minor": 5
}
