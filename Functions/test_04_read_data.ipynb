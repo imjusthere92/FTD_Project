{
 "cells": [
  {
   "cell_type": "code",
   "execution_count": 1,
   "id": "83459ba6-4058-4e1b-90f0-c37e9d41a533",
   "metadata": {},
   "outputs": [],
   "source": [
    "## Finished DFs with Time-Series data, Fundamentals data, with IEX and (most) FMP statistics attached to \n",
    "## the data dicts. \n",
    "\n",
    "## Data can still be added and appended further - but calling FMP and IEX *should* be finished for the most part. "
   ]
  },
  {
   "cell_type": "code",
   "execution_count": 2,
   "id": "2bcf5c54-75d0-417a-8f14-3b59e98e3b8d",
   "metadata": {},
   "outputs": [],
   "source": [
    "import pandas as pd\n",
    "\n",
    "import glob\n",
    "\n",
    "from pathlib import Path\n",
    "import csv\n",
    "\n",
    "# import os\n",
    "# import requests\n",
    "import json\n",
    "\n",
    "# from dotenv import load_dotenv\n",
    "# load_dotenv()"
   ]
  },
  {
   "cell_type": "code",
   "execution_count": 3,
   "id": "7db4b75a-fb86-4ec6-bf7b-c06c86fca413",
   "metadata": {},
   "outputs": [],
   "source": [
    "## Use pickle module to import and export and save files\n",
    "import pickle\n",
    "def load_obj(path):\n",
    "    with open(path, 'rb') as f:\n",
    "        return pickle.load(f)\n",
    "def save_obj(obj, path ):\n",
    "    with open(path, 'wb') as f:\n",
    "        pickle.dump(obj, f, pickle.HIGHEST_PROTOCOL)"
   ]
  },
  {
   "cell_type": "code",
   "execution_count": null,
   "id": "873fa589-3d9e-4610-bd3c-fe839523aa0d",
   "metadata": {},
   "outputs": [],
   "source": [
    "## Import Data\n",
    "path = Path('../Resources/combined_FMPIEX_complete_data.pkl')\n",
    "imported_data = load_obj(path)"
   ]
  },
  {
   "cell_type": "code",
   "execution_count": null,
   "id": "d1b511e5-1377-4f87-abd8-50f3417abcfc",
   "metadata": {},
   "outputs": [],
   "source": [
    "imported_data['ARKQ']"
   ]
  },
  {
   "cell_type": "code",
   "execution_count": null,
   "id": "bbb7ee42-3213-4a39-ba1f-f2020b93ead8",
   "metadata": {},
   "outputs": [],
   "source": []
  }
 ],
 "metadata": {
  "kernelspec": {
   "display_name": "Python 3",
   "language": "python",
   "name": "python3"
  },
  "language_info": {
   "codemirror_mode": {
    "name": "ipython",
    "version": 3
   },
   "file_extension": ".py",
   "mimetype": "text/x-python",
   "name": "python",
   "nbconvert_exporter": "python",
   "pygments_lexer": "ipython3",
   "version": "3.7.10"
  }
 },
 "nbformat": 4,
 "nbformat_minor": 5
}
