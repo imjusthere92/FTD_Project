{
 "cells": [
  {
   "cell_type": "code",
   "execution_count": 1,
   "id": "5f8d5803-e290-4c42-9d1c-3627c82639dc",
   "metadata": {},
   "outputs": [],
   "source": [
    "## Testing IEX api for getting fundamentals data on both stocks and ETFs"
   ]
  },
  {
   "cell_type": "code",
   "execution_count": 2,
   "id": "7460ce59-9318-4350-8292-a05a262b4fc8",
   "metadata": {},
   "outputs": [
    {
     "data": {
      "text/plain": [
       "True"
      ]
     },
     "execution_count": 2,
     "metadata": {},
     "output_type": "execute_result"
    }
   ],
   "source": [
    "import pandas as pd\n",
    "\n",
    "import glob\n",
    "\n",
    "from pathlib import Path\n",
    "import csv\n",
    "\n",
    "import os\n",
    "import requests\n",
    "import json\n",
    "\n",
    "#import quandl\n",
    "\n",
    "from dotenv import load_dotenv\n",
    "load_dotenv()"
   ]
  },
  {
   "cell_type": "code",
   "execution_count": 3,
   "id": "e0d1da9a-6653-4ae6-a129-c78737f8809b",
   "metadata": {},
   "outputs": [],
   "source": [
    "## Constants \n",
    "\n",
    "## Set start date variable - dataframes will be created starting from this date\n",
    "start_date = '2020-01-01'\n",
    "end_date = '2021-10-29'\n",
    "default_date_range = '2y' ## Default Range for IEX functions - don't need more at the moment"
   ]
  },
  {
   "cell_type": "code",
   "execution_count": 4,
   "id": "410a8cae-5d54-4e8b-a0f9-05958a7ba282",
   "metadata": {},
   "outputs": [
    {
     "data": {
      "text/plain": [
       "<Response [200]>"
      ]
     },
     "execution_count": 4,
     "metadata": {},
     "output_type": "execute_result"
    }
   ],
   "source": [
    "iex_api_key = os.getenv(\"IEX_API_KEY\")\n",
    "iex_test_api_key = os.getenv(\"IEX_TEST_API_KEY\")\n",
    "\n",
    "## Redundant Assignment but improves Readability throughout code \n",
    "real_token = iex_api_key\n",
    "test_token = iex_test_api_key\n",
    "\n",
    "base_url_iex = 'https://cloud.iexapis.com/stable/'\n",
    "sandbox_url = 'https://sandbox.iexapis.com/stable/'\n",
    "\n",
    "## IEX Status Test \n",
    "test_resp = requests.get(base_url_iex + 'status')\n",
    "test_resp"
   ]
  },
  {
   "cell_type": "code",
   "execution_count": 5,
   "id": "068ace70-4b4f-4535-bab8-e551fcb92b5c",
   "metadata": {},
   "outputs": [],
   "source": [
    "token_status = test_token ## Set to either real token or test token "
   ]
  },
  {
   "cell_type": "code",
   "execution_count": 6,
   "id": "0fb5d4fe-a3e9-4ba5-aa98-d4957cbdefb8",
   "metadata": {},
   "outputs": [],
   "source": [
    "## IEX Calls and Functions \n",
    "\n",
    "## Get IEX Chart data - Close Data Only \n",
    "def get_iex_chart(stock_ticker, chart_range=default_date_range,token=token_status):\n",
    "    \n",
    "    if token == test_token:\n",
    "        resp_data = requests.get(sandbox_url+'stock/'+stock_ticker+'/chart/'+chart_range+'?chartCloseOnly=true&token='+test_token)\n",
    "        df = pd.DataFrame(resp_data.json())\n",
    "    elif token == real_token:\n",
    "        resp_data = requests.get(base_url_iex+'stock/'+stock_ticker+'/chart/'+chart_range+'?chartCloseOnly=true&token='+real_token)\n",
    "        df = pd.DataFrame(resp_data.json())\n",
    "\n",
    "    df.rename(columns={'date':'Date'},inplace=True)\n",
    "    df['Date'] = pd.to_datetime(df['Date'])\n",
    "    df.set_index('Date',inplace=True)\n",
    "    \n",
    "    return df"
   ]
  },
  {
   "cell_type": "code",
   "execution_count": 7,
   "id": "20028c56-d2d6-49a0-a5c5-78c658428182",
   "metadata": {},
   "outputs": [],
   "source": [
    "## GET /stock/{symbol}/stats/{stat?}\n",
    "\n",
    "## Write code to get stats on symbols "
   ]
  },
  {
   "cell_type": "code",
   "execution_count": 10,
   "id": "d33b59d8-c5e6-40cc-a844-495bb060c342",
   "metadata": {},
   "outputs": [
    {
     "data": {
      "text/plain": [
       "<Response [200]>"
      ]
     },
     "execution_count": 10,
     "metadata": {},
     "output_type": "execute_result"
    }
   ],
   "source": [
    "test_symbol = 'GME'\n",
    "stock_ticker = test_symbol\n",
    "test_resp = requests.get(\n",
    "    sandbox_url+'stock/'+stock_ticker+'/stats/?token='+test_token)\n",
    "test_resp"
   ]
  },
  {
   "cell_type": "code",
   "execution_count": 12,
   "id": "a497de59-3533-472f-8fdc-e1521c16306f",
   "metadata": {},
   "outputs": [],
   "source": [
    "json_ = test_resp.json()\n",
    "#json_          ## Works. Success. "
   ]
  },
  {
   "cell_type": "code",
   "execution_count": 16,
   "id": "33281765-b15f-4a3e-90fa-b30b0adb766e",
   "metadata": {},
   "outputs": [],
   "source": [
    "## Make function \n",
    "def get_IEX_statistics(stock_ticker, token=token_status):\n",
    "    if token == test_token:\n",
    "        resp_data = requests.get(sandbox_url+'stock/'+stock_ticker+'/stats/?token='+test_token)\n",
    "        data_json = resp_data.json()\n",
    "    elif token == real_token:\n",
    "        resp_data = requests.get(base_url_iex+'stock/'+stock_ticker+'/stats/?token='+real_token)\n",
    "        data_json = resp_data.json()\n",
    "        \n",
    "    return data_json"
   ]
  },
  {
   "cell_type": "code",
   "execution_count": 19,
   "id": "0cbb1c4a-383d-47e2-9bf2-d50e4112fca9",
   "metadata": {},
   "outputs": [
    {
     "data": {
      "text/plain": [
       "{'companyName': 'Vanguard Group, Inc.',\n",
       " 'marketcap': 283908090952,\n",
       " 'week52high': 450.34,\n",
       " 'week52low': 334.54,\n",
       " 'week52highSplitAdjustOnly': 448.27,\n",
       " 'week52lowSplitAdjustOnly': 334.09,\n",
       " 'week52change': 0.319407596161283,\n",
       " 'sharesOutstanding': 660123940,\n",
       " 'float': 0,\n",
       " 'avg10Volume': 4864280,\n",
       " 'avg30Volume': 4324925,\n",
       " 'day200MovingAvg': 422.9,\n",
       " 'day50MovingAvg': 437.63,\n",
       " 'employees': 0,\n",
       " 'ttmEPS': 0,\n",
       " 'ttmDividendRate': 5.372929142899146,\n",
       " 'dividendYield': 0.012279311151432194,\n",
       " 'nextDividendDate': '',\n",
       " 'exDividendDate': '2021-09-23',\n",
       " 'nextEarningsDate': '',\n",
       " 'peRatio': 0,\n",
       " 'beta': 1.016722618637175,\n",
       " 'maxChangePercent': 4.398859291178455,\n",
       " 'year5ChangePercent': 1.387362099655328,\n",
       " 'year2ChangePercent': 0.5627703864173083,\n",
       " 'year1ChangePercent': 0.32309089611402614,\n",
       " 'ytdChangePercent': 0.275277752721393,\n",
       " 'month6ChangePercent': 0.1322431757135797,\n",
       " 'month3ChangePercent': 0.05320886151432555,\n",
       " 'month1ChangePercent': 0.03650197064914479,\n",
       " 'day30ChangePercent': 0.03111148049475528,\n",
       " 'day5ChangePercent': 0.002715560391143472}"
      ]
     },
     "execution_count": 19,
     "metadata": {},
     "output_type": "execute_result"
    }
   ],
   "source": [
    "## Test function\n",
    "test_json = get_IEX_statistics('VOO')\n",
    "test_json"
   ]
  },
  {
   "cell_type": "code",
   "execution_count": null,
   "id": "c589614c-7e1f-4ff5-9c30-39eca6595a05",
   "metadata": {},
   "outputs": [],
   "source": []
  }
 ],
 "metadata": {
  "kernelspec": {
   "display_name": "Python 3",
   "language": "python",
   "name": "python3"
  },
  "language_info": {
   "codemirror_mode": {
    "name": "ipython",
    "version": 3
   },
   "file_extension": ".py",
   "mimetype": "text/x-python",
   "name": "python",
   "nbconvert_exporter": "python",
   "pygments_lexer": "ipython3",
   "version": "3.7.10"
  }
 },
 "nbformat": 4,
 "nbformat_minor": 5
}
