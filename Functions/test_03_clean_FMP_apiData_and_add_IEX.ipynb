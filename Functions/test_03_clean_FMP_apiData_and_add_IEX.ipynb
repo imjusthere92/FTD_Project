{
 "cells": [
  {
   "cell_type": "code",
   "execution_count": 1,
   "id": "32adf7b2-a366-4abf-868b-7499a32a017f",
   "metadata": {},
   "outputs": [],
   "source": [
    "## FMP is being currently used to source historical price data - it is exporting historical data to individual CSV files for each symbol \n",
    "## In theory - should be possible to parse the CSV files for historical data, and append missing data from FMP via IEX and make more \n",
    "## complete data frames. FMP has an issue where it can't source fundamentals data (market cap, outstandingshares) for ETFs. IEX can. \n",
    "## Need to come up with code to fill in the gaps from FMP with IEX data. Unlike FMP, IEX has limited API calls, so should attempt to \n",
    "## source FMP first and then call IEX to fill in gaps \n",
    "\n",
    "## Rewrite of code to be more clean, no test code, and to work more on applying more fields of data to \"Fundamentals field\""
   ]
  },
  {
   "cell_type": "code",
   "execution_count": 2,
   "id": "cad2a386-4587-453c-8440-ea177ed5bc68",
   "metadata": {},
   "outputs": [
    {
     "data": {
      "text/plain": [
       "True"
      ]
     },
     "execution_count": 2,
     "metadata": {},
     "output_type": "execute_result"
    }
   ],
   "source": [
    "import pandas as pd\n",
    "\n",
    "import glob\n",
    "\n",
    "from pathlib import Path\n",
    "import csv\n",
    "\n",
    "import os\n",
    "import requests\n",
    "import json\n",
    "\n",
    "from dotenv import load_dotenv\n",
    "load_dotenv()"
   ]
  },
  {
   "cell_type": "code",
   "execution_count": 3,
   "id": "573e2fe7-5523-412d-9d76-ab061a7d52db",
   "metadata": {},
   "outputs": [
    {
     "data": {
      "text/plain": [
       "<Response [200]>"
      ]
     },
     "execution_count": 3,
     "metadata": {},
     "output_type": "execute_result"
    }
   ],
   "source": [
    "## IEX Constants\n",
    "iex_api_key = os.getenv(\"IEX_API_KEY\")\n",
    "iex_test_api_key = os.getenv(\"IEX_TEST_API_KEY\")\n",
    "\n",
    "## Redundant Assignment but improves Readability throughout code \n",
    "real_token = iex_api_key\n",
    "test_token = iex_test_api_key\n",
    "\n",
    "base_url_iex = 'https://cloud.iexapis.com/stable/'\n",
    "sandbox_url = 'https://sandbox.iexapis.com/stable/'\n",
    "\n",
    "## IEX Status Test \n",
    "test_resp = requests.get(base_url_iex + 'status')\n",
    "test_resp"
   ]
  },
  {
   "cell_type": "code",
   "execution_count": 4,
   "id": "140af762-d7d9-45d9-ab72-1bebaac0193d",
   "metadata": {},
   "outputs": [],
   "source": [
    "token_status = test_token ## Set to either real token or test token for IEX"
   ]
  },
  {
   "cell_type": "code",
   "execution_count": 5,
   "id": "1a6cc5c0-ab7a-449e-b8e4-3cae553ddd3e",
   "metadata": {},
   "outputs": [],
   "source": [
    "## Load IEX to get ETF statistics \n",
    "def get_IEX_statistics(stock_ticker, token=token_status):\n",
    "    if token == test_token:\n",
    "        resp_data = requests.get(sandbox_url+'stock/'+stock_ticker+'/stats/?token='+test_token)\n",
    "        data_json = resp_data.json()\n",
    "    elif token == real_token:\n",
    "        resp_data = requests.get(base_url_iex+'stock/'+stock_ticker+'/stats/?token='+real_token)\n",
    "        data_json = resp_data.json()\n",
    "        \n",
    "    return data_json"
   ]
  },
  {
   "cell_type": "code",
   "execution_count": 6,
   "id": "a035b741-2878-4f68-8cd1-04138d7a20a2",
   "metadata": {},
   "outputs": [],
   "source": [
    "## Use pickle module to import and export and save files\n",
    "import pickle\n",
    "def load_obj(path):\n",
    "    with open(path, 'rb') as f:\n",
    "        return pickle.load(f)\n",
    "def save_obj(obj, path ):\n",
    "    with open(path, 'wb') as f:\n",
    "        pickle.dump(obj, f, pickle.HIGHEST_PROTOCOL)"
   ]
  },
  {
   "cell_type": "code",
   "execution_count": 7,
   "id": "c2a2d374-d6f7-41c7-bc11-a2c90b26da65",
   "metadata": {},
   "outputs": [],
   "source": [
    "## Import files using Pickle\n",
    "imported_data_dict = {}\n",
    "imported_key_list = []\n",
    "## Need to set length manually - check files for max length based off file name \n",
    "def import_data(loop_length):\n",
    "    x=0\n",
    "    y=49\n",
    "    increment=50\n",
    "    \n",
    "    while x < loop_length:\n",
    "        str_symbol1 = str(x)\n",
    "        str_symbol2 = str(y)\n",
    "\n",
    "        pkl_path = Path('../FilesExportCompleteFMP/data_complete_'+str_symbol1+'_'+str_symbol2+'.pkl')\n",
    "        data_obj = load_obj(pkl_path)\n",
    "        data_obj_key_list = []\n",
    "        for key in data_obj.keys():\n",
    "            data_obj_key_list.append(key)  \n",
    "        for symbol in data_obj_key_list:\n",
    "            data = data_obj[symbol]\n",
    "            imported_data_dict[symbol] = data\n",
    "\n",
    "        x += increment\n",
    "        y += increment\n",
    "        if y > loop_length: y = loop_length\n",
    "        \n",
    "    for key in imported_data_dict.keys():\n",
    "        imported_key_list.append(key) "
   ]
  },
  {
   "cell_type": "code",
   "execution_count": 8,
   "id": "895f0f1c-120d-4b0f-aaba-eac2415a4abd",
   "metadata": {},
   "outputs": [],
   "source": [
    "total_length = 21782\n",
    "test_length = 1500\n",
    "import_data(total_length)"
   ]
  },
  {
   "cell_type": "code",
   "execution_count": 9,
   "id": "973a9d21-5a0d-44a4-b35d-0276c1da335d",
   "metadata": {},
   "outputs": [
    {
     "data": {
      "text/plain": [
       "435.0"
      ]
     },
     "execution_count": 9,
     "metadata": {},
     "output_type": "execute_result"
    }
   ],
   "source": [
    "num_files = (total_length-32)/50\n",
    "num_files"
   ]
  },
  {
   "cell_type": "code",
   "execution_count": 10,
   "id": "cb8ac5fc-f682-4ef2-a2f7-df90094297d8",
   "metadata": {},
   "outputs": [
    {
     "data": {
      "text/plain": [
       "3573"
      ]
     },
     "execution_count": 10,
     "metadata": {},
     "output_type": "execute_result"
    }
   ],
   "source": [
    "length_ = len(imported_data_dict)\n",
    "length_"
   ]
  },
  {
   "cell_type": "code",
   "execution_count": 11,
   "id": "015b0c9d-7c77-4bb9-93c5-109bdd66fd3e",
   "metadata": {},
   "outputs": [],
   "source": [
    "# ## Code to shorten imported_key_list for testing purposes \n",
    "# len(imported_key_list)\n",
    "# new_key_list = imported_key_list[0:250]\n",
    "# len(new_key_list)\n",
    "# imported_key_list = new_key_list\n",
    "# short_length = len(imported_key_list)\n",
    "# print(short_length)"
   ]
  },
  {
   "cell_type": "code",
   "execution_count": 12,
   "id": "45f81d3b-73c6-4345-99ed-f056b2dd1cee",
   "metadata": {},
   "outputs": [
    {
     "name": "stdout",
     "output_type": "stream",
     "text": [
      "241 ARKQ\n"
     ]
    }
   ],
   "source": [
    "## How to find index value of specific symbol\n",
    "## Useful for testing \n",
    "index_value = 0\n",
    "length_val = len(imported_key_list)\n",
    "for i in imported_key_list:\n",
    "    if i == 'ARKQ':\n",
    "        print(index_value,i)\n",
    "        break\n",
    "    if index_value == (length_val-1): print(\"NO\")\n",
    "    index_value +=1"
   ]
  },
  {
   "cell_type": "code",
   "execution_count": 13,
   "id": "04d84a9d-836e-4d15-88e0-6eebcd70cee7",
   "metadata": {},
   "outputs": [],
   "source": [
    "## Seperate data that has all FMP data, and data that is missing FMP data \n",
    "full_key_list = []\n",
    "full_key_data_dict = {}\n",
    "notfull_key_list = []\n",
    "notfull_key_data_dict = {}\n",
    "for i in imported_key_list:\n",
    "    if imported_data_dict[i]['companyProfile'] != 0:\n",
    "        full_key_list.append(i)\n",
    "#         data = imported_data_dict[i]\n",
    "#         full_key_data_dict[i] = data\n",
    "    elif imported_data_dict[i]['companyProfile'] == 0:\n",
    "        notfull_key_list.append(i)\n",
    "#         data = imported_data_dict[i]\n",
    "#         notfull_key_data_dict[i] = data  "
   ]
  },
  {
   "cell_type": "code",
   "execution_count": 14,
   "id": "8f414cff-06c3-4fa8-9df1-fb9fca926e3f",
   "metadata": {},
   "outputs": [
    {
     "data": {
      "text/plain": [
       "144"
      ]
     },
     "execution_count": 14,
     "metadata": {},
     "output_type": "execute_result"
    }
   ],
   "source": [
    "len(notfull_key_list)"
   ]
  },
  {
   "cell_type": "code",
   "execution_count": 15,
   "id": "5aea01bb-c031-4c1d-8460-2282ffae209c",
   "metadata": {},
   "outputs": [
    {
     "data": {
      "text/plain": [
       "'sk_abbc88c6443e49a68210d0009cb92885'"
      ]
     },
     "execution_count": 15,
     "metadata": {},
     "output_type": "execute_result"
    }
   ],
   "source": [
    "iex_token = real_token ## Set to either real token or test token for IEX - 35,545 tokens used\n",
    "iex_token"
   ]
  },
  {
   "cell_type": "code",
   "execution_count": 16,
   "id": "b846441b-ef74-4cb1-9f12-c02b05ca5531",
   "metadata": {},
   "outputs": [],
   "source": [
    "## Run through all imported symbols from ../FilesExportCompleteFMP/..\n",
    "for i in imported_key_list: \n",
    "    iex_etf_stats = get_IEX_statistics(i,token=iex_token)\n",
    "    #sharesOutstanding = iex_etf_stats['sharesOutstanding']   \n",
    "    imported_data_dict[i]['Fundamentals']['sharesOutstanding'] = iex_etf_stats['sharesOutstanding']\n",
    "    imported_data_dict[i]['Fundamentals']['peRatio'] = iex_etf_stats['peRatio']\n",
    "    imported_data_dict[i]['Fundamentals']['beta'] = iex_etf_stats['beta']\n",
    "    imported_data_dict[i]['Fundamentals']['week52high'] = iex_etf_stats['week52high']\n",
    "    imported_data_dict[i]['Fundamentals']['week52low'] = iex_etf_stats['week52low']\n",
    "    imported_data_dict[i]['Fundamentals']['week52change'] = iex_etf_stats['week52change']\n",
    "    imported_data_dict[i]['Fundamentals']['avg10Volume'] = iex_etf_stats['avg10Volume']\n",
    "    imported_data_dict[i]['Fundamentals']['avg30Volume'] = iex_etf_stats['avg30Volume']\n",
    "    imported_data_dict[i]['Fundamentals']['marketcap_IEX'] = iex_etf_stats['marketcap']    \n",
    "    \n",
    "    ## Replace 'marketCap' and put into 'marketcap_FMP', then delete 'marketCap' to seperate sources\n",
    "    imported_data_dict[i]['Fundamentals']['marketcap_FMP'] = imported_data_dict[i]['Fundamentals']['marketCap']\n",
    "    del imported_data_dict[i]['Fundamentals']['marketCap']\n",
    "    del imported_data_dict[i]['Fundamentals']['price_earnings']\n",
    "    \n",
    "    imported_data_dict[i]['iex_statistics'] = iex_etf_stats"
   ]
  },
  {
   "cell_type": "code",
   "execution_count": 17,
   "id": "f47fae45-ce44-4b66-a5fa-d861ca3f2281",
   "metadata": {},
   "outputs": [],
   "source": [
    "# for i in full_key_list: \n",
    "#     iex_etf_stats = get_IEX_statistics(i)\n",
    "#     #sharesOutstanding = iex_etf_stats['sharesOutstanding']   \n",
    "#     full_key_data_dict[i]['Fundamentals']['sharesOutstanding'] = iex_etf_stats['sharesOutstanding']\n",
    "#     full_key_data_dict[i]['Fundamentals']['peRatio'] = iex_etf_stats['peRatio']\n",
    "#     full_key_data_dict[i]['Fundamentals']['beta'] = iex_etf_stats['beta']\n",
    "#     full_key_data_dict[i]['Fundamentals']['week52high'] = iex_etf_stats['week52high']\n",
    "#     full_key_data_dict[i]['Fundamentals']['week52low'] = iex_etf_stats['week52low']\n",
    "#     full_key_data_dict[i]['Fundamentals']['week52change'] = iex_etf_stats['week52change']\n",
    "#     full_key_data_dict[i]['Fundamentals']['avg10Volume'] = iex_etf_stats['avg10Volume']\n",
    "#     full_key_data_dict[i]['Fundamentals']['avg30Volume'] = iex_etf_stats['avg30Volume']\n",
    "#     full_key_data_dict[i]['Fundamentals']['marketcap_IEX'] = iex_etf_stats['marketcap']    \n",
    "    \n",
    "#     ## Replace 'marketCap' and put into 'marketcap_FMP', then delete 'marketCap' to seperate sources\n",
    "#     full_key_data_dict[i]['Fundamentals']['marketcap_FMP'] = full_key_data_dict[i]['Fundamentals']['marketCap']\n",
    "#     del full_key_data_dict[i]['Fundamentals']['marketCap']\n",
    "#     del full_key_data_dict[i]['Fundamentals']['price_earnings']\n",
    "    \n",
    "#     full_key_data_dict[i]['iex_statistics'] = iex_etf_stats\n",
    "    \n",
    "# # ## Export equity/etf data \n",
    "# # pkl_path = Path('../Resources/full_IEX_FMP_data_dict.pkl')\n",
    "# # save_obj(full_key_data_dict,pkl_path)"
   ]
  },
  {
   "cell_type": "code",
   "execution_count": 18,
   "id": "e06c89fb-4472-44f8-b008-4c32933482dd",
   "metadata": {},
   "outputs": [
    {
     "data": {
      "text/plain": [
       "{'Fundamentals': {'sharesOutstanding': 10700000,\n",
       "  'floatShares': 0,\n",
       "  'debt_ratio': 'debt_ratioValue',\n",
       "  'exchange': 'New York Stock Exchange Arca',\n",
       "  'final_close_price': 94.29,\n",
       "  'peRatio': 0,\n",
       "  'beta': 0.6972426471795934,\n",
       "  'week52high': 104.31,\n",
       "  'week52low': 58.7,\n",
       "  'week52change': 0.6556517112668445,\n",
       "  'avg10Volume': 3833057,\n",
       "  'avg30Volume': 3130799,\n",
       "  'marketcap_IEX': 1065506000,\n",
       "  'marketcap_FMP': 1204937984},\n",
       " 'dataFrame':                  open       high        low      close   adjClose     volume  \\\n",
       " Date                                                                           \n",
       " 2020-01-02  46.540001  46.540001  45.439999  45.660000  44.978550  3539300.0   \n",
       " 2020-01-03  45.040001  45.500000  45.009998  45.310001  44.633770  4236000.0   \n",
       " 2020-01-06  45.099998  45.549999  44.930000  45.470001  44.791386  3350300.0   \n",
       " 2020-01-07  45.500000  45.680000  45.020000  45.310001  44.633770  2889600.0   \n",
       " 2020-01-08  45.730000  45.779999  45.189999  45.400002  44.722431  4679700.0   \n",
       " ...               ...        ...        ...        ...        ...        ...   \n",
       " 2021-10-25  94.600000  96.220000  94.550000  95.980000  95.980000  6246853.0   \n",
       " 2021-10-26  96.300000  96.500000  94.020000  94.070000  94.070000  1764298.0   \n",
       " 2021-10-27  94.180000  94.260000  91.880000  91.910000  91.910000  2340433.0   \n",
       " 2021-10-28  92.420000  93.850000  92.345000  93.540000  93.540000  1577199.0   \n",
       " 2021-10-29  93.580000  94.355000  93.145000  94.290000  94.290000  2829061.0   \n",
       " \n",
       "             unadjustedVolume  change  changePercent      vwap  changeOverTime  \\\n",
       " Date                                                                            \n",
       " 2020-01-02         3539300.0   -0.88         -1.891  45.88000        -0.01891   \n",
       " 2020-01-03         4236000.0    0.27          0.599  45.27333         0.00599   \n",
       " 2020-01-06         3350300.0    0.37          0.820  45.31667         0.00820   \n",
       " 2020-01-07         2889600.0   -0.19         -0.418  45.33667        -0.00418   \n",
       " 2020-01-08         4679700.0   -0.33         -0.722  45.45667        -0.00722   \n",
       " ...                      ...     ...            ...       ...             ...   \n",
       " 2021-10-25         6246853.0    1.38          1.459  95.58333         0.01459   \n",
       " 2021-10-26         1764298.0   -2.23         -2.316  94.86333        -0.02316   \n",
       " 2021-10-27         2340433.0   -2.27         -2.410  92.68333        -0.02410   \n",
       " 2021-10-28         1577199.0    1.12          1.212  93.24500         0.01212   \n",
       " 2021-10-29         2829061.0    0.71          0.759  93.93000         0.00759   \n",
       " \n",
       "             QUANTITY_FAILS  ShortVolumeNSDQ  ShortExemptVolumeNSDQ  \\\n",
       " Date                                                                 \n",
       " 2020-01-02         98778.0         562088.0                    0.0   \n",
       " 2020-01-03          5411.0         358132.0                    0.0   \n",
       " 2020-01-06         49843.0         429475.0                    0.0   \n",
       " 2020-01-07          5981.0         303716.0                 2990.0   \n",
       " 2020-01-08         48788.0         553441.0                  550.0   \n",
       " ...                    ...              ...                    ...   \n",
       " 2021-10-25          7014.0         161638.0                    6.0   \n",
       " 2021-10-26          5456.0         160384.0                  100.0   \n",
       " 2021-10-27          8326.0         203865.0                  325.0   \n",
       " 2021-10-28             0.0          82810.0                  320.0   \n",
       " 2021-10-29        459523.0         319923.0                  483.0   \n",
       " \n",
       "             TotalVolumeNSDQ  ShortVolumeNYSE  ShortExemptVolumeNYSE  \\\n",
       " Date                                                                  \n",
       " 2020-01-02         761798.0           5894.0                    0.0   \n",
       " 2020-01-03         536933.0            903.0                    0.0   \n",
       " 2020-01-06         661267.0           2282.0                    0.0   \n",
       " 2020-01-07         364423.0           7250.0                    0.0   \n",
       " 2020-01-08         716071.0           4421.0                    0.0   \n",
       " ...                     ...              ...                    ...   \n",
       " 2021-10-25         240430.0           7683.0                    0.0   \n",
       " 2021-10-26         264383.0           9665.0                    0.0   \n",
       " 2021-10-27         285294.0           3934.0                    0.0   \n",
       " 2021-10-28         172704.0           4273.0                    7.0   \n",
       " 2021-10-29         596548.0           4165.0                   12.0   \n",
       " \n",
       "             TotalVolumeNYSE  \n",
       " Date                         \n",
       " 2020-01-02          31867.0  \n",
       " 2020-01-03          13053.0  \n",
       " 2020-01-06          12849.0  \n",
       " 2020-01-07          19022.0  \n",
       " 2020-01-08           7443.0  \n",
       " ...                     ...  \n",
       " 2021-10-25          16256.0  \n",
       " 2021-10-26          15153.0  \n",
       " 2021-10-27           8495.0  \n",
       " 2021-10-28          15505.0  \n",
       " 2021-10-29          12837.0  \n",
       " \n",
       " [462 rows x 18 columns],\n",
       " 'companyProfile': {'symbol': 'XRT',\n",
       "  'price': 99.58,\n",
       "  'beta': 0.0,\n",
       "  'volAvg': 2869864,\n",
       "  'mktCap': 1204937984,\n",
       "  'lastDiv': 0.717,\n",
       "  'range': '59.24-104.31',\n",
       "  'changes': -1.3899994,\n",
       "  'companyName': 'SPDR S&P Retail ETF',\n",
       "  'currency': 'USD',\n",
       "  'cik': None,\n",
       "  'isin': 'US78464A7147',\n",
       "  'cusip': None,\n",
       "  'exchange': 'New York Stock Exchange Arca',\n",
       "  'exchangeShortName': 'AMEX',\n",
       "  'industry': '',\n",
       "  'website': '',\n",
       "  'description': 'XRT was created on 06/19/06 by State Street Global Advisors. The ETF tracks a broad-based, equal-weighted index of stocks in the US retail industry.',\n",
       "  'ceo': 'None',\n",
       "  'sector': '',\n",
       "  'country': 'US',\n",
       "  'fullTimeEmployees': None,\n",
       "  'phone': '866-787-2257',\n",
       "  'address': '',\n",
       "  'city': '',\n",
       "  'state': '',\n",
       "  'zip': None,\n",
       "  'dcfDiff': None,\n",
       "  'dcf': 0.0,\n",
       "  'image': 'https://fmpcloud.io/image-stock/XRT.png',\n",
       "  'ipoDate': '2006-06-19',\n",
       "  'defaultImage': False,\n",
       "  'isEtf': True,\n",
       "  'isActivelyTrading': True,\n",
       "  'isAdr': False,\n",
       "  'isFund': False},\n",
       " 'floatData': 0,\n",
       " 'textNews': ['article1', 'article2', 'article3'],\n",
       " 'returns': 'returns_data',\n",
       " 'iex_statistics': {'companyName': 'SPDR Series Trust',\n",
       "  'marketcap': 1065506000,\n",
       "  'week52high': 104.31,\n",
       "  'week52low': 58.7,\n",
       "  'week52highSplitAdjustOnly': 104.31,\n",
       "  'week52lowSplitAdjustOnly': 59.24,\n",
       "  'week52change': 0.6556517112668445,\n",
       "  'sharesOutstanding': 10700000,\n",
       "  'float': 0,\n",
       "  'avg10Volume': 3833057,\n",
       "  'avg30Volume': 3130799,\n",
       "  'day200MovingAvg': 94.98,\n",
       "  'day50MovingAvg': 97.02,\n",
       "  'employees': 0,\n",
       "  'ttmEPS': 0,\n",
       "  'ttmDividendRate': 0.715011752434804,\n",
       "  'dividendYield': 0.007180274677995622,\n",
       "  'nextDividendDate': '2021-12-20',\n",
       "  'exDividendDate': '2021-09-20',\n",
       "  'nextEarningsDate': '',\n",
       "  'peRatio': 0,\n",
       "  'beta': 0.6972426471795934,\n",
       "  'maxChangePercent': 5.006611011919124,\n",
       "  'year5ChangePercent': 1.28003333730206,\n",
       "  'year2ChangePercent': 1.328332803351976,\n",
       "  'year1ChangePercent': 0.6529282292520824,\n",
       "  'ytdChangePercent': 0.5560177321643147,\n",
       "  'month6ChangePercent': 0.0931133202191934,\n",
       "  'month3ChangePercent': 0.0257931663921398,\n",
       "  'month1ChangePercent': 0.05397967823878069,\n",
       "  'day30ChangePercent': 0.03750781412794324,\n",
       "  'day5ChangePercent': -0.02151911172251153}}"
      ]
     },
     "execution_count": 18,
     "metadata": {},
     "output_type": "execute_result"
    }
   ],
   "source": [
    "imported_data_dict['XRT']"
   ]
  },
  {
   "cell_type": "code",
   "execution_count": 19,
   "id": "bb3f516c-b017-4610-86c8-8ba08fcd07a5",
   "metadata": {},
   "outputs": [],
   "source": [
    "pkl_path_complete= Path('../Resources/combined_FMPIEX_complete_data.pkl')\n",
    "save_obj(imported_data_dict,pkl_path_complete)"
   ]
  },
  {
   "cell_type": "code",
   "execution_count": null,
   "id": "c6a07ac6-f570-456a-848f-c7869823ec19",
   "metadata": {},
   "outputs": [],
   "source": []
  }
 ],
 "metadata": {
  "kernelspec": {
   "display_name": "Python 3",
   "language": "python",
   "name": "python3"
  },
  "language_info": {
   "codemirror_mode": {
    "name": "ipython",
    "version": 3
   },
   "file_extension": ".py",
   "mimetype": "text/x-python",
   "name": "python",
   "nbconvert_exporter": "python",
   "pygments_lexer": "ipython3",
   "version": "3.7.10"
  }
 },
 "nbformat": 4,
 "nbformat_minor": 5
}
