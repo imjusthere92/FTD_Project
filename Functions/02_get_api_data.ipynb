{
 "cells": [
  {
   "cell_type": "code",
   "execution_count": 2,
   "id": "852c1b79-6f12-4f87-8e2c-507b08d4c88c",
   "metadata": {},
   "outputs": [],
   "source": [
    "## File for searching and adding IEX stock data \n",
    "## Will search and append all historical data to all stocks \n",
    "## Should only be run once, then saved, and not run again in order to conserve API Calls \n",
    "\n",
    "## Watch difference between real and sandbox keys for testing purposes "
   ]
  },
  {
   "cell_type": "code",
   "execution_count": 4,
   "id": "5c74f62a-139e-44b9-a93e-5927792669ed",
   "metadata": {},
   "outputs": [
    {
     "data": {
      "text/plain": [
       "True"
      ]
     },
     "execution_count": 4,
     "metadata": {},
     "output_type": "execute_result"
    }
   ],
   "source": [
    "import pandas as pd\n",
    "\n",
    "import glob\n",
    "\n",
    "from pathlib import Path\n",
    "import csv\n",
    "\n",
    "import os\n",
    "import requests\n",
    "import json\n",
    "\n",
    "import quandl\n",
    "from iexfinance.stocks import Stock\n",
    "\n",
    "from dotenv import load_dotenv\n",
    "load_dotenv()"
   ]
  },
  {
   "cell_type": "code",
   "execution_count": 5,
   "id": "6b73d78c-41a4-4b29-acb5-adc372ab3e62",
   "metadata": {},
   "outputs": [],
   "source": [
    "## Constants \n",
    "\n",
    "## Set start date variable - dataframes will be created starting from this date\n",
    "start_date = '2020-01-01'\n",
    "end_date = '2021-10-14'\n",
    "default_date_range = '2y' ## Default Range for IEX functions - don't need more at the moment"
   ]
  },
  {
   "cell_type": "code",
   "execution_count": 6,
   "id": "d5fe24e6-dfbc-4acf-9616-cbe227adf289",
   "metadata": {},
   "outputs": [
    {
     "data": {
      "text/plain": [
       "<Response [200]>"
      ]
     },
     "execution_count": 6,
     "metadata": {},
     "output_type": "execute_result"
    }
   ],
   "source": [
    "## QUANDL/NASDAQ \n",
    "nsdq_api_key = os.environ.get('NASDAQ_API_KEY')\n",
    "base_url_nsdq = 'https://data.nasdaq.com/api/v3/datasets/FINRA/'\n",
    "\n",
    "iex_api_key = os.getenv(\"IEX_API_KEY\")\n",
    "iex_test_api_key = os.getenv(\"IEX_TEST_API_KEY\")\n",
    "\n",
    "## Redundant Assignment but improves Readability throughout code \n",
    "real_token = iex_api_key\n",
    "test_token = iex_test_api_key\n",
    "\n",
    "base_url_iex = 'https://cloud.iexapis.com/stable/'\n",
    "sandbox_url = 'https://sandbox.iexapis.com/stable/'\n",
    "\n",
    "## IEX Status Test \n",
    "test_resp = requests.get(base_url_iex + 'status')\n",
    "test_resp"
   ]
  },
  {
   "cell_type": "code",
   "execution_count": 7,
   "id": "bbdad2d8-0f3e-4686-b673-e0bd14e02228",
   "metadata": {},
   "outputs": [],
   "source": [
    "token_status = real_token ## Set to either real token or test token "
   ]
  },
  {
   "cell_type": "code",
   "execution_count": 9,
   "id": "2ca05439-684f-4564-b24d-6ff94d9a8391",
   "metadata": {},
   "outputs": [],
   "source": [
    "## Import FTD File and Symbol List using Pickle \n",
    "# ftd_df = load_obj('AnalysisResources/analysis_ftd_all_data.pkl')\n",
    "# symbol_df = load_obj('AnalysisResources/analysis_symbol_all_list.pkl')\n",
    "\n",
    "\n",
    "## Import FTD File using CSV \n",
    "ftd_df = pd.read_csv(\n",
    "    Path('../Resources/ftd_all_data.csv'),\n",
    "    index_col=0, parse_dates=True\n",
    ")\n",
    "\n",
    "## Import Symbol and CUSIP list using CSV\n",
    "symbol_df = pd.read_csv(\n",
    "    Path('../Resources/symbol_all_list.csv'),\n",
    "    index_col=0\n",
    ")"
   ]
  },
  {
   "cell_type": "code",
   "execution_count": null,
   "id": "6a404e45-335c-4897-ae3a-56da18cdf5bd",
   "metadata": {},
   "outputs": [],
   "source": []
  }
 ],
 "metadata": {
  "kernelspec": {
   "display_name": "Python 3",
   "language": "python",
   "name": "python3"
  },
  "language_info": {
   "codemirror_mode": {
    "name": "ipython",
    "version": 3
   },
   "file_extension": ".py",
   "mimetype": "text/x-python",
   "name": "python",
   "nbconvert_exporter": "python",
   "pygments_lexer": "ipython3",
   "version": "3.7.10"
  }
 },
 "nbformat": 4,
 "nbformat_minor": 5
}
