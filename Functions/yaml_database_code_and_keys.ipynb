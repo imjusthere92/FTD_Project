{
 "cells": [
  {
   "cell_type": "code",
   "execution_count": 1,
   "id": "691da5b3-6cad-4414-b3e0-89bc5fcc332c",
   "metadata": {},
   "outputs": [],
   "source": [
    "database_yaml = [{\n",
    "    'StockSymbol':{\n",
    "        'Fundamentals':\n",
    "            {\n",
    "                'sharesOut':'share_variable',\n",
    "                'floatShares':'float_variable',\n",
    "                'marketCap':'market_cap_variable',\n",
    "                'debt_ratio':'debt_variable',\n",
    "                'price_earnings':'price_earnings_var'},\n",
    "        'dataframe':\n",
    "            'df',\n",
    "        'text/News':['article1','article2','andSoOn'],\n",
    "        'nextNewThing':'whatever',\n",
    "        'savePathVariable':'saveToThisPath'\n",
    "    },\n",
    "}]"
   ]
  },
  {
   "cell_type": "code",
   "execution_count": 2,
   "id": "af6df320-b5d2-4f5f-a9a2-c651815857bd",
   "metadata": {},
   "outputs": [
    {
     "data": {
      "text/plain": [
       "{'Fundamentals': {'sharesOut': 'share_variable',\n",
       "  'floatShares': 'float_variable',\n",
       "  'marketCap': 'market_cap_variable',\n",
       "  'debt_ratio': 'debt_variable',\n",
       "  'price_earnings': 'price_earnings_var'},\n",
       " 'dataframe': 'df',\n",
       " 'text/News': ['article1', 'article2', 'andSoOn'],\n",
       " 'nextNewThing': 'whatever',\n",
       " 'savePathVariable': 'saveToThisPath'}"
      ]
     },
     "execution_count": 2,
     "metadata": {},
     "output_type": "execute_result"
    }
   ],
   "source": [
    "database_yaml[0]['StockSymbol']"
   ]
  },
  {
   "cell_type": "code",
   "execution_count": 19,
   "id": "3dd7ccaa-9b3a-460e-8c79-b269ec34a3a1",
   "metadata": {},
   "outputs": [
    {
     "data": {
      "text/plain": [
       "{'Fundamentals': ['sharesOut', 'marketCap', 'etc'], 'dataframe': 'df'}"
      ]
     },
     "execution_count": 19,
     "metadata": {},
     "output_type": "execute_result"
    }
   ],
   "source": [
    "database_yaml[0]['goog']"
   ]
  },
  {
   "cell_type": "code",
   "execution_count": 9,
   "id": "4777b529-054e-4ded-8aeb-57f01600a7cb",
   "metadata": {},
   "outputs": [
    {
     "data": {
      "text/plain": [
       "'df'"
      ]
     },
     "execution_count": 9,
     "metadata": {},
     "output_type": "execute_result"
    }
   ],
   "source": [
    "database_yaml[0]['aapl']['Fundamentals']"
   ]
  },
  {
   "cell_type": "code",
   "execution_count": null,
   "id": "1042a26b-0ba2-45a9-a99b-1f6fa884cb8a",
   "metadata": {},
   "outputs": [],
   "source": []
  }
 ],
 "metadata": {
  "kernelspec": {
   "display_name": "Python 3",
   "language": "python",
   "name": "python3"
  },
  "language_info": {
   "codemirror_mode": {
    "name": "ipython",
    "version": 3
   },
   "file_extension": ".py",
   "mimetype": "text/x-python",
   "name": "python",
   "nbconvert_exporter": "python",
   "pygments_lexer": "ipython3",
   "version": "3.7.10"
  }
 },
 "nbformat": 4,
 "nbformat_minor": 5
}
