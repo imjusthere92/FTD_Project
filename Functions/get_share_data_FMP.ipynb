{
 "cells": [
  {
   "cell_type": "code",
   "execution_count": 1,
   "id": "e7326e0c",
   "metadata": {},
   "outputs": [
    {
     "data": {
      "text/plain": [
       "True"
      ]
     },
     "execution_count": 1,
     "metadata": {},
     "output_type": "execute_result"
    }
   ],
   "source": [
    "import os\n",
    "import requests\n",
    "import pandas as pd\n",
    "import numpy as np\n",
    "import json\n",
    "\n",
    "import glob\n",
    "from pathlib import Path\n",
    "import csv\n",
    "\n",
    "from dotenv import load_dotenv\n",
    "load_dotenv()"
   ]
  },
  {
   "cell_type": "code",
   "execution_count": 5,
   "id": "f2f15a03",
   "metadata": {},
   "outputs": [],
   "source": [
    "fmp_api_key = os.environ.get('FMP_API_KEY')\n",
    "fmp_api_key1= \"d98797e3948c3155f9ff4ad7b9513b95\""
   ]
  },
  {
   "cell_type": "code",
   "execution_count": 13,
   "id": "56b758ec",
   "metadata": {},
   "outputs": [],
   "source": [
    "# https://financialmodelingprep.com/api/v4/shares_float?symbol=AAPL&apikey=YOUR_API_KEY\n",
    "base_url = 'https://financialmodelingprep.com/api/v4/'\n",
    "resp_data = requests.get(base_url+'shares_float?symbol=MSFT&apikey='+fmp_api_key1)"
   ]
  },
  {
   "cell_type": "code",
   "execution_count": 14,
   "id": "b1a9b0ee",
   "metadata": {},
   "outputs": [
    {
     "data": {
      "text/plain": [
       "<Response [403]>"
      ]
     },
     "execution_count": 14,
     "metadata": {},
     "output_type": "execute_result"
    }
   ],
   "source": [
    "resp_data"
   ]
  },
  {
   "cell_type": "code",
   "execution_count": 15,
   "id": "efa4e39d",
   "metadata": {},
   "outputs": [
    {
     "data": {
      "text/plain": [
       "{'Error Message': 'Special Endpoint : this endpoint is only for premium members please visit our subscription page to upgrade your plan at https://financialmodelingprep.com/developer/docs/pricing'}"
      ]
     },
     "execution_count": 15,
     "metadata": {},
     "output_type": "execute_result"
    }
   ],
   "source": [
    "resp_data.json()"
   ]
  },
  {
   "cell_type": "code",
   "execution_count": null,
   "id": "df5c5c5e",
   "metadata": {},
   "outputs": [],
   "source": []
  }
 ],
 "metadata": {
  "kernelspec": {
   "display_name": "Python [conda env:pyvizenv] *",
   "language": "python",
   "name": "conda-env-pyvizenv-py"
  },
  "language_info": {
   "codemirror_mode": {
    "name": "ipython",
    "version": 3
   },
   "file_extension": ".py",
   "mimetype": "text/x-python",
   "name": "python",
   "nbconvert_exporter": "python",
   "pygments_lexer": "ipython3",
   "version": "3.7.10"
  }
 },
 "nbformat": 4,
 "nbformat_minor": 5
}
