{
 "cells": [
  {
   "cell_type": "code",
   "execution_count": 1,
   "id": "f180fed0",
   "metadata": {},
   "outputs": [
    {
     "data": {
      "text/plain": [
       "True"
      ]
     },
     "execution_count": 1,
     "metadata": {},
     "output_type": "execute_result"
    }
   ],
   "source": [
    "import pandas as pd\n",
    "\n",
    "import glob\n",
    "\n",
    "from pathlib import Path\n",
    "import csv\n",
    "import pickle\n",
    "\n",
    "import os\n",
    "import requests\n",
    "import json\n",
    "\n",
    "#import quandl\n",
    "\n",
    "\n",
    "from dotenv import load_dotenv\n",
    "load_dotenv()"
   ]
  },
  {
   "cell_type": "code",
   "execution_count": 2,
   "id": "88e86fba",
   "metadata": {},
   "outputs": [],
   "source": [
    "def load_obj(path):\n",
    "    with open(path, 'rb') as f:\n",
    "        return pickle.load(f)\n",
    "    \n",
    "def save_obj(obj, path ):\n",
    "    with open(path, 'wb') as f:\n",
    "        pickle.dump(obj, f, pickle.HIGHEST_PROTOCOL)"
   ]
  },
  {
   "cell_type": "code",
   "execution_count": 3,
   "id": "bed05842",
   "metadata": {},
   "outputs": [],
   "source": [
    "pkl_path_1 = Path('../Resources/complete_data_0_10000.pkl')\n",
    "#pkl_path_2 = Path('../Resources/incomplete_data_0_10000.pkl')\n",
    "complete_data  = load_obj(pkl_path_1)\n",
    "#incomplete_data= load_obj(pkl_path_2)"
   ]
  },
  {
   "cell_type": "code",
   "execution_count": 4,
   "id": "1948d682",
   "metadata": {},
   "outputs": [
    {
     "data": {
      "text/plain": [
       "2519"
      ]
     },
     "execution_count": 4,
     "metadata": {},
     "output_type": "execute_result"
    }
   ],
   "source": [
    "key_list = []\n",
    "for key in complete_data.keys():\n",
    "    key_list.append(key)  \n",
    "len(key_list)"
   ]
  },
  {
   "cell_type": "code",
   "execution_count": 16,
   "id": "b4fc6c9c",
   "metadata": {},
   "outputs": [
    {
     "data": {
      "text/plain": [
       "'ABT'"
      ]
     },
     "execution_count": 16,
     "metadata": {},
     "output_type": "execute_result"
    }
   ],
   "source": [
    "index_test = key_list[30]\n",
    "index_test"
   ]
  },
  {
   "cell_type": "code",
   "execution_count": 17,
   "id": "6d21afa6",
   "metadata": {},
   "outputs": [],
   "source": [
    "#complete_data[index_test].head()"
   ]
  },
  {
   "cell_type": "code",
   "execution_count": 18,
   "id": "0a991fc5",
   "metadata": {},
   "outputs": [],
   "source": [
    "## Get sharesOutstanding and floatShares from Yahoo Finance \n",
    "## Please find a better source \n",
    "## IEX can be used for sharesOutstanding but not floatShares :\\ \n",
    "import yfinance as yf\n",
    "def get_ticker_info_yf(symbol):\n",
    "    str_symbol = str(symbol)\n",
    "    ticker = yf.Ticker(str_symbol)\n",
    "    ticker_info = ticker.info\n",
    "    try:\n",
    "        sharesOutstanding = ticker_info['sharesOutstanding']\n",
    "    except KeyError:\n",
    "        sharesOutstanding = 0\n",
    "    try:\n",
    "        floatShares = ticker_info['floatShares']\n",
    "    except KeyError:\n",
    "        floatShares = 0\n",
    "    dictionary = {\n",
    "        'sharesOutstanding' : sharesOutstanding,\n",
    "        'floatShares' : floatShares\n",
    "    }\n",
    "    return dictionary"
   ]
  },
  {
   "cell_type": "code",
   "execution_count": 23,
   "id": "6b70c0c6",
   "metadata": {},
   "outputs": [
    {
     "data": {
      "text/plain": [
       "{'sharesOutstanding': 1772819968, 'floatShares': 1759361665}"
      ]
     },
     "execution_count": 23,
     "metadata": {},
     "output_type": "execute_result"
    }
   ],
   "source": [
    "info_test = get_ticker_info_yf(index_test)\n",
    "info_test"
   ]
  },
  {
   "cell_type": "code",
   "execution_count": 24,
   "id": "d5d9fb13",
   "metadata": {},
   "outputs": [],
   "source": [
    "## FTD vs sharesOutstanding and floatShares test \n",
    "test_df = complete_data[index_test].copy()\n",
    "ftd_sum = test_df.QUANTITY_FAILS.sum()"
   ]
  },
  {
   "cell_type": "code",
   "execution_count": 25,
   "id": "9c5d096c",
   "metadata": {},
   "outputs": [
    {
     "data": {
      "text/plain": [
       "0.000639256676061988"
      ]
     },
     "execution_count": 25,
     "metadata": {},
     "output_type": "execute_result"
    }
   ],
   "source": [
    "pct_ftd_SO = ftd_sum / info_test['sharesOutstanding'] \n",
    "pct_ftd_SO"
   ]
  },
  {
   "cell_type": "code",
   "execution_count": 26,
   "id": "3d85d2ea",
   "metadata": {},
   "outputs": [
    {
     "data": {
      "text/plain": [
       "0.0006441466939658481"
      ]
     },
     "execution_count": 26,
     "metadata": {},
     "output_type": "execute_result"
    }
   ],
   "source": [
    "pct_ftd_float = ftd_sum / info_test['floatShares'] \n",
    "pct_ftd_float"
   ]
  },
  {
   "cell_type": "code",
   "execution_count": null,
   "id": "4f27f082",
   "metadata": {},
   "outputs": [],
   "source": []
  }
 ],
 "metadata": {
  "kernelspec": {
   "display_name": "Python 3",
   "language": "python",
   "name": "python3"
  },
  "language_info": {
   "codemirror_mode": {
    "name": "ipython",
    "version": 3
   },
   "file_extension": ".py",
   "mimetype": "text/x-python",
   "name": "python",
   "nbconvert_exporter": "python",
   "pygments_lexer": "ipython3",
   "version": "3.7.10"
  }
 },
 "nbformat": 4,
 "nbformat_minor": 5
}
