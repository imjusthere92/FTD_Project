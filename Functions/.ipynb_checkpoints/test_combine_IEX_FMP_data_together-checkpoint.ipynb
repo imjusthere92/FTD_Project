{
 "cells": [
  {
   "cell_type": "code",
   "execution_count": 1,
   "id": "32adf7b2-a366-4abf-868b-7499a32a017f",
   "metadata": {},
   "outputs": [],
   "source": [
    "## FMP is being currently used to source historical price data - it is exporting historical data to individual CSV files for each symbol \n",
    "## In theory - should be possible to parse the CSV files for historical data, and append missing data from FMP via IEX and make more \n",
    "## complete data frames. FMP has an issue where it can't source fundamentals data (market cap, outstandingshares) for ETFs. IEX can. \n",
    "## Need to come up with code to fill in the gaps from FMP with IEX data. Unlike FMP, IEX has limited API calls, so should attempt to \n",
    "## source FMP first and then call IEX to fill in gaps \n",
    "\n",
    "## Rewrite of code to be more clean, no test code, and to work more on applying more fields of data to \"Fundamentals field\""
   ]
  },
  {
   "cell_type": "code",
   "execution_count": 2,
   "id": "cad2a386-4587-453c-8440-ea177ed5bc68",
   "metadata": {},
   "outputs": [
    {
     "data": {
      "text/plain": [
       "True"
      ]
     },
     "execution_count": 2,
     "metadata": {},
     "output_type": "execute_result"
    }
   ],
   "source": [
    "import pandas as pd\n",
    "\n",
    "import glob\n",
    "\n",
    "from pathlib import Path\n",
    "import csv\n",
    "\n",
    "import os\n",
    "import requests\n",
    "import json\n",
    "\n",
    "#import quandl\n",
    "\n",
    "from dotenv import load_dotenv\n",
    "load_dotenv()"
   ]
  },
  {
   "cell_type": "code",
   "execution_count": 3,
   "id": "00f3b6fb-a23d-4e75-a61a-578e338c13f3",
   "metadata": {},
   "outputs": [],
   "source": [
    "## Constants \n",
    "\n",
    "## Set start date variable - dataframes will be created starting from this date\n",
    "start_date = '2020-01-01'\n",
    "end_date = '2021-10-29'\n",
    "default_date_range = '2y' ## Default Range for IEX functions - don't need more at the moment"
   ]
  },
  {
   "cell_type": "code",
   "execution_count": 4,
   "id": "573e2fe7-5523-412d-9d76-ab061a7d52db",
   "metadata": {},
   "outputs": [
    {
     "data": {
      "text/plain": [
       "<Response [200]>"
      ]
     },
     "execution_count": 4,
     "metadata": {},
     "output_type": "execute_result"
    }
   ],
   "source": [
    "## IEX Constants\n",
    "iex_api_key = os.getenv(\"IEX_API_KEY\")\n",
    "iex_test_api_key = os.getenv(\"IEX_TEST_API_KEY\")\n",
    "\n",
    "## Redundant Assignment but improves Readability throughout code \n",
    "real_token = iex_api_key\n",
    "test_token = iex_test_api_key\n",
    "\n",
    "base_url_iex = 'https://cloud.iexapis.com/stable/'\n",
    "sandbox_url = 'https://sandbox.iexapis.com/stable/'\n",
    "\n",
    "## IEX Status Test \n",
    "test_resp = requests.get(base_url_iex + 'status')\n",
    "test_resp"
   ]
  },
  {
   "cell_type": "code",
   "execution_count": 5,
   "id": "140af762-d7d9-45d9-ab72-1bebaac0193d",
   "metadata": {},
   "outputs": [],
   "source": [
    "token_status = test_token ## Set to either real token or test token for IEX"
   ]
  },
  {
   "cell_type": "code",
   "execution_count": 6,
   "id": "1a6cc5c0-ab7a-449e-b8e4-3cae553ddd3e",
   "metadata": {},
   "outputs": [],
   "source": [
    "## Load IEX to get ETF statistics \n",
    "def get_IEX_statistics(stock_ticker, token=token_status):\n",
    "    if token == test_token:\n",
    "        resp_data = requests.get(sandbox_url+'stock/'+stock_ticker+'/stats/?token='+test_token)\n",
    "        data_json = resp_data.json()\n",
    "    elif token == real_token:\n",
    "        resp_data = requests.get(base_url_iex+'stock/'+stock_ticker+'/stats/?token='+real_token)\n",
    "        data_json = resp_data.json()\n",
    "        \n",
    "    return data_json"
   ]
  },
  {
   "cell_type": "code",
   "execution_count": 7,
   "id": "a1a6cdb4-cd8c-4eef-90e4-fc4a064fa249",
   "metadata": {},
   "outputs": [],
   "source": [
    "## FMP Constants \n",
    "fmpbase_urlv3 = 'https://fmpcloud.io/api/v3/'\n",
    "fmpbase_urlv4 = 'https://fmpcloud.io/api/v4/'\n",
    "api_key = os.getenv(\"FMP_CLOUD_API_KEY\")\n",
    "\n",
    "## FMP Functions - this file should not need to call the historical data function. \n",
    "##                 This file should import the CSV files with historical data and then append IEX testing data\n",
    "##                 to any data FMP cannot source. \n",
    "def get_FMP_historical_data(symbol, startDate=start_date, endDate=end_date, apiKey=api_key):\n",
    "    url_hist_price = fmpbase_urlv3+'historical-price-full/'\n",
    "    url_hist_query_with_date = url_hist_price+symbol+'?from='+startDate+'&to='+endDate+'&apikey='+apiKey\n",
    "    resp_data = requests.get(url_hist_query_with_date)\n",
    "    json_ = resp_data.json()\n",
    "    data = json_['historical']\n",
    "    df = pd.DataFrame(data)\n",
    "    df.rename(columns={'date':'Date'},inplace=True)\n",
    "    df['Date'] = pd.to_datetime(df['Date'])\n",
    "    df = df.reindex(index=df.index[::-1]) ## Reverse the DataFrame \n",
    "    df.set_index('Date',inplace=True)\n",
    "    df.drop(columns='label',inplace=True)\n",
    "    return df\n",
    "\n",
    "def get_float_data_FMP(symbol):\n",
    "    url_float_shares = fmpbase_urlv4+'shares_float?symbol='\n",
    "    url_query_float_data = url_float_shares+symbol+'&apikey='+api_key\n",
    "    resp_data = requests.get(url_query_float_data)\n",
    "    #df = pd.DataFrame(resp_data.json())\n",
    "    json_ = resp_data.json()\n",
    "    return json_[0]\n",
    "\n",
    "def get_company_profile_FMP_json(symbol):\n",
    "    ## https://fmpcloud.io/api/v3/profile/AAPL?apikey='yourkeyhere'\n",
    "    url_company_profile_url = fmpbase_urlv3+'profile/'+symbol+'?apikey='+api_key\n",
    "    resp_data = requests.get(url_company_profile_url)\n",
    "    json_response = resp_data.json()\n",
    "    return json_response[0]\n",
    "\n",
    "# def save_and_export_raw_df_csv(data, symbol):\n",
    "#     path = ('../FilesExportIndividualStockDFs/'+symbol+'_combined_df.csv')\n",
    "#     data.to_csv(path)"
   ]
  },
  {
   "cell_type": "code",
   "execution_count": 8,
   "id": "a035b741-2878-4f68-8cd1-04138d7a20a2",
   "metadata": {},
   "outputs": [],
   "source": [
    "## Use pickle module to import and export and save files\n",
    "import pickle\n",
    "def load_obj(path):\n",
    "    with open(path, 'rb') as f:\n",
    "        return pickle.load(f)\n",
    "def save_obj(obj, path ):\n",
    "    with open(path, 'wb') as f:\n",
    "        pickle.dump(obj, f, pickle.HIGHEST_PROTOCOL)"
   ]
  },
  {
   "cell_type": "code",
   "execution_count": 9,
   "id": "073a1984-6e1b-42ee-b5f4-48387c10f271",
   "metadata": {},
   "outputs": [],
   "source": [
    "# # ## Import FTD File using CSV \n",
    "# # ftd_df = pd.read_csv(\n",
    "# #     Path('../Resources/ftd_all_data.csv'),\n",
    "# #     index_col=0, parse_dates=True\n",
    "# # )\n",
    "\n",
    "# ## Don't need FTD file at the moment. Import symbol_df as a way to get symbols to iterate through saved CSVs. \n",
    "# ## Some symbols will fail, need to create function that skips missed indexes \n",
    "\n",
    "# ## Import Symbol and CUSIP list using CSV\n",
    "# symbol_df = pd.read_csv(\n",
    "#     Path('../Resources/symbol_all_list.csv'),\n",
    "#     index_col=0\n",
    "# )\n",
    "\n",
    "\n",
    "## Do not seem to be needed for this file, but code here anyway if either file is needed "
   ]
  },
  {
   "cell_type": "code",
   "execution_count": 10,
   "id": "a1ed9c53-e2ae-4491-8988-58a7d0bb658a",
   "metadata": {},
   "outputs": [],
   "source": [
    "# ## How to find index value of specific stock \n",
    "# index_value = 0\n",
    "# for i in complete_key_list:\n",
    "#     if i == 'ACP':\n",
    "#         print(index_value)\n",
    "#         break\n",
    "#     index_value +=1"
   ]
  },
  {
   "cell_type": "code",
   "execution_count": 11,
   "id": "c2a2d374-d6f7-41c7-bc11-a2c90b26da65",
   "metadata": {},
   "outputs": [],
   "source": [
    "x = 0\n",
    "y = 49\n",
    "increment = 50\n",
    "complete_data_dict = {}\n",
    "\n",
    "test_length = 1500\n",
    "## Current last file is 8450 \n",
    "while x < test_length:\n",
    "    str_symbol1 = str(x)\n",
    "    str_symbol2 = str(y)\n",
    "    \n",
    "    pkl_path = Path('../FilesExportCompleteFMP/data_complete_'+str_symbol1+'_'+str_symbol2+'.pkl')\n",
    "    data_obj = load_obj(pkl_path)\n",
    "    data_obj_key_list = []\n",
    "    for key in data_obj.keys():\n",
    "        data_obj_key_list.append(key)  \n",
    "    for symbol in data_obj_key_list:\n",
    "        data = data_obj[symbol]\n",
    "        complete_data_dict[symbol] = data\n",
    "        \n",
    "    x += increment\n",
    "    y += increment\n",
    "    \n",
    "complete_key_list = []\n",
    "for key in complete_data_dict.keys():\n",
    "    complete_key_list.append(key)"
   ]
  },
  {
   "cell_type": "code",
   "execution_count": 12,
   "id": "cb8ac5fc-f682-4ef2-a2f7-df90094297d8",
   "metadata": {},
   "outputs": [
    {
     "data": {
      "text/plain": [
       "267"
      ]
     },
     "execution_count": 12,
     "metadata": {},
     "output_type": "execute_result"
    }
   ],
   "source": [
    "length_ = len(complete_data_dict)\n",
    "length_"
   ]
  },
  {
   "cell_type": "code",
   "execution_count": 22,
   "id": "f82bea94-8daf-439b-a125-42de12874678",
   "metadata": {},
   "outputs": [
    {
     "name": "stdout",
     "output_type": "stream",
     "text": [
      "241 ARKQ\n"
     ]
    }
   ],
   "source": [
    "## Find index value of specific symbol \n",
    "index_value = 0\n",
    "for i in complete_key_list:\n",
    "    if i == 'ARKQ':\n",
    "        print(index_value,i)\n",
    "        break\n",
    "    index_value +=1\n",
    "    if index_value == length_: print(\"No\")\n",
    "\n",
    "#complete_data_dict['ARKQ']\n",
    "\n",
    "## Trying to use ARKQ as a 'control' ETF. Any info applied to it should also apply to other valid ETFs for data gathering\n",
    "## Capping list at 250 because don't need all symbols \n",
    "## See test_length variable above as well to extend data collection "
   ]
  },
  {
   "cell_type": "code",
   "execution_count": 14,
   "id": "85bd8a8e-ff9f-470d-88dc-31af09c332a8",
   "metadata": {},
   "outputs": [],
   "source": [
    "test_symbol = 'ARKQ'"
   ]
  },
  {
   "cell_type": "code",
   "execution_count": 15,
   "id": "015b0c9d-7c77-4bb9-93c5-109bdd66fd3e",
   "metadata": {},
   "outputs": [
    {
     "data": {
      "text/plain": [
       "250"
      ]
     },
     "execution_count": 15,
     "metadata": {},
     "output_type": "execute_result"
    }
   ],
   "source": [
    "len(complete_key_list)\n",
    "new_key_list = complete_key_list[0:250]\n",
    "len(new_key_list)\n",
    "complete_key_list = new_key_list\n",
    "len(complete_key_list)"
   ]
  },
  {
   "cell_type": "code",
   "execution_count": 19,
   "id": "549b664a-6fc9-483b-a9ca-40f39f19e335",
   "metadata": {},
   "outputs": [
    {
     "name": "stdout",
     "output_type": "stream",
     "text": [
      "20\n",
      "226\n"
     ]
    }
   ],
   "source": [
    "etf_data_dict = {} \n",
    "equity_data_dict = {}\n",
    "no_profile_data_dict = {}\n",
    "error_count = 0                  ## Can use to check index in complete_key_list when loop fails \n",
    "for i in complete_key_list:\n",
    "    #symbol = i \n",
    "    if complete_data_dict[i]['companyProfile'] != 0:\n",
    "        if complete_data_dict[i]['companyProfile']['isEtf'] == True:   ## Add to etf_data_dict\n",
    "            data = complete_data_dict[i]\n",
    "            etf_data_dict[i] = data\n",
    "        else:                                   ## Add to equity_data_dict\n",
    "            data = complete_data_dict[i]\n",
    "            equity_data_dict[i] = data\n",
    "    else:                                      ## Add to no_profile_data_dict\n",
    "        data = complete_data_dict[i]\n",
    "        no_profile_data_dict[i] = data\n",
    "    error_count += 1\n",
    "    \n",
    "etf_key_list = []\n",
    "for key in etf_data_dict.keys():\n",
    "    etf_key_list.append(key)\n",
    "print(len(etf_data_dict))\n",
    "\n",
    "equity_key_list = []\n",
    "for key in equity_data_dict.keys():\n",
    "    equity_key_list.append(key)\n",
    "print(len(equity_data_dict))"
   ]
  },
  {
   "cell_type": "code",
   "execution_count": 23,
   "id": "05045543-4aa9-4a6e-a68a-5fe360a36e23",
   "metadata": {},
   "outputs": [
    {
     "name": "stdout",
     "output_type": "stream",
     "text": [
      "6 AAPL\n"
     ]
    }
   ],
   "source": [
    "## Shorten equity_key_list for testing \n",
    "## Find index value of specific symbol \n",
    "index_value = 0\n",
    "for i in equity_key_list:\n",
    "    if i == 'AAPL':\n",
    "        print(index_value,i)\n",
    "        break\n",
    "    index_value +=1\n",
    "    if index_value == length_: print(\"No\")"
   ]
  },
  {
   "cell_type": "code",
   "execution_count": 29,
   "id": "702eaa6e-e944-4f15-8ea1-0b9d261620bc",
   "metadata": {},
   "outputs": [
    {
     "name": "stdout",
     "output_type": "stream",
     "text": [
      "50\n"
     ]
    }
   ],
   "source": [
    "equity_key_list = equity_key_list[0:50]\n",
    "print(len(equity_key_list))"
   ]
  },
  {
   "cell_type": "code",
   "execution_count": 30,
   "id": "8454e260-a1a3-4963-b579-dba82e00fd86",
   "metadata": {},
   "outputs": [],
   "source": [
    "token_status = test_token ## Set to either real token or test token for IEX\n",
    "\n",
    "## Loop to get ETF stats \n",
    "for i in etf_key_list:\n",
    "    symbol = i \n",
    "    iex_etf_stats = get_IEX_statistics(symbol)\n",
    "    sharesOutstanding = iex_etf_stats['sharesOutstanding']   \n",
    "    etf_data_dict[i]['Fundamentals']['sharesOutstanding'] = sharesOutstanding\n",
    "    etf_data_dict[i]['iex_statistics'] = iex_etf_stats\n",
    "    \n",
    "## Loop to get Equity stats \n",
    "for i in equity_key_list:\n",
    "    symbol = i \n",
    "    iex_etf_stats = get_IEX_statistics(symbol)\n",
    "    sharesOutstanding = iex_etf_stats['sharesOutstanding']   \n",
    "    equity_data_dict[i]['Fundamentals']['sharesOutstanding'] = sharesOutstanding\n",
    "    equity_data_dict[i]['iex_statistics'] = iex_etf_stats\n",
    "    \n",
    "\n",
    "## Export equity/etf data \n",
    "pkl_path_etf = Path('../Resources/complete_etf_data_dict.pkl')\n",
    "pkl_path_equity = Path('../Resources/complete_equity_data_dict.pkl')\n",
    "save_obj(etf_data_dict,pkl_path_etf)\n",
    "save_obj(equity_data_dict,pkl_path_equity)"
   ]
  },
  {
   "cell_type": "code",
   "execution_count": 18,
   "id": "c307f8b9-dd0b-475a-aae4-bdb45e3ee5de",
   "metadata": {},
   "outputs": [
    {
     "data": {
      "text/plain": [
       "{'Fundamentals': {'sharesOutstanding': 31234935,\n",
       "  'floatShares': 0,\n",
       "  'marketCap': 184056034,\n",
       "  'debt_ratio': 'debt_ratioValue',\n",
       "  'price_earnings': 'price_earningsValue',\n",
       "  'exchange': 'New York Stock Exchange Arca',\n",
       "  'final_close_price': 84.800003},\n",
       " 'dataFrame':                  open       high        low      close   adjClose    volume  \\\n",
       " Date                                                                          \n",
       " 2020-01-02  37.580002  37.891998  37.516998  37.891998  37.564457   18100.0   \n",
       " 2020-01-03  37.570000  37.990002  37.570000  37.797001  37.470280   28300.0   \n",
       " 2020-01-06  37.639999  37.859001  37.435001  37.842999  37.515881   27400.0   \n",
       " 2020-01-07  38.009998  38.375000  37.860001  38.310001  37.978848   23800.0   \n",
       " 2020-01-08  38.410000  39.000000  38.330002  38.869999  38.534004   43900.0   \n",
       " ...               ...        ...        ...        ...        ...       ...   \n",
       " 2021-10-25  82.490000  84.755000  82.210000  84.390000  84.390000  330479.0   \n",
       " 2021-10-26  84.639999  85.769997  83.500000  83.910004  83.910004  290900.0   \n",
       " 2021-10-27  84.150002  84.870003  82.970001  83.040001  83.040001  226400.0   \n",
       " 2021-10-28  83.730003  84.760002  83.629997  84.690002  84.690002  609900.0   \n",
       " 2021-10-29  84.220001  84.870003  84.169998  84.800003  84.800003  175600.0   \n",
       " \n",
       "             unadjustedVolume  change  changePercent      vwap  changeOverTime  \\\n",
       " Date                                                                            \n",
       " 2020-01-02           18100.0   0.312          0.830  37.76700         0.00830   \n",
       " 2020-01-03           28300.0   0.227          0.604  37.78567         0.00604   \n",
       " 2020-01-06           27400.0   0.203          0.539  37.71233         0.00539   \n",
       " 2020-01-07           23800.0   0.300          0.789  38.18167         0.00789   \n",
       " 2020-01-08           43900.0   0.460          1.198  38.73333         0.01198   \n",
       " ...                      ...     ...            ...       ...             ...   \n",
       " 2021-10-25          330479.0   1.900          2.303  83.78500         0.02303   \n",
       " 2021-10-26          290900.0  -0.730         -0.862  84.39333        -0.00862   \n",
       " 2021-10-27          226400.0  -1.110         -1.319  83.62667        -0.01319   \n",
       " 2021-10-28          609900.0   0.960          1.147  84.36000         0.01147   \n",
       " 2021-10-29          175600.0   0.580          0.689  84.61333         0.00689   \n",
       " \n",
       "             QUANTITY_FAILS  ShortVolumeNSDQ  ShortExemptVolumeNSDQ  \\\n",
       " Date                                                                 \n",
       " 2020-01-02           623.0           4288.0                    0.0   \n",
       " 2020-01-03          2244.0          14214.0                    0.0   \n",
       " 2020-01-06          3694.0           5804.0                    0.0   \n",
       " 2020-01-07          5191.0           2602.0                    0.0   \n",
       " 2020-01-08          5845.0           5382.0                    0.0   \n",
       " ...                    ...              ...                    ...   \n",
       " 2021-10-25             0.0          35889.0                  197.0   \n",
       " 2021-10-26             0.0          23255.0                  482.0   \n",
       " 2021-10-27             0.0          41931.0                  360.0   \n",
       " 2021-10-28             0.0          26276.0                  132.0   \n",
       " 2021-10-29             0.0          20661.0                  601.0   \n",
       " \n",
       "             TotalVolumeNSDQ  ShortVolumeNYSE  ShortExemptVolumeNYSE  \\\n",
       " Date                                                                  \n",
       " 2020-01-02          10859.0            438.0                    0.0   \n",
       " 2020-01-03          20678.0            894.0                    0.0   \n",
       " 2020-01-06          15678.0           2327.0                    0.0   \n",
       " 2020-01-07           8805.0            697.0                    0.0   \n",
       " 2020-01-08          27479.0            199.0                    0.0   \n",
       " ...                     ...              ...                    ...   \n",
       " 2021-10-25         106380.0           2504.0                    0.0   \n",
       " 2021-10-26          85235.0           5596.0                   27.0   \n",
       " 2021-10-27          94154.0           2301.0                    0.0   \n",
       " 2021-10-28          82413.0           3789.0                    0.0   \n",
       " 2021-10-29          67463.0           2748.0                    0.0   \n",
       " \n",
       "             TotalVolumeNYSE  \n",
       " Date                         \n",
       " 2020-01-02           2324.0  \n",
       " 2020-01-03           1604.0  \n",
       " 2020-01-06          16940.0  \n",
       " 2020-01-07           2828.0  \n",
       " 2020-01-08           3468.0  \n",
       " ...                     ...  \n",
       " 2021-10-25          13430.0  \n",
       " 2021-10-26          17638.0  \n",
       " 2021-10-27          11614.0  \n",
       " 2021-10-28          13013.0  \n",
       " 2021-10-29           9305.0  \n",
       " \n",
       " [462 rows x 18 columns],\n",
       " 'companyProfile': {'symbol': 'ARKQ',\n",
       "  'price': 84.47,\n",
       "  'beta': 0.0,\n",
       "  'volAvg': 297852,\n",
       "  'mktCap': 184056034,\n",
       "  'lastDiv': 0.656,\n",
       "  'range': '67.44-101.11',\n",
       "  'changes': 1.5,\n",
       "  'companyName': 'ARK Autonomous Technology & Robotics ETF',\n",
       "  'currency': 'USD',\n",
       "  'cik': None,\n",
       "  'isin': 'US00214Q2030',\n",
       "  'cusip': None,\n",
       "  'exchange': 'New York Stock Exchange Arca',\n",
       "  'exchangeShortName': 'AMEX',\n",
       "  'industry': '',\n",
       "  'website': '',\n",
       "  'description': 'The investment seeks long-term growth of capital.\\n The fund is an actively-managed exchange-traded fund that will invest under normal circumstances primarily (at least 80% of its assets) in domestic and foreign equity securities of autonomous technology and robotics companies that are relevant to the fund&#39;s investment theme of disruptive innovation. Substantially all of the fund&#39;s assets will be invested in equity securities, including common stocks, partnership interests, business trust shares and other equity investments or ownership interests in business enterprises. The fund is non-diversified.',\n",
       "  'ceo': 'None',\n",
       "  'sector': '',\n",
       "  'country': 'US',\n",
       "  'fullTimeEmployees': None,\n",
       "  'phone': '855-406-1506',\n",
       "  'address': '',\n",
       "  'city': '',\n",
       "  'state': '',\n",
       "  'zip': None,\n",
       "  'dcfDiff': None,\n",
       "  'dcf': 0.0,\n",
       "  'image': 'https://fmpcloud.io/image-stock/ARKQ.png',\n",
       "  'ipoDate': '2014-09-30',\n",
       "  'defaultImage': False,\n",
       "  'isEtf': True,\n",
       "  'isActivelyTrading': True,\n",
       "  'isAdr': False,\n",
       "  'isFund': False},\n",
       " 'floatData': 0,\n",
       " 'textNews': ['article1', 'article2', 'article3'],\n",
       " 'returns': 'returns_data',\n",
       " 'iex_statistics': {'companyName': 'ARK Investment Management LLC',\n",
       "  'marketcap': 2617282663,\n",
       "  'week52high': 102.01,\n",
       "  'week52low': 68.94,\n",
       "  'week52highSplitAdjustOnly': 103.04,\n",
       "  'week52lowSplitAdjustOnly': 68.67,\n",
       "  'week52change': 0.2337002896548713,\n",
       "  'sharesOutstanding': 31234935,\n",
       "  'float': 0,\n",
       "  'avg10Volume': 398227,\n",
       "  'avg30Volume': 374783,\n",
       "  'day200MovingAvg': 83.51,\n",
       "  'day50MovingAvg': 84.72,\n",
       "  'employees': 0,\n",
       "  'ttmEPS': 0,\n",
       "  'ttmDividendRate': 0.6867809868256243,\n",
       "  'dividendYield': 0.008076513540200725,\n",
       "  'nextDividendDate': '',\n",
       "  'exDividendDate': '2020-12-20',\n",
       "  'nextEarningsDate': '',\n",
       "  'peRatio': 0,\n",
       "  'beta': 0,\n",
       "  'maxChangePercent': 3.414700326478249,\n",
       "  'year5ChangePercent': 2.930576810793099,\n",
       "  'year2ChangePercent': 1.485795818575883,\n",
       "  'year1ChangePercent': 0.237450475901921,\n",
       "  'ytdChangePercent': 0.10785471288241114,\n",
       "  'month6ChangePercent': 0.06333861375527403,\n",
       "  'month3ChangePercent': 0.02625272029237377,\n",
       "  'month1ChangePercent': 0.03037708305784554,\n",
       "  'day30ChangePercent': 0.0009873362019049631,\n",
       "  'day5ChangePercent': -0.03494200721858813}}"
      ]
     },
     "execution_count": 18,
     "metadata": {},
     "output_type": "execute_result"
    }
   ],
   "source": [
    "etf_data_dict[test_symbol]"
   ]
  },
  {
   "cell_type": "code",
   "execution_count": null,
   "id": "bb3f516c-b017-4610-86c8-8ba08fcd07a5",
   "metadata": {},
   "outputs": [],
   "source": []
  }
 ],
 "metadata": {
  "kernelspec": {
   "display_name": "Python 3",
   "language": "python",
   "name": "python3"
  },
  "language_info": {
   "codemirror_mode": {
    "name": "ipython",
    "version": 3
   },
   "file_extension": ".py",
   "mimetype": "text/x-python",
   "name": "python",
   "nbconvert_exporter": "python",
   "pygments_lexer": "ipython3",
   "version": "3.7.10"
  }
 },
 "nbformat": 4,
 "nbformat_minor": 5
}
