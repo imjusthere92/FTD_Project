{
 "cells": [
  {
   "cell_type": "code",
   "execution_count": 1,
   "id": "32adf7b2-a366-4abf-868b-7499a32a017f",
   "metadata": {},
   "outputs": [],
   "source": [
    "## FMP is being currently used to source historical price data - it is exporting historical data to individual CSV files for each symbol \n",
    "## In theory - should be possible to parse the CSV files for historical data, and append missing data from FMP via IEX and make more \n",
    "## complete data frames. FMP has an issue where it can't source fundamentals data (market cap, outstandingshares) for ETFs. IEX can. \n",
    "## Need to come up with code to fill in the gaps from FMP with IEX data. Unlike FMP, IEX has limited API calls, so should attempt to \n",
    "## source FMP first and then call IEX to fill in gaps "
   ]
  },
  {
   "cell_type": "code",
   "execution_count": 2,
   "id": "cad2a386-4587-453c-8440-ea177ed5bc68",
   "metadata": {},
   "outputs": [
    {
     "data": {
      "text/plain": [
       "True"
      ]
     },
     "execution_count": 2,
     "metadata": {},
     "output_type": "execute_result"
    }
   ],
   "source": [
    "import pandas as pd\n",
    "\n",
    "import glob\n",
    "\n",
    "from pathlib import Path\n",
    "import csv\n",
    "\n",
    "import os\n",
    "import requests\n",
    "import json\n",
    "\n",
    "import quandl\n",
    "\n",
    "from dotenv import load_dotenv\n",
    "load_dotenv()"
   ]
  },
  {
   "cell_type": "code",
   "execution_count": 3,
   "id": "00f3b6fb-a23d-4e75-a61a-578e338c13f3",
   "metadata": {},
   "outputs": [],
   "source": [
    "## Constants \n",
    "\n",
    "## Set start date variable - dataframes will be created starting from this date\n",
    "start_date = '2020-01-01'\n",
    "end_date = '2021-10-29'\n",
    "default_date_range = '2y' ## Default Range for IEX functions - don't need more at the moment"
   ]
  },
  {
   "cell_type": "code",
   "execution_count": 4,
   "id": "573e2fe7-5523-412d-9d76-ab061a7d52db",
   "metadata": {},
   "outputs": [
    {
     "data": {
      "text/plain": [
       "<Response [200]>"
      ]
     },
     "execution_count": 4,
     "metadata": {},
     "output_type": "execute_result"
    }
   ],
   "source": [
    "## IEX Constants\n",
    "iex_api_key = os.getenv(\"IEX_API_KEY\")\n",
    "iex_test_api_key = os.getenv(\"IEX_TEST_API_KEY\")\n",
    "\n",
    "## Redundant Assignment but improves Readability throughout code \n",
    "real_token = iex_api_key\n",
    "test_token = iex_test_api_key\n",
    "\n",
    "base_url_iex = 'https://cloud.iexapis.com/stable/'\n",
    "sandbox_url = 'https://sandbox.iexapis.com/stable/'\n",
    "\n",
    "## IEX Status Test \n",
    "test_resp = requests.get(base_url_iex + 'status')\n",
    "test_resp"
   ]
  },
  {
   "cell_type": "code",
   "execution_count": 5,
   "id": "140af762-d7d9-45d9-ab72-1bebaac0193d",
   "metadata": {},
   "outputs": [],
   "source": [
    "token_status = test_token ## Set to either real token or test token for IEX"
   ]
  },
  {
   "cell_type": "code",
   "execution_count": 6,
   "id": "a1a6cdb4-cd8c-4eef-90e4-fc4a064fa249",
   "metadata": {},
   "outputs": [],
   "source": [
    "## FMP Constants \n",
    "fmpbase_urlv3 = 'https://fmpcloud.io/api/v3/'\n",
    "fmpbase_urlv4 = 'https://fmpcloud.io/api/v4/'\n",
    "api_key = os.getenv(\"FMP_CLOUD_API_KEY\")\n",
    "\n",
    "## FMP Functions - this file should not need to call the historical data function. \n",
    "##                 This file should import the CSV files with historical data and then append IEX testing data\n",
    "##                 to any data FMP cannot source. \n",
    "def get_FMP_historical_data(symbol, startDate=start_date, endDate=end_date, apiKey=api_key):\n",
    "    url_hist_price = fmpbase_urlv3+'historical-price-full/'\n",
    "    url_hist_query_with_date = url_hist_price+symbol+'?from='+startDate+'&to='+endDate+'&apikey='+apiKey\n",
    "    resp_data = requests.get(url_hist_query_with_date)\n",
    "    json_ = resp_data.json()\n",
    "    data = json_['historical']\n",
    "    df = pd.DataFrame(data)\n",
    "    df.rename(columns={'date':'Date'},inplace=True)\n",
    "    df['Date'] = pd.to_datetime(df['Date'])\n",
    "    df = df.reindex(index=df.index[::-1]) ## Reverse the DataFrame \n",
    "    df.set_index('Date',inplace=True)\n",
    "    df.drop(columns='label',inplace=True)\n",
    "    return df\n",
    "\n",
    "def get_float_data_FMP(symbol):\n",
    "    url_float_shares = fmpbase_urlv4+'shares_float?symbol='\n",
    "    url_query_float_data = url_float_shares+symbol+'&apikey='+api_key\n",
    "    resp_data = requests.get(url_query_float_data)\n",
    "    #df = pd.DataFrame(resp_data.json())\n",
    "    json_ = resp_data.json()\n",
    "    return json_[0]\n",
    "\n",
    "def get_company_profile_FMP_json(symbol):\n",
    "    ## https://fmpcloud.io/api/v3/profile/AAPL?apikey='yourkeyhere'\n",
    "    url_company_profile_url = fmpbase_urlv3+'profile/'+symbol+'?apikey='+api_key\n",
    "    resp_data = requests.get(url_company_profile_url)\n",
    "    json_response = resp_data.json()\n",
    "    return json_response[0]\n",
    "\n",
    "# def save_and_export_raw_df_csv(data, symbol):\n",
    "#     path = ('../FilesExportIndividualStockDFs/'+symbol+'_combined_df.csv')\n",
    "#     data.to_csv(path)"
   ]
  },
  {
   "cell_type": "code",
   "execution_count": 7,
   "id": "d211dadb-7e26-44c7-b45f-f06411bed066",
   "metadata": {},
   "outputs": [],
   "source": [
    "## Read CSV files exported by test_02_get_api_data_with_FMP\n"
   ]
  },
  {
   "cell_type": "code",
   "execution_count": 8,
   "id": "ea7260f7-0889-495c-b183-0553da369edf",
   "metadata": {},
   "outputs": [],
   "source": [
    "# test_symbol = 'AAPL'\n",
    "# symbol = test_symbol\n",
    "# path = ('../FilesExportIndividualStockDFs/'+symbol+'_combined_df.csv')\n",
    "# df = pd.read_csv(path)  \n",
    "# df"
   ]
  },
  {
   "cell_type": "code",
   "execution_count": 9,
   "id": "073a1984-6e1b-42ee-b5f4-48387c10f271",
   "metadata": {},
   "outputs": [],
   "source": [
    "# ## Import FTD File using CSV \n",
    "# ftd_df = pd.read_csv(\n",
    "#     Path('../Resources/ftd_all_data.csv'),\n",
    "#     index_col=0, parse_dates=True\n",
    "# )\n",
    "\n",
    "## Don't need FTD file at the moment. Import symbol_df as a way to get symbols to iterate through saved CSVs. \n",
    "## Some symbols will fail, need to create function that skips missed indexes \n",
    "\n",
    "## Import Symbol and CUSIP list using CSV\n",
    "symbol_df = pd.read_csv(\n",
    "    Path('../Resources/symbol_all_list.csv'),\n",
    "    index_col=0\n",
    ")"
   ]
  },
  {
   "cell_type": "code",
   "execution_count": 10,
   "id": "9155b6cd-3133-42b4-889a-507958264cad",
   "metadata": {},
   "outputs": [],
   "source": [
    "test_first_62 = symbol_df.loc[0:62]"
   ]
  },
  {
   "cell_type": "code",
   "execution_count": 11,
   "id": "bbcc4713-4fed-4ce6-97bf-2d15a92f50a3",
   "metadata": {},
   "outputs": [],
   "source": [
    "test_dataframe_dict = {}\n",
    "for i in test_first_62['SYMBOL']:\n",
    "    symbol = i\n",
    "    try:\n",
    "        path = ('../FilesExportIndividualStockDFs/'+symbol+'_combined_df.csv')\n",
    "        df = pd.read_csv(path)  \n",
    "        test_dataframe_dict[symbol] = df\n",
    "    except TypeError:\n",
    "        continue    \n",
    "    except FileNotFoundError:\n",
    "        continue"
   ]
  },
  {
   "cell_type": "code",
   "execution_count": 12,
   "id": "10a42f91-a509-41f3-b503-5b29f80978b3",
   "metadata": {},
   "outputs": [],
   "source": [
    "# test_df = symbol_df.copy()\n",
    "# #test_df = test_df.set_index('SYMBOL')\n",
    "# test_df.loc[test_df['SYMBOL'] == 'AAPL']"
   ]
  },
  {
   "cell_type": "code",
   "execution_count": 13,
   "id": "a18c1222-140b-4f09-a2ac-853bcf03e4b9",
   "metadata": {},
   "outputs": [],
   "source": [
    "#test_first_62['SYMBOL'][61]"
   ]
  },
  {
   "cell_type": "code",
   "execution_count": 14,
   "id": "aeeb4a35-a6a6-4400-bc29-0c26bdb046b3",
   "metadata": {},
   "outputs": [],
   "source": [
    "## For loop works \n",
    "## dataframe_dict['AAPL']\n",
    "## Retrying with entire symbol_df - should get all available files in the invdividual list "
   ]
  },
  {
   "cell_type": "code",
   "execution_count": 15,
   "id": "c361c72c-f6d5-49b4-9889-e0499ceca04d",
   "metadata": {},
   "outputs": [],
   "source": [
    "dataframe_dict = {}\n",
    "for i in symbol_df['SYMBOL']:\n",
    "    symbol = i\n",
    "    try:\n",
    "        path = ('../FilesExportIndividualStockDFs/'+symbol+'_combined_df.csv')\n",
    "        df = pd.read_csv(path)  \n",
    "        dataframe_dict[symbol] = df\n",
    "    except TypeError:\n",
    "        continue    \n",
    "    except FileNotFoundError:\n",
    "        continue"
   ]
  },
  {
   "cell_type": "code",
   "execution_count": 16,
   "id": "302cbe60-45f8-415d-9cab-7b46d9962f11",
   "metadata": {},
   "outputs": [
    {
     "data": {
      "text/plain": [
       "4100"
      ]
     },
     "execution_count": 16,
     "metadata": {},
     "output_type": "execute_result"
    }
   ],
   "source": [
    "key_list = []\n",
    "for key in dataframe_dict.keys():\n",
    "    key_list.append(key)  \n",
    "len(key_list)"
   ]
  },
  {
   "cell_type": "code",
   "execution_count": 17,
   "id": "d629d1fc-1284-466a-afa8-0a93f856d2fa",
   "metadata": {},
   "outputs": [
    {
     "data": {
      "text/plain": [
       "'FIDI'"
      ]
     },
     "execution_count": 17,
     "metadata": {},
     "output_type": "execute_result"
    }
   ],
   "source": [
    "key_list[3794] "
   ]
  },
  {
   "cell_type": "code",
   "execution_count": 18,
   "id": "e86be1b9-ada1-4907-aeca-4604bcaa3bda",
   "metadata": {},
   "outputs": [],
   "source": [
    "#first_1000_keys = key_list[0:1000]"
   ]
  },
  {
   "cell_type": "code",
   "execution_count": 19,
   "id": "f18ab3cd-895d-4bef-992c-a2a76e90d84f",
   "metadata": {},
   "outputs": [
    {
     "data": {
      "text/plain": [
       "1266"
      ]
     },
     "execution_count": 19,
     "metadata": {},
     "output_type": "execute_result"
    }
   ],
   "source": [
    "## Check for nulls in dataframes\n",
    "complete_data_dict = {}\n",
    "incomplete_data_dict = {}\n",
    "for i in key_list:\n",
    "    df = dataframe_dict[i]\n",
    "    bool_var = df.isnull().values.any()       ## Code for checking DFs for nulls \n",
    "    if bool_var == True:\n",
    "        ## Put aside\n",
    "        incomplete_data_dict[i] = df\n",
    "    if bool_var == False:\n",
    "        ## Keep\n",
    "        complete_data_dict[i] = df\n",
    "\n",
    "complete_key_list = []\n",
    "for key in complete_data_dict.keys():\n",
    "    complete_key_list.append(key)  \n",
    "len(complete_key_list)"
   ]
  },
  {
   "cell_type": "code",
   "execution_count": 20,
   "id": "27ff9763-7741-4931-a9ee-56e5fde0548a",
   "metadata": {},
   "outputs": [
    {
     "data": {
      "text/plain": [
       "2834"
      ]
     },
     "execution_count": 20,
     "metadata": {},
     "output_type": "execute_result"
    }
   ],
   "source": [
    "incomplete_key_list = []\n",
    "for key in incomplete_data_dict.keys():\n",
    "    incomplete_key_list.append(key)  \n",
    "len(incomplete_key_list)"
   ]
  },
  {
   "cell_type": "code",
   "execution_count": 22,
   "id": "81902e6e-745b-48c4-9650-0aa13581f51e",
   "metadata": {},
   "outputs": [],
   "source": [
    "#complete_data_dict['AAPL']"
   ]
  },
  {
   "cell_type": "code",
   "execution_count": 23,
   "id": "1ff1a7a2-713e-406f-a8cf-8e77cfa51ded",
   "metadata": {},
   "outputs": [],
   "source": [
    "## Test importing PKL files to get entire database dict \n",
    "\n",
    "## Use pickle module to import and export and save files\n",
    "import pickle\n",
    "def load_obj(path):\n",
    "    with open(path, 'rb') as f:\n",
    "        return pickle.load(f)\n",
    "def save_obj(obj, path ):\n",
    "    with open(path, 'wb') as f:\n",
    "        pickle.dump(obj, f, pickle.HIGHEST_PROTOCOL)"
   ]
  },
  {
   "cell_type": "code",
   "execution_count": 24,
   "id": "50e9fc77-6c45-4216-9ac1-f1ebcd553f8f",
   "metadata": {},
   "outputs": [],
   "source": [
    "pkl_path = Path('../FilesExportCompleteFMP/data_complete_0_49.pkl')\n",
    "data_obj = load_obj(pkl_path)"
   ]
  },
  {
   "cell_type": "code",
   "execution_count": 26,
   "id": "319a4488-e92c-4bef-bc13-9bde2c43193a",
   "metadata": {},
   "outputs": [
    {
     "data": {
      "text/plain": [
       "4"
      ]
     },
     "execution_count": 26,
     "metadata": {},
     "output_type": "execute_result"
    }
   ],
   "source": [
    "\n",
    "data_obj_key_list = []\n",
    "for key in data_obj.keys():\n",
    "    data_obj_key_list.append(key)  \n",
    "len(data_obj_key_list)"
   ]
  },
  {
   "cell_type": "code",
   "execution_count": 27,
   "id": "47145cf9-2fc7-4935-8daf-dc9044a306f1",
   "metadata": {},
   "outputs": [
    {
     "data": {
      "text/plain": [
       "['A', 'AA', 'AAAU', 'AAL']"
      ]
     },
     "execution_count": 27,
     "metadata": {},
     "output_type": "execute_result"
    }
   ],
   "source": [
    "data_obj_key_list"
   ]
  },
  {
   "cell_type": "code",
   "execution_count": null,
   "id": "74c173b2-64a6-425c-b097-e3b2af539fde",
   "metadata": {},
   "outputs": [],
   "source": []
  },
  {
   "cell_type": "code",
   "execution_count": 31,
   "id": "c2a2d374-d6f7-41c7-bc11-a2c90b26da65",
   "metadata": {},
   "outputs": [],
   "source": [
    "x = 0\n",
    "y = 49\n",
    "increment = 50\n",
    "new_dict = {}\n",
    "## Current last file is 8450 \n",
    "while x < 8450:\n",
    "    str_symbol1 = str(x)\n",
    "    str_symbol2 = str(y)\n",
    "    \n",
    "    pkl_path = Path('../FilesExportCompleteFMP/data_complete_'+str_symbol1+'_'+str_symbol2+'.pkl')\n",
    "    data_obj = load_obj(pkl_path)\n",
    "    data_obj_key_list = []\n",
    "    for key in data_obj.keys():\n",
    "        data_obj_key_list.append(key)  \n",
    "    for i in data_obj_key_list:\n",
    "        data = data_obj[i]\n",
    "        new_dict[i] = data\n",
    "        \n",
    "    x += increment\n",
    "    y += increment\n",
    "    \n",
    "entire_key_list = []\n",
    "for key in new_dict.keys():\n",
    "    entire_key_list.append(key)"
   ]
  },
  {
   "cell_type": "code",
   "execution_count": 34,
   "id": "cb8ac5fc-f682-4ef2-a2f7-df90094297d8",
   "metadata": {},
   "outputs": [
    {
     "data": {
      "text/plain": [
       "1373"
      ]
     },
     "execution_count": 34,
     "metadata": {},
     "output_type": "execute_result"
    }
   ],
   "source": [
    "len(new_dict)"
   ]
  },
  {
   "cell_type": "code",
   "execution_count": 37,
   "id": "2e06ef7f-317e-4f2f-bfe8-0d078906346f",
   "metadata": {},
   "outputs": [
    {
     "data": {
      "text/plain": [
       "{'Fundamentals': {'sharesOutstanding': 76491504.0,\n",
       "  'floatShares': 61755372.0,\n",
       "  'marketCap': 16199370752,\n",
       "  'debt_ratio': 'debt_ratioValue',\n",
       "  'price_earnings': 'price_earningsValue',\n",
       "  'exchange': 'New York Stock Exchange',\n",
       "  'final_close_price': 183.51},\n",
       " 'dataFrame':               open    high     low   close  adjClose     volume  \\\n",
       " Date                                                              \n",
       " 2020-01-02    6.14    6.47    6.07    6.31      6.31  4453598.0   \n",
       " 2020-01-03    6.21    6.25    5.84    5.88      5.88  3543933.0   \n",
       " 2020-01-06    5.80    5.91    5.60    5.85      5.85  3394774.0   \n",
       " 2020-01-07    5.77    5.83    5.44    5.52      5.52  5230265.0   \n",
       " 2020-01-08    5.49    5.85    5.41    5.72      5.72  5629442.0   \n",
       " ...            ...     ...     ...     ...       ...        ...   \n",
       " 2021-10-25  169.42  174.80  167.26  173.97    173.97  1442806.0   \n",
       " 2021-10-26  173.36  185.00  172.50  177.84    177.84  2176749.0   \n",
       " 2021-10-27  180.00  183.09  172.33  173.51    173.51  1106998.0   \n",
       " 2021-10-28  175.16  183.14  175.00  182.85    182.85  1696206.0   \n",
       " 2021-10-29  182.81  185.75  178.00  183.51    183.51  2293970.0   \n",
       " \n",
       "             unadjustedVolume  change  changePercent       vwap  \\\n",
       " Date                                                             \n",
       " 2020-01-02         4453598.0    0.17          2.769    6.28333   \n",
       " 2020-01-03         3543933.0   -0.33         -5.314    5.99000   \n",
       " 2020-01-06         3394774.0    0.05          0.862    5.78667   \n",
       " 2020-01-07         5230265.0   -0.25         -4.333    5.59667   \n",
       " 2020-01-08         5629442.0    0.23          4.189    5.66000   \n",
       " ...                      ...     ...            ...        ...   \n",
       " 2021-10-25         1442806.0    4.55          2.686  172.01000   \n",
       " 2021-10-26         2176749.0    4.48          2.584  178.44667   \n",
       " 2021-10-27         1106998.0   -6.49         -3.606  176.31000   \n",
       " 2021-10-28         1696206.0    7.69          4.390  180.33000   \n",
       " 2021-10-29         2293970.0    0.70          0.383  182.42000   \n",
       " \n",
       "             changeOverTime  QUANTITY_FAILS  ShortVolumeNSDQ  \\\n",
       " Date                                                          \n",
       " 2020-01-02         0.02769         10609.0         872127.0   \n",
       " 2020-01-03        -0.05314         28692.0         520156.0   \n",
       " 2020-01-06         0.00862         28665.0         498788.0   \n",
       " 2020-01-07        -0.04333             0.0         604854.0   \n",
       " 2020-01-08         0.04189          7039.0         746989.0   \n",
       " ...                    ...             ...              ...   \n",
       " 2021-10-25         0.02686         11251.0         224603.0   \n",
       " 2021-10-26         0.02584             0.0         338831.0   \n",
       " 2021-10-27        -0.03606         67280.0         164158.0   \n",
       " 2021-10-28         0.04390         11310.0         250043.0   \n",
       " 2021-10-29         0.00383          5592.0         280700.0   \n",
       " \n",
       "             ShortExemptVolumeNSDQ  TotalVolumeNSDQ  ShortVolumeNYSE  \\\n",
       " Date                                                                  \n",
       " 2020-01-02                 8472.0        1185904.0         276386.0   \n",
       " 2020-01-03                11999.0         832247.0         306258.0   \n",
       " 2020-01-06                20569.0         859426.0         198834.0   \n",
       " 2020-01-07                 6372.0        1908324.0         351972.0   \n",
       " 2020-01-08                26168.0        1480915.0         529867.0   \n",
       " ...                           ...              ...              ...   \n",
       " 2021-10-25                 6814.0         371983.0          55031.0   \n",
       " 2021-10-26                 4819.0         600800.0          75546.0   \n",
       " 2021-10-27                 3233.0         292965.0          34396.0   \n",
       " 2021-10-28                 4653.0         433029.0          40388.0   \n",
       " 2021-10-29                 1269.0         429704.0         206174.0   \n",
       " \n",
       "             ShortExemptVolumeNYSE  TotalVolumeNYSE  \n",
       " Date                                                \n",
       " 2020-01-02                 2448.0         527414.0  \n",
       " 2020-01-03                    2.0         506189.0  \n",
       " 2020-01-06                   15.0         319375.0  \n",
       " 2020-01-07                  991.0         523321.0  \n",
       " 2020-01-08                   28.0         852908.0  \n",
       " ...                           ...              ...  \n",
       " 2021-10-25                  748.0         114748.0  \n",
       " 2021-10-26                  966.0         167756.0  \n",
       " 2021-10-27                  238.0          84514.0  \n",
       " 2021-10-28                  304.0         126039.0  \n",
       " 2021-10-29                  128.0         500476.0  \n",
       " \n",
       " [462 rows x 18 columns],\n",
       " 'companyProfile': {'symbol': 'GME',\n",
       "  'price': 211.78,\n",
       "  'beta': -1.991168,\n",
       "  'volAvg': 2576007,\n",
       "  'mktCap': 16199370752,\n",
       "  'lastDiv': 0.0,\n",
       "  'range': '12.14-483.0',\n",
       "  'changes': -2.119995,\n",
       "  'companyName': 'GameStop Corp.',\n",
       "  'currency': 'USD',\n",
       "  'cik': '0001326380',\n",
       "  'isin': 'US36467W1099',\n",
       "  'cusip': '36467W109',\n",
       "  'exchange': 'New York Stock Exchange',\n",
       "  'exchangeShortName': 'NYSE',\n",
       "  'industry': 'Specialty Retail',\n",
       "  'website': 'http://www.gamestop.com',\n",
       "  'description': 'GameStop Corp. operates as a multichannel video game, consumer electronics, and collectibles retailer in the United States, Canada, Australia, and Europe. The company sells new and pre-owned video game platforms; accessories, including controllers, gaming headsets, virtual reality products, and memory cards; new and pre-owned video game software; and in-game digital currency, digital downloadable content, and full-game downloads, as well as network points cards, and prepaid digital and prepaid subscription cards. It also sells collectibles comprising licensed merchandise primarily related to the video game, television, and movie industries, as well as pop culture themes. The company operates its stores and e-commerce sites under the GameStop, EB Games, and Micromania brands; and collectibles stores under the Zing Pop Culture and ThinkGeek brand, as well as offers Game Informer, a print and digital video game publication featuring reviews of new title releases, game tips, and news regarding the video game industry. As of February 1, 2020, the company operated 5,509 stores across 14 countries. The company was formerly known as GSC Holdings Corp. GameStop Corp. was founded in 1996 and is headquartered in Grapevine, Texas.',\n",
       "  'ceo': 'Mr. George Sherman',\n",
       "  'sector': 'Consumer Cyclical',\n",
       "  'country': 'US',\n",
       "  'fullTimeEmployees': '12000',\n",
       "  'phone': '18174242000',\n",
       "  'address': '625 Westport Pkwy',\n",
       "  'city': 'Grapevine',\n",
       "  'state': 'TEXAS',\n",
       "  'zip': '76051',\n",
       "  'dcfDiff': None,\n",
       "  'dcf': 238.242,\n",
       "  'image': 'https://fmpcloud.io/image-stock/GME.png',\n",
       "  'ipoDate': '2005-10-10',\n",
       "  'defaultImage': False,\n",
       "  'isEtf': False,\n",
       "  'isActivelyTrading': True,\n",
       "  'isAdr': False,\n",
       "  'isFund': False},\n",
       " 'floatData': {'symbol': 'GME',\n",
       "  'date': '2021-11-25',\n",
       "  'freeFloat': 80.73494279835313,\n",
       "  'floatShares': 61755372.0,\n",
       "  'outstandingShares': 76491504.0,\n",
       "  'source': 'https://www.sec.gov/Archives/edgar/data/1326380/000132638021000090/gme-20210731.htm'},\n",
       " 'textNews': ['article1', 'article2', 'article3'],\n",
       " 'returns': 'returns_data'}"
      ]
     },
     "execution_count": 37,
     "metadata": {},
     "output_type": "execute_result"
    }
   ],
   "source": [
    "new_dict['GME']"
   ]
  },
  {
   "cell_type": "code",
   "execution_count": null,
   "id": "549b664a-6fc9-483b-a9ca-40f39f19e335",
   "metadata": {},
   "outputs": [],
   "source": []
  }
 ],
 "metadata": {
  "kernelspec": {
   "display_name": "Python 3",
   "language": "python",
   "name": "python3"
  },
  "language_info": {
   "codemirror_mode": {
    "name": "ipython",
    "version": 3
   },
   "file_extension": ".py",
   "mimetype": "text/x-python",
   "name": "python",
   "nbconvert_exporter": "python",
   "pygments_lexer": "ipython3",
   "version": "3.7.10"
  }
 },
 "nbformat": 4,
 "nbformat_minor": 5
}
