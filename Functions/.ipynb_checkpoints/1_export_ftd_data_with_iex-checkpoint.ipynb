{
 "cells": [
  {
   "cell_type": "code",
   "execution_count": 1,
   "id": "240c3e82",
   "metadata": {},
   "outputs": [
    {
     "data": {
      "text/plain": [
       "True"
      ]
     },
     "execution_count": 1,
     "metadata": {},
     "output_type": "execute_result"
    }
   ],
   "source": [
    "import pandas as pd\n",
    "\n",
    "import glob\n",
    "\n",
    "from pathlib import Path\n",
    "import csv\n",
    "\n",
    "import os\n",
    "import requests\n",
    "import json\n",
    "\n",
    "from dotenv import load_dotenv\n",
    "load_dotenv()"
   ]
  },
  {
   "cell_type": "code",
   "execution_count": 2,
   "id": "3c2a5905",
   "metadata": {},
   "outputs": [],
   "source": [
    "## Calls and Functions for reading data downloaded from SEC website \n",
    "header = \"SETTLEMENT DATE|CUSIP|SYMBOL|QUANTITY (FAILS)|DESCRIPTION|PRICE\"\n",
    "\n",
    "path = r'C:\\Users\\watso\\Desktop\\TherinFintech\\GME_Shenanigans\\SEC_Files_CSV' # USE YOUR PATH \n",
    "all_files = glob.glob(path + \"/*.csv\")\n",
    "\n",
    "GME_CUSIP_number = \"36467W109\"   \n",
    "GME_symbol = 'GME'\n",
    "\n",
    "CUSIP_number = \"36467W109\"   # Default  \n",
    "symbol = 'GME'               # Default\n",
    "\n",
    "# Main function - passing the CUSIP number (most important) and setting the symbol will deliver\n",
    "#                 FTD data sorted by CUSIP number \n",
    "# All other functions here exist to support this \n",
    "def return_dataframe(cusip_number,symbol):\n",
    "    df = read_ftd_data_any_stock(cusip_number,symbol)\n",
    "    df = fix_dataframe(df)\n",
    "    return df\n",
    "\n",
    "# Use return_dataframe as your function to call FTD Data \n",
    "\n",
    "\n",
    "def read_ftd_file(csv_path, cusip_number, symbol):\n",
    "    data = pd.read_csv(\n",
    "    Path(csv_path),\n",
    "    index_col=False\n",
    "    )\n",
    "    \n",
    "    data[header] = data[header].str.replace('|',',')\n",
    "    new_data = data.rename(columns={header:'SETTLEMENT_DATE,CUSIP,SYMBOL,QUANTITY_FAILS,DESCRIPTION,PRICE'})\n",
    "    Header = \"Header\"\n",
    "    new_data = data.rename(columns={header:Header})\n",
    "    \n",
    "    new_data = new_data.Header.str.split(\",\",expand=True)\n",
    "    new_data = new_data.rename(columns={0:'Date',1:'CUSIP',2:'SYMBOL',3:'QUANTITY_FAILS',4:'DESCRIPTION',5:'PRICE'})\n",
    "    \n",
    "    new_data = new_data.set_index(\"CUSIP\")\n",
    "    new_data = new_data.loc[cusip_number]\n",
    "    \n",
    "    new_data = new_data[['Date','QUANTITY_FAILS','PRICE']]\n",
    "    new_data.rename(columns={'PRICE':symbol},inplace=True)\n",
    "    new_data.set_index('Date',inplace=True)  \n",
    "    \n",
    "    new_data = new_data.reset_index()\n",
    "    new_data['Date'] = pd.to_datetime(new_data['Date'])\n",
    "    new_data.set_index('Date',inplace=True)\n",
    "    new_data = new_data[['QUANTITY_FAILS']]\n",
    "    new_data.rename(columns={'QUANTITY_FAILS':symbol+'_QUANTITY_FAILS'},inplace=True)\n",
    "    \n",
    "    return new_data\n",
    "\n",
    "def read_ftd_data_any_stock(cusip_number,symbol):\n",
    "    new_df = pd.DataFrame()\n",
    "    for filename in all_files:\n",
    "        if filename == 0:\n",
    "            new_df = read_ftd_file(csv_path=filename ,cusip_number=cusip_number,symbol=symbol)\n",
    "        else:\n",
    "            new_df2 = read_ftd_file(csv_path=filename ,cusip_number=cusip_number,symbol=symbol)\n",
    "            new_df = concat_df(new_df,new_df2)\n",
    "            \n",
    "    return new_df\n",
    "\n",
    "def fix_dataframe(dataframe):\n",
    "    # For whatever reason, exporting data to CSV file, then reimporting back in using Pandas\n",
    "    # solves all issues when it comes to reading the data in the column \n",
    "    dataframe.to_csv('../FilesTemp/temp.csv')\n",
    "    dataframe = pd.read_csv(\n",
    "        Path('../FilesTemp/temp.csv'),\n",
    "        infer_datetime_format=True,\n",
    "        parse_dates=True,\n",
    "        index_col=\"Date\",\n",
    "    )\n",
    "    dataframe.sort_index(inplace=True)\n",
    "    dataframe.drop_duplicates(inplace=True)\n",
    "    return dataframe\n",
    "\n",
    "def concat_df(df_1,df_2):\n",
    "    df = pd.concat([df_1,df_2],axis='rows')\n",
    "    return df"
   ]
  },
  {
   "cell_type": "code",
   "execution_count": 3,
   "id": "ceff5ee0",
   "metadata": {},
   "outputs": [
    {
     "data": {
      "text/plain": [
       "<Response [200]>"
      ]
     },
     "execution_count": 3,
     "metadata": {},
     "output_type": "execute_result"
    }
   ],
   "source": [
    "## IEX Setup and Test \n",
    "\n",
    "# Don't seem to need to use real API Key \n",
    "# Sandbox API key works just fine for data \n",
    "\n",
    "#iex_api_key = os.getenv(\"IEX_API_KEY\")\n",
    "iex_test_api_key = os.getenv(\"IEX_TEST_API_KEY\")\n",
    "\n",
    "base_url = 'https://cloud.iexapis.com/stable/'\n",
    "sandbox_url = 'https://sandbox.iexapis.com/stable/'\n",
    "\n",
    "#token = os.environ.get('IEX_API_KEY')\n",
    "test_token = os.environ.get('IEX_TEST_API_KEY')\n",
    "\n",
    "test_resp = requests.get(base_url + 'status')\n",
    "test_resp"
   ]
  },
  {
   "cell_type": "code",
   "execution_count": 4,
   "id": "a0c71705",
   "metadata": {},
   "outputs": [],
   "source": [
    "## IEX Calls and Functions \n",
    "\n",
    "def get_chart(stock_ticker, chart_range='14m'):\n",
    "    resp_data = requests.get(sandbox_url+'stock/'+stock_ticker+'/chart/'+chart_range+'?token='+test_token)\n",
    "    df = pd.DataFrame(resp_data.json())\n",
    "\n",
    "    df.rename(columns={'date':'Date'},inplace=True)\n",
    "    df['Date'] = pd.to_datetime(df['Date'])\n",
    "    df.set_index('Date',inplace=True)\n",
    "    \n",
    "    return df \n",
    "\n",
    "def get_close_price(stock_ticker, chart_range='14m'):\n",
    "\n",
    "    resp_data = requests.get(sandbox_url+'stock/'+stock_ticker+'/chart/'+chart_range+'?token='+test_token)\n",
    "    df = pd.DataFrame(resp_data.json())\n",
    "\n",
    "    df.rename(columns={'date':'Date'},inplace=True)\n",
    "    df['Date'] = pd.to_datetime(df['Date'])\n",
    "    df.set_index('Date',inplace=True)\n",
    "    \n",
    "    df = df[['close']]\n",
    "    #df.rename(columns={'close':stock_ticker},inplace=True)\n",
    "    \n",
    "    return df\n",
    "\n",
    "def get_daily_data(stock_ticker, chart_range='14m'):\n",
    "\n",
    "    resp_data = requests.get(sandbox_url+'stock/'+stock_ticker+'/chart/'+chart_range+'?token='+test_token)\n",
    "    df = pd.DataFrame(resp_data.json())\n",
    "\n",
    "    df.rename(columns={'date':'Date'},inplace=True)\n",
    "    df['Date'] = pd.to_datetime(df['Date'])\n",
    "    df.set_index('Date',inplace=True)\n",
    "    \n",
    "    df = df[['close','open','low','high','volume']]\n",
    "    #df.rename(columns={'close':stock_ticker},inplace=True)\n",
    "    \n",
    "    return df\n",
    "\n",
    "def join_ftd_and_close(ftd_df,close_df):\n",
    "    merged_df = ftd_df.merge(close_df, how='inner',right_index=True, left_index=True)\n",
    "    return merged_df"
   ]
  },
  {
   "cell_type": "code",
   "execution_count": 5,
   "id": "cfd23455",
   "metadata": {},
   "outputs": [],
   "source": [
    "def do_all(cusip_number,symbol,chart_range='14m'):\n",
    "    # Default chart_range value = '1y' \n",
    "    # Get FTD Data\n",
    "    ftd_df = return_dataframe(cusip_number,symbol)\n",
    "    # Get Close Data \n",
    "    close_df = get_close_price(symbol,chart_range)\n",
    "    # Merge Data together \n",
    "    merged_df = join_ftd_and_close(ftd_df,close_df)\n",
    "    return merged_df\n",
    "\n",
    "def do_more(cusip_number,symbol,chart_range='14m'):\n",
    "    # Default chart_range value = '1y' \n",
    "    # Get FTD Data\n",
    "    ftd_df = return_dataframe(cusip_number,symbol)\n",
    "    # Get Close Data \n",
    "    close_df = get_daily_data(symbol,chart_range)\n",
    "    # Merge Data together \n",
    "    merged_df = join_ftd_and_close(ftd_df,close_df)\n",
    "    return merged_df\n",
    "\n",
    "def do_all_and_export(cusip_number,symbol,chart_range='14m'):\n",
    "    # Default chart_range value = '1y' \n",
    "    # Get FTD Data\n",
    "    ftd_df = return_dataframe(cusip_number,symbol)\n",
    "    # Get Close Data \n",
    "    close_df = get_daily_data(symbol,chart_range)\n",
    "    # Merge Data together \n",
    "    merged_df = join_ftd_and_close(ftd_df,close_df)\n",
    "    # Export Data \n",
    "    merged_df.to_csv('../FilesExport/'+symbol+'_all_data.csv')\n",
    "    return merged_df\n",
    "\n",
    "def export_ftd_csv_data(dataframe,symbol):    \n",
    "    dataframe.to_csv('../FilesExport/'+symbol+'_ftd_data.csv')"
   ]
  },
  {
   "cell_type": "code",
   "execution_count": 21,
   "id": "031ca6ad",
   "metadata": {},
   "outputs": [
    {
     "name": "stderr",
     "output_type": "stream",
     "text": [
      "C:\\Users\\watso\\anaconda3\\envs\\pyvizenv\\lib\\site-packages\\ipykernel_launcher.py:30: FutureWarning: The default value of regex will change from True to False in a future version. In addition, single character regular expressions will*not* be treated as literal strings when regex=True.\n"
     ]
    },
    {
     "data": {
      "text/html": [
       "<div>\n",
       "<style scoped>\n",
       "    .dataframe tbody tr th:only-of-type {\n",
       "        vertical-align: middle;\n",
       "    }\n",
       "\n",
       "    .dataframe tbody tr th {\n",
       "        vertical-align: top;\n",
       "    }\n",
       "\n",
       "    .dataframe thead th {\n",
       "        text-align: right;\n",
       "    }\n",
       "</style>\n",
       "<table border=\"1\" class=\"dataframe\">\n",
       "  <thead>\n",
       "    <tr style=\"text-align: right;\">\n",
       "      <th></th>\n",
       "      <th>GME_QUANTITY_FAILS</th>\n",
       "    </tr>\n",
       "    <tr>\n",
       "      <th>Date</th>\n",
       "      <th></th>\n",
       "    </tr>\n",
       "  </thead>\n",
       "  <tbody>\n",
       "    <tr>\n",
       "      <th>2020-08-03</th>\n",
       "      <td>19581</td>\n",
       "    </tr>\n",
       "    <tr>\n",
       "      <th>2020-08-04</th>\n",
       "      <td>20822</td>\n",
       "    </tr>\n",
       "    <tr>\n",
       "      <th>2020-08-05</th>\n",
       "      <td>9693</td>\n",
       "    </tr>\n",
       "    <tr>\n",
       "      <th>2020-08-06</th>\n",
       "      <td>70632</td>\n",
       "    </tr>\n",
       "    <tr>\n",
       "      <th>2020-08-10</th>\n",
       "      <td>415</td>\n",
       "    </tr>\n",
       "    <tr>\n",
       "      <th>...</th>\n",
       "      <td>...</td>\n",
       "    </tr>\n",
       "    <tr>\n",
       "      <th>2021-09-08</th>\n",
       "      <td>96</td>\n",
       "    </tr>\n",
       "    <tr>\n",
       "      <th>2021-09-09</th>\n",
       "      <td>544</td>\n",
       "    </tr>\n",
       "    <tr>\n",
       "      <th>2021-09-10</th>\n",
       "      <td>4836</td>\n",
       "    </tr>\n",
       "    <tr>\n",
       "      <th>2021-09-13</th>\n",
       "      <td>3751</td>\n",
       "    </tr>\n",
       "    <tr>\n",
       "      <th>2021-09-14</th>\n",
       "      <td>7135</td>\n",
       "    </tr>\n",
       "  </tbody>\n",
       "</table>\n",
       "<p>273 rows × 1 columns</p>\n",
       "</div>"
      ],
      "text/plain": [
       "            GME_QUANTITY_FAILS\n",
       "Date                          \n",
       "2020-08-03               19581\n",
       "2020-08-04               20822\n",
       "2020-08-05                9693\n",
       "2020-08-06               70632\n",
       "2020-08-10                 415\n",
       "...                        ...\n",
       "2021-09-08                  96\n",
       "2021-09-09                 544\n",
       "2021-09-10                4836\n",
       "2021-09-13                3751\n",
       "2021-09-14                7135\n",
       "\n",
       "[273 rows x 1 columns]"
      ]
     },
     "execution_count": 21,
     "metadata": {},
     "output_type": "execute_result"
    }
   ],
   "source": [
    "gme_ftd_df = return_dataframe(CUSIP_number,symbol)\n",
    "gme_ftd_df"
   ]
  },
  {
   "cell_type": "code",
   "execution_count": 7,
   "id": "178a68d2",
   "metadata": {},
   "outputs": [],
   "source": [
    "# gme_chart = get_close_price('GME')\n",
    "# gme_chart"
   ]
  },
  {
   "cell_type": "code",
   "execution_count": 8,
   "id": "3ef59752",
   "metadata": {},
   "outputs": [],
   "source": [
    "# combined_df = join_ftd_and_close(gme_ftd_df,gme_chart)\n",
    "# combined_df"
   ]
  },
  {
   "cell_type": "code",
   "execution_count": 9,
   "id": "11f53182",
   "metadata": {},
   "outputs": [],
   "source": [
    "# gme_test = do_all(GME_CUSIP_number,'GME')\n",
    "# gme_test"
   ]
  },
  {
   "cell_type": "code",
   "execution_count": 10,
   "id": "5b97098b",
   "metadata": {},
   "outputs": [],
   "source": [
    "# tsla_cusip = \"88160R101\" \n",
    "# tsla_symbol = 'TSLA'\n",
    "\n",
    "# # tsla_ftd_df = return_dataframe(tsla_cusip,tsla_symbol)\n",
    "# # tsla_chart = get_close_price(tsla_symbol)\n",
    "# tsla_ftd_data = do_all(tsla_cusip,tsla_symbol)\n",
    "# tsla_ftd_data"
   ]
  },
  {
   "cell_type": "code",
   "execution_count": 11,
   "id": "30d78a83",
   "metadata": {},
   "outputs": [],
   "source": [
    "# aapl_cusip = \"037833100\" \n",
    "# aapl_symbol = 'AAPL'\n",
    "\n",
    "# # aapl_ftd_df = return_dataframe(aapl_cusip,aapl_symbol)\n",
    "# # aapl_chart = get_close_price(aapl_symbol)\n",
    "# aapl_ftd_data = do_all(aapl_cusip,aapl_symbol)\n",
    "# aapl_ftd_data"
   ]
  },
  {
   "cell_type": "code",
   "execution_count": 12,
   "id": "00058753",
   "metadata": {},
   "outputs": [],
   "source": [
    "# %matplotlib inline\n",
    "# def plot_fails(data,symbol):\n",
    "#     plot = data.plot(figsize=(14,5),title=symbol)\n",
    "#     return plot "
   ]
  },
  {
   "cell_type": "code",
   "execution_count": 13,
   "id": "fa397487",
   "metadata": {},
   "outputs": [
    {
     "name": "stderr",
     "output_type": "stream",
     "text": [
      "C:\\Users\\watso\\anaconda3\\envs\\pyvizenv\\lib\\site-packages\\ipykernel_launcher.py:30: FutureWarning: The default value of regex will change from True to False in a future version. In addition, single character regular expressions will*not* be treated as literal strings when regex=True.\n"
     ]
    }
   ],
   "source": [
    "gme_export = do_all_and_export(GME_CUSIP_number,'GME')"
   ]
  },
  {
   "cell_type": "code",
   "execution_count": 19,
   "id": "e158c8a9",
   "metadata": {},
   "outputs": [],
   "source": [
    "# AMC , BB , NOK \n",
    "amc_cusip = '00165C104'\n",
    "bb_cusip = '09228F103'\n",
    "nok_cusip = '654902204'\n",
    "\n",
    "# TLSA, SPCE, Shopify, QSR \n",
    "tsla_cusip = \"88160R101\" \n",
    "shop_cusip = '82509L107'\n",
    "qsr_cusip = '76131D103'\n",
    "spce_cusip = '92766K106'\n",
    "\n",
    "# AAPL, MSFT, JPM, Goldman, and Berkshire \n",
    "aapl_cusip = '037833100'\n",
    "msft_cusip = '594918104'\n",
    "jpm_cusip = '46625H100'\n",
    "gs_cusip = '38141G104'\n"
   ]
  },
  {
   "cell_type": "code",
   "execution_count": 22,
   "id": "467df07e",
   "metadata": {},
   "outputs": [],
   "source": [
    "# test_cusip_df = do_all_and_export(cusip_2,'AGRI')\n",
    "# test_cusip_df"
   ]
  },
  {
   "cell_type": "code",
   "execution_count": 17,
   "id": "ebd856a3",
   "metadata": {},
   "outputs": [
    {
     "name": "stderr",
     "output_type": "stream",
     "text": [
      "C:\\Users\\watso\\anaconda3\\envs\\pyvizenv\\lib\\site-packages\\ipykernel_launcher.py:30: FutureWarning: The default value of regex will change from True to False in a future version. In addition, single character regular expressions will*not* be treated as literal strings when regex=True.\n"
     ]
    }
   ],
   "source": [
    "# amc_export = do_all_and_export(amc_cusip,'AMC')\n",
    "# bb_export = do_all_and_export(bb_cusip,'BB')\n",
    "# nok_export = do_all_and_export(nok_cusip,'NOK')\n",
    "# tsla_export = do_all_and_export(tsla_cusip,'TSLA')\n",
    "# shop_export = do_all_and_export(shop_cusip,'SHOP')\n",
    "# qsr_export = do_all_and_export(qsr_cusip,'QSR')\n",
    "# spce_export = do_all_and_export(spce_cusip,'SPCE')\n",
    "# aapl_export = do_all_and_export(aapl_cusip,'AAPL')\n",
    "# msft_export = do_all_and_export(msft_cusip,'MSFT')\n",
    "# jpm_export = do_all_and_export(jpm_cusip,'JPM')\n",
    "# gs_export = do_all_and_export(gs_cusip,'GS')"
   ]
  },
  {
   "cell_type": "code",
   "execution_count": null,
   "id": "782f189a",
   "metadata": {},
   "outputs": [],
   "source": []
  }
 ],
 "metadata": {
  "kernelspec": {
   "display_name": "Python 3",
   "language": "python",
   "name": "python3"
  },
  "language_info": {
   "codemirror_mode": {
    "name": "ipython",
    "version": 3
   },
   "file_extension": ".py",
   "mimetype": "text/x-python",
   "name": "python",
   "nbconvert_exporter": "python",
   "pygments_lexer": "ipython3",
   "version": "3.7.10"
  }
 },
 "nbformat": 4,
 "nbformat_minor": 5
}
