{
 "cells": [
  {
   "cell_type": "code",
   "execution_count": 5,
   "id": "f7f490fd",
   "metadata": {},
   "outputs": [
    {
     "data": {
      "text/plain": [
       "True"
      ]
     },
     "execution_count": 5,
     "metadata": {},
     "output_type": "execute_result"
    }
   ],
   "source": [
    "import pandas as pd\n",
    "\n",
    "import glob\n",
    "\n",
    "from pathlib import Path\n",
    "import csv\n",
    "import pickle\n",
    "\n",
    "import os\n",
    "import requests\n",
    "import json\n",
    "\n",
    "import quandl\n",
    "#import yfinance as yf\n",
    "\n",
    "from dotenv import load_dotenv\n",
    "load_dotenv()"
   ]
  },
  {
   "cell_type": "code",
   "execution_count": 27,
   "id": "47558148",
   "metadata": {},
   "outputs": [],
   "source": [
    "# pkl_path = Path('../FilesExportComplete/data_complete_0_100.pkl')\n",
    "# pkl_path2 = Path('../FilesExportIncorrect/data_incomplete_5100_5200.pkl')\n",
    "# # with open(csv_path, mode='r') as infile:\n",
    "# #     reader = csv.reader(infile)\n",
    "# #     with open('coors_new.csv', mode='w') as outfile:\n",
    "# #         writer = csv.writer(outfile)\n",
    "# #         mydict = {rows[0]:rows[1] for rows in reader}\n",
    "\n",
    "# # input_file = csv.DictReader(open(csv_path))\n",
    "        \n",
    "# # dictobj = next(input_file) "
   ]
  },
  {
   "cell_type": "code",
   "execution_count": 28,
   "id": "bf031233",
   "metadata": {},
   "outputs": [],
   "source": [
    "# dictobj['A']"
   ]
  },
  {
   "cell_type": "code",
   "execution_count": 58,
   "id": "9a054412",
   "metadata": {},
   "outputs": [],
   "source": [
    "def load_obj(path):\n",
    "    with open(path, 'rb') as f:\n",
    "        return pickle.load(f)\n",
    "    \n",
    "def save_obj(obj, path ):\n",
    "    with open(path, 'wb') as f:\n",
    "        pickle.dump(obj, f, pickle.HIGHEST_PROTOCOL)"
   ]
  },
  {
   "cell_type": "code",
   "execution_count": 30,
   "id": "3d91e29b",
   "metadata": {},
   "outputs": [
    {
     "data": {
      "text/plain": [
       "{}"
      ]
     },
     "execution_count": 30,
     "metadata": {},
     "output_type": "execute_result"
    }
   ],
   "source": [
    "# my_dict = load_obj(pkl_path)\n",
    "# my_dict"
   ]
  },
  {
   "cell_type": "code",
   "execution_count": 31,
   "id": "a3f1447c",
   "metadata": {},
   "outputs": [],
   "source": [
    "# my_dict2 = load_obj(pkl_path2)\n",
    "#my_dict2"
   ]
  },
  {
   "cell_type": "code",
   "execution_count": 32,
   "id": "d45d4cda",
   "metadata": {},
   "outputs": [],
   "source": [
    "# #     with open(path_var, 'w') as f:\n",
    "# #         for key in my_dict.keys():\n",
    "# #             f.write(\"%s,%s\\n\"%(key,my_dict[key]))"
   ]
  },
  {
   "cell_type": "code",
   "execution_count": 56,
   "id": "e5e33b81",
   "metadata": {},
   "outputs": [],
   "source": [
    "# x = 0\n",
    "# y = 100\n",
    "# complete_dict = {}\n",
    "# incomplete_dict = {}\n",
    "\n",
    "# ## Drop unnecessary symbol column\n",
    "# ## Re-sort data from complete dataframes into incomplete \n",
    "\n",
    "# while x <= 6600:\n",
    "\n",
    "#     str_symbol1 = str(x)\n",
    "#     str_symbol2 = str(y)\n",
    "    \n",
    "#     pkl_import_path = Path('../FilesExportIncorrect/data_incomplete_'+str_symbol1+'_'+str_symbol2+'.pkl')\n",
    "#     my_dict2 = load_obj(pkl_import_path)\n",
    "    \n",
    "#     for key in my_dict2.keys():\n",
    "#         my_dict2[key].drop(columns={'SYMBOL'},inplace=True)\n",
    "#         bool_var = my_dict2[key].isnull().values.any()\n",
    "#         if bool_var == False:\n",
    "#             complete_dict[key] = my_dict2[key]\n",
    "#         elif bool_var == True:\n",
    "#             incomplete_dict[key] = my_dict2[key]\n",
    "#         #print(key,my_dict2[key])\n",
    "    \n",
    "#     x += 100\n",
    "#     y += 100\n",
    "\n",
    "\n",
    "## Done. Fixed. "
   ]
  },
  {
   "cell_type": "code",
   "execution_count": 60,
   "id": "45bfa07b",
   "metadata": {},
   "outputs": [],
   "source": [
    "# #complete_dict\n",
    "# #incomplete_dict\n",
    "# complete_dict_save_path = Path('../Resources/complete_data_0_6600.pkl')\n",
    "# incomplete_dict_save_path = Path('../Resources/incomplete_data_0_6600.pkl')\n",
    "\n",
    "# save_obj(complete_dict,complete_dict_save_path)\n",
    "# save_obj(incomplete_dict,incomplete_dict_save_path)\n",
    "\n",
    "## Done "
   ]
  },
  {
   "cell_type": "code",
   "execution_count": 61,
   "id": "2642ce9b",
   "metadata": {},
   "outputs": [],
   "source": [
    "# x = 6700\n",
    "# y = 6800\n",
    "# # complete_dict = {}    ## By reusing the variables and not declaring anything,\n",
    "# # incomplete_dict = {}  ## this should keep adding to the dict(s)\n",
    "\n",
    "# ## Drop unnecessary symbol column\n",
    "# ## Re-sort data from complete dataframes into incomplete \n",
    "\n",
    "# while x <= 9900:\n",
    "\n",
    "#     str_symbol1 = str(x)\n",
    "#     str_symbol2 = str(y)\n",
    "    \n",
    "#     pkl_import_path = Path('../FilesExportComplete/data_complete_'+str_symbol1+'_'+str_symbol2+'.pkl')\n",
    "#     my_dict1 = load_obj(pkl_import_path)\n",
    "    \n",
    "#     for key in my_dict1.keys():\n",
    "#         #my_dict2[key].drop(columns={'SYMBOL'},inplace=True)\n",
    "#         bool_var = my_dict1[key].isnull().values.any()\n",
    "#         if bool_var == False:\n",
    "#             complete_dict[key] = my_dict1[key]\n",
    "#         elif bool_var == True:\n",
    "#             incomplete_dict[key] = my_dict1[key]\n",
    "#         #print(key,my_dict2[key])\n",
    "        \n",
    "#     pkl_import_path2 = Path('../FilesExportIncomplete/data_incomplete_'+str_symbol1+'_'+str_symbol2+'.pkl')\n",
    "#     my_dict2 = load_obj(pkl_import_path2)\n",
    "    \n",
    "#     for key in my_dict2.keys():\n",
    "#         #my_dict2[key].drop(columns={'SYMBOL'},inplace=True)\n",
    "#         bool_var = my_dict2[key].isnull().values.any()\n",
    "#         if bool_var == False:\n",
    "#             complete_dict[key] = my_dict2[key]\n",
    "#         elif bool_var == True:\n",
    "#             incomplete_dict[key] = my_dict2[key]\n",
    "#         #print(key,my_dict2[key])\n",
    "    \n",
    "#     x += 100\n",
    "#     y += 100\n",
    "\n",
    "## Done "
   ]
  },
  {
   "cell_type": "code",
   "execution_count": 62,
   "id": "3cdb9703",
   "metadata": {},
   "outputs": [],
   "source": [
    "# #complete_dict\n",
    "# #incomplete_dict\n",
    "# complete_dict_save_path = Path('../Resources/complete_data_0_10000.pkl')\n",
    "# incomplete_dict_save_path = Path('../Resources/incomplete_data_0_10000.pkl')\n",
    "\n",
    "# save_obj(complete_dict,complete_dict_save_path)\n",
    "# save_obj(incomplete_dict,incomplete_dict_save_path)\n",
    "\n",
    "## Done "
   ]
  },
  {
   "cell_type": "code",
   "execution_count": null,
   "id": "375198d8",
   "metadata": {},
   "outputs": [],
   "source": []
  }
 ],
 "metadata": {
  "kernelspec": {
   "display_name": "Python 3",
   "language": "python",
   "name": "python3"
  },
  "language_info": {
   "codemirror_mode": {
    "name": "ipython",
    "version": 3
   },
   "file_extension": ".py",
   "mimetype": "text/x-python",
   "name": "python",
   "nbconvert_exporter": "python",
   "pygments_lexer": "ipython3",
   "version": "3.7.10"
  }
 },
 "nbformat": 4,
 "nbformat_minor": 5
}
