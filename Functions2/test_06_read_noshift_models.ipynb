{
 "cells": [
  {
   "cell_type": "code",
   "execution_count": 1,
   "id": "553c69c5-9d25-40b3-af51-d9a82e39077c",
   "metadata": {},
   "outputs": [],
   "source": [
    "import pandas as pd\n",
    "\n",
    "import glob\n",
    "\n",
    "from pathlib import Path\n",
    "import csv"
   ]
  },
  {
   "cell_type": "code",
   "execution_count": 2,
   "id": "55e5e6b1-d6a9-4628-a939-1fcd653b6fc7",
   "metadata": {},
   "outputs": [],
   "source": [
    "# Initial imports\n",
    "from tensorflow.keras.models import Sequential\n",
    "from tensorflow.keras.layers import Dense\n",
    "from tensorflow.keras.models import model_from_json\n",
    "from pathlib import Path\n",
    "import pandas as pd\n",
    "import matplotlib.pyplot as plt\n",
    "\n",
    "from sklearn.model_selection import train_test_split\n",
    "from sklearn.preprocessing import StandardScaler\n",
    "\n",
    "%matplotlib inline"
   ]
  },
  {
   "cell_type": "code",
   "execution_count": 3,
   "id": "44fdbaad-d53a-4f06-9f0c-2b9552262446",
   "metadata": {},
   "outputs": [],
   "source": [
    "## Load pickle for exports and imports of data  \n",
    "import pickle \n",
    "def load_obj(path):\n",
    "    with open(path, 'rb') as f:\n",
    "        return pickle.load(f)\n",
    "    \n",
    "def save_obj(obj, path ):\n",
    "    with open(path, 'wb') as f:\n",
    "        pickle.dump(obj, f, pickle.HIGHEST_PROTOCOL)"
   ]
  },
  {
   "cell_type": "code",
   "execution_count": 4,
   "id": "19d39fc3-c425-4ec0-bf03-7c35cab182ce",
   "metadata": {},
   "outputs": [
    {
     "data": {
      "text/plain": [
       "379"
      ]
     },
     "execution_count": 4,
     "metadata": {},
     "output_type": "execute_result"
    }
   ],
   "source": [
    "## Import symbol list \n",
    "path = Path('../Resources/short_list_for_ML.pkl')\n",
    "key_list = load_obj(path)\n",
    "len(key_list)"
   ]
  },
  {
   "cell_type": "code",
   "execution_count": 5,
   "id": "09ac417b-34ef-4f1a-a81b-5d98e9f2338c",
   "metadata": {},
   "outputs": [
    {
     "data": {
      "text/plain": [
       "'ACWI'"
      ]
     },
     "execution_count": 5,
     "metadata": {},
     "output_type": "execute_result"
    }
   ],
   "source": [
    "test_symbol = key_list[10]\n",
    "symbol = 'ACWI'\n",
    "symbol"
   ]
  },
  {
   "cell_type": "code",
   "execution_count": 7,
   "id": "b5ab6973-8352-42ee-8fb9-4c52004d782e",
   "metadata": {},
   "outputs": [
    {
     "name": "stdout",
     "output_type": "stream",
     "text": [
      "mse: 113.07%\n",
      "\n"
     ]
    },
    {
     "data": {
      "text/html": [
       "<div>\n",
       "<style scoped>\n",
       "    .dataframe tbody tr th:only-of-type {\n",
       "        vertical-align: middle;\n",
       "    }\n",
       "\n",
       "    .dataframe tbody tr th {\n",
       "        vertical-align: top;\n",
       "    }\n",
       "\n",
       "    .dataframe thead th {\n",
       "        text-align: right;\n",
       "    }\n",
       "</style>\n",
       "<table border=\"1\" class=\"dataframe\">\n",
       "  <thead>\n",
       "    <tr style=\"text-align: right;\">\n",
       "      <th></th>\n",
       "      <th>close</th>\n",
       "      <th>predicted</th>\n",
       "    </tr>\n",
       "    <tr>\n",
       "      <th>Date</th>\n",
       "      <th></th>\n",
       "      <th></th>\n",
       "    </tr>\n",
       "  </thead>\n",
       "  <tbody>\n",
       "    <tr>\n",
       "      <th>2016-02-02</th>\n",
       "      <td>51.639999</td>\n",
       "      <td>51.555500</td>\n",
       "    </tr>\n",
       "    <tr>\n",
       "      <th>2016-02-03</th>\n",
       "      <td>52.040001</td>\n",
       "      <td>51.868782</td>\n",
       "    </tr>\n",
       "    <tr>\n",
       "      <th>2016-02-04</th>\n",
       "      <td>52.189999</td>\n",
       "      <td>52.043938</td>\n",
       "    </tr>\n",
       "    <tr>\n",
       "      <th>2016-02-05</th>\n",
       "      <td>51.320000</td>\n",
       "      <td>51.264404</td>\n",
       "    </tr>\n",
       "    <tr>\n",
       "      <th>2016-02-08</th>\n",
       "      <td>50.480000</td>\n",
       "      <td>50.166355</td>\n",
       "    </tr>\n",
       "    <tr>\n",
       "      <th>...</th>\n",
       "      <td>...</td>\n",
       "      <td>...</td>\n",
       "    </tr>\n",
       "    <tr>\n",
       "      <th>2021-10-25</th>\n",
       "      <td>105.270000</td>\n",
       "      <td>105.610878</td>\n",
       "    </tr>\n",
       "    <tr>\n",
       "      <th>2021-10-26</th>\n",
       "      <td>105.210000</td>\n",
       "      <td>106.744934</td>\n",
       "    </tr>\n",
       "    <tr>\n",
       "      <th>2021-10-27</th>\n",
       "      <td>104.690000</td>\n",
       "      <td>105.347725</td>\n",
       "    </tr>\n",
       "    <tr>\n",
       "      <th>2021-10-28</th>\n",
       "      <td>105.600000</td>\n",
       "      <td>105.979637</td>\n",
       "    </tr>\n",
       "    <tr>\n",
       "      <th>2021-10-29</th>\n",
       "      <td>105.310000</td>\n",
       "      <td>105.901550</td>\n",
       "    </tr>\n",
       "  </tbody>\n",
       "</table>\n",
       "<p>1448 rows × 2 columns</p>\n",
       "</div>"
      ],
      "text/plain": [
       "                 close   predicted\n",
       "Date                              \n",
       "2016-02-02   51.639999   51.555500\n",
       "2016-02-03   52.040001   51.868782\n",
       "2016-02-04   52.189999   52.043938\n",
       "2016-02-05   51.320000   51.264404\n",
       "2016-02-08   50.480000   50.166355\n",
       "...                ...         ...\n",
       "2021-10-25  105.270000  105.610878\n",
       "2021-10-26  105.210000  106.744934\n",
       "2021-10-27  104.690000  105.347725\n",
       "2021-10-28  105.600000  105.979637\n",
       "2021-10-29  105.310000  105.901550\n",
       "\n",
       "[1448 rows x 2 columns]"
      ]
     },
     "execution_count": 7,
     "metadata": {},
     "output_type": "execute_result"
    }
   ],
   "source": [
    "## Load Data\n",
    "# df = pd.read_csv(\n",
    "#     '../FilesExportIndividualStockDFs_Big/'+symbol+'_combined_df.csv')\n",
    "# df\n",
    "path = Path('../FilesExport_DFs_with_TI_pkl/'+symbol+'_data_dict_with_technicals.pkl')\n",
    "data_import = load_obj(path)\n",
    "\n",
    "df = data_import[symbol].copy()\n",
    "\n",
    "## Set X and y data \n",
    "X = df.drop(columns={'close','adjClose'}).values\n",
    "y = df['close'].values\n",
    "\n",
    "scaler = StandardScaler().fit(X)\n",
    "X = scaler.transform(X)\n",
    "\n",
    "# load json and create model\n",
    "file_path = Path('../Model_Data_low_loss/'+symbol+'_model_data.json')\n",
    "with open(file_path, \"r\") as json_file:\n",
    "    model_json = json_file.read()\n",
    "loaded_model = model_from_json(model_json)\n",
    "\n",
    "# load weights into new model\n",
    "file_path = Path('../Model_Data_low_loss/'+symbol+'_model_weights.h5')\n",
    "loaded_model.load_weights(file_path)\n",
    "\n",
    "## Compile loaded model and print mse score \n",
    "loaded_model.compile(loss=\"mean_squared_error\", optimizer=\"adam\", metrics=[\"mse\"])\n",
    "score = loaded_model.evaluate(X, y, verbose=0)\n",
    "print(\"%s: %.2f%%\" % (loaded_model.metrics_names[1], score[1]*100))\n",
    "print()\n",
    "\n",
    "## take dataframe copy and compare predicted values to actual values \n",
    "df2 = df.copy()\n",
    "df2['predicted'] = loaded_model.predict(X)\n",
    "df_pred = df2[['close','predicted']]\n",
    "df_pred"
   ]
  },
  {
   "cell_type": "code",
   "execution_count": 8,
   "id": "113699f0-97d5-4950-815c-b72c62c3fdf2",
   "metadata": {},
   "outputs": [
    {
     "data": {
      "text/plain": [
       "[1.1307377815246582, 1.1307377815246582]"
      ]
     },
     "execution_count": 8,
     "metadata": {},
     "output_type": "execute_result"
    }
   ],
   "source": [
    "score"
   ]
  },
  {
   "cell_type": "code",
   "execution_count": 9,
   "id": "2ce10176-ad28-471f-981a-3cfbd0655110",
   "metadata": {},
   "outputs": [
    {
     "name": "stdout",
     "output_type": "stream",
     "text": [
      "Model: \"sequential_13\"\n",
      "_________________________________________________________________\n",
      " Layer (type)                Output Shape              Param #   \n",
      "=================================================================\n",
      " dense_39 (Dense)            (None, 8)                 168       \n",
      "                                                                 \n",
      " dense_40 (Dense)            (None, 8)                 72        \n",
      "                                                                 \n",
      " dense_41 (Dense)            (None, 1)                 9         \n",
      "                                                                 \n",
      "=================================================================\n",
      "Total params: 249\n",
      "Trainable params: 249\n",
      "Non-trainable params: 0\n",
      "_________________________________________________________________\n"
     ]
    }
   ],
   "source": [
    "loaded_model.summary()"
   ]
  },
  {
   "cell_type": "code",
   "execution_count": 10,
   "id": "23aac0ce-d15a-4251-9774-cd8d327b1eec",
   "metadata": {},
   "outputs": [
    {
     "data": {
      "text/html": [
       "<div>\n",
       "<style scoped>\n",
       "    .dataframe tbody tr th:only-of-type {\n",
       "        vertical-align: middle;\n",
       "    }\n",
       "\n",
       "    .dataframe tbody tr th {\n",
       "        vertical-align: top;\n",
       "    }\n",
       "\n",
       "    .dataframe thead th {\n",
       "        text-align: right;\n",
       "    }\n",
       "</style>\n",
       "<table border=\"1\" class=\"dataframe\">\n",
       "  <thead>\n",
       "    <tr style=\"text-align: right;\">\n",
       "      <th></th>\n",
       "      <th>close</th>\n",
       "      <th>predicted</th>\n",
       "    </tr>\n",
       "    <tr>\n",
       "      <th>Date</th>\n",
       "      <th></th>\n",
       "      <th></th>\n",
       "    </tr>\n",
       "  </thead>\n",
       "  <tbody>\n",
       "    <tr>\n",
       "      <th>2016-02-02</th>\n",
       "      <td>51.639999</td>\n",
       "      <td>51.555500</td>\n",
       "    </tr>\n",
       "    <tr>\n",
       "      <th>2016-02-03</th>\n",
       "      <td>52.040001</td>\n",
       "      <td>51.868782</td>\n",
       "    </tr>\n",
       "    <tr>\n",
       "      <th>2016-02-04</th>\n",
       "      <td>52.189999</td>\n",
       "      <td>52.043938</td>\n",
       "    </tr>\n",
       "    <tr>\n",
       "      <th>2016-02-05</th>\n",
       "      <td>51.320000</td>\n",
       "      <td>51.264404</td>\n",
       "    </tr>\n",
       "    <tr>\n",
       "      <th>2016-02-08</th>\n",
       "      <td>50.480000</td>\n",
       "      <td>50.166355</td>\n",
       "    </tr>\n",
       "    <tr>\n",
       "      <th>...</th>\n",
       "      <td>...</td>\n",
       "      <td>...</td>\n",
       "    </tr>\n",
       "    <tr>\n",
       "      <th>2021-10-25</th>\n",
       "      <td>105.270000</td>\n",
       "      <td>105.610878</td>\n",
       "    </tr>\n",
       "    <tr>\n",
       "      <th>2021-10-26</th>\n",
       "      <td>105.210000</td>\n",
       "      <td>106.744934</td>\n",
       "    </tr>\n",
       "    <tr>\n",
       "      <th>2021-10-27</th>\n",
       "      <td>104.690000</td>\n",
       "      <td>105.347725</td>\n",
       "    </tr>\n",
       "    <tr>\n",
       "      <th>2021-10-28</th>\n",
       "      <td>105.600000</td>\n",
       "      <td>105.979637</td>\n",
       "    </tr>\n",
       "    <tr>\n",
       "      <th>2021-10-29</th>\n",
       "      <td>105.310000</td>\n",
       "      <td>105.901550</td>\n",
       "    </tr>\n",
       "  </tbody>\n",
       "</table>\n",
       "<p>1448 rows × 2 columns</p>\n",
       "</div>"
      ],
      "text/plain": [
       "                 close   predicted\n",
       "Date                              \n",
       "2016-02-02   51.639999   51.555500\n",
       "2016-02-03   52.040001   51.868782\n",
       "2016-02-04   52.189999   52.043938\n",
       "2016-02-05   51.320000   51.264404\n",
       "2016-02-08   50.480000   50.166355\n",
       "...                ...         ...\n",
       "2021-10-25  105.270000  105.610878\n",
       "2021-10-26  105.210000  106.744934\n",
       "2021-10-27  104.690000  105.347725\n",
       "2021-10-28  105.600000  105.979637\n",
       "2021-10-29  105.310000  105.901550\n",
       "\n",
       "[1448 rows x 2 columns]"
      ]
     },
     "execution_count": 10,
     "metadata": {},
     "output_type": "execute_result"
    }
   ],
   "source": [
    "df2 = df.copy()\n",
    "#df2 = df2.tail(len(X_test_scaled))\n",
    "df2['predicted'] = loaded_model.predict(X)\n",
    "df_pred = df2[['close','predicted']]\n",
    "df_pred"
   ]
  },
  {
   "cell_type": "code",
   "execution_count": 11,
   "id": "9a6752c7-2e7e-4689-a042-500c5da0e27d",
   "metadata": {},
   "outputs": [
    {
     "name": "stdout",
     "output_type": "stream",
     "text": [
      "1.1307377815246582\n"
     ]
    }
   ],
   "source": [
    "model_loss, model_accuracy = loaded_model.evaluate(X, y, verbose=0)\n",
    "print(model_accuracy)"
   ]
  },
  {
   "cell_type": "code",
   "execution_count": null,
   "id": "b1a143ab-63a8-41fe-b77c-efd730555749",
   "metadata": {},
   "outputs": [],
   "source": []
  }
 ],
 "metadata": {
  "kernelspec": {
   "display_name": "Python 3",
   "language": "python",
   "name": "python3"
  },
  "language_info": {
   "codemirror_mode": {
    "name": "ipython",
    "version": 3
   },
   "file_extension": ".py",
   "mimetype": "text/x-python",
   "name": "python",
   "nbconvert_exporter": "python",
   "pygments_lexer": "ipython3",
   "version": "3.7.10"
  }
 },
 "nbformat": 4,
 "nbformat_minor": 5
}
