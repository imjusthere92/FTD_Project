{
 "cells": [
  {
   "cell_type": "code",
   "execution_count": 1,
   "id": "9c12e9ff-e5f2-4dcc-8bf2-627bbfb39e93",
   "metadata": {},
   "outputs": [],
   "source": [
    "import pandas as pd\n",
    "\n",
    "import glob\n",
    "\n",
    "from pathlib import Path\n",
    "import csv\n",
    "\n",
    "import glob"
   ]
  },
  {
   "cell_type": "code",
   "execution_count": 2,
   "id": "0f1a35c8-efde-4e67-bc3e-4224e6a1ee3f",
   "metadata": {},
   "outputs": [],
   "source": [
    "## Load pickle for exports and imports of data  \n",
    "import pickle \n",
    "def load_obj(path):\n",
    "    with open(path, 'rb') as f:\n",
    "        return pickle.load(f)\n",
    "    \n",
    "def save_obj(obj, path ):\n",
    "    with open(path, 'wb') as f:\n",
    "        pickle.dump(obj, f, pickle.HIGHEST_PROTOCOL)"
   ]
  },
  {
   "cell_type": "code",
   "execution_count": 3,
   "id": "4ab9ec52-80ff-4e7a-a6d4-81c2b2c57191",
   "metadata": {},
   "outputs": [
    {
     "data": {
      "text/plain": [
       "3695"
      ]
     },
     "execution_count": 3,
     "metadata": {},
     "output_type": "execute_result"
    }
   ],
   "source": [
    "## Import symbol list \n",
    "path = Path('../Resources/ftd_key_list_sorted.pkl')\n",
    "ftd_key_list = load_obj(path)\n",
    "len(ftd_key_list)"
   ]
  },
  {
   "cell_type": "code",
   "execution_count": 4,
   "id": "b8b3da63-4222-4bb9-b058-639021d97221",
   "metadata": {},
   "outputs": [
    {
     "data": {
      "text/plain": [
       "['AAA', 'AAAU', 'AACG', 'AAL', 'AAME', 'AAOI', 'AAU', 'AAXJ', 'ABCL', 'ABEQ']"
      ]
     },
     "execution_count": 4,
     "metadata": {},
     "output_type": "execute_result"
    }
   ],
   "source": [
    "ftd_key_list[0:10]"
   ]
  },
  {
   "cell_type": "code",
   "execution_count": 12,
   "id": "331475d9-ef8a-4f67-a4e9-f3c3b0f655ab",
   "metadata": {},
   "outputs": [],
   "source": [
    "# path = r'C:/Users/watso/OneDrive/Projects/FintechProject2_main/Fintech_Project_2/FilesExport_DFs_with_TI' # USE YOUR PATH \n",
    "# all_files = glob.glob(path + \"/*.csv\")\n",
    "\n",
    "# data_list = []\n",
    "\n",
    "# for filename in all_files:\n",
    "#         df = pd.read_csv(filename,index_col=0)\n",
    "#         data_list.append(df)  \n",
    "\n",
    "data_dict = {}\n",
    "\n",
    "for i in ftd_key_list:\n",
    "    file_path = Path('../FilesExport_DFs_with_TI/'+i+'_df_with_technicals.csv')\n",
    "    try:        \n",
    "        df = pd.read_csv(path)\n",
    "        data_dict[i] = df\n",
    "    except:\n",
    "        continue\n",
    "        \n",
    "key_list = []\n",
    "for key in data_dict.keys():\n",
    "    key_list.append(key)"
   ]
  },
  {
   "cell_type": "code",
   "execution_count": 14,
   "id": "9d71a59d-b3aa-4ac1-9ce5-6648a81b64c3",
   "metadata": {},
   "outputs": [
    {
     "data": {
      "text/plain": [
       "3695"
      ]
     },
     "execution_count": 14,
     "metadata": {},
     "output_type": "execute_result"
    }
   ],
   "source": [
    "len(key_list)"
   ]
  },
  {
   "cell_type": "code",
   "execution_count": 15,
   "id": "9a914c20-b4eb-4c54-b633-9beb47832f7b",
   "metadata": {},
   "outputs": [
    {
     "data": {
      "text/html": [
       "<div>\n",
       "<style scoped>\n",
       "    .dataframe tbody tr th:only-of-type {\n",
       "        vertical-align: middle;\n",
       "    }\n",
       "\n",
       "    .dataframe tbody tr th {\n",
       "        vertical-align: top;\n",
       "    }\n",
       "\n",
       "    .dataframe thead th {\n",
       "        text-align: right;\n",
       "    }\n",
       "</style>\n",
       "<table border=\"1\" class=\"dataframe\">\n",
       "  <thead>\n",
       "    <tr style=\"text-align: right;\">\n",
       "      <th></th>\n",
       "      <th>�\u0004�[b</th>\n",
       "    </tr>\n",
       "  </thead>\n",
       "  <tbody>\n",
       "  </tbody>\n",
       "</table>\n",
       "</div>"
      ],
      "text/plain": [
       "Empty DataFrame\n",
       "Columns: [�\u0004�[b]\n",
       "Index: []"
      ]
     },
     "execution_count": 15,
     "metadata": {},
     "output_type": "execute_result"
    }
   ],
   "source": [
    "data_dict['AAA']"
   ]
  },
  {
   "cell_type": "code",
   "execution_count": 7,
   "id": "2e3e2061-9b94-440b-86b0-abcc6075526c",
   "metadata": {},
   "outputs": [
    {
     "data": {
      "text/plain": [
       "0"
      ]
     },
     "execution_count": 7,
     "metadata": {},
     "output_type": "execute_result"
    }
   ],
   "source": [
    "len(data_dict['AAA'])"
   ]
  },
  {
   "cell_type": "code",
   "execution_count": 8,
   "id": "9517d06b-7be5-4e2a-8062-97b199f105f2",
   "metadata": {},
   "outputs": [],
   "source": [
    "bad_list = []\n",
    "for i in key_list:\n",
    "    if len(data_dict[i]) < 1000:\n",
    "        bad_list.append(i)"
   ]
  },
  {
   "cell_type": "code",
   "execution_count": 9,
   "id": "a45df54c-efcb-45f0-bcbb-c8b8d3033db6",
   "metadata": {},
   "outputs": [],
   "source": [
    "# path = Path('../FilesExport_DFs_with_TI/AAA_df_with_technicals.csv')\n",
    "# test_df = pd.read_csv(path,index_col=0)\n",
    "# test_df"
   ]
  },
  {
   "cell_type": "code",
   "execution_count": 10,
   "id": "8233aaaa-739e-40b7-8352-e7ef392e5391",
   "metadata": {},
   "outputs": [
    {
     "data": {
      "text/plain": [
       "3695"
      ]
     },
     "execution_count": 10,
     "metadata": {},
     "output_type": "execute_result"
    }
   ],
   "source": [
    "len(bad_list)"
   ]
  },
  {
   "cell_type": "code",
   "execution_count": null,
   "id": "f313ee53-0157-492c-8426-f8a039ebc0a2",
   "metadata": {},
   "outputs": [],
   "source": []
  }
 ],
 "metadata": {
  "kernelspec": {
   "display_name": "Python 3",
   "language": "python",
   "name": "python3"
  },
  "language_info": {
   "codemirror_mode": {
    "name": "ipython",
    "version": 3
   },
   "file_extension": ".py",
   "mimetype": "text/x-python",
   "name": "python",
   "nbconvert_exporter": "python",
   "pygments_lexer": "ipython3",
   "version": "3.7.10"
  }
 },
 "nbformat": 4,
 "nbformat_minor": 5
}
