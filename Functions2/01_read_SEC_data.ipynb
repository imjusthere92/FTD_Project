{
 "cells": [
  {
   "cell_type": "code",
   "execution_count": 1,
   "id": "6133c2c0-f521-4c2e-ac56-faf88639e048",
   "metadata": {},
   "outputs": [],
   "source": [
    "import pandas as pd\n",
    "\n",
    "import glob\n",
    "\n",
    "from pathlib import Path\n",
    "import csv"
   ]
  },
  {
   "cell_type": "code",
   "execution_count": 2,
   "id": "85bb146b-d955-4c65-8360-f10e7f4c5097",
   "metadata": {},
   "outputs": [],
   "source": [
    "## Load pickle for exports and imports of data  \n",
    "import pickle \n",
    "def load_obj(path):\n",
    "    with open(path, 'rb') as f:\n",
    "        return pickle.load(f)\n",
    "    \n",
    "def save_obj(obj, path ):\n",
    "    with open(path, 'wb') as f:\n",
    "        pickle.dump(obj, f, pickle.HIGHEST_PROTOCOL)"
   ]
  },
  {
   "cell_type": "code",
   "execution_count": 3,
   "id": "c458be1e-7642-4f9f-a352-c89546cffd1b",
   "metadata": {},
   "outputs": [],
   "source": [
    "def read_ftd_file(file_path):\n",
    "    df = pd.read_table(\n",
    "    Path(file_path),\n",
    "    sep=\"|\",\n",
    "    index_col=None\n",
    "    )\n",
    "    \n",
    "    df = df.iloc[:-2 , :] ## Drop last two rows as they are useless to keep\n",
    "    df.drop(['DESCRIPTION','PRICE'], axis=1,inplace=True)\n",
    "    df.rename(columns={'SETTLEMENT DATE':'Date','QUANTITY (FAILS)':'QUANTITY_FAILS'},\n",
    "             inplace=True)\n",
    "    df['Date'] = pd.to_datetime(df['Date'])\n",
    "    df.sort_values([\"SYMBOL\", \"Date\"], ascending = (True, True),inplace=True)\n",
    "    df.set_index('Date',inplace=True)\n",
    "    \n",
    "    return df"
   ]
  },
  {
   "cell_type": "code",
   "execution_count": 4,
   "id": "bd8f5c2c-35e9-4225-b673-6636df581cef",
   "metadata": {},
   "outputs": [
    {
     "data": {
      "text/html": [
       "<div>\n",
       "<style scoped>\n",
       "    .dataframe tbody tr th:only-of-type {\n",
       "        vertical-align: middle;\n",
       "    }\n",
       "\n",
       "    .dataframe tbody tr th {\n",
       "        vertical-align: top;\n",
       "    }\n",
       "\n",
       "    .dataframe thead th {\n",
       "        text-align: right;\n",
       "    }\n",
       "</style>\n",
       "<table border=\"1\" class=\"dataframe\">\n",
       "  <thead>\n",
       "    <tr style=\"text-align: right;\">\n",
       "      <th></th>\n",
       "      <th>Date</th>\n",
       "      <th>CUSIP</th>\n",
       "      <th>SYMBOL</th>\n",
       "      <th>QUANTITY_FAILS</th>\n",
       "    </tr>\n",
       "  </thead>\n",
       "  <tbody>\n",
       "    <tr>\n",
       "      <th>0</th>\n",
       "      <td>2016-01-04</td>\n",
       "      <td>427093117</td>\n",
       "      <td>3117DVIPAY</td>\n",
       "      <td>32148.0</td>\n",
       "    </tr>\n",
       "    <tr>\n",
       "      <th>1</th>\n",
       "      <td>2016-01-05</td>\n",
       "      <td>427093117</td>\n",
       "      <td>3117DVIPAY</td>\n",
       "      <td>32148.0</td>\n",
       "    </tr>\n",
       "    <tr>\n",
       "      <th>2</th>\n",
       "      <td>2016-01-06</td>\n",
       "      <td>427093117</td>\n",
       "      <td>3117DVIPAY</td>\n",
       "      <td>32148.0</td>\n",
       "    </tr>\n",
       "    <tr>\n",
       "      <th>3</th>\n",
       "      <td>2016-01-07</td>\n",
       "      <td>427093117</td>\n",
       "      <td>3117DVIPAY</td>\n",
       "      <td>32148.0</td>\n",
       "    </tr>\n",
       "    <tr>\n",
       "      <th>4</th>\n",
       "      <td>2016-01-08</td>\n",
       "      <td>427093117</td>\n",
       "      <td>3117DVIPAY</td>\n",
       "      <td>32148.0</td>\n",
       "    </tr>\n",
       "    <tr>\n",
       "      <th>...</th>\n",
       "      <td>...</td>\n",
       "      <td>...</td>\n",
       "      <td>...</td>\n",
       "      <td>...</td>\n",
       "    </tr>\n",
       "    <tr>\n",
       "      <th>7022993</th>\n",
       "      <td>2021-10-20</td>\n",
       "      <td>98986M103</td>\n",
       "      <td>ZYXI</td>\n",
       "      <td>266.0</td>\n",
       "    </tr>\n",
       "    <tr>\n",
       "      <th>7022994</th>\n",
       "      <td>2021-10-26</td>\n",
       "      <td>98986M103</td>\n",
       "      <td>ZYXI</td>\n",
       "      <td>215.0</td>\n",
       "    </tr>\n",
       "    <tr>\n",
       "      <th>7022995</th>\n",
       "      <td>2021-10-27</td>\n",
       "      <td>98986M103</td>\n",
       "      <td>ZYXI</td>\n",
       "      <td>95.0</td>\n",
       "    </tr>\n",
       "    <tr>\n",
       "      <th>7022996</th>\n",
       "      <td>2021-10-28</td>\n",
       "      <td>98986M103</td>\n",
       "      <td>ZYXI</td>\n",
       "      <td>2104.0</td>\n",
       "    </tr>\n",
       "    <tr>\n",
       "      <th>7022997</th>\n",
       "      <td>2021-10-29</td>\n",
       "      <td>98986M103</td>\n",
       "      <td>ZYXI</td>\n",
       "      <td>1000.0</td>\n",
       "    </tr>\n",
       "  </tbody>\n",
       "</table>\n",
       "<p>7022998 rows × 4 columns</p>\n",
       "</div>"
      ],
      "text/plain": [
       "              Date      CUSIP      SYMBOL  QUANTITY_FAILS\n",
       "0       2016-01-04  427093117  3117DVIPAY         32148.0\n",
       "1       2016-01-05  427093117  3117DVIPAY         32148.0\n",
       "2       2016-01-06  427093117  3117DVIPAY         32148.0\n",
       "3       2016-01-07  427093117  3117DVIPAY         32148.0\n",
       "4       2016-01-08  427093117  3117DVIPAY         32148.0\n",
       "...            ...        ...         ...             ...\n",
       "7022993 2021-10-20  98986M103        ZYXI           266.0\n",
       "7022994 2021-10-26  98986M103        ZYXI           215.0\n",
       "7022995 2021-10-27  98986M103        ZYXI            95.0\n",
       "7022996 2021-10-28  98986M103        ZYXI          2104.0\n",
       "7022997 2021-10-29  98986M103        ZYXI          1000.0\n",
       "\n",
       "[7022998 rows x 4 columns]"
      ]
     },
     "execution_count": 4,
     "metadata": {},
     "output_type": "execute_result"
    }
   ],
   "source": [
    "## Do Loop to read all .txt files in folder \n",
    "## Requires import glob to do \n",
    "path = r'C:\\Users\\watso\\OneDrive\\Projects\\FintechProject2_TWbranch\\Fintech_Project_2\\SEC_Text' # USE YOUR PATH \n",
    "all_files = glob.glob(path + \"/*.txt\")\n",
    "\n",
    "ftd_df = pd.DataFrame()\n",
    "loop_count = 0\n",
    "error_count = 0\n",
    "error_list = []\n",
    "\n",
    "for filename in all_files:\n",
    "    if filename == 0:\n",
    "        ftd_df = read_ftd_file(filename)\n",
    "    else:\n",
    "        ftd_df2 = read_ftd_file(filename)\n",
    "        ftd_df = pd.concat([ftd_df,ftd_df2],axis='rows')\n",
    "    loop_count+=1\n",
    "    if ftd_df.isnull().values.any() == True:\n",
    "        error_list.append(filename)\n",
    "        error_count +=1\n",
    "\n",
    "## Below code shows only 3 null values out of 7 million \n",
    "## Dropping the 3 null values\n",
    "\n",
    "ftd_df.dropna(inplace=True)\n",
    "\n",
    "ftd_df.reset_index(inplace=True)\n",
    "ftd_df"
   ]
  },
  {
   "cell_type": "code",
   "execution_count": 5,
   "id": "9ed9456f-ac87-436f-b995-9077100cee4e",
   "metadata": {},
   "outputs": [
    {
     "data": {
      "text/plain": [
       "'C:\\\\Users\\\\watso\\\\OneDrive\\\\Projects\\\\FintechProject2_TWbranch\\\\Fintech_Project_2\\\\SEC_Text\\\\cnsfails202110b.txt'"
      ]
     },
     "execution_count": 5,
     "metadata": {},
     "output_type": "execute_result"
    }
   ],
   "source": [
    "filename"
   ]
  },
  {
   "cell_type": "code",
   "execution_count": 6,
   "id": "a4d4a14e-3fa8-4297-a600-5c26012efbdf",
   "metadata": {},
   "outputs": [
    {
     "name": "stdout",
     "output_type": "stream",
     "text": [
      "<class 'pandas.core.frame.DataFrame'>\n",
      "RangeIndex: 7022998 entries, 0 to 7022997\n",
      "Data columns (total 4 columns):\n",
      " #   Column          Dtype         \n",
      "---  ------          -----         \n",
      " 0   Date            datetime64[ns]\n",
      " 1   CUSIP           object        \n",
      " 2   SYMBOL          object        \n",
      " 3   QUANTITY_FAILS  float64       \n",
      "dtypes: datetime64[ns](1), float64(1), object(2)\n",
      "memory usage: 214.3+ MB\n"
     ]
    }
   ],
   "source": [
    "ftd_df.info()"
   ]
  },
  {
   "cell_type": "code",
   "execution_count": 7,
   "id": "5285602b-6077-433c-a7c7-ac1ba0b1fd4a",
   "metadata": {},
   "outputs": [
    {
     "data": {
      "text/plain": [
       "False"
      ]
     },
     "execution_count": 7,
     "metadata": {},
     "output_type": "execute_result"
    }
   ],
   "source": [
    "ftd_df.isnull().values.any()"
   ]
  },
  {
   "cell_type": "code",
   "execution_count": 8,
   "id": "aa7cd861-7034-4404-b352-d6d8117ea128",
   "metadata": {},
   "outputs": [
    {
     "data": {
      "text/html": [
       "<div>\n",
       "<style scoped>\n",
       "    .dataframe tbody tr th:only-of-type {\n",
       "        vertical-align: middle;\n",
       "    }\n",
       "\n",
       "    .dataframe tbody tr th {\n",
       "        vertical-align: top;\n",
       "    }\n",
       "\n",
       "    .dataframe thead th {\n",
       "        text-align: right;\n",
       "    }\n",
       "</style>\n",
       "<table border=\"1\" class=\"dataframe\">\n",
       "  <thead>\n",
       "    <tr style=\"text-align: right;\">\n",
       "      <th></th>\n",
       "      <th>SYMBOL</th>\n",
       "      <th>CUSIP</th>\n",
       "    </tr>\n",
       "  </thead>\n",
       "  <tbody>\n",
       "    <tr>\n",
       "      <th>0</th>\n",
       "      <td>0034RIGHTS</td>\n",
       "      <td>Y21990034</td>\n",
       "    </tr>\n",
       "    <tr>\n",
       "      <th>1</th>\n",
       "      <td>0122PIK</td>\n",
       "      <td>812350122</td>\n",
       "    </tr>\n",
       "    <tr>\n",
       "      <th>2</th>\n",
       "      <td>0297RTS</td>\n",
       "      <td>G72990297</td>\n",
       "    </tr>\n",
       "    <tr>\n",
       "      <th>3</th>\n",
       "      <td>0329REORG</td>\n",
       "      <td>G33990329</td>\n",
       "    </tr>\n",
       "    <tr>\n",
       "      <th>4</th>\n",
       "      <td>0888RTSPYMNT</td>\n",
       "      <td>529900888</td>\n",
       "    </tr>\n",
       "    <tr>\n",
       "      <th>...</th>\n",
       "      <td>...</td>\n",
       "      <td>...</td>\n",
       "    </tr>\n",
       "    <tr>\n",
       "      <th>33911</th>\n",
       "      <td>ZZLL</td>\n",
       "      <td>98880P103</td>\n",
       "    </tr>\n",
       "    <tr>\n",
       "      <th>33912</th>\n",
       "      <td>ZZLL</td>\n",
       "      <td>98880P202</td>\n",
       "    </tr>\n",
       "    <tr>\n",
       "      <th>33913</th>\n",
       "      <td>ZZLLD</td>\n",
       "      <td>98880P202</td>\n",
       "    </tr>\n",
       "    <tr>\n",
       "      <th>33914</th>\n",
       "      <td>ZZZOD</td>\n",
       "      <td>98959W203</td>\n",
       "    </tr>\n",
       "    <tr>\n",
       "      <th>33915</th>\n",
       "      <td>ZZZOF</td>\n",
       "      <td>98959W203</td>\n",
       "    </tr>\n",
       "  </tbody>\n",
       "</table>\n",
       "<p>33916 rows × 2 columns</p>\n",
       "</div>"
      ],
      "text/plain": [
       "             SYMBOL      CUSIP\n",
       "0        0034RIGHTS  Y21990034\n",
       "1           0122PIK  812350122\n",
       "2           0297RTS  G72990297\n",
       "3         0329REORG  G33990329\n",
       "4      0888RTSPYMNT  529900888\n",
       "...             ...        ...\n",
       "33911          ZZLL  98880P103\n",
       "33912          ZZLL  98880P202\n",
       "33913         ZZLLD  98880P202\n",
       "33914         ZZZOD  98959W203\n",
       "33915         ZZZOF  98959W203\n",
       "\n",
       "[33916 rows x 2 columns]"
      ]
     },
     "execution_count": 8,
     "metadata": {},
     "output_type": "execute_result"
    }
   ],
   "source": [
    "cusip_symbol_df = ftd_df[['SYMBOL','CUSIP']]\n",
    "cusip_symbol_df = cusip_symbol_df.drop_duplicates()\n",
    "cusip_symbol_df = cusip_symbol_df.sort_values('SYMBOL')\n",
    "cusip_symbol_df = cusip_symbol_df.reset_index(drop=True)\n",
    "cusip_symbol_df"
   ]
  },
  {
   "cell_type": "code",
   "execution_count": 9,
   "id": "329ff6ad-a422-4954-9edb-7fd660a2df5f",
   "metadata": {},
   "outputs": [
    {
     "data": {
      "text/plain": [
       "False"
      ]
     },
     "execution_count": 9,
     "metadata": {},
     "output_type": "execute_result"
    }
   ],
   "source": [
    "cusip_symbol_df.isnull().values.any()"
   ]
  },
  {
   "cell_type": "code",
   "execution_count": 10,
   "id": "5596d8cd-801e-4705-ae13-2ba956e3878a",
   "metadata": {},
   "outputs": [
    {
     "name": "stdout",
     "output_type": "stream",
     "text": [
      "Series([], Name: QUANTITY_FAILS, dtype: float64)\n"
     ]
    }
   ],
   "source": [
    "print(ftd_df[ftd_df.isnull().any(axis=1)]['QUANTITY_FAILS'].head())"
   ]
  },
  {
   "cell_type": "code",
   "execution_count": 11,
   "id": "c13a7ce6-e0ac-4f56-9235-b74df047b374",
   "metadata": {},
   "outputs": [
    {
     "name": "stdout",
     "output_type": "stream",
     "text": [
      "Series([], Name: SYMBOL, dtype: object)\n"
     ]
    }
   ],
   "source": [
    "print(ftd_df[ftd_df.isnull().any(axis=1)]['SYMBOL'].head())"
   ]
  },
  {
   "cell_type": "code",
   "execution_count": 12,
   "id": "305a50c5-7a04-4dc8-aa2d-b7c689f489dd",
   "metadata": {},
   "outputs": [],
   "source": [
    "## Export DFs\n",
    "ftd_df.to_csv('../Resources/ftd_all_data.csv')\n",
    "cusip_symbol_df.to_csv('../Resources/symbol_all_list.csv')\n",
    "save_obj(ftd_df, '../Resources/ftd_all_data.pkl')\n",
    "save_obj(cusip_symbol_df, '../Resources/symbol_all_list.pkl')"
   ]
  }
 ],
 "metadata": {
  "kernelspec": {
   "display_name": "Python 3",
   "language": "python",
   "name": "python3"
  },
  "language_info": {
   "codemirror_mode": {
    "name": "ipython",
    "version": 3
   },
   "file_extension": ".py",
   "mimetype": "text/x-python",
   "name": "python",
   "nbconvert_exporter": "python",
   "pygments_lexer": "ipython3",
   "version": "3.7.10"
  }
 },
 "nbformat": 4,
 "nbformat_minor": 5
}
