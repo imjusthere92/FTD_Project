{
 "cells": [
  {
   "cell_type": "code",
   "execution_count": 1,
   "id": "553c69c5-9d25-40b3-af51-d9a82e39077c",
   "metadata": {},
   "outputs": [],
   "source": [
    "import pandas as pd\n",
    "\n",
    "import glob\n",
    "\n",
    "from pathlib import Path\n",
    "import csv"
   ]
  },
  {
   "cell_type": "code",
   "execution_count": 2,
   "id": "55e5e6b1-d6a9-4628-a939-1fcd653b6fc7",
   "metadata": {},
   "outputs": [],
   "source": [
    "# Initial imports\n",
    "from tensorflow.keras.models import Sequential\n",
    "from tensorflow.keras.layers import Dense\n",
    "from tensorflow.keras.models import model_from_json\n",
    "from pathlib import Path\n",
    "import pandas as pd\n",
    "import matplotlib.pyplot as plt\n",
    "\n",
    "from sklearn.model_selection import train_test_split\n",
    "from sklearn.preprocessing import StandardScaler\n",
    "\n",
    "%matplotlib inline"
   ]
  },
  {
   "cell_type": "code",
   "execution_count": 3,
   "id": "44fdbaad-d53a-4f06-9f0c-2b9552262446",
   "metadata": {},
   "outputs": [],
   "source": [
    "## Load pickle for exports and imports of data  \n",
    "import pickle \n",
    "def load_obj(path):\n",
    "    with open(path, 'rb') as f:\n",
    "        return pickle.load(f)\n",
    "    \n",
    "def save_obj(obj, path ):\n",
    "    with open(path, 'wb') as f:\n",
    "        pickle.dump(obj, f, pickle.HIGHEST_PROTOCOL)"
   ]
  },
  {
   "cell_type": "code",
   "execution_count": 4,
   "id": "19d39fc3-c425-4ec0-bf03-7c35cab182ce",
   "metadata": {},
   "outputs": [
    {
     "data": {
      "text/plain": [
       "932"
      ]
     },
     "execution_count": 4,
     "metadata": {},
     "output_type": "execute_result"
    }
   ],
   "source": [
    "## Import symbol list \n",
    "path = Path('../Resources/list_TI_export_success.pkl')\n",
    "key_list = load_obj(path)\n",
    "len(key_list)"
   ]
  },
  {
   "cell_type": "code",
   "execution_count": 62,
   "id": "09ac417b-34ef-4f1a-a81b-5d98e9f2338c",
   "metadata": {},
   "outputs": [
    {
     "data": {
      "text/plain": [
       "'CLVS'"
      ]
     },
     "execution_count": 62,
     "metadata": {},
     "output_type": "execute_result"
    }
   ],
   "source": [
    "test_symbol = key_list[10]\n",
    "symbol = 'CLVS'\n",
    "symbol"
   ]
  },
  {
   "cell_type": "code",
   "execution_count": 64,
   "id": "b5ab6973-8352-42ee-8fb9-4c52004d782e",
   "metadata": {},
   "outputs": [
    {
     "name": "stdout",
     "output_type": "stream",
     "text": [
      "mse: 56.85%\n",
      "\n"
     ]
    },
    {
     "data": {
      "text/html": [
       "<div>\n",
       "<style scoped>\n",
       "    .dataframe tbody tr th:only-of-type {\n",
       "        vertical-align: middle;\n",
       "    }\n",
       "\n",
       "    .dataframe tbody tr th {\n",
       "        vertical-align: top;\n",
       "    }\n",
       "\n",
       "    .dataframe thead th {\n",
       "        text-align: right;\n",
       "    }\n",
       "</style>\n",
       "<table border=\"1\" class=\"dataframe\">\n",
       "  <thead>\n",
       "    <tr style=\"text-align: right;\">\n",
       "      <th></th>\n",
       "      <th>close</th>\n",
       "      <th>predicted</th>\n",
       "    </tr>\n",
       "    <tr>\n",
       "      <th>Date</th>\n",
       "      <th></th>\n",
       "      <th></th>\n",
       "    </tr>\n",
       "  </thead>\n",
       "  <tbody>\n",
       "    <tr>\n",
       "      <th>2021-10-04</th>\n",
       "      <td>4.28</td>\n",
       "      <td>4.377812</td>\n",
       "    </tr>\n",
       "    <tr>\n",
       "      <th>2021-10-05</th>\n",
       "      <td>4.34</td>\n",
       "      <td>4.362315</td>\n",
       "    </tr>\n",
       "    <tr>\n",
       "      <th>2021-10-06</th>\n",
       "      <td>4.32</td>\n",
       "      <td>4.222843</td>\n",
       "    </tr>\n",
       "    <tr>\n",
       "      <th>2021-10-07</th>\n",
       "      <td>4.40</td>\n",
       "      <td>4.347337</td>\n",
       "    </tr>\n",
       "    <tr>\n",
       "      <th>2021-10-08</th>\n",
       "      <td>4.36</td>\n",
       "      <td>4.264205</td>\n",
       "    </tr>\n",
       "    <tr>\n",
       "      <th>2021-10-11</th>\n",
       "      <td>4.31</td>\n",
       "      <td>4.279428</td>\n",
       "    </tr>\n",
       "    <tr>\n",
       "      <th>2021-10-12</th>\n",
       "      <td>4.33</td>\n",
       "      <td>4.479560</td>\n",
       "    </tr>\n",
       "    <tr>\n",
       "      <th>2021-10-13</th>\n",
       "      <td>4.46</td>\n",
       "      <td>4.431143</td>\n",
       "    </tr>\n",
       "    <tr>\n",
       "      <th>2021-10-14</th>\n",
       "      <td>4.45</td>\n",
       "      <td>4.682157</td>\n",
       "    </tr>\n",
       "    <tr>\n",
       "      <th>2021-10-15</th>\n",
       "      <td>4.34</td>\n",
       "      <td>4.324080</td>\n",
       "    </tr>\n",
       "    <tr>\n",
       "      <th>2021-10-18</th>\n",
       "      <td>4.19</td>\n",
       "      <td>4.356859</td>\n",
       "    </tr>\n",
       "    <tr>\n",
       "      <th>2021-10-19</th>\n",
       "      <td>4.35</td>\n",
       "      <td>4.482635</td>\n",
       "    </tr>\n",
       "    <tr>\n",
       "      <th>2021-10-20</th>\n",
       "      <td>4.31</td>\n",
       "      <td>4.473758</td>\n",
       "    </tr>\n",
       "    <tr>\n",
       "      <th>2021-10-21</th>\n",
       "      <td>4.38</td>\n",
       "      <td>4.586722</td>\n",
       "    </tr>\n",
       "    <tr>\n",
       "      <th>2021-10-22</th>\n",
       "      <td>4.33</td>\n",
       "      <td>4.461875</td>\n",
       "    </tr>\n",
       "    <tr>\n",
       "      <th>2021-10-25</th>\n",
       "      <td>4.39</td>\n",
       "      <td>4.374484</td>\n",
       "    </tr>\n",
       "    <tr>\n",
       "      <th>2021-10-26</th>\n",
       "      <td>4.35</td>\n",
       "      <td>4.316148</td>\n",
       "    </tr>\n",
       "    <tr>\n",
       "      <th>2021-10-27</th>\n",
       "      <td>4.12</td>\n",
       "      <td>4.056698</td>\n",
       "    </tr>\n",
       "    <tr>\n",
       "      <th>2021-10-28</th>\n",
       "      <td>4.38</td>\n",
       "      <td>4.294237</td>\n",
       "    </tr>\n",
       "    <tr>\n",
       "      <th>2021-10-29</th>\n",
       "      <td>4.33</td>\n",
       "      <td>4.395829</td>\n",
       "    </tr>\n",
       "  </tbody>\n",
       "</table>\n",
       "</div>"
      ],
      "text/plain": [
       "            close  predicted\n",
       "Date                        \n",
       "2021-10-04   4.28   4.377812\n",
       "2021-10-05   4.34   4.362315\n",
       "2021-10-06   4.32   4.222843\n",
       "2021-10-07   4.40   4.347337\n",
       "2021-10-08   4.36   4.264205\n",
       "2021-10-11   4.31   4.279428\n",
       "2021-10-12   4.33   4.479560\n",
       "2021-10-13   4.46   4.431143\n",
       "2021-10-14   4.45   4.682157\n",
       "2021-10-15   4.34   4.324080\n",
       "2021-10-18   4.19   4.356859\n",
       "2021-10-19   4.35   4.482635\n",
       "2021-10-20   4.31   4.473758\n",
       "2021-10-21   4.38   4.586722\n",
       "2021-10-22   4.33   4.461875\n",
       "2021-10-25   4.39   4.374484\n",
       "2021-10-26   4.35   4.316148\n",
       "2021-10-27   4.12   4.056698\n",
       "2021-10-28   4.38   4.294237\n",
       "2021-10-29   4.33   4.395829"
      ]
     },
     "execution_count": 64,
     "metadata": {},
     "output_type": "execute_result"
    }
   ],
   "source": [
    "## Load Data\n",
    "# df = pd.read_csv(\n",
    "#     '../FilesExportIndividualStockDFs_Big/'+symbol+'_combined_df.csv')\n",
    "# df\n",
    "path = Path('../FilesExport_DFs_with_TI_pkl/'+symbol+'_data_dict_with_technicals.pkl')\n",
    "data_import = load_obj(path)\n",
    "\n",
    "df = data_import[symbol].copy()\n",
    "\n",
    "## Set X and y data \n",
    "X = df.drop(columns={'close','adjClose'}).values\n",
    "y = df['close'].values\n",
    "\n",
    "scaler = StandardScaler().fit(X)\n",
    "X = scaler.transform(X)\n",
    "\n",
    "# load json and create model\n",
    "file_path = Path('../Model_Data_low_acc/'+symbol+'_model_data.json')\n",
    "with open(file_path, \"r\") as json_file:\n",
    "    model_json = json_file.read()\n",
    "loaded_model = model_from_json(model_json)\n",
    "\n",
    "# load weights into new model\n",
    "file_path = Path('../Model_Data_low_acc/'+symbol+'_model_weights.h5')\n",
    "loaded_model.load_weights(file_path)\n",
    "\n",
    "## Compile loaded model and print mse score \n",
    "loaded_model.compile(loss=\"mean_squared_error\", optimizer=\"adam\", metrics=[\"mse\"])\n",
    "score = loaded_model.evaluate(X, y, verbose=0)\n",
    "print(\"%s: %.2f%%\" % (loaded_model.metrics_names[1], score[1]*100))\n",
    "print()\n",
    "\n",
    "## take dataframe copy and compare predicted values to actual values \n",
    "df2 = df.copy()\n",
    "df2['predicted'] = loaded_model.predict(X)\n",
    "df_pred = df2[['close','predicted']]\n",
    "df_pred.tail(20)"
   ]
  },
  {
   "cell_type": "code",
   "execution_count": 61,
   "id": "113699f0-97d5-4950-815c-b72c62c3fdf2",
   "metadata": {},
   "outputs": [
    {
     "data": {
      "text/plain": [
       "[1239.30029296875, 1239.30029296875]"
      ]
     },
     "execution_count": 61,
     "metadata": {},
     "output_type": "execute_result"
    }
   ],
   "source": [
    "score"
   ]
  },
  {
   "cell_type": "code",
   "execution_count": 55,
   "id": "2ce10176-ad28-471f-981a-3cfbd0655110",
   "metadata": {},
   "outputs": [
    {
     "name": "stdout",
     "output_type": "stream",
     "text": [
      "Model: \"sequential_2137\"\n",
      "_________________________________________________________________\n",
      " Layer (type)                Output Shape              Param #   \n",
      "=================================================================\n",
      " dense_6410 (Dense)          (None, 8)                 168       \n",
      "                                                                 \n",
      " dense_6411 (Dense)          (None, 8)                 72        \n",
      "                                                                 \n",
      " dense_6412 (Dense)          (None, 1)                 9         \n",
      "                                                                 \n",
      "=================================================================\n",
      "Total params: 249\n",
      "Trainable params: 249\n",
      "Non-trainable params: 0\n",
      "_________________________________________________________________\n"
     ]
    }
   ],
   "source": [
    "loaded_model.summary()"
   ]
  },
  {
   "cell_type": "code",
   "execution_count": null,
   "id": "23aac0ce-d15a-4251-9774-cd8d327b1eec",
   "metadata": {},
   "outputs": [],
   "source": []
  }
 ],
 "metadata": {
  "kernelspec": {
   "display_name": "Python 3",
   "language": "python",
   "name": "python3"
  },
  "language_info": {
   "codemirror_mode": {
    "name": "ipython",
    "version": 3
   },
   "file_extension": ".py",
   "mimetype": "text/x-python",
   "name": "python",
   "nbconvert_exporter": "python",
   "pygments_lexer": "ipython3",
   "version": "3.7.10"
  }
 },
 "nbformat": 4,
 "nbformat_minor": 5
}
