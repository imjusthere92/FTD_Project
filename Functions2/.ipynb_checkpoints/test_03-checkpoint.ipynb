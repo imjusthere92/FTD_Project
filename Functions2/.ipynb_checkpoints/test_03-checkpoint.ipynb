{
 "cells": [
  {
   "cell_type": "code",
   "execution_count": 2,
   "id": "f02ba560-16e1-4f5a-bdc1-cc035ada05d6",
   "metadata": {},
   "outputs": [
    {
     "data": {
      "text/plain": [
       "True"
      ]
     },
     "execution_count": 2,
     "metadata": {},
     "output_type": "execute_result"
    }
   ],
   "source": [
    "import pandas as pd\n",
    "\n",
    "from pathlib import Path\n",
    "import csv\n",
    "\n",
    "import os\n",
    "import requests\n",
    "import json\n",
    "\n",
    "from dotenv import load_dotenv\n",
    "load_dotenv()"
   ]
  },
  {
   "cell_type": "code",
   "execution_count": 3,
   "id": "5f7bd543-d4b0-4434-a0b2-9942f6c7a386",
   "metadata": {},
   "outputs": [
    {
     "data": {
      "text/plain": [
       "<Response [200]>"
      ]
     },
     "execution_count": 3,
     "metadata": {},
     "output_type": "execute_result"
    }
   ],
   "source": [
    "## IEX Constants\n",
    "iex_api_key = os.getenv(\"IEX_API_KEY\")\n",
    "iex_test_api_key = os.getenv(\"IEX_TEST_API_KEY\")\n",
    "\n",
    "## Redundant Assignment but improves Readability throughout code \n",
    "real_token = iex_api_key\n",
    "test_token = iex_test_api_key\n",
    "\n",
    "base_url_iex = 'https://cloud.iexapis.com/stable/'\n",
    "sandbox_url = 'https://sandbox.iexapis.com/stable/'\n",
    "\n",
    "## IEX Status Test \n",
    "test_resp = requests.get(base_url_iex + 'status')\n",
    "test_resp"
   ]
  },
  {
   "cell_type": "code",
   "execution_count": 4,
   "id": "8c26bc55-01fd-41ae-9e19-82ac6bbd97be",
   "metadata": {},
   "outputs": [],
   "source": [
    "token_status = test_token ## Set to either real token or test token for IEX"
   ]
  },
  {
   "cell_type": "code",
   "execution_count": 5,
   "id": "068a7812-820d-4b65-9944-f5dea3399539",
   "metadata": {},
   "outputs": [],
   "source": [
    "## Load IEX to get ETF statistics \n",
    "def get_IEX_statistics(stock_ticker, token=token_status):\n",
    "    if token == test_token:\n",
    "        resp_data = requests.get(sandbox_url+'stock/'+stock_ticker+'/stats/?token='+test_token)\n",
    "        data_json = resp_data.json()\n",
    "    elif token == real_token:\n",
    "        resp_data = requests.get(base_url_iex+'stock/'+stock_ticker+'/stats/?token='+real_token)\n",
    "        data_json = resp_data.json()\n",
    "        \n",
    "    return data_json"
   ]
  },
  {
   "cell_type": "code",
   "execution_count": null,
   "id": "15b8bdb6-02ce-4b51-b0f1-4de66f037305",
   "metadata": {},
   "outputs": [],
   "source": [
    "## FMP Constants \n",
    "fmpbase_urlv3 = 'https://fmpcloud.io/api/v3/'\n",
    "fmpbase_urlv4 = 'https://fmpcloud.io/api/v4/'\n",
    "api_key = os.getenv(\"FMP_CLOUD_API_KEY\")\n",
    "\n",
    "## FMP Functions \n",
    "def get_FMP_historical_data(symbol, startDate=start_date, endDate=end_date, apiKey=api_key):\n",
    "    url_hist_price = fmpbase_urlv3+'historical-price-full/'\n",
    "    url_hist_query_with_date = url_hist_price+symbol+'?from='+startDate+'&to='+endDate+'&apikey='+apiKey\n",
    "    resp_data = requests.get(url_hist_query_with_date)\n",
    "    json_ = resp_data.json()\n",
    "    data = json_['historical']\n",
    "    df = pd.DataFrame(data)\n",
    "    df.rename(columns={'date':'Date'},inplace=True)\n",
    "    df['Date'] = pd.to_datetime(df['Date'])\n",
    "    df = df.reindex(index=df.index[::-1]) ## Reverse the DataFrame \n",
    "    df.set_index('Date',inplace=True)\n",
    "    df.drop(columns='label',inplace=True)\n",
    "    return df\n",
    "\n",
    "def get_float_data_FMP(symbol):\n",
    "    url_float_shares = fmpbase_urlv4+'shares_float?symbol='\n",
    "    url_query_float_data = url_float_shares+symbol+'&apikey='+api_key\n",
    "    resp_data = requests.get(url_query_float_data)\n",
    "    #df = pd.DataFrame(resp_data.json())\n",
    "    json_ = resp_data.json()\n",
    "    return json_[0]\n",
    "\n",
    "def get_company_profile_FMP_json(symbol):\n",
    "    ## https://fmpcloud.io/api/v3/profile/AAPL?apikey='yourkeyhere'\n",
    "    url_company_profile_url = fmpbase_urlv3+'profile/'+symbol+'?apikey='+api_key\n",
    "    resp_data = requests.get(url_company_profile_url)\n",
    "    json_response = resp_data.json()\n",
    "    return json_response[0]\n",
    "\n",
    "def save_and_export_raw_df_csv(data, symbol):\n",
    "    path = ('../FilesExportIndividualStockDFs/'+symbol+'_combined_df.csv')\n",
    "    data.to_csv(path)"
   ]
  },
  {
   "cell_type": "code",
   "execution_count": 6,
   "id": "4e4993cd-2b4f-4ad1-9911-6aed38de653c",
   "metadata": {},
   "outputs": [],
   "source": [
    "## Use pickle module to import and export and save files\n",
    "import pickle\n",
    "def load_obj(path):\n",
    "    with open(path, 'rb') as f:\n",
    "        return pickle.load(f)\n",
    "def save_obj(obj, path ):\n",
    "    with open(path, 'wb') as f:\n",
    "        pickle.dump(obj, f, pickle.HIGHEST_PROTOCOL)"
   ]
  },
  {
   "cell_type": "code",
   "execution_count": 7,
   "id": "d0abbe33-9cf2-4191-afa9-c00c9841d786",
   "metadata": {},
   "outputs": [],
   "source": [
    "## Import files using Pickle\n",
    "imported_data_dict = {}\n",
    "imported_key_list = []\n",
    "## Need to set length manually - check files for max length based off file name \n",
    "def import_data(loop_length):\n",
    "    x=0\n",
    "    y=49\n",
    "    increment=50\n",
    "    \n",
    "    while x < loop_length:\n",
    "        str_symbol1 = str(x)\n",
    "        str_symbol2 = str(y)\n",
    "\n",
    "        pkl_path = Path('../FilesExportCompleteFMP_big/data_complete_'+str_symbol1+'_'+str_symbol2+'.pkl')\n",
    "        data_obj = load_obj(pkl_path)\n",
    "        data_obj_key_list = []\n",
    "        for key in data_obj.keys():\n",
    "            data_obj_key_list.append(key)  \n",
    "        for symbol in data_obj_key_list:\n",
    "            data = data_obj[symbol]\n",
    "            imported_data_dict[symbol] = data\n",
    "\n",
    "        x += increment\n",
    "        y += increment\n",
    "        if y > loop_length: y = loop_length\n",
    "        \n",
    "    for key in imported_data_dict.keys():\n",
    "        imported_key_list.append(key) "
   ]
  },
  {
   "cell_type": "code",
   "execution_count": 17,
   "id": "6ed5873a-8665-4f5c-9f8c-cb05c0ce8639",
   "metadata": {},
   "outputs": [],
   "source": [
    "## Need to create data structure for rest of data "
   ]
  },
  {
   "cell_type": "code",
   "execution_count": 11,
   "id": "f618152f-8396-4b47-8ad4-6020da705618",
   "metadata": {},
   "outputs": [],
   "source": [
    "import_data(loop_length=199)"
   ]
  },
  {
   "cell_type": "code",
   "execution_count": 12,
   "id": "c70406ae-9a24-48a1-926e-02b6869b6880",
   "metadata": {},
   "outputs": [
    {
     "data": {
      "text/plain": [
       "33"
      ]
     },
     "execution_count": 12,
     "metadata": {},
     "output_type": "execute_result"
    }
   ],
   "source": [
    "len(imported_key_list)"
   ]
  },
  {
   "cell_type": "code",
   "execution_count": 32,
   "id": "9770eaed-e789-4e66-b373-9d003377105d",
   "metadata": {},
   "outputs": [
    {
     "data": {
      "text/plain": [
       "149.800003"
      ]
     },
     "execution_count": 32,
     "metadata": {},
     "output_type": "execute_result"
    }
   ],
   "source": [
    "## Sort index anytime accessing data \n",
    "test_df = imported_data_dict['AAPL'].sort_index()\n",
    "test_df.iloc[-1]['close']"
   ]
  },
  {
   "cell_type": "code",
   "execution_count": 26,
   "id": "e7e88c96-7691-4e49-af59-6cd9f115db0b",
   "metadata": {},
   "outputs": [
    {
     "data": {
      "text/plain": [
       "1469"
      ]
     },
     "execution_count": 26,
     "metadata": {},
     "output_type": "execute_result"
    }
   ],
   "source": [
    "full_length_ = len(imported_data_dict['AAPL'])\n",
    "full_length_"
   ]
  },
  {
   "cell_type": "code",
   "execution_count": 27,
   "id": "2f912922-f5e9-46c0-9349-7cb5d731f307",
   "metadata": {},
   "outputs": [
    {
     "data": {
      "text/plain": [
       "{'companyName': 'Apple Inc',\n",
       " 'marketcap': 2574429189566,\n",
       " 'week52high': 167.5,\n",
       " 'week52low': 119.86,\n",
       " 'week52highSplitAdjustOnly': 170,\n",
       " 'week52lowSplitAdjustOnly': 119.98,\n",
       " 'week52change': 0.3650228806215856,\n",
       " 'sharesOutstanding': 16813777881,\n",
       " 'float': 0,\n",
       " 'avg10Volume': 92578980,\n",
       " 'avg30Volume': 77251513,\n",
       " 'day200MovingAvg': 145.01,\n",
       " 'day50MovingAvg': 157.33,\n",
       " 'employees': 149808,\n",
       " 'ttmEPS': 11.32,\n",
       " 'ttmDividendRate': 0.884972814352894,\n",
       " 'dividendYield': 0.005644673801825231,\n",
       " 'nextDividendDate': '',\n",
       " 'exDividendDate': '2021-10-29',\n",
       " 'nextEarningsDate': '2022-01-17',\n",
       " 'peRatio': 14.034554188286394,\n",
       " 'beta': 1.4549972210195132,\n",
       " 'maxChangePercent': 61.85097933430474,\n",
       " 'year5ChangePercent': 5.053929000536604,\n",
       " 'year2ChangePercent': 1.38568737677429,\n",
       " 'year1ChangePercent': 0.3611163856990696,\n",
       " 'ytdChangePercent': 0.1947768723957151,\n",
       " 'month6ChangePercent': 0.2666700350135817,\n",
       " 'month3ChangePercent': 0.05909703664970867,\n",
       " 'month1ChangePercent': 0.02935982219573147,\n",
       " 'day30ChangePercent': 0.04978238820723269,\n",
       " 'day5ChangePercent': -0.023914357157110266}"
      ]
     },
     "execution_count": 27,
     "metadata": {},
     "output_type": "execute_result"
    }
   ],
   "source": [
    "## Test get get_IEX_statistics\n",
    "appl_iex_stats = get_IEX_statistics(stock_ticker='AAPL')\n",
    "appl_iex_stats"
   ]
  },
  {
   "cell_type": "code",
   "execution_count": null,
   "id": "60f2bc6b-f42a-47d3-a5bd-df5a3fcf6e14",
   "metadata": {},
   "outputs": [],
   "source": [
    "appl_fmp_profile = "
   ]
  },
  {
   "cell_type": "code",
   "execution_count": null,
   "id": "23142ed2-b78e-4cb2-a61a-7f1afb61792d",
   "metadata": {},
   "outputs": [],
   "source": [
    "data = {\n",
    "\t'Fundamentals':                    \t\t\t##\n",
    "\t{\n",
    "\t\t 'sharesOutstanding': 17213236419,\t\t## Sourced from IEX for ETFs, FMP for Equity\n",
    "\t\t 'floatShares': 16389334347.0,\t\t\t## Can't source for ETFs at the moment - can get from FMP for Equity\n",
    "\t\t 'debt_ratio': 'debt_ratioValue',\t\t## Blank - no source yet \n",
    "\t\t 'exchange': 'Nasdaq Global Select',    ## Sourced from FMP \n",
    "\t\t 'final_close_price': 149.800003,\t\t## Sourced from iex_statistics\n",
    "\t\t 'peRatio': 14.407047826172997,\t\t\t## Sourced from iex_statistics, =0 for ETFs\n",
    "\t\t 'beta': 1.4575864187912306,\t\t\t## Sourced from iex_statistics for Equity, =0 for ETFs\n",
    "\t\t 'week52high': 169.1,\t\t\t\t\t## Sourced from iex_statistics\n",
    "\t\t 'week52low': 118.18,\t\t\t\t\t## Sourced from iex_statistics\n",
    "\t\t 'week52change': 0.4124429632647193,    ## Sourced from iex_statistics\n",
    "\t\t 'avg10Volume': 102534515,\t\t\t\t## Sourced from iex_statistics\n",
    "\t\t 'avg30Volume': 79254408,\t\t\t\t## Sourced from iex_statistics\n",
    "\t\t 'marketcap_IEX': 2663047538957,\t\t## Sourced from iex_statistics\n",
    "\t\t 'marketcap_FMP': 2656852508672\t\t\t## Sourced from FMP\t\n",
    "\t},\n",
    "\t'dataFrame':time_series_df,\t\t\t\t\t\t\t## FMP historical merged with Nasdaq Short Data and SEC FTD Data\n",
    "\t'companyProfile':FMP_company_profile_json,         \t## Sourced from FMP, otherwise =0\n",
    "\t'floatData':FMP_float_data_df,   \t\t\t\t\t## Sourced from FMP, otherwise =0\n",
    "\t'textNews':['article1','article2','article3'],    \t## Not sourced\n",
    "\t'returns':'returns_data',    \t\t\t\t\t\t## Not calculated\n",
    "\t'iex_statistics':'iex_statistics_data_json'     \t## Added to completed data_dicts, both ETFs and Equity\n",
    "}"
   ]
  },
  {
   "cell_type": "code",
   "execution_count": 22,
   "id": "82082c4e-ff5a-4857-8a2f-bc406b478465",
   "metadata": {},
   "outputs": [],
   "source": [
    "data_dict_full = {}\n",
    "data_dict_uneven={}"
   ]
  },
  {
   "cell_type": "code",
   "execution_count": 23,
   "id": "507b43fc-4c3a-4b0f-aa89-9f12be3dfc52",
   "metadata": {},
   "outputs": [
    {
     "ename": "IndentationError",
     "evalue": "expected an indented block (<ipython-input-23-c5ca7a401221>, line 32)",
     "output_type": "error",
     "traceback": [
      "\u001b[1;36m  File \u001b[1;32m\"<ipython-input-23-c5ca7a401221>\"\u001b[1;36m, line \u001b[1;32m32\u001b[0m\n\u001b[1;33m    imported_data_dict[symbol] = data\u001b[0m\n\u001b[1;37m                     ^\u001b[0m\n\u001b[1;31mIndentationError\u001b[0m\u001b[1;31m:\u001b[0m expected an indented block\n"
     ]
    }
   ],
   "source": [
    "loop_length = 199\n",
    "x=0\n",
    "y=49\n",
    "increment=50\n",
    "\n",
    "iex_token = test_token ## IEX Token Status \n",
    "\n",
    "while x < loop_length:\n",
    "    str_symbol1 = str(x)\n",
    "    str_symbol2 = str(y)\n",
    "\n",
    "    ## Load time series data - Historical(FMP), FTD(SEC), and Short Interest (FINRA)\n",
    "    pkl_path = Path('../FilesExportCompleteFMP_big/data_complete_'+str_symbol1+'_'+str_symbol2+'.pkl')\n",
    "    data_obj = load_obj(pkl_path)\n",
    "    data_obj_key_list = []\n",
    "    for key in data_obj.keys():\n",
    "        data_obj_key_list.append(key)  \n",
    "    for symbol in data_obj_key_list:\n",
    "        ## Get time series data \n",
    "        time_series_df = data_obj[symbol].sort_index() ## Create dataframe from pkl object\n",
    "        try:\n",
    "            iex_stats = get_IEX_statistics(stock_ticker=symbol,token=iex_token)        \n",
    "            sharesOutstanding = iex_stats['sharesOutstanding']\n",
    "            peRatio = iex_stats['peRatio']\n",
    "            beta = iex_stats['beta']\n",
    "            week52high = iex_stats['week52high']\n",
    "            week52low = iex_stats['week52low']\n",
    "            week52change = iex_stats['week52change']\n",
    "            avg10Volume = iex_stats['avg10Volume']\n",
    "            avg30Volume = iex_stats['avg30Volume']\n",
    "            marketcap_IEX = iex_stats['marketcap'] \n",
    "        \n",
    "        \n",
    "        ## Create data_dict: \n",
    "        data = {\n",
    "        'Fundamentals':                    \t\t\t##\n",
    "        {\n",
    "            'sharesOutstanding': sharesOutstanding,\t\t## Sourced from IEX for ETFs, FMP for Equity\n",
    "             'floatShares': 16389334347.0,\t\t\t## Can't source for ETFs at the moment - can get from FMP for Equity\n",
    "             #'debt_ratio': 'debt_ratioValue',\t\t## Blank - no source yet \n",
    "             'exchange': 'Nasdaq Global Select',    ## Sourced from FMP \n",
    "             'final_close_price': time_series_df.iloc[-1]['close'],\t\t## Sourced from iex_statistics\n",
    "             'peRatio': peRatio,\t\t\t## Sourced from iex_statistics, =0 for ETFs\n",
    "             'beta': beta,\t\t\t## Sourced from iex_statistics for Equity, =0 for ETFs\n",
    "             'week52high': week52high,\t\t\t\t\t## Sourced from iex_statistics\n",
    "             'week52low': week52low,\t\t\t\t\t## Sourced from iex_statistics\n",
    "             'week52change': week52change,    ## Sourced from iex_statistics\n",
    "             'avg10Volume': avg10Volume,\t\t\t\t## Sourced from iex_statistics\n",
    "             'avg30Volume': avg30Volume,\t\t\t\t## Sourced from iex_statistics\n",
    "             'marketcap_IEX': marketcap,\t\t## Sourced from iex_statistics\n",
    "             'marketcap_FMP': 2656852508672\t\t\t## Sourced from FMP\t\n",
    "        },\n",
    "        'dataFrame':time_series_df,\t\t\t\t\t\t\t## FMP historical merged with Nasdaq Short Data and SEC FTD Data\n",
    "        'companyProfile':FMP_company_profile_json,         \t## Sourced from FMP, otherwise =0\n",
    "        'floatData':FMP_float_data_df,   \t\t\t\t\t## Sourced from FMP, otherwise =0\n",
    "        'textNews':['article1','article2','article3'],    \t## Not sourced\n",
    "        'returns':'returns_data',    \t\t\t\t\t\t## Not calculated\n",
    "        'iex_statistics': iex_stats     \t## Added to completed data_dicts, both ETFs and Equity\n",
    "        }\n",
    "        \n",
    "                \n",
    "        if len(time_series_df) == full_length_:\n",
    "            data_dict_full[symbol] = \n",
    "        \n",
    "        \n",
    "        \n",
    "        \n",
    "        ## Collect data to insert into data structure \n",
    "        \n",
    "        ## get iex stats \n",
    "        ## get FMP company profile (if exists)\n",
    "        \n",
    "        \n",
    "        \n",
    "        imported_data_dict[symbol] = data\n",
    "\n",
    "    x += increment\n",
    "    y += increment\n",
    "    if y > loop_length: y = loop_length\n",
    "\n",
    "for key in imported_data_dict.keys():\n",
    "    imported_key_list.append(key) "
   ]
  },
  {
   "cell_type": "code",
   "execution_count": null,
   "id": "65442e3a-011f-49e1-8ac4-8b272dc1c78b",
   "metadata": {},
   "outputs": [],
   "source": []
  }
 ],
 "metadata": {
  "kernelspec": {
   "display_name": "Python 3",
   "language": "python",
   "name": "python3"
  },
  "language_info": {
   "codemirror_mode": {
    "name": "ipython",
    "version": 3
   },
   "file_extension": ".py",
   "mimetype": "text/x-python",
   "name": "python",
   "nbconvert_exporter": "python",
   "pygments_lexer": "ipython3",
   "version": "3.7.10"
  }
 },
 "nbformat": 4,
 "nbformat_minor": 5
}
