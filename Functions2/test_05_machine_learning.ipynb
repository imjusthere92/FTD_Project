{
 "cells": [
  {
   "cell_type": "code",
   "execution_count": 1,
   "id": "21f10c34",
   "metadata": {},
   "outputs": [],
   "source": [
    "## Test machine learning Models on Data"
   ]
  },
  {
   "cell_type": "code",
   "execution_count": 2,
   "id": "9c5c4e6d",
   "metadata": {},
   "outputs": [],
   "source": [
    "import pandas as pd\n",
    "\n",
    "import glob\n",
    "\n",
    "from pathlib import Path\n",
    "import csv"
   ]
  },
  {
   "cell_type": "code",
   "execution_count": 3,
   "id": "b6ec3da6",
   "metadata": {},
   "outputs": [],
   "source": [
    "## Load pickle for exports and imports of data  \n",
    "import pickle \n",
    "def load_obj(path):\n",
    "    with open(path, 'rb') as f:\n",
    "        return pickle.load(f)\n",
    "    \n",
    "def save_obj(obj, path ):\n",
    "    with open(path, 'wb') as f:\n",
    "        pickle.dump(obj, f, pickle.HIGHEST_PROTOCOL)"
   ]
  },
  {
   "cell_type": "code",
   "execution_count": 4,
   "id": "3458498d",
   "metadata": {},
   "outputs": [],
   "source": [
    "path = Path('../Resources/finished_data_dict.pkl')\n",
    "data_dict_import = load_obj(path)"
   ]
  },
  {
   "cell_type": "code",
   "execution_count": 5,
   "id": "4f850b20",
   "metadata": {},
   "outputs": [
    {
     "data": {
      "text/plain": [
       "9992"
      ]
     },
     "execution_count": 5,
     "metadata": {},
     "output_type": "execute_result"
    }
   ],
   "source": [
    "path = Path('../Resources/finished_key_list.csv')\n",
    "key_list_import_df = pd.read_csv(path,index_col=0)\n",
    "len(key_list_import_df)"
   ]
  },
  {
   "cell_type": "code",
   "execution_count": 6,
   "id": "6a5a42f2",
   "metadata": {},
   "outputs": [
    {
     "data": {
      "text/plain": [
       "9992"
      ]
     },
     "execution_count": 6,
     "metadata": {},
     "output_type": "execute_result"
    }
   ],
   "source": [
    "key_list = []\n",
    "for i in key_list_import_df['Symbol']:\n",
    "    key_list.append(i)\n",
    "len(key_list)"
   ]
  },
  {
   "cell_type": "code",
   "execution_count": 7,
   "id": "2e3f4619",
   "metadata": {},
   "outputs": [
    {
     "name": "stdout",
     "output_type": "stream",
     "text": [
      "8971\n"
     ]
    }
   ],
   "source": [
    "## Locate Specific Symbol\n",
    "symbol = 'TSLA'\n",
    "index_value = 0\n",
    "for i in range(len(key_list)):\n",
    "    if key_list[i] == symbol:\n",
    "        index_value = i\n",
    "        print(index_value)\n",
    "        break\n",
    "    elif i == (len(key_list)-1):\n",
    "        print(\"Not in list\")"
   ]
  },
  {
   "cell_type": "code",
   "execution_count": 8,
   "id": "1658ff9f",
   "metadata": {},
   "outputs": [
    {
     "data": {
      "text/plain": [
       "'TSLA'"
      ]
     },
     "execution_count": 8,
     "metadata": {},
     "output_type": "execute_result"
    }
   ],
   "source": [
    "dict_key = key_list[index_value]\n",
    "dict_key"
   ]
  },
  {
   "cell_type": "code",
   "execution_count": 9,
   "id": "7f60bcc8",
   "metadata": {},
   "outputs": [],
   "source": [
    "df = data_dict_import[dict_key]['dataFrame'].copy()"
   ]
  },
  {
   "cell_type": "code",
   "execution_count": 10,
   "id": "1fc7fd1c",
   "metadata": {},
   "outputs": [],
   "source": [
    "# Initial imports\n",
    "from tensorflow.keras.models import Sequential\n",
    "from tensorflow.keras.layers import Dense\n",
    "from pathlib import Path\n",
    "import pandas as pd\n",
    "import matplotlib.pyplot as plt\n",
    "\n",
    "%matplotlib inline"
   ]
  },
  {
   "cell_type": "code",
   "execution_count": 11,
   "id": "d4240ee5",
   "metadata": {},
   "outputs": [
    {
     "data": {
      "text/html": [
       "<div>\n",
       "<style scoped>\n",
       "    .dataframe tbody tr th:only-of-type {\n",
       "        vertical-align: middle;\n",
       "    }\n",
       "\n",
       "    .dataframe tbody tr th {\n",
       "        vertical-align: top;\n",
       "    }\n",
       "\n",
       "    .dataframe thead th {\n",
       "        text-align: right;\n",
       "    }\n",
       "</style>\n",
       "<table border=\"1\" class=\"dataframe\">\n",
       "  <thead>\n",
       "    <tr style=\"text-align: right;\">\n",
       "      <th></th>\n",
       "      <th>open</th>\n",
       "      <th>high</th>\n",
       "      <th>low</th>\n",
       "      <th>close</th>\n",
       "      <th>adjClose</th>\n",
       "      <th>volume</th>\n",
       "      <th>unadjustedVolume</th>\n",
       "      <th>change</th>\n",
       "      <th>changePercent</th>\n",
       "      <th>vwap</th>\n",
       "      <th>changeOverTime</th>\n",
       "      <th>QUANTITY_FAILS</th>\n",
       "      <th>ShortVolumeNSDQ</th>\n",
       "      <th>ShortExemptVolumeNSDQ</th>\n",
       "      <th>TotalVolumeNSDQ</th>\n",
       "      <th>ShortVolumeNYSE</th>\n",
       "      <th>ShortExemptVolumeNYSE</th>\n",
       "      <th>TotalVolumeNYSE</th>\n",
       "    </tr>\n",
       "    <tr>\n",
       "      <th>Date</th>\n",
       "      <th></th>\n",
       "      <th></th>\n",
       "      <th></th>\n",
       "      <th></th>\n",
       "      <th></th>\n",
       "      <th></th>\n",
       "      <th></th>\n",
       "      <th></th>\n",
       "      <th></th>\n",
       "      <th></th>\n",
       "      <th></th>\n",
       "      <th></th>\n",
       "      <th></th>\n",
       "      <th></th>\n",
       "      <th></th>\n",
       "      <th></th>\n",
       "      <th></th>\n",
       "      <th></th>\n",
       "    </tr>\n",
       "  </thead>\n",
       "  <tbody>\n",
       "    <tr>\n",
       "      <th>2016-01-04</th>\n",
       "      <td>46.144001</td>\n",
       "      <td>46.276001</td>\n",
       "      <td>43.799999</td>\n",
       "      <td>44.681999</td>\n",
       "      <td>44.681999</td>\n",
       "      <td>34135500.0</td>\n",
       "      <td>34135500.0</td>\n",
       "      <td>-1.4620</td>\n",
       "      <td>-3.168</td>\n",
       "      <td>44.91933</td>\n",
       "      <td>-0.03168</td>\n",
       "      <td>16063.0</td>\n",
       "      <td>1593633.0</td>\n",
       "      <td>5840.0</td>\n",
       "      <td>2243788.0</td>\n",
       "      <td>219381.0</td>\n",
       "      <td>0.0</td>\n",
       "      <td>407391.0</td>\n",
       "    </tr>\n",
       "    <tr>\n",
       "      <th>2016-01-05</th>\n",
       "      <td>45.271999</td>\n",
       "      <td>45.377998</td>\n",
       "      <td>44.000000</td>\n",
       "      <td>44.686001</td>\n",
       "      <td>44.686001</td>\n",
       "      <td>15934000.0</td>\n",
       "      <td>15934000.0</td>\n",
       "      <td>-0.5860</td>\n",
       "      <td>-1.294</td>\n",
       "      <td>44.68800</td>\n",
       "      <td>-0.01294</td>\n",
       "      <td>449.0</td>\n",
       "      <td>655145.0</td>\n",
       "      <td>6215.0</td>\n",
       "      <td>969785.0</td>\n",
       "      <td>69899.0</td>\n",
       "      <td>0.0</td>\n",
       "      <td>126181.0</td>\n",
       "    </tr>\n",
       "    <tr>\n",
       "      <th>2016-01-06</th>\n",
       "      <td>44.000000</td>\n",
       "      <td>44.009998</td>\n",
       "      <td>43.195999</td>\n",
       "      <td>43.807999</td>\n",
       "      <td>43.807999</td>\n",
       "      <td>18895500.0</td>\n",
       "      <td>18895500.0</td>\n",
       "      <td>-0.1920</td>\n",
       "      <td>-0.436</td>\n",
       "      <td>43.67133</td>\n",
       "      <td>-0.00436</td>\n",
       "      <td>44432.0</td>\n",
       "      <td>805524.0</td>\n",
       "      <td>8070.0</td>\n",
       "      <td>1270196.0</td>\n",
       "      <td>101947.0</td>\n",
       "      <td>0.0</td>\n",
       "      <td>166668.0</td>\n",
       "    </tr>\n",
       "    <tr>\n",
       "      <th>2016-01-07</th>\n",
       "      <td>42.838001</td>\n",
       "      <td>43.688000</td>\n",
       "      <td>42.734001</td>\n",
       "      <td>43.130001</td>\n",
       "      <td>43.130001</td>\n",
       "      <td>17771500.0</td>\n",
       "      <td>17771500.0</td>\n",
       "      <td>0.2920</td>\n",
       "      <td>0.682</td>\n",
       "      <td>43.18400</td>\n",
       "      <td>0.00682</td>\n",
       "      <td>31615.0</td>\n",
       "      <td>713187.0</td>\n",
       "      <td>3612.0</td>\n",
       "      <td>1083314.0</td>\n",
       "      <td>103984.0</td>\n",
       "      <td>0.0</td>\n",
       "      <td>161402.0</td>\n",
       "    </tr>\n",
       "    <tr>\n",
       "      <th>2016-01-08</th>\n",
       "      <td>43.571999</td>\n",
       "      <td>44.088001</td>\n",
       "      <td>42.153999</td>\n",
       "      <td>42.200001</td>\n",
       "      <td>42.200001</td>\n",
       "      <td>18140500.0</td>\n",
       "      <td>18140500.0</td>\n",
       "      <td>-1.3720</td>\n",
       "      <td>-3.149</td>\n",
       "      <td>42.81400</td>\n",
       "      <td>-0.03149</td>\n",
       "      <td>35040.0</td>\n",
       "      <td>715132.0</td>\n",
       "      <td>27101.0</td>\n",
       "      <td>1068761.0</td>\n",
       "      <td>97573.0</td>\n",
       "      <td>1100.0</td>\n",
       "      <td>154443.0</td>\n",
       "    </tr>\n",
       "    <tr>\n",
       "      <th>...</th>\n",
       "      <td>...</td>\n",
       "      <td>...</td>\n",
       "      <td>...</td>\n",
       "      <td>...</td>\n",
       "      <td>...</td>\n",
       "      <td>...</td>\n",
       "      <td>...</td>\n",
       "      <td>...</td>\n",
       "      <td>...</td>\n",
       "      <td>...</td>\n",
       "      <td>...</td>\n",
       "      <td>...</td>\n",
       "      <td>...</td>\n",
       "      <td>...</td>\n",
       "      <td>...</td>\n",
       "      <td>...</td>\n",
       "      <td>...</td>\n",
       "      <td>...</td>\n",
       "    </tr>\n",
       "    <tr>\n",
       "      <th>2021-10-25</th>\n",
       "      <td>950.530000</td>\n",
       "      <td>1045.020000</td>\n",
       "      <td>944.200000</td>\n",
       "      <td>1024.860000</td>\n",
       "      <td>1024.860000</td>\n",
       "      <td>62959227.0</td>\n",
       "      <td>62959227.0</td>\n",
       "      <td>74.3300</td>\n",
       "      <td>7.820</td>\n",
       "      <td>1004.69333</td>\n",
       "      <td>0.07820</td>\n",
       "      <td>31490.0</td>\n",
       "      <td>8955184.0</td>\n",
       "      <td>108904.0</td>\n",
       "      <td>21294628.0</td>\n",
       "      <td>3596475.0</td>\n",
       "      <td>8080.0</td>\n",
       "      <td>7613555.0</td>\n",
       "    </tr>\n",
       "    <tr>\n",
       "      <th>2021-10-26</th>\n",
       "      <td>1024.689900</td>\n",
       "      <td>1094.939900</td>\n",
       "      <td>1001.460000</td>\n",
       "      <td>1018.430000</td>\n",
       "      <td>1018.430000</td>\n",
       "      <td>61885470.0</td>\n",
       "      <td>61885470.0</td>\n",
       "      <td>-6.2599</td>\n",
       "      <td>-0.611</td>\n",
       "      <td>1038.27663</td>\n",
       "      <td>-0.00611</td>\n",
       "      <td>28694.0</td>\n",
       "      <td>9567432.0</td>\n",
       "      <td>134243.0</td>\n",
       "      <td>22617840.0</td>\n",
       "      <td>3945890.0</td>\n",
       "      <td>11013.0</td>\n",
       "      <td>7711403.0</td>\n",
       "    </tr>\n",
       "    <tr>\n",
       "      <th>2021-10-27</th>\n",
       "      <td>1039.660000</td>\n",
       "      <td>1070.880000</td>\n",
       "      <td>1030.780000</td>\n",
       "      <td>1037.860000</td>\n",
       "      <td>1037.860000</td>\n",
       "      <td>38247808.0</td>\n",
       "      <td>38247808.0</td>\n",
       "      <td>-1.8000</td>\n",
       "      <td>-0.173</td>\n",
       "      <td>1046.50667</td>\n",
       "      <td>-0.00173</td>\n",
       "      <td>27711.0</td>\n",
       "      <td>5663630.0</td>\n",
       "      <td>41931.0</td>\n",
       "      <td>12956942.0</td>\n",
       "      <td>2856164.0</td>\n",
       "      <td>3421.0</td>\n",
       "      <td>5207665.0</td>\n",
       "    </tr>\n",
       "    <tr>\n",
       "      <th>2021-10-28</th>\n",
       "      <td>1068.305100</td>\n",
       "      <td>1081.000000</td>\n",
       "      <td>1054.380000</td>\n",
       "      <td>1077.040000</td>\n",
       "      <td>1077.040000</td>\n",
       "      <td>26110511.0</td>\n",
       "      <td>26110511.0</td>\n",
       "      <td>8.7349</td>\n",
       "      <td>0.818</td>\n",
       "      <td>1070.80667</td>\n",
       "      <td>0.00818</td>\n",
       "      <td>6086.0</td>\n",
       "      <td>3735026.0</td>\n",
       "      <td>28600.0</td>\n",
       "      <td>8034810.0</td>\n",
       "      <td>1460095.0</td>\n",
       "      <td>2417.0</td>\n",
       "      <td>3300063.0</td>\n",
       "    </tr>\n",
       "    <tr>\n",
       "      <th>2021-10-29</th>\n",
       "      <td>1081.860000</td>\n",
       "      <td>1115.130000</td>\n",
       "      <td>1073.205000</td>\n",
       "      <td>1114.000000</td>\n",
       "      <td>1114.000000</td>\n",
       "      <td>29499604.0</td>\n",
       "      <td>29499604.0</td>\n",
       "      <td>32.1400</td>\n",
       "      <td>2.971</td>\n",
       "      <td>1100.77833</td>\n",
       "      <td>0.02971</td>\n",
       "      <td>24622.0</td>\n",
       "      <td>3449507.0</td>\n",
       "      <td>65283.0</td>\n",
       "      <td>8783989.0</td>\n",
       "      <td>1578748.0</td>\n",
       "      <td>2289.0</td>\n",
       "      <td>3461377.0</td>\n",
       "    </tr>\n",
       "  </tbody>\n",
       "</table>\n",
       "<p>1468 rows × 18 columns</p>\n",
       "</div>"
      ],
      "text/plain": [
       "                   open         high          low        close     adjClose  \\\n",
       "Date                                                                          \n",
       "2016-01-04    46.144001    46.276001    43.799999    44.681999    44.681999   \n",
       "2016-01-05    45.271999    45.377998    44.000000    44.686001    44.686001   \n",
       "2016-01-06    44.000000    44.009998    43.195999    43.807999    43.807999   \n",
       "2016-01-07    42.838001    43.688000    42.734001    43.130001    43.130001   \n",
       "2016-01-08    43.571999    44.088001    42.153999    42.200001    42.200001   \n",
       "...                 ...          ...          ...          ...          ...   \n",
       "2021-10-25   950.530000  1045.020000   944.200000  1024.860000  1024.860000   \n",
       "2021-10-26  1024.689900  1094.939900  1001.460000  1018.430000  1018.430000   \n",
       "2021-10-27  1039.660000  1070.880000  1030.780000  1037.860000  1037.860000   \n",
       "2021-10-28  1068.305100  1081.000000  1054.380000  1077.040000  1077.040000   \n",
       "2021-10-29  1081.860000  1115.130000  1073.205000  1114.000000  1114.000000   \n",
       "\n",
       "                volume  unadjustedVolume   change  changePercent        vwap  \\\n",
       "Date                                                                           \n",
       "2016-01-04  34135500.0        34135500.0  -1.4620         -3.168    44.91933   \n",
       "2016-01-05  15934000.0        15934000.0  -0.5860         -1.294    44.68800   \n",
       "2016-01-06  18895500.0        18895500.0  -0.1920         -0.436    43.67133   \n",
       "2016-01-07  17771500.0        17771500.0   0.2920          0.682    43.18400   \n",
       "2016-01-08  18140500.0        18140500.0  -1.3720         -3.149    42.81400   \n",
       "...                ...               ...      ...            ...         ...   \n",
       "2021-10-25  62959227.0        62959227.0  74.3300          7.820  1004.69333   \n",
       "2021-10-26  61885470.0        61885470.0  -6.2599         -0.611  1038.27663   \n",
       "2021-10-27  38247808.0        38247808.0  -1.8000         -0.173  1046.50667   \n",
       "2021-10-28  26110511.0        26110511.0   8.7349          0.818  1070.80667   \n",
       "2021-10-29  29499604.0        29499604.0  32.1400          2.971  1100.77833   \n",
       "\n",
       "            changeOverTime  QUANTITY_FAILS  ShortVolumeNSDQ  \\\n",
       "Date                                                          \n",
       "2016-01-04        -0.03168         16063.0        1593633.0   \n",
       "2016-01-05        -0.01294           449.0         655145.0   \n",
       "2016-01-06        -0.00436         44432.0         805524.0   \n",
       "2016-01-07         0.00682         31615.0         713187.0   \n",
       "2016-01-08        -0.03149         35040.0         715132.0   \n",
       "...                    ...             ...              ...   \n",
       "2021-10-25         0.07820         31490.0        8955184.0   \n",
       "2021-10-26        -0.00611         28694.0        9567432.0   \n",
       "2021-10-27        -0.00173         27711.0        5663630.0   \n",
       "2021-10-28         0.00818          6086.0        3735026.0   \n",
       "2021-10-29         0.02971         24622.0        3449507.0   \n",
       "\n",
       "            ShortExemptVolumeNSDQ  TotalVolumeNSDQ  ShortVolumeNYSE  \\\n",
       "Date                                                                  \n",
       "2016-01-04                 5840.0        2243788.0         219381.0   \n",
       "2016-01-05                 6215.0         969785.0          69899.0   \n",
       "2016-01-06                 8070.0        1270196.0         101947.0   \n",
       "2016-01-07                 3612.0        1083314.0         103984.0   \n",
       "2016-01-08                27101.0        1068761.0          97573.0   \n",
       "...                           ...              ...              ...   \n",
       "2021-10-25               108904.0       21294628.0        3596475.0   \n",
       "2021-10-26               134243.0       22617840.0        3945890.0   \n",
       "2021-10-27                41931.0       12956942.0        2856164.0   \n",
       "2021-10-28                28600.0        8034810.0        1460095.0   \n",
       "2021-10-29                65283.0        8783989.0        1578748.0   \n",
       "\n",
       "            ShortExemptVolumeNYSE  TotalVolumeNYSE  \n",
       "Date                                                \n",
       "2016-01-04                    0.0         407391.0  \n",
       "2016-01-05                    0.0         126181.0  \n",
       "2016-01-06                    0.0         166668.0  \n",
       "2016-01-07                    0.0         161402.0  \n",
       "2016-01-08                 1100.0         154443.0  \n",
       "...                           ...              ...  \n",
       "2021-10-25                 8080.0        7613555.0  \n",
       "2021-10-26                11013.0        7711403.0  \n",
       "2021-10-27                 3421.0        5207665.0  \n",
       "2021-10-28                 2417.0        3300063.0  \n",
       "2021-10-29                 2289.0        3461377.0  \n",
       "\n",
       "[1468 rows x 18 columns]"
      ]
     },
     "execution_count": 11,
     "metadata": {},
     "output_type": "execute_result"
    }
   ],
   "source": [
    "df"
   ]
  },
  {
   "cell_type": "code",
   "execution_count": 12,
   "id": "5c05d9fa",
   "metadata": {},
   "outputs": [],
   "source": [
    "# Create the features set (X) and the target set (y)\n",
    "X = df.drop(columns='close').values\n",
    "y = df['close'].values"
   ]
  },
  {
   "cell_type": "code",
   "execution_count": 13,
   "id": "0485635d",
   "metadata": {},
   "outputs": [
    {
     "data": {
      "text/plain": [
       "array([  44.681999,   44.686001,   43.807999, ..., 1037.86    ,\n",
       "       1077.04    , 1114.      ])"
      ]
     },
     "execution_count": 13,
     "metadata": {},
     "output_type": "execute_result"
    }
   ],
   "source": [
    "y"
   ]
  },
  {
   "cell_type": "code",
   "execution_count": 14,
   "id": "e0fbf2d3",
   "metadata": {},
   "outputs": [],
   "source": [
    "# Scale the data of the features set using the StandardScaler\n",
    "from sklearn.preprocessing import StandardScaler\n",
    "\n",
    "scaler = StandardScaler().fit(X)\n",
    "X = scaler.transform(X)"
   ]
  },
  {
   "cell_type": "code",
   "execution_count": 15,
   "id": "e2e13a65",
   "metadata": {},
   "outputs": [],
   "source": [
    "# Create a shallow, 1 hidden layer, neural network\n",
    "nn1 = Sequential()\n",
    "num_of_inputs = 17\n",
    "num_of_outputs= 1\n",
    "\n",
    "# Hidden layer\n",
    "nn1.add(Dense(units=8, input_dim=num_of_inputs, activation=\"relu\"))\n",
    "\n",
    "# Output layer\n",
    "nn1.add(Dense(units=num_of_outputs, activation=\"linear\"))"
   ]
  },
  {
   "cell_type": "code",
   "execution_count": 16,
   "id": "d5df1a5c",
   "metadata": {},
   "outputs": [],
   "source": [
    "# Compile the model\n",
    "nn1.compile(loss=\"mean_squared_error\", optimizer=\"adam\", metrics=[\"mse\"])\n",
    "\n",
    "# Fit the model\n",
    "model_1 = nn1.fit(X, y, validation_split=0.3, epochs=800,verbose=0)"
   ]
  },
  {
   "cell_type": "code",
   "execution_count": 17,
   "id": "4f3c9abd",
   "metadata": {},
   "outputs": [],
   "source": [
    "# Define the model - deep neural network with two layers\n",
    "nn2 = Sequential()\n",
    "\n",
    "# First hidden layer\n",
    "nn2.add(Dense(units=8, input_dim=num_of_inputs, activation=\"relu\"))\n",
    "\n",
    "# Second hidden layer\n",
    "nn2.add(Dense(units=8, activation=\"relu\"))\n",
    "\n",
    "# Output layer\n",
    "nn2.add(Dense(units=num_of_outputs, activation=\"linear\"))"
   ]
  },
  {
   "cell_type": "code",
   "execution_count": 18,
   "id": "620084b6",
   "metadata": {},
   "outputs": [],
   "source": [
    "# Compile the model\n",
    "nn2.compile(loss=\"mean_squared_error\", optimizer=\"adam\", metrics=[\"mse\"])\n",
    "\n",
    "# Fit the model\n",
    "model_2 = nn2.fit(X, y, validation_split=0.3, epochs=800, verbose=0)"
   ]
  },
  {
   "cell_type": "code",
   "execution_count": 19,
   "id": "70d30973",
   "metadata": {},
   "outputs": [],
   "source": [
    "## Evaluate the models "
   ]
  },
  {
   "cell_type": "code",
   "execution_count": 20,
   "id": "05b128f1",
   "metadata": {},
   "outputs": [
    {
     "data": {
      "image/png": "[encoded data removed]",
      "text/plain": [
       "<Figure size 432x288 with 1 Axes>"
      ]
     },
     "metadata": {
      "needs_background": "light"
     },
     "output_type": "display_data"
    }
   ],
   "source": [
    "# Plot the loss function of the training results for the two models\n",
    "plt.plot(model_1.history[\"loss\"])\n",
    "plt.plot(model_2.history[\"loss\"])\n",
    "plt.title(\"loss_function - Training - 1 hidden layer Vs. 2 hinden layer\")\n",
    "plt.legend([\"1 hidden layer\", \"2 hidden layers\"])\n",
    "plt.show()"
   ]
  },
  {
   "cell_type": "code",
   "execution_count": 21,
   "id": "467b780d",
   "metadata": {},
   "outputs": [
    {
     "data": {
      "image/png": "[encoded data removed]",
      "text/plain": [
       "<Figure size 432x288 with 1 Axes>"
      ]
     },
     "metadata": {
      "needs_background": "light"
     },
     "output_type": "display_data"
    }
   ],
   "source": [
    "# Plot train vs test for shallow net\n",
    "plt.plot(model_1.history[\"loss\"])\n",
    "plt.plot(model_1.history[\"val_loss\"])\n",
    "plt.title(\"loss_function - 1 hidden layer - Train Vs. Test\")\n",
    "plt.legend([\"train\", \"test\"])\n",
    "plt.show()"
   ]
  },
  {
   "cell_type": "code",
   "execution_count": 22,
   "id": "8336d883",
   "metadata": {},
   "outputs": [
    {
     "data": {
      "image/png": "[encoded data removed]",
      "text/plain": [
       "<Figure size 432x288 with 1 Axes>"
      ]
     },
     "metadata": {
      "needs_background": "light"
     },
     "output_type": "display_data"
    }
   ],
   "source": [
    "# Plot train vs test for deep net\n",
    "plt.plot(model_2.history[\"loss\"])\n",
    "plt.plot(model_2.history[\"val_loss\"])\n",
    "plt.title(\"loss_function - 2 hidden layers - Train Vs. Test\")\n",
    "plt.legend([\"train\", \"test\"])\n",
    "plt.show()"
   ]
  },
  {
   "cell_type": "code",
   "execution_count": 23,
   "id": "a0a8792b",
   "metadata": {},
   "outputs": [],
   "source": [
    "# Save model_1 as JSON\n",
    "nn_json1 = nn1.to_json()\n",
    "\n",
    "file_path = Path(\"../Resources/model_1.json\")\n",
    "with open(file_path, \"w\") as json_file:\n",
    "    json_file.write(nn_json1)\n",
    "\n",
    "# Save weights\n",
    "file_path = \"../Resources/model_1.h5\"\n",
    "nn1.save_weights(\"../Resources/model_1.h5\")\n",
    "\n",
    "# Save model_2 as JSON\n",
    "nn_json2 = nn2.to_json()\n",
    "\n",
    "file_path = Path(\"../Resources/model_2.json\")\n",
    "with open(file_path, \"w\") as json_file:\n",
    "    json_file.write(nn_json2)\n",
    "\n",
    "# Save weights\n",
    "file_path = \"../Resources/model_2.h5\"\n",
    "nn2.save_weights(\"../Resources/model_2.h5\")"
   ]
  },
  {
   "cell_type": "code",
   "execution_count": 24,
   "id": "ca326b2b",
   "metadata": {},
   "outputs": [],
   "source": [
    "# Load the saved model to make predictions\n",
    "from tensorflow.keras.models import model_from_json\n",
    "\n",
    "# load json and create model\n",
    "file_path = Path(\"../Resources/model_1.json\")\n",
    "with open(file_path, \"r\") as json_file:\n",
    "    model_json = json_file.read()\n",
    "loaded_model1 = model_from_json(model_json)\n",
    "\n",
    "# load weights into new model\n",
    "file_path = \"../Resources/model_1.h5\"\n",
    "loaded_model1.load_weights(file_path)"
   ]
  },
  {
   "cell_type": "code",
   "execution_count": 25,
   "id": "0081259c",
   "metadata": {},
   "outputs": [],
   "source": [
    "# Load the saved model to make predictions\n",
    "\n",
    "# load json and create model\n",
    "file_path = Path(\"../Resources/model_2.json\")\n",
    "with open(file_path, \"r\") as json_file:\n",
    "    model_json = json_file.read()\n",
    "loaded_model2 = model_from_json(model_json)\n",
    "\n",
    "# load weights into new model\n",
    "file_path = \"../Resources/model_2.h5\"\n",
    "loaded_model2.load_weights(file_path)"
   ]
  },
  {
   "cell_type": "code",
   "execution_count": 26,
   "id": "17f50bc6",
   "metadata": {},
   "outputs": [
    {
     "data": {
      "text/html": [
       "<div>\n",
       "<style scoped>\n",
       "    .dataframe tbody tr th:only-of-type {\n",
       "        vertical-align: middle;\n",
       "    }\n",
       "\n",
       "    .dataframe tbody tr th {\n",
       "        vertical-align: top;\n",
       "    }\n",
       "\n",
       "    .dataframe thead th {\n",
       "        text-align: right;\n",
       "    }\n",
       "</style>\n",
       "<table border=\"1\" class=\"dataframe\">\n",
       "  <thead>\n",
       "    <tr style=\"text-align: right;\">\n",
       "      <th></th>\n",
       "      <th>close</th>\n",
       "      <th>predicted</th>\n",
       "    </tr>\n",
       "    <tr>\n",
       "      <th>Date</th>\n",
       "      <th></th>\n",
       "      <th></th>\n",
       "    </tr>\n",
       "  </thead>\n",
       "  <tbody>\n",
       "    <tr>\n",
       "      <th>2016-01-04</th>\n",
       "      <td>44.681999</td>\n",
       "      <td>44.642830</td>\n",
       "    </tr>\n",
       "    <tr>\n",
       "      <th>2016-01-05</th>\n",
       "      <td>44.686001</td>\n",
       "      <td>44.648464</td>\n",
       "    </tr>\n",
       "    <tr>\n",
       "      <th>2016-01-06</th>\n",
       "      <td>43.807999</td>\n",
       "      <td>43.786392</td>\n",
       "    </tr>\n",
       "    <tr>\n",
       "      <th>2016-01-07</th>\n",
       "      <td>43.130001</td>\n",
       "      <td>43.565029</td>\n",
       "    </tr>\n",
       "    <tr>\n",
       "      <th>2016-01-08</th>\n",
       "      <td>42.200001</td>\n",
       "      <td>41.768677</td>\n",
       "    </tr>\n",
       "    <tr>\n",
       "      <th>...</th>\n",
       "      <td>...</td>\n",
       "      <td>...</td>\n",
       "    </tr>\n",
       "    <tr>\n",
       "      <th>2021-10-25</th>\n",
       "      <td>1024.860000</td>\n",
       "      <td>964.011719</td>\n",
       "    </tr>\n",
       "    <tr>\n",
       "      <th>2021-10-26</th>\n",
       "      <td>1018.430000</td>\n",
       "      <td>1007.576965</td>\n",
       "    </tr>\n",
       "    <tr>\n",
       "      <th>2021-10-27</th>\n",
       "      <td>1037.860000</td>\n",
       "      <td>1033.971436</td>\n",
       "    </tr>\n",
       "    <tr>\n",
       "      <th>2021-10-28</th>\n",
       "      <td>1077.040000</td>\n",
       "      <td>1066.236694</td>\n",
       "    </tr>\n",
       "    <tr>\n",
       "      <th>2021-10-29</th>\n",
       "      <td>1114.000000</td>\n",
       "      <td>1090.435059</td>\n",
       "    </tr>\n",
       "  </tbody>\n",
       "</table>\n",
       "<p>1468 rows × 2 columns</p>\n",
       "</div>"
      ],
      "text/plain": [
       "                  close    predicted\n",
       "Date                                \n",
       "2016-01-04    44.681999    44.642830\n",
       "2016-01-05    44.686001    44.648464\n",
       "2016-01-06    43.807999    43.786392\n",
       "2016-01-07    43.130001    43.565029\n",
       "2016-01-08    42.200001    41.768677\n",
       "...                 ...          ...\n",
       "2021-10-25  1024.860000   964.011719\n",
       "2021-10-26  1018.430000  1007.576965\n",
       "2021-10-27  1037.860000  1033.971436\n",
       "2021-10-28  1077.040000  1066.236694\n",
       "2021-10-29  1114.000000  1090.435059\n",
       "\n",
       "[1468 rows x 2 columns]"
      ]
     },
     "execution_count": 26,
     "metadata": {},
     "output_type": "execute_result"
    }
   ],
   "source": [
    "# Make some predictions with the loaded model\n",
    "df1 = df.copy()\n",
    "df1[\"predicted\"] = loaded_model1.predict(X)\n",
    "df1_pred = df1[['close','predicted']]\n",
    "df1_pred"
   ]
  },
  {
   "cell_type": "code",
   "execution_count": 27,
   "id": "e5491c61",
   "metadata": {},
   "outputs": [
    {
     "data": {
      "text/html": [
       "<div>\n",
       "<style scoped>\n",
       "    .dataframe tbody tr th:only-of-type {\n",
       "        vertical-align: middle;\n",
       "    }\n",
       "\n",
       "    .dataframe tbody tr th {\n",
       "        vertical-align: top;\n",
       "    }\n",
       "\n",
       "    .dataframe thead th {\n",
       "        text-align: right;\n",
       "    }\n",
       "</style>\n",
       "<table border=\"1\" class=\"dataframe\">\n",
       "  <thead>\n",
       "    <tr style=\"text-align: right;\">\n",
       "      <th></th>\n",
       "      <th>close</th>\n",
       "      <th>predicted</th>\n",
       "    </tr>\n",
       "    <tr>\n",
       "      <th>Date</th>\n",
       "      <th></th>\n",
       "      <th></th>\n",
       "    </tr>\n",
       "  </thead>\n",
       "  <tbody>\n",
       "    <tr>\n",
       "      <th>2016-01-04</th>\n",
       "      <td>44.681999</td>\n",
       "      <td>44.721283</td>\n",
       "    </tr>\n",
       "    <tr>\n",
       "      <th>2016-01-05</th>\n",
       "      <td>44.686001</td>\n",
       "      <td>44.817520</td>\n",
       "    </tr>\n",
       "    <tr>\n",
       "      <th>2016-01-06</th>\n",
       "      <td>43.807999</td>\n",
       "      <td>43.903919</td>\n",
       "    </tr>\n",
       "    <tr>\n",
       "      <th>2016-01-07</th>\n",
       "      <td>43.130001</td>\n",
       "      <td>43.502636</td>\n",
       "    </tr>\n",
       "    <tr>\n",
       "      <th>2016-01-08</th>\n",
       "      <td>42.200001</td>\n",
       "      <td>42.493477</td>\n",
       "    </tr>\n",
       "    <tr>\n",
       "      <th>...</th>\n",
       "      <td>...</td>\n",
       "      <td>...</td>\n",
       "    </tr>\n",
       "    <tr>\n",
       "      <th>2021-10-25</th>\n",
       "      <td>1024.860000</td>\n",
       "      <td>1009.311646</td>\n",
       "    </tr>\n",
       "    <tr>\n",
       "      <th>2021-10-26</th>\n",
       "      <td>1018.430000</td>\n",
       "      <td>1018.885254</td>\n",
       "    </tr>\n",
       "    <tr>\n",
       "      <th>2021-10-27</th>\n",
       "      <td>1037.860000</td>\n",
       "      <td>1034.233765</td>\n",
       "    </tr>\n",
       "    <tr>\n",
       "      <th>2021-10-28</th>\n",
       "      <td>1077.040000</td>\n",
       "      <td>1066.505859</td>\n",
       "    </tr>\n",
       "    <tr>\n",
       "      <th>2021-10-29</th>\n",
       "      <td>1114.000000</td>\n",
       "      <td>1104.857056</td>\n",
       "    </tr>\n",
       "  </tbody>\n",
       "</table>\n",
       "<p>1468 rows × 2 columns</p>\n",
       "</div>"
      ],
      "text/plain": [
       "                  close    predicted\n",
       "Date                                \n",
       "2016-01-04    44.681999    44.721283\n",
       "2016-01-05    44.686001    44.817520\n",
       "2016-01-06    43.807999    43.903919\n",
       "2016-01-07    43.130001    43.502636\n",
       "2016-01-08    42.200001    42.493477\n",
       "...                 ...          ...\n",
       "2021-10-25  1024.860000  1009.311646\n",
       "2021-10-26  1018.430000  1018.885254\n",
       "2021-10-27  1037.860000  1034.233765\n",
       "2021-10-28  1077.040000  1066.505859\n",
       "2021-10-29  1114.000000  1104.857056\n",
       "\n",
       "[1468 rows x 2 columns]"
      ]
     },
     "execution_count": 27,
     "metadata": {},
     "output_type": "execute_result"
    }
   ],
   "source": [
    "# Make some predictions with the loaded model\n",
    "df2 = df.copy()\n",
    "df2[\"predicted\"] = loaded_model2.predict(X)\n",
    "df2_pred = df2[['close','predicted']]\n",
    "df2_pred"
   ]
  },
  {
   "cell_type": "code",
   "execution_count": 28,
   "id": "3e6d7b75",
   "metadata": {},
   "outputs": [
    {
     "ename": "TypeError",
     "evalue": "'History' object is not subscriptable",
     "output_type": "error",
     "traceback": [
      "\u001b[1;31m---------------------------------------------------------------------------\u001b[0m",
      "\u001b[1;31mTypeError\u001b[0m                                 Traceback (most recent call last)",
      "\u001b[1;32m<ipython-input-28-75b3849b6f10>\u001b[0m in \u001b[0;36m<module>\u001b[1;34m\u001b[0m\n\u001b[0;32m      1\u001b[0m \u001b[1;31m# Create a DataFrame with the history dictionary\u001b[0m\u001b[1;33m\u001b[0m\u001b[1;33m\u001b[0m\u001b[1;33m\u001b[0m\u001b[0m\n\u001b[1;32m----> 2\u001b[1;33m \u001b[0mhistory_df\u001b[0m \u001b[1;33m=\u001b[0m \u001b[0mpd\u001b[0m\u001b[1;33m.\u001b[0m\u001b[0mDataFrame\u001b[0m\u001b[1;33m(\u001b[0m\u001b[0mloaded_model2\u001b[0m\u001b[1;33m.\u001b[0m\u001b[0mhistory\u001b[0m\u001b[1;33m,\u001b[0m \u001b[0mindex\u001b[0m\u001b[1;33m=\u001b[0m\u001b[0mrange\u001b[0m\u001b[1;33m(\u001b[0m\u001b[1;36m1\u001b[0m\u001b[1;33m,\u001b[0m \u001b[0mlen\u001b[0m\u001b[1;33m(\u001b[0m\u001b[0mloaded_model2\u001b[0m\u001b[1;33m.\u001b[0m\u001b[0mhistory\u001b[0m\u001b[1;33m[\u001b[0m\u001b[1;34m\"loss\"\u001b[0m\u001b[1;33m]\u001b[0m\u001b[1;33m)\u001b[0m \u001b[1;33m+\u001b[0m \u001b[1;36m1\u001b[0m\u001b[1;33m)\u001b[0m\u001b[1;33m)\u001b[0m\u001b[1;33m\u001b[0m\u001b[1;33m\u001b[0m\u001b[0m\n\u001b[0m\u001b[0;32m      3\u001b[0m \u001b[1;33m\u001b[0m\u001b[0m\n\u001b[0;32m      4\u001b[0m \u001b[1;31m# Plot the loss\u001b[0m\u001b[1;33m\u001b[0m\u001b[1;33m\u001b[0m\u001b[1;33m\u001b[0m\u001b[0m\n\u001b[0;32m      5\u001b[0m \u001b[0mhistory_df\u001b[0m\u001b[1;33m.\u001b[0m\u001b[0mplot\u001b[0m\u001b[1;33m(\u001b[0m\u001b[0my\u001b[0m\u001b[1;33m=\u001b[0m\u001b[1;34m\"loss\"\u001b[0m\u001b[1;33m)\u001b[0m\u001b[1;33m\u001b[0m\u001b[1;33m\u001b[0m\u001b[0m\n",
      "\u001b[1;31mTypeError\u001b[0m: 'History' object is not subscriptable"
     ]
    }
   ],
   "source": [
    "# Evaluate the model fit with linear dummy data\n",
    "model_loss, model_accuracy = nn2.evaluate(X_test_scaled, y_test, verbose=2)\n",
    "print(f\"Loss: {model_loss}, Accuracy: {model_accuracy}\")"
   ]
  },
  {
   "cell_type": "code",
   "execution_count": null,
   "id": "5f1e3a3d",
   "metadata": {},
   "outputs": [],
   "source": []
  }
 ],
 "metadata": {
  "kernelspec": {
   "display_name": "Python 3 (ipykernel)",
   "language": "python",
   "name": "python3"
  },
  "language_info": {
   "codemirror_mode": {
    "name": "ipython",
    "version": 3
   },
   "file_extension": ".py",
   "mimetype": "text/x-python",
   "name": "python",
   "nbconvert_exporter": "python",
   "pygments_lexer": "ipython3",
   "version": "3.7.11"
  }
 },
 "nbformat": 4,
 "nbformat_minor": 5
}
