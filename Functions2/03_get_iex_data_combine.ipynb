{
 "cells": [
  {
   "cell_type": "code",
   "execution_count": 1,
   "id": "35d15821-fe90-4d0c-8850-adf3618fa291",
   "metadata": {},
   "outputs": [
    {
     "data": {
      "text/plain": [
       "True"
      ]
     },
     "execution_count": 1,
     "metadata": {},
     "output_type": "execute_result"
    }
   ],
   "source": [
    "import pandas as pd\n",
    "\n",
    "from pathlib import Path\n",
    "import csv\n",
    "\n",
    "import os\n",
    "import requests\n",
    "import json\n",
    "\n",
    "from dotenv import load_dotenv\n",
    "load_dotenv()"
   ]
  },
  {
   "cell_type": "code",
   "execution_count": 2,
   "id": "d59823e0-31f2-4e05-9a46-1ec1b0106773",
   "metadata": {},
   "outputs": [
    {
     "data": {
      "text/plain": [
       "<Response [200]>"
      ]
     },
     "execution_count": 2,
     "metadata": {},
     "output_type": "execute_result"
    }
   ],
   "source": [
    "## IEX Constants\n",
    "iex_api_key = os.getenv(\"IEX_API_KEY\")\n",
    "iex_test_api_key = os.getenv(\"IEX_TEST_API_KEY\")\n",
    "\n",
    "## Redundant Assignment but improves Readability throughout code \n",
    "real_token = iex_api_key\n",
    "test_token = iex_test_api_key\n",
    "\n",
    "base_url_iex = 'https://cloud.iexapis.com/stable/'\n",
    "sandbox_url = 'https://sandbox.iexapis.com/stable/'\n",
    "\n",
    "## IEX Status Test \n",
    "test_resp = requests.get(base_url_iex + 'status')\n",
    "test_resp"
   ]
  },
  {
   "cell_type": "code",
   "execution_count": 3,
   "id": "c59c3c02-2e5a-4a03-8bdc-2c2c6d283c49",
   "metadata": {},
   "outputs": [],
   "source": [
    "token_status = test_token ## Set to either real token or test token for IEX"
   ]
  },
  {
   "cell_type": "code",
   "execution_count": 4,
   "id": "344a48eb-3146-4338-812c-061afc01b53a",
   "metadata": {},
   "outputs": [],
   "source": [
    "## Load IEX to get ETF statistics \n",
    "def get_IEX_statistics(stock_ticker, token=token_status):\n",
    "    if token == test_token:\n",
    "        resp_data = requests.get(sandbox_url+'stock/'+stock_ticker+'/stats/?token='+test_token)\n",
    "        data_json = resp_data.json()\n",
    "    elif token == real_token:\n",
    "        resp_data = requests.get(base_url_iex+'stock/'+stock_ticker+'/stats/?token='+real_token)\n",
    "        data_json = resp_data.json()\n",
    "        \n",
    "    return data_json"
   ]
  },
  {
   "cell_type": "code",
   "execution_count": 5,
   "id": "54128fc3-c33c-4db0-8020-2ac73ecc0713",
   "metadata": {},
   "outputs": [],
   "source": [
    "## FMP Constants \n",
    "fmpbase_urlv3 = 'https://fmpcloud.io/api/v3/'\n",
    "fmpbase_urlv4 = 'https://fmpcloud.io/api/v4/'\n",
    "api_key = os.getenv(\"FMP_CLOUD_API_KEY\")\n",
    "\n",
    "## FMP Functions \n",
    "# def get_FMP_historical_data(symbol, startDate=start_date, endDate=end_date, apiKey=api_key):\n",
    "#     url_hist_price = fmpbase_urlv3+'historical-price-full/'\n",
    "#     url_hist_query_with_date = url_hist_price+symbol+'?from='+startDate+'&to='+endDate+'&apikey='+apiKey\n",
    "#     resp_data = requests.get(url_hist_query_with_date)\n",
    "#     json_ = resp_data.json()\n",
    "#     data = json_['historical']\n",
    "#     df = pd.DataFrame(data)\n",
    "#     df.rename(columns={'date':'Date'},inplace=True)\n",
    "#     df['Date'] = pd.to_datetime(df['Date'])\n",
    "#     df = df.reindex(index=df.index[::-1]) ## Reverse the DataFrame \n",
    "#     df.set_index('Date',inplace=True)\n",
    "#     df.drop(columns='label',inplace=True)\n",
    "#     return df\n",
    "\n",
    "def get_float_data_FMP(symbol):\n",
    "    url_float_shares = fmpbase_urlv4+'shares_float?symbol='\n",
    "    url_query_float_data = url_float_shares+symbol+'&apikey='+api_key\n",
    "    resp_data = requests.get(url_query_float_data)\n",
    "    #df = pd.DataFrame(resp_data.json())\n",
    "    json_ = resp_data.json()\n",
    "    return json_[0]\n",
    "\n",
    "def get_company_profile_FMP_json(symbol):\n",
    "    ## https://fmpcloud.io/api/v3/profile/AAPL?apikey='yourkeyhere'\n",
    "    url_company_profile_url = fmpbase_urlv3+'profile/'+symbol+'?apikey='+api_key\n",
    "    resp_data = requests.get(url_company_profile_url)\n",
    "    json_response = resp_data.json()\n",
    "    return json_response[0]\n",
    "\n",
    "def save_and_export_raw_df_csv(data, symbol):\n",
    "    path = ('../FilesExportIndividualStockDFs/'+symbol+'_combined_df.csv')\n",
    "    data.to_csv(path)"
   ]
  },
  {
   "cell_type": "code",
   "execution_count": 6,
   "id": "2a03673c-f906-4fcc-898c-322ba082ce81",
   "metadata": {},
   "outputs": [],
   "source": [
    "## Use pickle module to import and export and save files\n",
    "import pickle\n",
    "def load_obj(path):\n",
    "    with open(path, 'rb') as f:\n",
    "        return pickle.load(f)\n",
    "def save_obj(obj, path ):\n",
    "    with open(path, 'wb') as f:\n",
    "        pickle.dump(obj, f, pickle.HIGHEST_PROTOCOL)"
   ]
  },
  {
   "cell_type": "code",
   "execution_count": 7,
   "id": "7037803b-e479-4deb-be47-ecb9031815c2",
   "metadata": {},
   "outputs": [],
   "source": [
    "data_dict_all = {}\n",
    "data_dict_full = {}\n",
    "data_dict_uneven={}\n",
    "\n",
    "symbol_list_all = []\n",
    "symbol_list_full = []\n",
    "symbol_list_uneven=[]\n",
    "\n",
    "test_length = 199 \n",
    "total_length = 33915 ## Number of possible symbols \n",
    "loop_length = total_length\n",
    "\n",
    "\n",
    "full_length_ = 1469 ## Length of a full data fram (2016-01 to 2021-10)\n",
    "\n",
    "iex_token = real_token ## IEX Token Status "
   ]
  },
  {
   "cell_type": "code",
   "execution_count": 8,
   "id": "97a27a49-973f-4828-9599-ab4ba722245a",
   "metadata": {},
   "outputs": [],
   "source": [
    "\n",
    "x=0\n",
    "y=49\n",
    "increment=50\n",
    "\n",
    "while x < loop_length:\n",
    "    str_symbol1 = str(x)\n",
    "    str_symbol2 = str(y)\n",
    "\n",
    "    ## Load time series data - Historical(FMP), FTD(SEC), and Short Interest (FINRA)\n",
    "    pkl_path = Path('../FilesExportCompleteFMP_big/data_complete_'+str_symbol1+'_'+str_symbol2+'.pkl')\n",
    "    data_obj = load_obj(pkl_path)\n",
    "    data_obj_key_list = []\n",
    "    for key in data_obj.keys():\n",
    "        data_obj_key_list.append(key)  \n",
    "    for symbol in data_obj_key_list:\n",
    "        err_symbol = symbol\n",
    "        ## Get time series data \n",
    "        time_series_df = data_obj[symbol].sort_index() ## Create dataframe from pkl object\n",
    "        try:\n",
    "            iex_stats = get_IEX_statistics(stock_ticker=symbol,token=iex_token)        \n",
    "            sharesOutstanding = iex_stats['sharesOutstanding']\n",
    "            peRatio = iex_stats['peRatio']\n",
    "            beta = iex_stats['beta']\n",
    "            week52high = iex_stats['week52high']\n",
    "            week52low = iex_stats['week52low']\n",
    "            week52change = iex_stats['week52change']\n",
    "            avg10Volume = iex_stats['avg10Volume']\n",
    "            avg30Volume = iex_stats['avg30Volume']\n",
    "            marketcap_IEX = iex_stats['marketcap']\n",
    "        except:\n",
    "            iex_stats = 0\n",
    "            sharesOutstanding = 0\n",
    "            peRatio = 0\n",
    "            beta = 0\n",
    "            week52high = 0\n",
    "            week52low = 0\n",
    "            week52change = 0\n",
    "            avg10Volume = 0\n",
    "            avg30Volume = 0\n",
    "            marketcap_IEX = 0\n",
    "        \n",
    "        ## FMP \n",
    "        try:\n",
    "            fmp_profile = get_company_profile_FMP_json(symbol)\n",
    "            exchange = fmp_profile['exchangeShortName']\n",
    "            marketcap_FMP = fmp_profile['mktCap']\n",
    "        except:\n",
    "            fmp_profile = 0\n",
    "            exchange = 0\n",
    "            marketcap_FMP = 0\n",
    "        try:\n",
    "            float_data = get_float_data_FMP(symbol)\n",
    "            floatShares = float_data['floatShares']\n",
    "        except:\n",
    "            float_data = 0\n",
    "            floatShares = 0\n",
    "        \n",
    "        \n",
    "        ## Create data_dict: \n",
    "        data = {\n",
    "        'Fundamentals':                    \t\t\t##\n",
    "        {\n",
    "            'sharesOutstanding': sharesOutstanding,\t\t## Sourced from IEX for ETFs, FMP for Equity\n",
    "             'floatShares': floatShares,\t\t\t## Can't source for ETFs at the moment - can get from FMP for Equity\n",
    "             #'debt_ratio': 'debt_ratioValue',\t\t## Blank - no source yet \n",
    "             'exchange': exchange,    ## Sourced from FMP \n",
    "             'final_close_price': time_series_df.iloc[-1]['close'],\t\t## Sourced from iex_statistics\n",
    "             'peRatio': peRatio,\t\t\t## Sourced from iex_statistics, =0 for ETFs\n",
    "             'beta': beta,\t\t\t## Sourced from iex_statistics for Equity, =0 for ETFs\n",
    "             'week52high': week52high,\t\t\t\t\t## Sourced from iex_statistics\n",
    "             'week52low': week52low,\t\t\t\t\t## Sourced from iex_statistics\n",
    "             'week52change': week52change,    ## Sourced from iex_statistics\n",
    "             'avg10Volume': avg10Volume,\t\t\t\t## Sourced from iex_statistics\n",
    "             'avg30Volume': avg30Volume,\t\t\t\t## Sourced from iex_statistics\n",
    "             'marketcap_IEX': marketcap_IEX,\t\t## Sourced from iex_statistics\n",
    "             'marketcap_FMP': marketcap_FMP\t\t\t## Sourced from FMP\t\n",
    "        },\n",
    "        'dataFrame':time_series_df,\t\t\t\t\t\t\t## FMP historical merged with Nasdaq Short Data and SEC FTD Data\n",
    "        'companyProfile':fmp_profile,         \t## Sourced from FMP, otherwise =0\n",
    "        'floatData':float_data,   \t\t\t\t\t## Sourced from FMP, otherwise =0\n",
    "        'textNews':['article1','article2','article3'],    \t## Not sourced\n",
    "        'returns':'returns_data',    \t\t\t\t\t\t## Not calculated\n",
    "        'iex_statistics': iex_stats     \t## Added to completed data_dicts, both ETFs and Equity\n",
    "        }\n",
    "        ## Export individual data_dict\n",
    "\n",
    "        export_path = Path('../FilesExport_IndividualDataDict/'+symbol+'data_dict.pkl')\n",
    "        save_obj(data,export_path)\n",
    "        \n",
    "                \n",
    "        if len(time_series_df) == full_length_:\n",
    "            data_dict_full[symbol] = data\n",
    "            symbol_list_full.append(symbol)\n",
    "        else:\n",
    "            data_dict_uneven[symbol] = data\n",
    "            symbol_list_uneven.append(symbol)\n",
    "        \n",
    "        ## Append all data \n",
    "        data_dict_all[symbol] = data\n",
    "        ## Append symbol to list \n",
    "        symbol_list_all.append(symbol)  \n",
    "\n",
    "    x += increment\n",
    "    y += increment\n",
    "    if y > loop_length: y = loop_length\n",
    "\n",
    "## If while loop finishes - export all data \n",
    "pkl_path = Path('../Resources/data_dict_all.pkl')\n",
    "save_obj(data_dict_all,pkl_path)\n",
    "pkl_path = Path('../Resources/data_dict_full.pkl')\n",
    "save_obj(data_dict_full,pkl_path)\n",
    "pkl_path = Path('../Resources/data_dict_uneven.pkl')\n",
    "save_obj(data_dict_uneven,pkl_path)\n",
    "\n",
    "\n",
    "symbol_list_alldf = pd.DataFrame(symbol_list_all)\n",
    "symbol_list_fulldf = pd.DataFrame(symbol_list_full)\n",
    "symbol_list_unevendf = pd.DataFrame(symbol_list_uneven)\n",
    "\n",
    "## Export list\n",
    "list_path = ('../Resources/all_symbol_list.csv')\n",
    "symbol_list_alldf.to_csv(list_path)\n",
    "list_path = ('../Resources/symbol_list_full.csv')\n",
    "symbol_list_fulldf.to_csv(list_path)\n",
    "list_path = ('../Resources/symbol_list_uneven.csv')\n",
    "symbol_list_unevendf.to_csv(list_path)"
   ]
  },
  {
   "cell_type": "code",
   "execution_count": 9,
   "id": "a9f4cfae-e8b9-4746-ac03-170bc1499745",
   "metadata": {},
   "outputs": [
    {
     "data": {
      "text/plain": [
       "12316"
      ]
     },
     "execution_count": 9,
     "metadata": {},
     "output_type": "execute_result"
    }
   ],
   "source": [
    "len(data_dict_all)"
   ]
  },
  {
   "cell_type": "code",
   "execution_count": 10,
   "id": "53c68e1b-ea66-4b85-8372-acb763d9c91a",
   "metadata": {},
   "outputs": [
    {
     "data": {
      "text/plain": [
       "2878"
      ]
     },
     "execution_count": 10,
     "metadata": {},
     "output_type": "execute_result"
    }
   ],
   "source": [
    "len(data_dict_full)"
   ]
  },
  {
   "cell_type": "code",
   "execution_count": 11,
   "id": "81e377fc-cfe7-498e-a513-e31ea5e8805c",
   "metadata": {},
   "outputs": [
    {
     "data": {
      "text/plain": [
       "9438"
      ]
     },
     "execution_count": 11,
     "metadata": {},
     "output_type": "execute_result"
    }
   ],
   "source": [
    "len(data_dict_uneven)"
   ]
  }
 ],
 "metadata": {
  "kernelspec": {
   "display_name": "Python 3",
   "language": "python",
   "name": "python3"
  },
  "language_info": {
   "codemirror_mode": {
    "name": "ipython",
    "version": 3
   },
   "file_extension": ".py",
   "mimetype": "text/x-python",
   "name": "python",
   "nbconvert_exporter": "python",
   "pygments_lexer": "ipython3",
   "version": "3.7.10"
  }
 },
 "nbformat": 4,
 "nbformat_minor": 5
}
