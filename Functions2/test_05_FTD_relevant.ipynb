{
 "cells": [
  {
   "cell_type": "code",
   "execution_count": 1,
   "id": "ecb84513-6b1d-45eb-937c-448079a2b6d4",
   "metadata": {},
   "outputs": [],
   "source": [
    "## Get FTD-Relevant Stock Symbols. Test Machine-Learning Model on list "
   ]
  },
  {
   "cell_type": "code",
   "execution_count": 2,
   "id": "9c2d2d70-874f-4917-a155-0d48eeab51e4",
   "metadata": {},
   "outputs": [],
   "source": [
    "import pandas as pd\n",
    "\n",
    "import glob\n",
    "\n",
    "from pathlib import Path\n",
    "import csv"
   ]
  },
  {
   "cell_type": "code",
   "execution_count": 3,
   "id": "2b21f168-2674-4935-96ce-80cbdf79b493",
   "metadata": {},
   "outputs": [],
   "source": [
    "# Initial imports\n",
    "from tensorflow.keras.models import Sequential\n",
    "from tensorflow.keras.layers import Dense\n",
    "from tensorflow.keras.models import model_from_json\n",
    "from pathlib import Path\n",
    "import pandas as pd\n",
    "import matplotlib.pyplot as plt\n",
    "\n",
    "from sklearn.preprocessing import StandardScaler\n",
    "\n",
    "%matplotlib inline"
   ]
  },
  {
   "cell_type": "code",
   "execution_count": 4,
   "id": "9049957c-a8d9-47c4-89dc-3ad6864b7246",
   "metadata": {},
   "outputs": [],
   "source": [
    "## Load pickle for exports and imports of data  \n",
    "import pickle \n",
    "def load_obj(path):\n",
    "    with open(path, 'rb') as f:\n",
    "        return pickle.load(f)\n",
    "    \n",
    "def save_obj(obj, path ):\n",
    "    with open(path, 'wb') as f:\n",
    "        pickle.dump(obj, f, pickle.HIGHEST_PROTOCOL)"
   ]
  },
  {
   "cell_type": "code",
   "execution_count": 5,
   "id": "2d88e397-917b-4a27-b082-3887cedc1dc8",
   "metadata": {},
   "outputs": [],
   "source": [
    "path = Path('../Resources/finished_data_dict.pkl')\n",
    "data_dict_import = load_obj(path)"
   ]
  },
  {
   "cell_type": "code",
   "execution_count": 6,
   "id": "9ceb5ff4-6d08-49c7-8370-dc75c63bf5c3",
   "metadata": {},
   "outputs": [
    {
     "data": {
      "text/plain": [
       "9992"
      ]
     },
     "execution_count": 6,
     "metadata": {},
     "output_type": "execute_result"
    }
   ],
   "source": [
    "path = Path('../Resources/finished_key_list.csv')\n",
    "key_list_import_df = pd.read_csv(path,index_col=0)\n",
    "key_list = []\n",
    "for i in key_list_import_df['Symbol']:\n",
    "    key_list.append(i)\n",
    "len(key_list)"
   ]
  },
  {
   "cell_type": "code",
   "execution_count": 7,
   "id": "abbef9c7-9edf-4066-a704-45f1f1059f8f",
   "metadata": {},
   "outputs": [],
   "source": [
    "# index_value = 0\n",
    "# for i in range(len(key_list)):\n",
    "#     if key_list[i] == symbol:\n",
    "#         index_value = i\n",
    "#         pass\n",
    "# dict_key = key_list[index_value]\n",
    "# df = data_dict_import[dict_key]['dataFrame'].copy()\n",
    "# X = df.drop(columns='close').values\n",
    "# y = y = df['close'].values\n",
    "\n",
    "# scaler = StandardScaler().fit(X)\n",
    "# X = scaler.transform(X)    \n",
    "\n",
    "# num_of_inputs = 17\n",
    "# num_of_outputs= 1"
   ]
  },
  {
   "cell_type": "code",
   "execution_count": 8,
   "id": "d43a1e2a-e324-4ec1-88e4-949d15776991",
   "metadata": {},
   "outputs": [
    {
     "data": {
      "text/plain": [
       "'ABEO'"
      ]
     },
     "execution_count": 8,
     "metadata": {},
     "output_type": "execute_result"
    }
   ],
   "source": [
    "index_value = key_list[30]\n",
    "index_value"
   ]
  },
  {
   "cell_type": "code",
   "execution_count": 9,
   "id": "9fce5cf4-ffe1-4a6c-a576-527430c59b0f",
   "metadata": {},
   "outputs": [
    {
     "data": {
      "text/plain": [
       "{'total_ftds_all': 9133837.0,\n",
       " 'total_ftds_2021': 3259432.0,\n",
       " 'total_ftds_ytd': 3485439.0,\n",
       " 'os_ftd_pct_all': 8.961954421476875,\n",
       " 'os_ftd_pct_2021': 3.1980952828371274,\n",
       " 'os_ftd_pct_ytd': 3.419849232785514,\n",
       " 'float_ftd_pct_all': 10.004079358277348,\n",
       " 'float_ftd_pct_2021': 3.5699801070359207,\n",
       " 'float_ftd_pct_ytd': 3.817520320806562,\n",
       " 'short_volume_NSDQpct_all_data': 46.18597206353908,\n",
       " 'shortexempt_volume_NSDQpct_all_data': 0.8019058154265507,\n",
       " 'short_volume_NSDQpct_ytd': 45.36767248482744,\n",
       " 'shortexempt_volume_NSDQpct_ytd': 0.7065807963817634,\n",
       " 'short_volume_FMPpct_all_data': 19.690261418074723,\n",
       " 'shortexempt_volume_FMPpct_all_data': 0.3418729634335912,\n",
       " 'short_volume_FMPpct_ytd': 22.418312199610863,\n",
       " 'shortexempt_volume_FMPpct_ytd': 0.34915498239045917}"
      ]
     },
     "execution_count": 9,
     "metadata": {},
     "output_type": "execute_result"
    }
   ],
   "source": [
    "data_dict_import[index_value]['ftd_stats']"
   ]
  },
  {
   "cell_type": "code",
   "execution_count": 10,
   "id": "bb44e629-222e-46d7-a46a-f3a37cd14122",
   "metadata": {},
   "outputs": [
    {
     "data": {
      "text/plain": [
       "False"
      ]
     },
     "execution_count": 10,
     "metadata": {},
     "output_type": "execute_result"
    }
   ],
   "source": [
    "data_dict_import[index_value]['companyProfile']['isEtf']"
   ]
  },
  {
   "cell_type": "code",
   "execution_count": 11,
   "id": "2f7bd716-116e-4a66-812f-cd1facebb3e1",
   "metadata": {},
   "outputs": [
    {
     "name": "stdout",
     "output_type": "stream",
     "text": [
      "Float = 0 for 2112 symbols\n",
      "All list length: 3695\n",
      "ETF list length: 1872\n",
      "EQT list length: 1823\n"
     ]
    }
   ],
   "source": [
    "ftd_key_list = []\n",
    "etf_key_list = []\n",
    "eqt_key_list = []\n",
    "float_count_is_0 = 0\n",
    "\n",
    "for i in key_list:\n",
    "    index_value = i\n",
    "    float_ftd_pct_ytd = data_dict_import[index_value]['ftd_stats']['float_ftd_pct_ytd']\n",
    "    ## Check if there's float data. Otherwise, calculate using Outstanding share data\n",
    "    ## ETFs have no float data, so they always use Outstanding Shares \n",
    "    if float_ftd_pct_ytd == 0:        \n",
    "        os_ftd_pct_ytd = data_dict_import[index_value]['ftd_stats']['os_ftd_pct_ytd']\n",
    "        if os_ftd_pct_ytd >= 5:\n",
    "            float_count_is_0 += 1\n",
    "            ftd_key_list.append(i)\n",
    "            isEtf = data_dict_import[index_value]['companyProfile']['isEtf']\n",
    "            if isEtf == True:\n",
    "                etf_key_list.append(i)\n",
    "            else:\n",
    "                eqt_key_list.append(i)\n",
    "    else:\n",
    "        if float_ftd_pct_ytd >= 5:\n",
    "            ftd_key_list.append(i)\n",
    "            isEtf = data_dict_import[index_value]['companyProfile']['isEtf']\n",
    "            if isEtf == 'True':\n",
    "                etf_key_list.append(i)\n",
    "            else:\n",
    "                eqt_key_list.append(i)\n",
    "\n",
    "print(f'Float = 0 for '+str(float_count_is_0)+' symbols')\n",
    "print('All list length:',len(ftd_key_list))\n",
    "print('ETF list length:',len(etf_key_list))\n",
    "print('EQT list length:',len(eqt_key_list))"
   ]
  },
  {
   "cell_type": "code",
   "execution_count": 14,
   "id": "16164b01-9f9e-4946-b79f-11c3d334c51d",
   "metadata": {},
   "outputs": [],
   "source": [
    "## Make a function to run this kind of model \n",
    "\n",
    "def mean_squared(symbol,validation_split=0.3,epochs=800,layers=1):\n",
    "    index_value = 0\n",
    "    for i in range(len(key_list)):\n",
    "        if key_list[i] == symbol:\n",
    "            index_value = i\n",
    "            pass\n",
    "    dict_key = key_list[index_value]\n",
    "    df = data_dict_import[dict_key]['dataFrame'].copy()\n",
    "    X = df.drop(columns='close').values\n",
    "    y = df['close'].values\n",
    "    \n",
    "    scaler = StandardScaler().fit(X)\n",
    "    X = scaler.transform(X)    \n",
    "    \n",
    "    num_of_inputs = 17\n",
    "    num_of_outputs= 1\n",
    "\n",
    "    \n",
    "    ## Create Neural Network \n",
    "    if layers == 1:\n",
    "        # Create a shallow, 1 hidden layer, neural network\n",
    "        nn1 = Sequential()\n",
    "\n",
    "        # Hidden layer\n",
    "        nn1.add(Dense(units=8, input_dim=num_of_inputs, activation=\"relu\"))\n",
    "\n",
    "        # Output layer\n",
    "        nn1.add(Dense(units=num_of_outputs, activation=\"linear\"))\n",
    "\n",
    "        # Compile the model\n",
    "        nn1.compile(loss=\"mean_squared_error\", optimizer=\"adam\", metrics=[\"mse\"])\n",
    "\n",
    "        # Fit the model\n",
    "        model_1 = nn1.fit(X, y, validation_split=validation_split, epochs=epochs,verbose=0)\n",
    "        \n",
    "        # Save model_1 as JSON\n",
    "        nn_json1 = nn1.to_json()\n",
    "\n",
    "        file_path = Path(\"../Resources/model_1_temp.json\")\n",
    "        with open(file_path, \"w\") as json_file:\n",
    "            json_file.write(nn_json1)\n",
    "\n",
    "        # Save weights\n",
    "        file_path = \"../Resources/model_1_temp.h5\"\n",
    "        nn1.save_weights(file_path)\n",
    "        \n",
    "        # load json and create model\n",
    "        file_path = Path(\"../Resources/model_1_temp.json\")\n",
    "        with open(file_path, \"r\") as json_file:\n",
    "            model_json = json_file.read()\n",
    "        loaded_model1 = model_from_json(model_json)\n",
    "\n",
    "        # load weights into new model\n",
    "        file_path = \"../Resources/model_1_temp.h5\"\n",
    "        loaded_model1.load_weights(file_path)\n",
    "        \n",
    "        # Make some predictions with the loaded model\n",
    "        df1 = df.copy()\n",
    "        df1[\"predicted\"] = loaded_model1.predict(X)\n",
    "        df_pred = df1[['close','predicted']]\n",
    "        df_pred\n",
    "        \n",
    "    elif layers == 2:\n",
    "        # Define the model - deep neural network with two layers\n",
    "        nn2 = Sequential()\n",
    "\n",
    "        # First hidden layer\n",
    "        nn2.add(Dense(units=8, input_dim=num_of_inputs, activation=\"relu\"))\n",
    "\n",
    "        # Second hidden layer\n",
    "        nn2.add(Dense(units=8, activation=\"relu\"))\n",
    "\n",
    "        # Output layer\n",
    "        nn2.add(Dense(units=num_of_outputs, activation=\"linear\"))\n",
    "        \n",
    "        # Compile the model\n",
    "        nn2.compile(loss=\"mean_squared_error\", optimizer=\"adam\", metrics=[\"mse\"])\n",
    "\n",
    "        # Fit the model\n",
    "        model_2 = nn2.fit(X, y, validation_split=0.3, epochs=800, verbose=0)\n",
    "        \n",
    "        # Save model_2 as JSON\n",
    "        nn_json2 = nn2.to_json()\n",
    "\n",
    "        file_path = Path(\"../Resources/model_2_temp.json\")\n",
    "        with open(file_path, \"w\") as json_file:\n",
    "            json_file.write(nn_json2)\n",
    "\n",
    "        # Save weights\n",
    "        file_path = \"../Resources/model_2_temp.h5\"\n",
    "        nn2.save_weights(file_path)\n",
    "        \n",
    "        # load json and create model\n",
    "        file_path = Path(\"../Resources/model_2_temp.json\")\n",
    "        with open(file_path, \"r\") as json_file:\n",
    "            model_json = json_file.read()\n",
    "        loaded_model2 = model_from_json(model_json)\n",
    "\n",
    "        # load weights into new model\n",
    "        file_path = \"../Resources/model_2_temp.h5\"\n",
    "        loaded_model2.load_weights(file_path)\n",
    "        \n",
    "        # Make some predictions with the loaded model\n",
    "        df2 = df.copy()\n",
    "        df2[\"predicted\"] = loaded_model2.predict(X)\n",
    "        df_pred = df2[['close','predicted']]\n",
    "        df_pred\n",
    "        \n",
    "    return df_pred"
   ]
  },
  {
   "cell_type": "code",
   "execution_count": 16,
   "id": "bf9dd130-2f28-4dfc-b4e2-236e9697f58e",
   "metadata": {},
   "outputs": [
    {
     "data": {
      "text/html": [
       "<div>\n",
       "<style scoped>\n",
       "    .dataframe tbody tr th:only-of-type {\n",
       "        vertical-align: middle;\n",
       "    }\n",
       "\n",
       "    .dataframe tbody tr th {\n",
       "        vertical-align: top;\n",
       "    }\n",
       "\n",
       "    .dataframe thead th {\n",
       "        text-align: right;\n",
       "    }\n",
       "</style>\n",
       "<table border=\"1\" class=\"dataframe\">\n",
       "  <thead>\n",
       "    <tr style=\"text-align: right;\">\n",
       "      <th></th>\n",
       "      <th>close</th>\n",
       "      <th>predicted</th>\n",
       "    </tr>\n",
       "    <tr>\n",
       "      <th>Date</th>\n",
       "      <th></th>\n",
       "      <th></th>\n",
       "    </tr>\n",
       "  </thead>\n",
       "  <tbody>\n",
       "    <tr>\n",
       "      <th>2016-01-04</th>\n",
       "      <td>28.309999</td>\n",
       "      <td>28.295673</td>\n",
       "    </tr>\n",
       "    <tr>\n",
       "      <th>2016-01-05</th>\n",
       "      <td>28.770000</td>\n",
       "      <td>28.671391</td>\n",
       "    </tr>\n",
       "    <tr>\n",
       "      <th>2016-01-06</th>\n",
       "      <td>28.370001</td>\n",
       "      <td>28.235249</td>\n",
       "    </tr>\n",
       "    <tr>\n",
       "      <th>2016-01-07</th>\n",
       "      <td>28.450001</td>\n",
       "      <td>28.406145</td>\n",
       "    </tr>\n",
       "    <tr>\n",
       "      <th>2016-01-08</th>\n",
       "      <td>28.370001</td>\n",
       "      <td>28.296890</td>\n",
       "    </tr>\n",
       "    <tr>\n",
       "      <th>...</th>\n",
       "      <td>...</td>\n",
       "      <td>...</td>\n",
       "    </tr>\n",
       "    <tr>\n",
       "      <th>2021-10-25</th>\n",
       "      <td>173.970000</td>\n",
       "      <td>175.240433</td>\n",
       "    </tr>\n",
       "    <tr>\n",
       "      <th>2021-10-26</th>\n",
       "      <td>177.840000</td>\n",
       "      <td>181.110794</td>\n",
       "    </tr>\n",
       "    <tr>\n",
       "      <th>2021-10-27</th>\n",
       "      <td>173.510000</td>\n",
       "      <td>175.669449</td>\n",
       "    </tr>\n",
       "    <tr>\n",
       "      <th>2021-10-28</th>\n",
       "      <td>182.850000</td>\n",
       "      <td>184.560257</td>\n",
       "    </tr>\n",
       "    <tr>\n",
       "      <th>2021-10-29</th>\n",
       "      <td>183.510000</td>\n",
       "      <td>184.602463</td>\n",
       "    </tr>\n",
       "  </tbody>\n",
       "</table>\n",
       "<p>1468 rows × 2 columns</p>\n",
       "</div>"
      ],
      "text/plain": [
       "                 close   predicted\n",
       "Date                              \n",
       "2016-01-04   28.309999   28.295673\n",
       "2016-01-05   28.770000   28.671391\n",
       "2016-01-06   28.370001   28.235249\n",
       "2016-01-07   28.450001   28.406145\n",
       "2016-01-08   28.370001   28.296890\n",
       "...                ...         ...\n",
       "2021-10-25  173.970000  175.240433\n",
       "2021-10-26  177.840000  181.110794\n",
       "2021-10-27  173.510000  175.669449\n",
       "2021-10-28  182.850000  184.560257\n",
       "2021-10-29  183.510000  184.602463\n",
       "\n",
       "[1468 rows x 2 columns]"
      ]
     },
     "execution_count": 16,
     "metadata": {},
     "output_type": "execute_result"
    }
   ],
   "source": [
    "test_model = mean_squared('GME',layers=2)\n",
    "test_model"
   ]
  },
  {
   "cell_type": "code",
   "execution_count": null,
   "id": "7e4302a1-ad46-42d7-9f67-a43688e48fcf",
   "metadata": {},
   "outputs": [],
   "source": []
  }
 ],
 "metadata": {
  "kernelspec": {
   "display_name": "Python 3",
   "language": "python",
   "name": "python3"
  },
  "language_info": {
   "codemirror_mode": {
    "name": "ipython",
    "version": 3
   },
   "file_extension": ".py",
   "mimetype": "text/x-python",
   "name": "python",
   "nbconvert_exporter": "python",
   "pygments_lexer": "ipython3",
   "version": "3.7.10"
  }
 },
 "nbformat": 4,
 "nbformat_minor": 5
}
