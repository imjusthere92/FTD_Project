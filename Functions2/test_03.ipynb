{
 "cells": [
  {
   "cell_type": "code",
   "execution_count": 1,
   "id": "f02ba560-16e1-4f5a-bdc1-cc035ada05d6",
   "metadata": {},
   "outputs": [
    {
     "data": {
      "text/plain": [
       "True"
      ]
     },
     "execution_count": 1,
     "metadata": {},
     "output_type": "execute_result"
    }
   ],
   "source": [
    "import pandas as pd\n",
    "\n",
    "from pathlib import Path\n",
    "import csv\n",
    "\n",
    "import os\n",
    "import requests\n",
    "import json\n",
    "\n",
    "from dotenv import load_dotenv\n",
    "load_dotenv()"
   ]
  },
  {
   "cell_type": "code",
   "execution_count": 2,
   "id": "5f7bd543-d4b0-4434-a0b2-9942f6c7a386",
   "metadata": {},
   "outputs": [
    {
     "data": {
      "text/plain": [
       "<Response [200]>"
      ]
     },
     "execution_count": 2,
     "metadata": {},
     "output_type": "execute_result"
    }
   ],
   "source": [
    "## IEX Constants\n",
    "iex_api_key = os.getenv(\"IEX_API_KEY\")\n",
    "iex_test_api_key = os.getenv(\"IEX_TEST_API_KEY\")\n",
    "\n",
    "## Redundant Assignment but improves Readability throughout code \n",
    "real_token = iex_api_key\n",
    "test_token = iex_test_api_key\n",
    "\n",
    "base_url_iex = 'https://cloud.iexapis.com/stable/'\n",
    "sandbox_url = 'https://sandbox.iexapis.com/stable/'\n",
    "\n",
    "## IEX Status Test \n",
    "test_resp = requests.get(base_url_iex + 'status')\n",
    "test_resp"
   ]
  },
  {
   "cell_type": "code",
   "execution_count": 3,
   "id": "8c26bc55-01fd-41ae-9e19-82ac6bbd97be",
   "metadata": {},
   "outputs": [],
   "source": [
    "token_status = test_token ## Set to either real token or test token for IEX"
   ]
  },
  {
   "cell_type": "code",
   "execution_count": 4,
   "id": "068a7812-820d-4b65-9944-f5dea3399539",
   "metadata": {},
   "outputs": [],
   "source": [
    "## Load IEX to get ETF statistics \n",
    "def get_IEX_statistics(stock_ticker, token=token_status):\n",
    "    if token == test_token:\n",
    "        resp_data = requests.get(sandbox_url+'stock/'+stock_ticker+'/stats/?token='+test_token)\n",
    "        data_json = resp_data.json()\n",
    "    elif token == real_token:\n",
    "        resp_data = requests.get(base_url_iex+'stock/'+stock_ticker+'/stats/?token='+real_token)\n",
    "        data_json = resp_data.json()\n",
    "        \n",
    "    return data_json"
   ]
  },
  {
   "cell_type": "code",
   "execution_count": 5,
   "id": "15b8bdb6-02ce-4b51-b0f1-4de66f037305",
   "metadata": {},
   "outputs": [],
   "source": [
    "## FMP Constants \n",
    "fmpbase_urlv3 = 'https://fmpcloud.io/api/v3/'\n",
    "fmpbase_urlv4 = 'https://fmpcloud.io/api/v4/'\n",
    "api_key = os.getenv(\"FMP_CLOUD_API_KEY\")\n",
    "\n",
    "## FMP Functions \n",
    "# def get_FMP_historical_data(symbol, startDate=start_date, endDate=end_date, apiKey=api_key):\n",
    "#     url_hist_price = fmpbase_urlv3+'historical-price-full/'\n",
    "#     url_hist_query_with_date = url_hist_price+symbol+'?from='+startDate+'&to='+endDate+'&apikey='+apiKey\n",
    "#     resp_data = requests.get(url_hist_query_with_date)\n",
    "#     json_ = resp_data.json()\n",
    "#     data = json_['historical']\n",
    "#     df = pd.DataFrame(data)\n",
    "#     df.rename(columns={'date':'Date'},inplace=True)\n",
    "#     df['Date'] = pd.to_datetime(df['Date'])\n",
    "#     df = df.reindex(index=df.index[::-1]) ## Reverse the DataFrame \n",
    "#     df.set_index('Date',inplace=True)\n",
    "#     df.drop(columns='label',inplace=True)\n",
    "#     return df\n",
    "\n",
    "def get_float_data_FMP(symbol):\n",
    "    url_float_shares = fmpbase_urlv4+'shares_float?symbol='\n",
    "    url_query_float_data = url_float_shares+symbol+'&apikey='+api_key\n",
    "    resp_data = requests.get(url_query_float_data)\n",
    "    #df = pd.DataFrame(resp_data.json())\n",
    "    json_ = resp_data.json()\n",
    "    return json_[0]\n",
    "\n",
    "def get_company_profile_FMP_json(symbol):\n",
    "    ## https://fmpcloud.io/api/v3/profile/AAPL?apikey='yourkeyhere'\n",
    "    url_company_profile_url = fmpbase_urlv3+'profile/'+symbol+'?apikey='+api_key\n",
    "    resp_data = requests.get(url_company_profile_url)\n",
    "    json_response = resp_data.json()\n",
    "    return json_response[0]\n",
    "\n",
    "def save_and_export_raw_df_csv(data, symbol):\n",
    "    path = ('../FilesExportIndividualStockDFs/'+symbol+'_combined_df.csv')\n",
    "    data.to_csv(path)"
   ]
  },
  {
   "cell_type": "code",
   "execution_count": 6,
   "id": "4e4993cd-2b4f-4ad1-9911-6aed38de653c",
   "metadata": {},
   "outputs": [],
   "source": [
    "## Use pickle module to import and export and save files\n",
    "import pickle\n",
    "def load_obj(path):\n",
    "    with open(path, 'rb') as f:\n",
    "        return pickle.load(f)\n",
    "def save_obj(obj, path ):\n",
    "    with open(path, 'wb') as f:\n",
    "        pickle.dump(obj, f, pickle.HIGHEST_PROTOCOL)"
   ]
  },
  {
   "cell_type": "code",
   "execution_count": 7,
   "id": "d0abbe33-9cf2-4191-afa9-c00c9841d786",
   "metadata": {},
   "outputs": [],
   "source": [
    "## Import files using Pickle\n",
    "imported_data_dict = {}\n",
    "imported_key_list = []\n",
    "## Need to set length manually - check files for max length based off file name \n",
    "def import_data(loop_length):\n",
    "    x=0\n",
    "    y=49\n",
    "    increment=50\n",
    "    \n",
    "    while x < loop_length:\n",
    "        str_symbol1 = str(x)\n",
    "        str_symbol2 = str(y)\n",
    "\n",
    "        pkl_path = Path('../FilesExportCompleteFMP_big/data_complete_'+str_symbol1+'_'+str_symbol2+'.pkl')\n",
    "        data_obj = load_obj(pkl_path)\n",
    "        data_obj_key_list = []\n",
    "        for key in data_obj.keys():\n",
    "            data_obj_key_list.append(key)  \n",
    "        for symbol in data_obj_key_list:\n",
    "            data = data_obj[symbol]\n",
    "            imported_data_dict[symbol] = data\n",
    "\n",
    "        x += increment\n",
    "        y += increment\n",
    "        if y > loop_length: y = loop_length\n",
    "        \n",
    "    for key in imported_data_dict.keys():\n",
    "        imported_key_list.append(key) "
   ]
  },
  {
   "cell_type": "code",
   "execution_count": 8,
   "id": "6ed5873a-8665-4f5c-9f8c-cb05c0ce8639",
   "metadata": {},
   "outputs": [],
   "source": [
    "## Need to create data structure for rest of data "
   ]
  },
  {
   "cell_type": "code",
   "execution_count": 9,
   "id": "f618152f-8396-4b47-8ad4-6020da705618",
   "metadata": {},
   "outputs": [],
   "source": [
    "import_data(loop_length=199)"
   ]
  },
  {
   "cell_type": "code",
   "execution_count": 10,
   "id": "c70406ae-9a24-48a1-926e-02b6869b6880",
   "metadata": {},
   "outputs": [
    {
     "data": {
      "text/plain": [
       "33"
      ]
     },
     "execution_count": 10,
     "metadata": {},
     "output_type": "execute_result"
    }
   ],
   "source": [
    "len(imported_key_list)"
   ]
  },
  {
   "cell_type": "code",
   "execution_count": 11,
   "id": "9770eaed-e789-4e66-b373-9d003377105d",
   "metadata": {},
   "outputs": [
    {
     "data": {
      "text/plain": [
       "149.800003"
      ]
     },
     "execution_count": 11,
     "metadata": {},
     "output_type": "execute_result"
    }
   ],
   "source": [
    "## Sort index anytime accessing data \n",
    "test_df = imported_data_dict['AAPL'].sort_index()\n",
    "test_df.iloc[-1]['close']"
   ]
  },
  {
   "cell_type": "code",
   "execution_count": 12,
   "id": "e7e88c96-7691-4e49-af59-6cd9f115db0b",
   "metadata": {},
   "outputs": [],
   "source": [
    "full_length_ = len(imported_data_dict['AAPL'])\n",
    "full_length_ = 1469"
   ]
  },
  {
   "cell_type": "code",
   "execution_count": 13,
   "id": "2f912922-f5e9-46c0-9349-7cb5d731f307",
   "metadata": {},
   "outputs": [
    {
     "data": {
      "text/plain": [
       "{'companyName': 'Apple Inc',\n",
       " 'marketcap': 2576629785388,\n",
       " 'week52high': 165.9,\n",
       " 'week52low': 119.89,\n",
       " 'week52highSplitAdjustOnly': 166.7,\n",
       " 'week52lowSplitAdjustOnly': 121.18,\n",
       " 'week52change': 0.3671282168562986,\n",
       " 'sharesOutstanding': 16596259231,\n",
       " 'float': 0,\n",
       " 'avg10Volume': 90444082,\n",
       " 'avg30Volume': 77028469,\n",
       " 'day200MovingAvg': 147.17,\n",
       " 'day50MovingAvg': 151.47,\n",
       " 'employees': 148372,\n",
       " 'ttmEPS': 11.78,\n",
       " 'ttmDividendRate': 0.8924497582902171,\n",
       " 'dividendYield': 0.00551016813341884,\n",
       " 'nextDividendDate': '',\n",
       " 'exDividendDate': '2021-10-25',\n",
       " 'nextEarningsDate': '2022-01-19',\n",
       " 'peRatio': 13.864157406929397,\n",
       " 'beta': 1.4433275385120816,\n",
       " 'maxChangePercent': 59.78444084136919,\n",
       " 'year5ChangePercent': 5.038039755745583,\n",
       " 'year2ChangePercent': 1.39890547166229,\n",
       " 'year1ChangePercent': 0.356405480894378,\n",
       " 'ytdChangePercent': 0.1964753793008941,\n",
       " 'month6ChangePercent': 0.2659979499491978,\n",
       " 'month3ChangePercent': 0.05798938665007065,\n",
       " 'month1ChangePercent': 0.03034343473588546,\n",
       " 'day30ChangePercent': 0.04989207787811911,\n",
       " 'day5ChangePercent': -0.02445119885532785}"
      ]
     },
     "execution_count": 13,
     "metadata": {},
     "output_type": "execute_result"
    }
   ],
   "source": [
    "## Test get get_IEX_statistics\n",
    "appl_iex_stats = get_IEX_statistics(stock_ticker='AAPL')\n",
    "appl_iex_stats"
   ]
  },
  {
   "cell_type": "code",
   "execution_count": 14,
   "id": "46a35986-efdf-4e01-8067-81c3dd2ec8a4",
   "metadata": {},
   "outputs": [
    {
     "data": {
      "text/plain": [
       "{'symbol': 'AAPL',\n",
       " 'price': 160.24,\n",
       " 'beta': 1.205714,\n",
       " 'volAvg': 78850734,\n",
       " 'mktCap': 2628961697792,\n",
       " 'lastDiv': 0.865,\n",
       " 'range': '116.21-165.7',\n",
       " 'changes': 3.430008,\n",
       " 'companyName': 'Apple Inc.',\n",
       " 'currency': 'USD',\n",
       " 'cik': '0000320193',\n",
       " 'isin': 'US0378331005',\n",
       " 'cusip': '037833100',\n",
       " 'exchange': 'Nasdaq Global Select',\n",
       " 'exchangeShortName': 'NASDAQ',\n",
       " 'industry': 'Consumer Electronics',\n",
       " 'website': 'http://www.apple.com',\n",
       " 'description': \"Apple Inc. (Apple) designs, manufactures and markets mobile communication and media devices, personal computers, and portable digital music players, and a variety of related software, services, peripherals, networking solutions, and third-party digital content and applications. The Company's products and services include iPhone, iPad, Mac, iPod, Apple TV, a portfolio of consumer and professional software applications, the iOS and OS X operating systems, iCloud, and a variety of accessory, service and support offerings. The Company also delivers digital content and applications through the iTunes Store, App StoreSM, iBookstoreSM, and Mac App Store. The Company distributes its products worldwide through its retail stores, online stores, and direct sales force, as well as through third-party cellular network carriers, wholesalers, retailers, and value-added resellers. In February 2012, the Company acquired app-search engine Chomp.\",\n",
       " 'ceo': 'Mr. Timothy Cook',\n",
       " 'sector': 'Technology',\n",
       " 'country': 'US',\n",
       " 'fullTimeEmployees': '154000',\n",
       " 'phone': '14089961010',\n",
       " 'address': '1 Apple Park Way',\n",
       " 'city': 'Cupertino',\n",
       " 'state': 'CALIFORNIA',\n",
       " 'zip': '95014',\n",
       " 'dcfDiff': 89.92,\n",
       " 'dcf': 158.979,\n",
       " 'image': 'https://fmpcloud.io/image-stock/AAPL.png',\n",
       " 'ipoDate': '1980-12-12',\n",
       " 'defaultImage': False,\n",
       " 'isEtf': False,\n",
       " 'isActivelyTrading': True,\n",
       " 'isAdr': False,\n",
       " 'isFund': False}"
      ]
     },
     "execution_count": 14,
     "metadata": {},
     "output_type": "execute_result"
    }
   ],
   "source": [
    "appl_fmp_profile = get_company_profile_FMP_json('AAPL')\n",
    "appl_fmp_profile"
   ]
  },
  {
   "cell_type": "code",
   "execution_count": 15,
   "id": "60f2bc6b-f42a-47d3-a5bd-df5a3fcf6e14",
   "metadata": {},
   "outputs": [
    {
     "data": {
      "text/plain": [
       "2628961697792"
      ]
     },
     "execution_count": 15,
     "metadata": {},
     "output_type": "execute_result"
    }
   ],
   "source": [
    "appl_fmp_profile['mktCap']"
   ]
  },
  {
   "cell_type": "code",
   "execution_count": 16,
   "id": "ff2f28ad-311e-461c-b165-708f50fe5e01",
   "metadata": {},
   "outputs": [
    {
     "data": {
      "text/plain": [
       "{'symbol': 'AAPL',\n",
       " 'date': '2021-11-29',\n",
       " 'freeFloat': 99.89598173273845,\n",
       " 'floatShares': 16389334347.0,\n",
       " 'outstandingShares': 16406400000.0,\n",
       " 'source': 'https://www.sec.gov/Archives/edgar/data/320193/000032019321000105/aapl-20210925.htm'}"
      ]
     },
     "execution_count": 16,
     "metadata": {},
     "output_type": "execute_result"
    }
   ],
   "source": [
    "aapl_float_data = get_float_data_FMP('AAPL')\n",
    "aapl_float_data"
   ]
  },
  {
   "cell_type": "code",
   "execution_count": 17,
   "id": "9d46631c-78f7-44b5-b943-f41fd24abee6",
   "metadata": {},
   "outputs": [
    {
     "data": {
      "text/plain": [
       "16389334347.0"
      ]
     },
     "execution_count": 17,
     "metadata": {},
     "output_type": "execute_result"
    }
   ],
   "source": [
    "aapl_float_data['floatShares']"
   ]
  },
  {
   "cell_type": "code",
   "execution_count": 18,
   "id": "23142ed2-b78e-4cb2-a61a-7f1afb61792d",
   "metadata": {},
   "outputs": [],
   "source": [
    "# data = {\n",
    "# \t'Fundamentals':                    \t\t\t##\n",
    "# \t{\n",
    "# \t\t 'sharesOutstanding': 17213236419,\t\t## Sourced from IEX for ETFs, FMP for Equity\n",
    "# \t\t 'floatShares': 16389334347.0,\t\t\t## Can't source for ETFs at the moment - can get from FMP for Equity\n",
    "# \t\t 'debt_ratio': 'debt_ratioValue',\t\t## Blank - no source yet \n",
    "# \t\t 'exchange': 'Nasdaq Global Select',    ## Sourced from FMP \n",
    "# \t\t 'final_close_price': 149.800003,\t\t## Sourced from iex_statistics\n",
    "# \t\t 'peRatio': 14.407047826172997,\t\t\t## Sourced from iex_statistics, =0 for ETFs\n",
    "# \t\t 'beta': 1.4575864187912306,\t\t\t## Sourced from iex_statistics for Equity, =0 for ETFs\n",
    "# \t\t 'week52high': 169.1,\t\t\t\t\t## Sourced from iex_statistics\n",
    "# \t\t 'week52low': 118.18,\t\t\t\t\t## Sourced from iex_statistics\n",
    "# \t\t 'week52change': 0.4124429632647193,    ## Sourced from iex_statistics\n",
    "# \t\t 'avg10Volume': 102534515,\t\t\t\t## Sourced from iex_statistics\n",
    "# \t\t 'avg30Volume': 79254408,\t\t\t\t## Sourced from iex_statistics\n",
    "# \t\t 'marketcap_IEX': 2663047538957,\t\t## Sourced from iex_statistics\n",
    "# \t\t 'marketcap_FMP': 2656852508672\t\t\t## Sourced from FMP\t\n",
    "# \t},\n",
    "# \t'dataFrame':time_series_df,\t\t\t\t\t\t\t## FMP historical merged with Nasdaq Short Data and SEC FTD Data\n",
    "# \t'companyProfile':FMP_company_profile_json,         \t## Sourced from FMP, otherwise =0\n",
    "# \t'floatData':FMP_float_data_df,   \t\t\t\t\t## Sourced from FMP, otherwise =0\n",
    "# \t'textNews':['article1','article2','article3'],    \t## Not sourced\n",
    "# \t'returns':'returns_data',    \t\t\t\t\t\t## Not calculated\n",
    "# \t'iex_statistics':'iex_statistics_data_json'     \t## Added to completed data_dicts, both ETFs and Equity\n",
    "# }"
   ]
  },
  {
   "cell_type": "code",
   "execution_count": 19,
   "id": "82082c4e-ff5a-4857-8a2f-bc406b478465",
   "metadata": {},
   "outputs": [],
   "source": [
    "data_dict_all = {}\n",
    "data_dict_full = {}\n",
    "data_dict_uneven={}\n",
    "\n",
    "symbol_list_all = []\n",
    "symbol_list_full = []\n",
    "symbol_list_uneven=[]\n",
    "\n",
    "total_length = 33915 ## Number of possible symbols \n",
    "full_length_ = 1469 ## Length of a full data fram (2016-01 to 2021-10)"
   ]
  },
  {
   "cell_type": "code",
   "execution_count": 25,
   "id": "507b43fc-4c3a-4b0f-aa89-9f12be3dfc52",
   "metadata": {},
   "outputs": [],
   "source": [
    "loop_length = 199\n",
    "x=0\n",
    "y=49\n",
    "increment=50\n",
    "\n",
    "\n",
    "\n",
    "iex_token = test_token ## IEX Token Status \n",
    "\n",
    "while x < loop_length:\n",
    "    str_symbol1 = str(x)\n",
    "    str_symbol2 = str(y)\n",
    "\n",
    "    ## Load time series data - Historical(FMP), FTD(SEC), and Short Interest (FINRA)\n",
    "    pkl_path = Path('../FilesExportCompleteFMP_big/data_complete_'+str_symbol1+'_'+str_symbol2+'.pkl')\n",
    "    data_obj = load_obj(pkl_path)\n",
    "    data_obj_key_list = []\n",
    "    for key in data_obj.keys():\n",
    "        data_obj_key_list.append(key)  \n",
    "    for symbol in data_obj_key_list:\n",
    "        err_symbol = symbol\n",
    "        ## Get time series data \n",
    "        time_series_df = data_obj[symbol].sort_index() ## Create dataframe from pkl object\n",
    "        try:\n",
    "            iex_stats = get_IEX_statistics(stock_ticker=symbol,token=iex_token)        \n",
    "            sharesOutstanding = iex_stats['sharesOutstanding']\n",
    "            peRatio = iex_stats['peRatio']\n",
    "            beta = iex_stats['beta']\n",
    "            week52high = iex_stats['week52high']\n",
    "            week52low = iex_stats['week52low']\n",
    "            week52change = iex_stats['week52change']\n",
    "            avg10Volume = iex_stats['avg10Volume']\n",
    "            avg30Volume = iex_stats['avg30Volume']\n",
    "            marketcap_IEX = iex_stats['marketcap']\n",
    "        except:\n",
    "            sharesOutstanding = 0\n",
    "            peRatio = 0\n",
    "            beta = 0\n",
    "            week52high = 0\n",
    "            week52low = 0\n",
    "            week52change = 0\n",
    "            avg10Volume = 0\n",
    "            avg30Volume = 0\n",
    "            marketcap_IEX = 0\n",
    "        \n",
    "        ## FMP \n",
    "        try:\n",
    "            fmp_profile = get_company_profile_FMP_json(symbol)\n",
    "            exchange = fmp_profile['exchangeShortName']\n",
    "            marketcap_FMP = fmp_profile['mktCap']\n",
    "        except:\n",
    "            fmp_profile = 0\n",
    "            exchange = 0\n",
    "            marketcap_FMP = 0\n",
    "        try:\n",
    "            float_data = get_float_data_FMP(symbol)\n",
    "            floatShares = float_data['floatShares']\n",
    "        except:\n",
    "            float_data = 0\n",
    "            floatShares = 0\n",
    "        \n",
    "        \n",
    "        ## Create data_dict: \n",
    "        data = {\n",
    "        'Fundamentals':                    \t\t\t##\n",
    "        {\n",
    "            'sharesOutstanding': sharesOutstanding,\t\t## Sourced from IEX for ETFs, FMP for Equity\n",
    "             'floatShares': floatShares,\t\t\t## Can't source for ETFs at the moment - can get from FMP for Equity\n",
    "             #'debt_ratio': 'debt_ratioValue',\t\t## Blank - no source yet \n",
    "             'exchange': exchange,    ## Sourced from FMP \n",
    "             'final_close_price': time_series_df.iloc[-1]['close'],\t\t## Sourced from iex_statistics\n",
    "             'peRatio': peRatio,\t\t\t## Sourced from iex_statistics, =0 for ETFs\n",
    "             'beta': beta,\t\t\t## Sourced from iex_statistics for Equity, =0 for ETFs\n",
    "             'week52high': week52high,\t\t\t\t\t## Sourced from iex_statistics\n",
    "             'week52low': week52low,\t\t\t\t\t## Sourced from iex_statistics\n",
    "             'week52change': week52change,    ## Sourced from iex_statistics\n",
    "             'avg10Volume': avg10Volume,\t\t\t\t## Sourced from iex_statistics\n",
    "             'avg30Volume': avg30Volume,\t\t\t\t## Sourced from iex_statistics\n",
    "             'marketcap_IEX': marketcap_IEX,\t\t## Sourced from iex_statistics\n",
    "             'marketcap_FMP': marketcap_FMP\t\t\t## Sourced from FMP\t\n",
    "        },\n",
    "        'dataFrame':time_series_df,\t\t\t\t\t\t\t## FMP historical merged with Nasdaq Short Data and SEC FTD Data\n",
    "        'companyProfile':fmp_profile,         \t## Sourced from FMP, otherwise =0\n",
    "        'floatData':float_data,   \t\t\t\t\t## Sourced from FMP, otherwise =0\n",
    "        'textNews':['article1','article2','article3'],    \t## Not sourced\n",
    "        'returns':'returns_data',    \t\t\t\t\t\t## Not calculated\n",
    "        'iex_statistics': iex_stats     \t## Added to completed data_dicts, both ETFs and Equity\n",
    "        }\n",
    "        ## Export individual data_dict \n",
    "        export_path = Path('../FilesExport_IndividualDataDict/'+symbol+'data_dict.pkl')\n",
    "        save_obj(data,export_path)\n",
    "        \n",
    "                \n",
    "        if len(time_series_df) == full_length_:\n",
    "            data_dict_full[symbol] = data\n",
    "            symbol_list_full.append(symbol)\n",
    "        else:\n",
    "            data_dict_uneven[symbol] = data\n",
    "            symbol_list_uneven.append(symbol)\n",
    "        \n",
    "        ## Append all data \n",
    "        data_dict_all[symbol] = data\n",
    "        ## Append symbol to list \n",
    "        symbol_list_all.append(symbol)  \n",
    "\n",
    "    x += increment\n",
    "    y += increment\n",
    "    if y > loop_length: y = loop_length\n",
    "\n",
    "## If while loop finishes - export all data \n",
    "pkl_path = Path('../Resources/data_dict_all_test.pkl')\n",
    "save_obj(data_dict_all,pkl_path)\n",
    "pkl_path = Path('../Resources/data_dict_full_test.pkl')\n",
    "save_obj(data_dict_full,pkl_path)\n",
    "pkl_path = Path('../Resources/data_dict_uneven_test.pkl')\n",
    "save_obj(data_dict_uneven,pkl_path)\n",
    "\n",
    "\n",
    "symbol_list_alldf = pd.DataFrame(symbol_list_all)\n",
    "symbol_list_fulldf = pd.DataFrame(symbol_list_full)\n",
    "symbol_list_unevendf = pd.DataFrame(symbol_list_uneven)\n",
    "\n",
    "## Export list\n",
    "list_path = ('../Resources/all_symbol_list_test.csv')\n",
    "symbol_list_alldf.to_csv(list_path)\n",
    "list_path = ('../Resources/symbol_list_full_test.csv')\n",
    "symbol_list_fulldf.to_csv(list_path)\n",
    "list_path = ('../Resources/symbol_list_uneven_test.csv')\n",
    "symbol_list_unevendf.to_csv(list_path)"
   ]
  },
  {
   "cell_type": "code",
   "execution_count": 26,
   "id": "65442e3a-011f-49e1-8ac4-8b272dc1c78b",
   "metadata": {},
   "outputs": [
    {
     "data": {
      "text/plain": [
       "'ABB'"
      ]
     },
     "execution_count": 26,
     "metadata": {},
     "output_type": "execute_result"
    }
   ],
   "source": [
    "err_symbol"
   ]
  },
  {
   "cell_type": "code",
   "execution_count": 27,
   "id": "f3bfd4e4-0728-4217-8276-d076513f328d",
   "metadata": {},
   "outputs": [
    {
     "data": {
      "text/plain": [
       "{'symbol': 'ABB',\n",
       " 'date': '2021-11-29',\n",
       " 'freeFloat': 81.2342711986921,\n",
       " 'floatShares': 1618998973.0,\n",
       " 'outstandingShares': 1992999936.0,\n",
       " 'source': ''}"
      ]
     },
     "execution_count": 27,
     "metadata": {},
     "output_type": "execute_result"
    }
   ],
   "source": [
    "err_data = get_float_data_FMP(err_symbol)\n",
    "err_data"
   ]
  },
  {
   "cell_type": "code",
   "execution_count": 29,
   "id": "548e9ff2-2da9-4b9d-b76b-0189a9dcfdf3",
   "metadata": {},
   "outputs": [
    {
     "data": {
      "text/plain": [
       "{'Fundamentals': {'sharesOutstanding': 16794397925,\n",
       "  'floatShares': 16389334347.0,\n",
       "  'exchange': 'NASDAQ',\n",
       "  'final_close_price': 149.800003,\n",
       "  'peRatio': 13.599786461730238,\n",
       "  'beta': 1.4861429740238898,\n",
       "  'week52high': 173.9,\n",
       "  'week52low': 116.72,\n",
       "  'week52change': 0.3605139156671686,\n",
       "  'avg10Volume': 93362050,\n",
       "  'avg30Volume': 78268329,\n",
       "  'marketcap_IEX': 2650999711968,\n",
       "  'marketcap_FMP': 2628961697792},\n",
       " 'dataFrame':                   open        high         low       close    adjClose  \\\n",
       " Date                                                                     \n",
       " 2016-01-04   25.652500   26.342501   25.500000   26.337500   24.251429   \n",
       " 2016-01-05   26.437500   26.462500   25.602501   25.677500   23.643715   \n",
       " 2016-01-06   25.139999   25.592501   24.967501   25.174999   23.181011   \n",
       " 2016-01-07   24.670000   25.032499   24.107500   24.112499   22.202663   \n",
       " 2016-01-08   24.637501   24.777500   24.190001   24.240000   22.320068   \n",
       " ...                ...         ...         ...         ...         ...   \n",
       " 2021-10-25  148.679993  149.369995  147.619995  148.639999  148.423386   \n",
       " 2021-10-26  149.330002  150.839996  149.009995  149.320007  149.102402   \n",
       " 2021-10-27  149.360001  149.729996  148.490005  148.850006  148.633087   \n",
       " 2021-10-28  149.820007  153.169998  149.720001  152.570007  152.347656   \n",
       " 2021-10-29  147.220001  149.940002  146.410004  149.800003  149.581696   \n",
       " \n",
       "                  volume  unadjustedVolume   change  changePercent       vwap  \\\n",
       " Date                                                                           \n",
       " 2016-01-04  270597600.0       270597600.0  0.68500          2.670   26.06000   \n",
       " 2016-01-05  223164000.0       223164000.0 -0.76000         -2.875   25.91417   \n",
       " 2016-01-06  273829600.0       273829600.0  0.03500          0.139   25.24500   \n",
       " 2016-01-07  324377600.0       324377600.0 -0.55750         -2.260   24.41750   \n",
       " 2016-01-08  283192000.0       283192000.0 -0.39750         -1.613   24.40250   \n",
       " ...                 ...               ...      ...            ...        ...   \n",
       " 2021-10-25   50720600.0        50720600.0 -0.03999         -0.027  148.54333   \n",
       " 2021-10-26   60893400.0        60893400.0 -0.01000         -0.007  149.72333   \n",
       " 2021-10-27   56094900.0        56094900.0 -0.51000         -0.341  149.02334   \n",
       " 2021-10-28  100077900.0       100077900.0  2.75000          1.836  151.82000   \n",
       " 2021-10-29  124850400.0       124850400.0  2.58000          1.752  148.71667   \n",
       " \n",
       "             changeOverTime  QUANTITY_FAILS  ShortVolumeNSDQ  \\\n",
       " Date                                                          \n",
       " 2016-01-04         0.02670         22192.0        7836303.0   \n",
       " 2016-01-05        -0.02875          2832.0        8716993.0   \n",
       " 2016-01-06         0.00139           231.0        8571299.0   \n",
       " 2016-01-07        -0.02260          2262.0        7849239.0   \n",
       " 2016-01-08        -0.01613          1309.0        9894661.0   \n",
       " ...                    ...             ...              ...   \n",
       " 2021-10-25        -0.00027         16326.0        4559284.0   \n",
       " 2021-10-26        -0.00007         20355.0        5849545.0   \n",
       " 2021-10-27        -0.00341          3941.0        5158480.0   \n",
       " 2021-10-28         0.01836          5560.0       10921067.0   \n",
       " 2021-10-29         0.01752          6428.0       15730357.0   \n",
       " \n",
       "             ShortExemptVolumeNSDQ  TotalVolumeNSDQ  ShortVolumeNYSE  \\\n",
       " Date                                                                  \n",
       " 2016-01-04                91287.0       18109841.0         864417.0   \n",
       " 2016-01-05               122578.0       19830715.0         727845.0   \n",
       " 2016-01-06               197769.0       25127700.0         931705.0   \n",
       " 2016-01-07                90024.0       28064570.0        1055425.0   \n",
       " 2016-01-08                71580.0       24359618.0         965185.0   \n",
       " ...                           ...              ...              ...   \n",
       " 2021-10-25                54935.0       15100307.0        2372182.0   \n",
       " 2021-10-26                43193.0       18466804.0        2065455.0   \n",
       " 2021-10-27                63993.0       16397172.0        2563407.0   \n",
       " 2021-10-28               141460.0       29774184.0        4316252.0   \n",
       " 2021-10-29               134353.0       43450813.0        6165574.0   \n",
       " \n",
       "             ShortExemptVolumeNYSE  TotalVolumeNYSE  \n",
       " Date                                                \n",
       " 2016-01-04                 3600.0        2313396.0  \n",
       " 2016-01-05                  500.0        2824607.0  \n",
       " 2016-01-06                  400.0        3416895.0  \n",
       " 2016-01-07                  100.0        4718503.0  \n",
       " 2016-01-08                    0.0        3092569.0  \n",
       " ...                           ...              ...  \n",
       " 2021-10-25                 3947.0        5482668.0  \n",
       " 2021-10-26                 3963.0        5642089.0  \n",
       " 2021-10-27                 3828.0        5121334.0  \n",
       " 2021-10-28                 7272.0        8643886.0  \n",
       " 2021-10-29                14781.0       11436925.0  \n",
       " \n",
       " [1469 rows x 18 columns],\n",
       " 'companyProfile': {'symbol': 'AAPL',\n",
       "  'price': 160.24,\n",
       "  'beta': 1.205714,\n",
       "  'volAvg': 78850734,\n",
       "  'mktCap': 2628961697792,\n",
       "  'lastDiv': 0.865,\n",
       "  'range': '116.21-165.7',\n",
       "  'changes': 3.430008,\n",
       "  'companyName': 'Apple Inc.',\n",
       "  'currency': 'USD',\n",
       "  'cik': '0000320193',\n",
       "  'isin': 'US0378331005',\n",
       "  'cusip': '037833100',\n",
       "  'exchange': 'Nasdaq Global Select',\n",
       "  'exchangeShortName': 'NASDAQ',\n",
       "  'industry': 'Consumer Electronics',\n",
       "  'website': 'http://www.apple.com',\n",
       "  'description': \"Apple Inc. (Apple) designs, manufactures and markets mobile communication and media devices, personal computers, and portable digital music players, and a variety of related software, services, peripherals, networking solutions, and third-party digital content and applications. The Company's products and services include iPhone, iPad, Mac, iPod, Apple TV, a portfolio of consumer and professional software applications, the iOS and OS X operating systems, iCloud, and a variety of accessory, service and support offerings. The Company also delivers digital content and applications through the iTunes Store, App StoreSM, iBookstoreSM, and Mac App Store. The Company distributes its products worldwide through its retail stores, online stores, and direct sales force, as well as through third-party cellular network carriers, wholesalers, retailers, and value-added resellers. In February 2012, the Company acquired app-search engine Chomp.\",\n",
       "  'ceo': 'Mr. Timothy Cook',\n",
       "  'sector': 'Technology',\n",
       "  'country': 'US',\n",
       "  'fullTimeEmployees': '154000',\n",
       "  'phone': '14089961010',\n",
       "  'address': '1 Apple Park Way',\n",
       "  'city': 'Cupertino',\n",
       "  'state': 'CALIFORNIA',\n",
       "  'zip': '95014',\n",
       "  'dcfDiff': 89.92,\n",
       "  'dcf': 158.979,\n",
       "  'image': 'https://fmpcloud.io/image-stock/AAPL.png',\n",
       "  'ipoDate': '1980-12-12',\n",
       "  'defaultImage': False,\n",
       "  'isEtf': False,\n",
       "  'isActivelyTrading': True,\n",
       "  'isAdr': False,\n",
       "  'isFund': False},\n",
       " 'floatData': {'symbol': 'AAPL',\n",
       "  'date': '2021-11-29',\n",
       "  'freeFloat': 99.89598173273845,\n",
       "  'floatShares': 16389334347.0,\n",
       "  'outstandingShares': 16406400000.0,\n",
       "  'source': 'https://www.sec.gov/Archives/edgar/data/320193/000032019321000105/aapl-20210925.htm'},\n",
       " 'textNews': ['article1', 'article2', 'article3'],\n",
       " 'returns': 'returns_data',\n",
       " 'iex_statistics': {'companyName': 'Apple Inc',\n",
       "  'marketcap': 2650999711968,\n",
       "  'week52high': 173.9,\n",
       "  'week52low': 116.72,\n",
       "  'week52highSplitAdjustOnly': 173.1,\n",
       "  'week52lowSplitAdjustOnly': 119.33,\n",
       "  'week52change': 0.3605139156671686,\n",
       "  'sharesOutstanding': 16794397925,\n",
       "  'float': 0,\n",
       "  'avg10Volume': 93362050,\n",
       "  'avg30Volume': 78268329,\n",
       "  'day200MovingAvg': 147.99,\n",
       "  'day50MovingAvg': 154.92,\n",
       "  'employees': 153432,\n",
       "  'ttmEPS': 11.4,\n",
       "  'ttmDividendRate': 0.8645363329808434,\n",
       "  'dividendYield': 0.00565230304849044,\n",
       "  'nextDividendDate': '',\n",
       "  'exDividendDate': '2021-10-23',\n",
       "  'nextEarningsDate': '2022-01-26',\n",
       "  'peRatio': 13.599786461730238,\n",
       "  'beta': 1.4861429740238898,\n",
       "  'maxChangePercent': 61.06303851175215,\n",
       "  'year5ChangePercent': 5.095657756251114,\n",
       "  'year2ChangePercent': 1.38109836153403,\n",
       "  'year1ChangePercent': 0.3642616957684153,\n",
       "  'ytdChangePercent': 0.1962694174733355,\n",
       "  'month6ChangePercent': 0.2644942784105611,\n",
       "  'month3ChangePercent': 0.05866181713682632,\n",
       "  'month1ChangePercent': 0.0307486099767684,\n",
       "  'day30ChangePercent': 0.05001501384365917,\n",
       "  'day5ChangePercent': -0.024031165845598952}}"
      ]
     },
     "execution_count": 29,
     "metadata": {},
     "output_type": "execute_result"
    }
   ],
   "source": [
    "data_dict_all['AAPL']"
   ]
  },
  {
   "cell_type": "code",
   "execution_count": null,
   "id": "4a4c7408-13dd-4e3b-b0f5-6cd9cf21d740",
   "metadata": {},
   "outputs": [],
   "source": []
  }
 ],
 "metadata": {
  "kernelspec": {
   "display_name": "Python 3",
   "language": "python",
   "name": "python3"
  },
  "language_info": {
   "codemirror_mode": {
    "name": "ipython",
    "version": 3
   },
   "file_extension": ".py",
   "mimetype": "text/x-python",
   "name": "python",
   "nbconvert_exporter": "python",
   "pygments_lexer": "ipython3",
   "version": "3.7.10"
  }
 },
 "nbformat": 4,
 "nbformat_minor": 5
}
