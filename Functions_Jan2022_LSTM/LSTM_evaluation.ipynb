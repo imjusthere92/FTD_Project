{
 "cells": [
  {
   "cell_type": "code",
   "execution_count": 1,
   "id": "cc5ea17a-0e06-4a45-a8ce-cbfdac70b47c",
   "metadata": {},
   "outputs": [],
   "source": [
    "import pandas as pd\n",
    "import numpy as np\n",
    "\n",
    "#import glob\n",
    "\n",
    "from pathlib import Path"
   ]
  },
  {
   "cell_type": "code",
   "execution_count": 2,
   "id": "7446a23f-cd55-444e-add5-d3b80f5533e1",
   "metadata": {},
   "outputs": [],
   "source": [
    "# Machine-learning specific imports\n",
    "from tensorflow.keras.models import Sequential\n",
    "from tensorflow.keras.layers import Dense\n",
    "from tensorflow.keras.models import model_from_json\n",
    "\n",
    "import matplotlib.pyplot as plt\n",
    "\n",
    "from sklearn.preprocessing import StandardScaler\n",
    "\n",
    "%matplotlib inline"
   ]
  },
  {
   "cell_type": "code",
   "execution_count": 3,
   "id": "bbd1b1c6-ad69-4896-9e95-d7633eee832b",
   "metadata": {},
   "outputs": [
    {
     "data": {
      "text/plain": [
       "True"
      ]
     },
     "execution_count": 3,
     "metadata": {},
     "output_type": "execute_result"
    }
   ],
   "source": [
    "## API Imports \n",
    "import os\n",
    "import requests\n",
    "import json\n",
    "\n",
    "from dotenv import load_dotenv\n",
    "load_dotenv()"
   ]
  },
  {
   "cell_type": "code",
   "execution_count": 4,
   "id": "f8dbec91-7182-4f5a-8636-65ce97fad2a1",
   "metadata": {},
   "outputs": [],
   "source": [
    "## Load pickle for exports and imports of data  \n",
    "import pickle \n",
    "def load_obj(path):\n",
    "    with open(path, 'rb') as f:\n",
    "        return pickle.load(f)\n",
    "    \n",
    "def save_obj(obj, path ):\n",
    "    with open(path, 'wb') as f:\n",
    "        pickle.dump(obj, f, pickle.HIGHEST_PROTOCOL)"
   ]
  },
  {
   "cell_type": "code",
   "execution_count": 5,
   "id": "720d24fa-c328-4002-b95d-9bd2f9273f33",
   "metadata": {},
   "outputs": [],
   "source": [
    "## FMP Constants \n",
    "fmpbase_urlv3 = 'https://fmpcloud.io/api/v3/'\n",
    "fmpbase_urlv4 = 'https://fmpcloud.io/api/v4/'\n",
    "api_key = os.getenv(\"FMP_CLOUD_API_KEY\")\n",
    "\n",
    "start_date = '2022-01-01'\n",
    "end_date = '2022-01-31'\n",
    "\n",
    "## FMP Functions \n",
    "def get_FMP_historical_data(symbol, startDate=start_date, endDate=end_date, apiKey=api_key):\n",
    "    url_hist_price = fmpbase_urlv3+'historical-price-full/'\n",
    "    url_hist_query_with_date = url_hist_price+symbol+'?from='+startDate+'&to='+endDate+'&apikey='+apiKey\n",
    "    resp_data = requests.get(url_hist_query_with_date)\n",
    "    json_ = resp_data.json()\n",
    "    data = json_['historical']\n",
    "    df = pd.DataFrame(data)\n",
    "    df.rename(columns={'date':'Date'},inplace=True)\n",
    "    df['Date'] = pd.to_datetime(df['Date'])\n",
    "    df = df.reindex(index=df.index[::-1]) ## Reverse the DataFrame \n",
    "    df.set_index('Date',inplace=True)\n",
    "    df.drop(columns='label',inplace=True)\n",
    "    return df"
   ]
  },
  {
   "cell_type": "code",
   "execution_count": 12,
   "id": "f5aa3337-decd-491c-9b38-ec2a62298bfa",
   "metadata": {},
   "outputs": [],
   "source": [
    "def get_updated_data(symbol):\n",
    "    path = Path('../FilesExport_Updated_DFs_01_31/'+symbol+'_ti_df_no_ftd.pkl')\n",
    "    data = load_obj(path)\n",
    "    df = data[symbol]\n",
    "    \n",
    "    df_close = df[['close']]\n",
    "    df_close = df_close.reset_index().rename(columns={\"Date\": \"Close_Date\"})\n",
    "    \n",
    "    features_df = df.reset_index().drop(columns=['close','adjClose'])\n",
    "    \n",
    "    #new_close_df = df_close.iloc[n_days: , :].reset_index(drop=True)\n",
    "    \n",
    "    ## Prevent multiple API calls each time, but use API when needed. \n",
    "    try:\n",
    "        path = Path('../FilesExport_Updated_API_data/'+symbol+'_jan_2022.pkl')\n",
    "        api_df = load_obj(path)\n",
    "    except:\n",
    "        api_df = get_FMP_historical_data(symbol)\n",
    "    \n",
    "\n",
    "    new_data = api_df[['close']]\n",
    "    new_data = new_data.reset_index().rename(columns={\"Date\": \"Close_Date\"})\n",
    "    #new_data = new_data.iloc[0:n_days]\n",
    "    \n",
    "    new_close_df = df_close.append(new_data, ignore_index=True)\n",
    "    \n",
    "\n",
    "    \n",
    "    return features_df, new_close_df"
   ]
  },
  {
   "cell_type": "code",
   "execution_count": 24,
   "id": "49a943aa-3cab-4b8f-a5a3-f3e60eaf9e8d",
   "metadata": {},
   "outputs": [],
   "source": [
    "def get_data(symbol):\n",
    "    path = Path('../FilesExport_Complete_DFs_TI_noShift/'+symbol+'_TI_DF_no_shift.pkl')\n",
    "    data = load_obj(path)\n",
    "    df = data[symbol]\n",
    "\n",
    "    df_close = df[['close']]\n",
    "    df_close = df_close.reset_index().rename(columns={\"Date\": \"Close_Date\"})\n",
    "\n",
    "    features_df = df.reset_index().drop(columns=['close','adjClose'])   \n",
    "    \n",
    "    return features_df, df_close"
   ]
  },
  {
   "cell_type": "code",
   "execution_count": 25,
   "id": "7d558030-4860-42fd-baa6-dbeb93230aac",
   "metadata": {},
   "outputs": [],
   "source": [
    "def lstm_data_transform(x_data, y_data, num_steps=5):\n",
    "    \"\"\" Changes data to the format for LSTM training \n",
    "for sliding window approach \"\"\"\n",
    "    # Prepare the list for the transformed data\n",
    "    X, y = list(), list()\n",
    "    # Loop of the entire data set\n",
    "    for i in range(x_data.shape[0]):\n",
    "        # compute a new (sliding window) index\n",
    "        end_ix = i + num_steps\n",
    "        # if index is larger than the size of the dataset, we stop\n",
    "        if end_ix >= x_data.shape[0]:\n",
    "            break\n",
    "        # Get a sequence of data for x\n",
    "        seq_X = x_data[i:end_ix]\n",
    "        # Get only the last element of the sequency for y\n",
    "        seq_y = y_data[end_ix]\n",
    "        # Append the list with sequencies\n",
    "        X.append(seq_X)\n",
    "        y.append(seq_y)\n",
    "    # Make final arrays\n",
    "    x_array = np.array(X)\n",
    "    y_array = np.array(y)\n",
    "    return x_array, y_array"
   ]
  },
  {
   "cell_type": "code",
   "execution_count": 31,
   "id": "ba6df788-90e2-43ce-b199-ef4045a02cab",
   "metadata": {},
   "outputs": [],
   "source": [
    "def load_and_predict_model(symbol):\n",
    "    export_path='../Model_Data/LSTM_Model_Data_1/'\n",
    "    model_type = 'LSTM'\n",
    "    #n_days_string = str(n_days)\n",
    "    export_path_prefix = export_path+symbol+'_'+model_type\n",
    "\n",
    "    file_path = Path(export_path_prefix+'_model_data.json')\n",
    "    with open(file_path, \"r\") as json_file:\n",
    "        model_json = json_file.read()\n",
    "    loaded_model = model_from_json(model_json)\n",
    "\n",
    "    # load weights into new model\n",
    "    file_path = Path(export_path_prefix+'_model_weights.h5')\n",
    "    loaded_model.load_weights(file_path)\n",
    "\n",
    "    ## Load model summary \n",
    "    file_path = Path(export_path_prefix+'_model_results.pkl')\n",
    "    model_summary = load_obj(file_path)\n",
    "\n",
    "    #pred_df = model_summary['prediction_df']\n",
    "\n",
    "    time_step = model_summary['num_time_steps']\n",
    "\n",
    "    new_features, new_close = get_data(symbol)\n",
    "\n",
    "\n",
    "    X = new_features.set_index('Date')\n",
    "    y = new_close.set_index('Close_Date')\n",
    "\n",
    "    split_var = 0.9\n",
    "\n",
    "    ## Split data\n",
    "    split = int(split_var * len(X))\n",
    "    x_train = X[: split]\n",
    "    x_test = X[split:]\n",
    "    y_train = y[: split]\n",
    "    y_test = y[split:]\n",
    "\n",
    "    ## Scale data \n",
    "    from sklearn.preprocessing import StandardScaler\n",
    "    scaler_x = StandardScaler()\n",
    "    scaler_y = StandardScaler()\n",
    "\n",
    "    x_train_sc = scaler_x.fit_transform(x_train)\n",
    "    x_test_sc = scaler_x.transform(x_test)\n",
    "    y_train_sc = scaler_y.fit_transform(y_train)\n",
    "    y_test_sc = scaler_y.transform(y_test)\n",
    "\n",
    "    num_steps = time_step\n",
    "    # training set\n",
    "    (x_train_transformed,\n",
    "     y_train_transformed) = lstm_data_transform(x_train_sc, y_train_sc, num_steps=num_steps)\n",
    "    assert x_train_transformed.shape[0] == y_train_transformed.shape[0]\n",
    "    # test set\n",
    "    (x_test_transformed,\n",
    "     y_test_transformed) = lstm_data_transform(x_test_sc, y_test_sc, num_steps=num_steps)\n",
    "    assert x_test_transformed.shape[0] == y_test_transformed.shape[0]\n",
    "    \n",
    "    test_predict = loaded_model.predict(x_test_transformed)\n",
    "    \n",
    "    ## Attempt inverse transform \n",
    "    predicted_prices = scaler_y.inverse_transform(test_predict)\n",
    "    real_prices = scaler_y.inverse_transform(y_test_transformed)\n",
    "\n",
    "    prediction_df = pd.DataFrame({\n",
    "        'Actual':real_prices.ravel(),\n",
    "        'Prediction':predicted_prices.ravel()\n",
    "    })\n",
    "\n",
    "    return prediction_df"
   ]
  },
  {
   "cell_type": "code",
   "execution_count": 33,
   "id": "e4eff182-8fdd-449d-be9f-0b79e1961f5b",
   "metadata": {},
   "outputs": [
    {
     "name": "stderr",
     "output_type": "stream",
     "text": [
      "C:\\Users\\watso\\anaconda3\\envs\\mlenv\\lib\\site-packages\\sklearn\\base.py:338: UserWarning: Trying to unpickle estimator StandardScaler from version 0.24.1 when using version 1.0.2. This might lead to breaking code or invalid results. Use at your own risk. For more info please refer to:\n",
      "https://scikit-learn.org/stable/modules/model_persistence.html#security-maintainability-limitations\n",
      "  UserWarning,\n"
     ]
    },
    {
     "data": {
      "text/plain": [
       "<AxesSubplot:>"
      ]
     },
     "execution_count": 33,
     "metadata": {},
     "output_type": "execute_result"
    },
    {
     "data": {
      "image/png": "[encoded data removed]",
      "text/plain": [
       "<Figure size 432x288 with 1 Axes>"
      ]
     },
     "metadata": {
      "needs_background": "light"
     },
     "output_type": "display_data"
    }
   ],
   "source": [
    "symbol = 'AMC'\n",
    "days_to_plot = 60\n",
    "\n",
    "new_pred_df = load_and_predict_model(symbol)\n",
    "\n",
    "new_pred_df[['Actual','Prediction']].tail(days_to_plot).plot(use_index=True)"
   ]
  },
  {
   "cell_type": "code",
   "execution_count": null,
   "id": "3e6c9384-c50b-4232-b277-78a7da151247",
   "metadata": {},
   "outputs": [],
   "source": []
  }
 ],
 "metadata": {
  "kernelspec": {
   "display_name": "Python 3 (ipykernel)",
   "language": "python",
   "name": "python3"
  },
  "language_info": {
   "codemirror_mode": {
    "name": "ipython",
    "version": 3
   },
   "file_extension": ".py",
   "mimetype": "text/x-python",
   "name": "python",
   "nbconvert_exporter": "python",
   "pygments_lexer": "ipython3",
   "version": "3.7.11"
  }
 },
 "nbformat": 4,
 "nbformat_minor": 5
}
