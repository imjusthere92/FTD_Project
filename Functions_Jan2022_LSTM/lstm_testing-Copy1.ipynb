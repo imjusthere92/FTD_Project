{
 "cells": [
  {
   "cell_type": "code",
   "execution_count": 1,
   "id": "b66b81a5-5743-4c3b-841d-ae1bd23cfbe0",
   "metadata": {},
   "outputs": [],
   "source": [
    "## Following along with https://machinelearningmastery.com/how-to-develop-lstm-models-for-time-series-forecasting/\n",
    "## Using \"Multivariate Multi-Step LSTM Models\" Section\n",
    "\n",
    "## Helpful links\n",
    "## https://stackoverflow.com/questions/54354467/how-to-shape-large-dataframe-for-pythons-keras-lstm\n",
    "## https://towardsdatascience.com/how-to-reshape-data-and-do-regression-for-time-series-using-lstm-133dad96cd00"
   ]
  },
  {
   "cell_type": "code",
   "execution_count": 38,
   "id": "8822209a-32e6-4f66-95b0-f5786eee1a7a",
   "metadata": {},
   "outputs": [],
   "source": [
    "import pandas as pd\n",
    "import numpy as np\n",
    "from pathlib import Path\n",
    "\n",
    "from numpy import array\n",
    "from numpy import hstack \n",
    "\n",
    "from keras.models import Sequential\n",
    "from keras.layers import LSTM\n",
    "from keras.layers import Dense\n",
    "\n",
    "import hvplot.pandas\n",
    "\n",
    "import matplotlib.pyplot as plt"
   ]
  },
  {
   "cell_type": "code",
   "execution_count": 3,
   "id": "8d65cc36-b70f-4f80-9aea-7f7de912e0df",
   "metadata": {},
   "outputs": [],
   "source": [
    "## Load pickle for exports and imports of data  \n",
    "import pickle \n",
    "def load_obj(path):\n",
    "    with open(path, 'rb') as f:\n",
    "        return pickle.load(f)\n",
    "    \n",
    "def save_obj(obj, path ):\n",
    "    with open(path, 'wb') as f:\n",
    "        pickle.dump(obj, f, pickle.HIGHEST_PROTOCOL)"
   ]
  },
  {
   "cell_type": "code",
   "execution_count": 4,
   "id": "60c41cbd-3a43-4e3a-b933-ebf10c3874a1",
   "metadata": {},
   "outputs": [],
   "source": [
    "## Load a dataset \n",
    "symbol = 'GME'\n",
    "\n",
    "import_path = Path('../FilesExport_Complete_DFs_TI_noShift/'+symbol+'_TI_DF_no_shift.pkl')\n",
    "import_data = load_obj(import_path)\n",
    "dataframe = import_data[symbol]\n",
    "\n",
    "#import_data"
   ]
  },
  {
   "cell_type": "code",
   "execution_count": 5,
   "id": "6a3b3d7b-aedc-483f-8507-dc8be8a2b86c",
   "metadata": {},
   "outputs": [],
   "source": [
    "#dataframe.head()"
   ]
  },
  {
   "cell_type": "code",
   "execution_count": 6,
   "id": "e9b170d7-3402-47f5-85b0-0348bbb4ce53",
   "metadata": {},
   "outputs": [],
   "source": [
    "# from sklearn.preprocessing import MinMaxScaler\n",
    "# scaler = MinMaxScaler()\n",
    "\n",
    "# ## Fit scaler\n",
    "# scaler.fit(X_train)\n",
    "# X_train = scaler.transform(X_train)\n",
    "# X_test = scaler.transform(X_test)\n",
    "\n",
    "# scaler.fit(y_train)\n",
    "# y_train = scaler.transform(y_train)\n",
    "# y_test = scaler.transform(y_test)"
   ]
  },
  {
   "cell_type": "code",
   "execution_count": 7,
   "id": "4f468d1a-af32-4619-92d2-512fb9c452d3",
   "metadata": {},
   "outputs": [],
   "source": [
    "## Try changing length \n",
    "# len(dataframe) ## 1491\n",
    "\n",
    "# split = 1400*0.7\n",
    "# int(split)\n",
    "\n",
    "dataframe = dataframe.tail(1400)"
   ]
  },
  {
   "cell_type": "code",
   "execution_count": 8,
   "id": "aba0a557-9ee7-428a-8afc-d0de63129140",
   "metadata": {},
   "outputs": [],
   "source": [
    "df = dataframe.copy()\n",
    "df_close = df[['close']]\n",
    "df = df.drop(columns=['close','adjClose'])"
   ]
  },
  {
   "cell_type": "code",
   "execution_count": 9,
   "id": "b83b2aa3-d6ab-43d6-a8e0-b290920ff91c",
   "metadata": {},
   "outputs": [],
   "source": [
    "X = df\n",
    "y = df_close\n",
    "#X.head()"
   ]
  },
  {
   "cell_type": "code",
   "execution_count": 10,
   "id": "5fdf86ac-d9c9-4aad-8fcd-ed434564a6bf",
   "metadata": {},
   "outputs": [
    {
     "name": "stdout",
     "output_type": "stream",
     "text": [
      "20\n"
     ]
    }
   ],
   "source": [
    "i = 0\n",
    "for col in X.columns:\n",
    "    i += 1\n",
    "print(i) ## 20 features "
   ]
  },
  {
   "cell_type": "code",
   "execution_count": 19,
   "id": "32d12a3a-c758-4e50-8e0c-f12eb45f3a80",
   "metadata": {},
   "outputs": [],
   "source": [
    "## Split data\n",
    "split = int(0.7 * len(X)) + 1\n",
    "x_train = X[: split]\n",
    "x_test = X[split:]\n",
    "y_train = y[: split]\n",
    "y_test = y[split:]"
   ]
  },
  {
   "cell_type": "code",
   "execution_count": 20,
   "id": "d11b3873-cfb6-487f-84cd-d4d2a3afabdd",
   "metadata": {},
   "outputs": [
    {
     "data": {
      "text/plain": [
       "980"
      ]
     },
     "execution_count": 20,
     "metadata": {},
     "output_type": "execute_result"
    }
   ],
   "source": [
    "len(x_train)"
   ]
  },
  {
   "cell_type": "code",
   "execution_count": 21,
   "id": "2f0a355d-46c2-4bb9-8c3c-1759b5439b96",
   "metadata": {},
   "outputs": [],
   "source": [
    "## Scale data \n",
    "from sklearn.preprocessing import StandardScaler\n",
    "scaler_x = StandardScaler()\n",
    "scaler_y = StandardScaler()\n",
    "\n",
    "x_train_sc = scaler_x.fit_transform(x_train)\n",
    "x_test_sc = scaler_x.transform(x_test)\n",
    "y_train_sc = scaler_y.fit_transform(y_train)\n",
    "y_test_sc = scaler_y.transform(y_test)"
   ]
  },
  {
   "cell_type": "code",
   "execution_count": 22,
   "id": "8e83bc85-2768-4b48-b0e1-155e4497ca9a",
   "metadata": {},
   "outputs": [
    {
     "data": {
      "text/plain": [
       "980"
      ]
     },
     "execution_count": 22,
     "metadata": {},
     "output_type": "execute_result"
    }
   ],
   "source": [
    "len(x_train_sc)"
   ]
  },
  {
   "cell_type": "code",
   "execution_count": 23,
   "id": "13607ea4-daea-4941-aad6-5a19f952faf0",
   "metadata": {},
   "outputs": [
    {
     "data": {
      "text/plain": [
       "array([ 1.39777052,  1.38392754,  1.38695085, -0.43909168, -0.43909168,\n",
       "       -1.14313672, -0.53211119,  1.37284382, -0.53211119, -0.01092989,\n",
       "       -0.55213896, -0.22397642, -0.49751295, -0.41346139, -0.21884317,\n",
       "       -0.38773641,  0.5345931 , -1.25439832,  1.30502731,  0.12478208])"
      ]
     },
     "execution_count": 23,
     "metadata": {},
     "output_type": "execute_result"
    }
   ],
   "source": [
    "x_train_sc[0]"
   ]
  },
  {
   "cell_type": "code",
   "execution_count": 24,
   "id": "853b9859-a534-4251-b896-fc79f69503db",
   "metadata": {},
   "outputs": [
    {
     "data": {
      "text/plain": [
       "6953.333333333333"
      ]
     },
     "execution_count": 24,
     "metadata": {},
     "output_type": "execute_result"
    }
   ],
   "source": [
    "20860/3"
   ]
  },
  {
   "cell_type": "code",
   "execution_count": 25,
   "id": "6ccd84bf-f33f-4c4f-adf6-b125b262ced2",
   "metadata": {},
   "outputs": [],
   "source": [
    "##  \n",
    "num_steps = 5\n",
    "input_dim = 20\n",
    "output_dim = 1\n",
    "\n",
    "\n",
    "# x_train_shaped = np.reshape(x_train_sc,newshape=(-1,num_steps,input_dim))\n",
    "\n",
    "## It looks like a math thing - the length of the data likely needs to divide evenly (no decimals) for shaping\n",
    "## to occur properly. Changing the length of the dataframe and data got the data to reshape. "
   ]
  },
  {
   "cell_type": "code",
   "execution_count": 26,
   "id": "93fac2e5-a6c1-4401-93f5-e56db6b97530",
   "metadata": {},
   "outputs": [],
   "source": [
    "## Retry shaping \n",
    "\n",
    "## training set\n",
    "x_train_shaped = np.reshape(x_train_sc, newshape=(-1, num_steps, input_dim))\n",
    "y_train_shaped = np.reshape(y_train_sc, newshape=(-1, num_steps, output_dim))\n",
    "assert x_train_shaped.shape[0] == y_train_shaped.shape[0]\n",
    "## test set\n",
    "x_test_shaped = np.reshape(x_test_sc, newshape=(-1, num_steps, input_dim))\n",
    "y_test_shaped = np.reshape(y_test_sc, newshape=(-1, num_steps, output_dim))\n",
    "assert x_test_shaped.shape[0] == y_test_shaped.shape[0]"
   ]
  },
  {
   "cell_type": "code",
   "execution_count": 27,
   "id": "da9286ec-e0ea-4776-a249-200987bfa2ea",
   "metadata": {},
   "outputs": [],
   "source": [
    "## Attempt an LSTM Model "
   ]
  },
  {
   "cell_type": "code",
   "execution_count": 28,
   "id": "77717aa5-f3ca-4911-b798-4025e1e59c81",
   "metadata": {},
   "outputs": [],
   "source": [
    "model = Sequential()\n",
    "model.add(LSTM(units=20, activation='tanh', input_shape=(num_steps, input_dim), return_sequences=True))\n",
    "model.add(Dense(units=20, activation='relu'))\n",
    "model.add(Dense(units=1, activation='linear'))\n",
    "#adam = optimizers.Adam(lr=0.001)\n",
    "model.compile(optimizer='adam', loss='mse')"
   ]
  },
  {
   "cell_type": "code",
   "execution_count": 32,
   "id": "6a63d4a5-88d7-4891-bbee-a0003302462b",
   "metadata": {},
   "outputs": [
    {
     "name": "stdout",
     "output_type": "stream",
     "text": [
      "Epoch 1/10\n",
      "7/7 [==============================] - 0s 2ms/step - loss: 0.0926\n",
      "Epoch 2/10\n",
      "7/7 [==============================] - 0s 2ms/step - loss: 0.0859\n",
      "Epoch 3/10\n",
      "7/7 [==============================] - 0s 2ms/step - loss: 0.0802\n",
      "Epoch 4/10\n",
      "7/7 [==============================] - 0s 2ms/step - loss: 0.0750\n",
      "Epoch 5/10\n",
      "7/7 [==============================] - 0s 2ms/step - loss: 0.0700\n",
      "Epoch 6/10\n",
      "7/7 [==============================] - 0s 2ms/step - loss: 0.0652\n",
      "Epoch 7/10\n",
      "7/7 [==============================] - 0s 2ms/step - loss: 0.0609\n",
      "Epoch 8/10\n",
      "7/7 [==============================] - 0s 2ms/step - loss: 0.0564\n",
      "Epoch 9/10\n",
      "7/7 [==============================] - 0s 2ms/step - loss: 0.0524\n",
      "Epoch 10/10\n",
      "7/7 [==============================] - 0s 2ms/step - loss: 0.0488\n"
     ]
    },
    {
     "data": {
      "text/plain": [
       "<keras.callbacks.History at 0x2021b9e5488>"
      ]
     },
     "execution_count": 32,
     "metadata": {},
     "output_type": "execute_result"
    }
   ],
   "source": [
    "model.fit(x_train_shaped, y_train_shaped, epochs=10)"
   ]
  },
  {
   "cell_type": "code",
   "execution_count": 33,
   "id": "3946ae84-8523-440e-ac77-2a6dd24eb602",
   "metadata": {},
   "outputs": [
    {
     "name": "stdout",
     "output_type": "stream",
     "text": [
      "3/3 [==============================] - 0s 993us/step - loss: 222.4779\n"
     ]
    },
    {
     "data": {
      "text/plain": [
       "222.4778594970703"
      ]
     },
     "execution_count": 33,
     "metadata": {},
     "output_type": "execute_result"
    }
   ],
   "source": [
    "model.evaluate(x_test_shaped,y_test_shaped)\n",
    "\n",
    "#test_predict = model.predict(x_test_shaped)"
   ]
  },
  {
   "cell_type": "code",
   "execution_count": 50,
   "id": "f4f06441-ae49-4c55-ae7f-31f1213a88c4",
   "metadata": {},
   "outputs": [],
   "source": [
    "predicted = model.predict(x_test_shaped)\n",
    "#predicted"
   ]
  },
  {
   "cell_type": "code",
   "execution_count": 51,
   "id": "82e12151-449b-4a92-ac1f-80b6fb823d9d",
   "metadata": {},
   "outputs": [],
   "source": [
    "#predicted_prices = scaler_y.inverse_transform(predicted)\n",
    "real_prices = scaler_y.inverse_transform(y_test)"
   ]
  },
  {
   "cell_type": "code",
   "execution_count": 53,
   "id": "5ae83978-7fc8-4a7f-b0df-ae592d76d911",
   "metadata": {},
   "outputs": [
    {
     "data": {
      "text/plain": [
       "[<matplotlib.lines.Line2D at 0x2021d2383c8>]"
      ]
     },
     "execution_count": 53,
     "metadata": {},
     "output_type": "execute_result"
    },
    {
     "data": {
      "image/png": "[encoded data removed]",
      "text/plain": [
       "<Figure size 432x288 with 1 Axes>"
      ]
     },
     "metadata": {
      "needs_background": "light"
     },
     "output_type": "display_data"
    }
   ],
   "source": [
    "plt.plot(real_prices)"
   ]
  },
  {
   "cell_type": "code",
   "execution_count": null,
   "id": "3e968fb2-3e95-4ab8-9cdd-b9e3fd69923e",
   "metadata": {},
   "outputs": [],
   "source": []
  }
 ],
 "metadata": {
  "kernelspec": {
   "display_name": "Python 3 (ipykernel)",
   "language": "python",
   "name": "python3"
  },
  "language_info": {
   "codemirror_mode": {
    "name": "ipython",
    "version": 3
   },
   "file_extension": ".py",
   "mimetype": "text/x-python",
   "name": "python",
   "nbconvert_exporter": "python",
   "pygments_lexer": "ipython3",
   "version": "3.7.11"
  }
 },
 "nbformat": 4,
 "nbformat_minor": 5
}
