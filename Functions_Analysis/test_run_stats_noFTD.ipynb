{
 "cells": [
  {
   "cell_type": "code",
   "execution_count": 1,
   "id": "5ccebf7d-4752-44bb-a582-fc3a5ca7ec77",
   "metadata": {},
   "outputs": [
    {
     "data": {
      "text/plain": [
       "True"
      ]
     },
     "execution_count": 1,
     "metadata": {},
     "output_type": "execute_result"
    }
   ],
   "source": [
    "import pandas as pd\n",
    "import numpy as np\n",
    "\n",
    "import glob\n",
    "\n",
    "from pathlib import Path\n",
    "import csv\n",
    "\n",
    "import os\n",
    "import requests\n",
    "import json\n",
    "\n",
    "import quandl\n",
    "#from iexfinance.stocks import Stock\n",
    "\n",
    "from dotenv import load_dotenv\n",
    "load_dotenv()"
   ]
  },
  {
   "cell_type": "code",
   "execution_count": 2,
   "id": "8b78e07e-4bc6-44f9-9db1-02e0cf89f94b",
   "metadata": {},
   "outputs": [],
   "source": [
    "## Stats Libraries\n",
    "from collections import Counter\n",
    "from sklearn.linear_model import LinearRegression\n",
    "# from sklearn.ensemble import RandomForestClassifier\n",
    "# from sklearn.model_selection import train_test_split\n",
    "# from sklearn.preprocessing import StandardScaler\n",
    "# from sklearn.metrics import confusion_matrix, accuracy_score, classification_report\n",
    "# from imblearn.metrics import classification_report_imbalanced\n",
    "\n",
    "import statsmodels.api as sm\n",
    "from statsmodels.tsa.arima_model import ARMA\n",
    "\n",
    "%matplotlib inline\n",
    "import matplotlib.pyplot as plt"
   ]
  },
  {
   "cell_type": "code",
   "execution_count": 3,
   "id": "423bb66e-79be-42f7-af7c-7ddf877329da",
   "metadata": {},
   "outputs": [],
   "source": [
    "## Goal of this file is to load price data for a given stock, and run historical stat analysis using the Closing Price "
   ]
  },
  {
   "cell_type": "code",
   "execution_count": 4,
   "id": "e1bf7682-cccb-4455-96a1-942fef41080b",
   "metadata": {},
   "outputs": [],
   "source": [
    "## Constants \n",
    "\n",
    "## Set start date variable - dataframes will be created starting from this date\n",
    "start_date = '2020-01-01'\n",
    "end_date = '2021-11-09'\n",
    "default_date_range = '2y' ## Default Range for IEX functions - don't need more at the moment"
   ]
  },
  {
   "cell_type": "code",
   "execution_count": 5,
   "id": "f5e0f2e8-368b-4fb5-8e6b-e64fa30b8941",
   "metadata": {},
   "outputs": [
    {
     "data": {
      "text/plain": [
       "<Response [200]>"
      ]
     },
     "execution_count": 5,
     "metadata": {},
     "output_type": "execute_result"
    }
   ],
   "source": [
    "## QUANDL/NASDAQ \n",
    "nsdq_api_key = os.environ.get('NASDAQ_API_KEY')\n",
    "base_url_nsdq = 'https://data.nasdaq.com/api/v3/datasets/FINRA/'\n",
    "\n",
    "# ## Test iexfinance.stocks library setup and stability - should not be needed for this file \n",
    "# iex_token = os.getenv(\"IEX_TOKEN\")\n",
    "# iex_api_ver = os.getenv(\"IEX_API_VERSION\")\n",
    "# iex_out_form = os.getenv(\"IEX_OUTPUT_FORMAT\")\n",
    "\n",
    "iex_api_key = os.getenv(\"IEX_API_KEY\")\n",
    "iex_test_api_key = os.getenv(\"IEX_TEST_API_KEY\")\n",
    "\n",
    "real_token = iex_api_key\n",
    "test_token = iex_test_api_key\n",
    "\n",
    "base_url_iex = 'https://cloud.iexapis.com/stable/'\n",
    "sandbox_url = 'https://sandbox.iexapis.com/stable/'\n",
    "\n",
    "## IEX Status Test \n",
    "test_resp = requests.get(base_url_iex + 'status')\n",
    "test_resp"
   ]
  },
  {
   "cell_type": "code",
   "execution_count": 6,
   "id": "73b3f2ae-0524-42fe-8c66-457cbc3cc9ad",
   "metadata": {},
   "outputs": [],
   "source": [
    "# ## Check for Real vs Sandbox - throw error if Real \n",
    "# ## Check sandbox vs stable \n",
    "\n",
    "# #error_variable = iex_api_ver\n",
    "\n",
    "# if iex_api_ver == 'stable':\n",
    "#     print(error_variable)                  ## This file isn't meant for Real Calls at-the-moment \n",
    "# elif iex_api_ver == 'iexcloud-sandbox':\n",
    "#     print('iexcloud-sandbox TESTING')\n",
    "# else:\n",
    "#     print('PROBLEM')"
   ]
  },
  {
   "cell_type": "code",
   "execution_count": 7,
   "id": "5e2187d6-08fd-4d17-b0e6-b3281b51f2b0",
   "metadata": {},
   "outputs": [],
   "source": [
    "def get_iex_data(symbol,date_range=default_date_range):\n",
    "    iex_data = Stock(symbol).get_historical_prices(range='2y',chartCloseOnly=True)\n",
    "\n",
    "    ## This names the date/index as \"Date\"\n",
    "    iex_data.reset_index(inplace=True)\n",
    "    iex_data.rename(columns={'index':'Date'},inplace=True)\n",
    "    iex_data['Date'] = pd.to_datetime(iex_data['Date'])\n",
    "    iex_data.set_index('Date',inplace=True)\n",
    "    \n",
    "    return iex_data\n",
    "\n",
    "def slice_iex_by_date(start_date1=start_date,end_date1=end_date):\n",
    "    iex_data = iex_data[start_date1:end_date1]\n",
    "    return iex_data\n",
    "\n",
    "## IEX Calls and Functions \n",
    "\n",
    "def get_chart(stock_ticker, chart_range=default_date_range,token=test_token):\n",
    "    \n",
    "    if token == test_token:\n",
    "        resp_data = requests.get(sandbox_url+'stock/'+stock_ticker+'/chart/'+chart_range+'?chartCloseOnly=true&token='+test_token)\n",
    "        df = pd.DataFrame(resp_data.json())\n",
    "    elif token == real_token:\n",
    "        resp_data = requests.get(base_url_iex+'stock/'+stock_ticker+'/chart/'+chart_range+'?chartCloseOnly=true&token='+real_token)\n",
    "        df = pd.DataFrame(resp_data.json())\n",
    "\n",
    "    df.rename(columns={'date':'Date'},inplace=True)\n",
    "    df['Date'] = pd.to_datetime(df['Date'])\n",
    "    df.set_index('Date',inplace=True)\n",
    "    \n",
    "    return df"
   ]
  },
  {
   "cell_type": "code",
   "execution_count": 8,
   "id": "63fa71b8-8dfb-4704-9eb7-52247bb22d60",
   "metadata": {},
   "outputs": [
    {
     "data": {
      "text/html": [
       "<div>\n",
       "<style scoped>\n",
       "    .dataframe tbody tr th:only-of-type {\n",
       "        vertical-align: middle;\n",
       "    }\n",
       "\n",
       "    .dataframe tbody tr th {\n",
       "        vertical-align: top;\n",
       "    }\n",
       "\n",
       "    .dataframe thead th {\n",
       "        text-align: right;\n",
       "    }\n",
       "</style>\n",
       "<table border=\"1\" class=\"dataframe\">\n",
       "  <thead>\n",
       "    <tr style=\"text-align: right;\">\n",
       "      <th></th>\n",
       "      <th>close</th>\n",
       "      <th>volume</th>\n",
       "      <th>change</th>\n",
       "      <th>changePercent</th>\n",
       "      <th>changeOverTime</th>\n",
       "    </tr>\n",
       "    <tr>\n",
       "      <th>Date</th>\n",
       "      <th></th>\n",
       "      <th></th>\n",
       "      <th></th>\n",
       "      <th></th>\n",
       "      <th></th>\n",
       "    </tr>\n",
       "  </thead>\n",
       "  <tbody>\n",
       "    <tr>\n",
       "      <th>2019-11-11</th>\n",
       "      <td>6.02</td>\n",
       "      <td>3109457</td>\n",
       "      <td>0.00</td>\n",
       "      <td>0.0000</td>\n",
       "      <td>0.000000</td>\n",
       "    </tr>\n",
       "    <tr>\n",
       "      <th>2019-11-12</th>\n",
       "      <td>5.92</td>\n",
       "      <td>1834485</td>\n",
       "      <td>-0.10</td>\n",
       "      <td>-0.0166</td>\n",
       "      <td>-0.016611</td>\n",
       "    </tr>\n",
       "    <tr>\n",
       "      <th>2019-11-13</th>\n",
       "      <td>5.94</td>\n",
       "      <td>1533919</td>\n",
       "      <td>0.02</td>\n",
       "      <td>0.0034</td>\n",
       "      <td>-0.013289</td>\n",
       "    </tr>\n",
       "    <tr>\n",
       "      <th>2019-11-14</th>\n",
       "      <td>5.98</td>\n",
       "      <td>1708735</td>\n",
       "      <td>0.04</td>\n",
       "      <td>0.0067</td>\n",
       "      <td>-0.006645</td>\n",
       "    </tr>\n",
       "    <tr>\n",
       "      <th>2019-11-15</th>\n",
       "      <td>5.88</td>\n",
       "      <td>2166051</td>\n",
       "      <td>-0.10</td>\n",
       "      <td>-0.0167</td>\n",
       "      <td>-0.023256</td>\n",
       "    </tr>\n",
       "    <tr>\n",
       "      <th>...</th>\n",
       "      <td>...</td>\n",
       "      <td>...</td>\n",
       "      <td>...</td>\n",
       "      <td>...</td>\n",
       "      <td>...</td>\n",
       "    </tr>\n",
       "    <tr>\n",
       "      <th>2021-11-02</th>\n",
       "      <td>206.99</td>\n",
       "      <td>3882336</td>\n",
       "      <td>6.90</td>\n",
       "      <td>0.0345</td>\n",
       "      <td>33.383721</td>\n",
       "    </tr>\n",
       "    <tr>\n",
       "      <th>2021-11-03</th>\n",
       "      <td>218.33</td>\n",
       "      <td>11265594</td>\n",
       "      <td>11.34</td>\n",
       "      <td>0.0548</td>\n",
       "      <td>35.267442</td>\n",
       "    </tr>\n",
       "    <tr>\n",
       "      <th>2021-11-04</th>\n",
       "      <td>217.84</td>\n",
       "      <td>2907976</td>\n",
       "      <td>-0.49</td>\n",
       "      <td>-0.0022</td>\n",
       "      <td>35.186047</td>\n",
       "    </tr>\n",
       "    <tr>\n",
       "      <th>2021-11-05</th>\n",
       "      <td>213.25</td>\n",
       "      <td>1810717</td>\n",
       "      <td>-4.59</td>\n",
       "      <td>-0.0211</td>\n",
       "      <td>34.423588</td>\n",
       "    </tr>\n",
       "    <tr>\n",
       "      <th>2021-11-08</th>\n",
       "      <td>218.64</td>\n",
       "      <td>2157912</td>\n",
       "      <td>5.39</td>\n",
       "      <td>0.0253</td>\n",
       "      <td>35.318937</td>\n",
       "    </tr>\n",
       "  </tbody>\n",
       "</table>\n",
       "<p>503 rows × 5 columns</p>\n",
       "</div>"
      ],
      "text/plain": [
       "             close    volume  change  changePercent  changeOverTime\n",
       "Date                                                               \n",
       "2019-11-11    6.02   3109457    0.00         0.0000        0.000000\n",
       "2019-11-12    5.92   1834485   -0.10        -0.0166       -0.016611\n",
       "2019-11-13    5.94   1533919    0.02         0.0034       -0.013289\n",
       "2019-11-14    5.98   1708735    0.04         0.0067       -0.006645\n",
       "2019-11-15    5.88   2166051   -0.10        -0.0167       -0.023256\n",
       "...            ...       ...     ...            ...             ...\n",
       "2021-11-02  206.99   3882336    6.90         0.0345       33.383721\n",
       "2021-11-03  218.33  11265594   11.34         0.0548       35.267442\n",
       "2021-11-04  217.84   2907976   -0.49        -0.0022       35.186047\n",
       "2021-11-05  213.25   1810717   -4.59        -0.0211       34.423588\n",
       "2021-11-08  218.64   2157912    5.39         0.0253       35.318937\n",
       "\n",
       "[503 rows x 5 columns]"
      ]
     },
     "execution_count": 8,
     "metadata": {},
     "output_type": "execute_result"
    }
   ],
   "source": [
    "token_status = real_token\n",
    "\n",
    "gme_df = get_chart('GME',token=token_status)\n",
    "gme_df"
   ]
  },
  {
   "cell_type": "code",
   "execution_count": 9,
   "id": "080c98d2-ec35-4e4f-a692-7d64719988a3",
   "metadata": {},
   "outputs": [],
   "source": [
    "## Decomposition using a Hodrick-Prescott Filter\n",
    "\n",
    "\n",
    "\n",
    "# Apply the Hodrick-Prescott Filter by decomposing the exchange rate price into two separate series:\n",
    "# YOUR CODE HERE!\n",
    "ts_noise, ts_trend = sm.tsa.filters.hpfilter(gme_df['close'])"
   ]
  },
  {
   "cell_type": "code",
   "execution_count": 10,
   "id": "a8954803-a2fe-436b-a4f3-5b48b4e118bc",
   "metadata": {},
   "outputs": [
    {
     "name": "stderr",
     "output_type": "stream",
     "text": [
      "C:\\Users\\watso\\anaconda3\\envs\\mlenv\\lib\\site-packages\\ipykernel_launcher.py:4: SettingWithCopyWarning: \n",
      "A value is trying to be set on a copy of a slice from a DataFrame.\n",
      "Try using .loc[row_indexer,col_indexer] = value instead\n",
      "\n",
      "See the caveats in the documentation: https://pandas.pydata.org/pandas-docs/stable/user_guide/indexing.html#returning-a-view-versus-a-copy\n",
      "  after removing the cwd from sys.path.\n",
      "C:\\Users\\watso\\anaconda3\\envs\\mlenv\\lib\\site-packages\\ipykernel_launcher.py:5: SettingWithCopyWarning: \n",
      "A value is trying to be set on a copy of a slice from a DataFrame.\n",
      "Try using .loc[row_indexer,col_indexer] = value instead\n",
      "\n",
      "See the caveats in the documentation: https://pandas.pydata.org/pandas-docs/stable/user_guide/indexing.html#returning-a-view-versus-a-copy\n",
      "  \"\"\"\n"
     ]
    },
    {
     "data": {
      "text/html": [
       "<div>\n",
       "<style scoped>\n",
       "    .dataframe tbody tr th:only-of-type {\n",
       "        vertical-align: middle;\n",
       "    }\n",
       "\n",
       "    .dataframe tbody tr th {\n",
       "        vertical-align: top;\n",
       "    }\n",
       "\n",
       "    .dataframe thead th {\n",
       "        text-align: right;\n",
       "    }\n",
       "</style>\n",
       "<table border=\"1\" class=\"dataframe\">\n",
       "  <thead>\n",
       "    <tr style=\"text-align: right;\">\n",
       "      <th></th>\n",
       "      <th>close</th>\n",
       "      <th>noise</th>\n",
       "      <th>trend</th>\n",
       "    </tr>\n",
       "    <tr>\n",
       "      <th>Date</th>\n",
       "      <th></th>\n",
       "      <th></th>\n",
       "      <th></th>\n",
       "    </tr>\n",
       "  </thead>\n",
       "  <tbody>\n",
       "    <tr>\n",
       "      <th>2019-11-11</th>\n",
       "      <td>6.02</td>\n",
       "      <td>0.204801</td>\n",
       "      <td>5.815199</td>\n",
       "    </tr>\n",
       "    <tr>\n",
       "      <th>2019-11-12</th>\n",
       "      <td>5.92</td>\n",
       "      <td>0.089898</td>\n",
       "      <td>5.830102</td>\n",
       "    </tr>\n",
       "    <tr>\n",
       "      <th>2019-11-13</th>\n",
       "      <td>5.94</td>\n",
       "      <td>0.094867</td>\n",
       "      <td>5.845133</td>\n",
       "    </tr>\n",
       "    <tr>\n",
       "      <th>2019-11-14</th>\n",
       "      <td>5.98</td>\n",
       "      <td>0.119524</td>\n",
       "      <td>5.860476</td>\n",
       "    </tr>\n",
       "    <tr>\n",
       "      <th>2019-11-15</th>\n",
       "      <td>5.88</td>\n",
       "      <td>0.003625</td>\n",
       "      <td>5.876375</td>\n",
       "    </tr>\n",
       "  </tbody>\n",
       "</table>\n",
       "</div>"
      ],
      "text/plain": [
       "            close     noise     trend\n",
       "Date                                 \n",
       "2019-11-11   6.02  0.204801  5.815199\n",
       "2019-11-12   5.92  0.089898  5.830102\n",
       "2019-11-13   5.94  0.094867  5.845133\n",
       "2019-11-14   5.98  0.119524  5.860476\n",
       "2019-11-15   5.88  0.003625  5.876375"
      ]
     },
     "execution_count": 10,
     "metadata": {},
     "output_type": "execute_result"
    }
   ],
   "source": [
    "# Create a dataframe of just the exchange rate price, and add columns for \"noise\" and \"trend\" series from above:\n",
    "# YOUR CODE HERE!\n",
    "new_df = gme_df[['close']]\n",
    "new_df['noise'] = ts_noise\n",
    "new_df['trend'] = ts_trend\n",
    "new_df.head()"
   ]
  },
  {
   "cell_type": "code",
   "execution_count": 11,
   "id": "7f10b2bf-2c69-4c94-9ed4-15bf00c906c3",
   "metadata": {},
   "outputs": [
    {
     "data": {
      "image/png": "[encoded data removed]",
      "text/plain": [
       "<Figure size 432x288 with 1 Axes>"
      ]
     },
     "metadata": {
      "needs_background": "light"
     },
     "output_type": "display_data"
    }
   ],
   "source": [
    "# Plot the Exchange Rate Price vs. the Trend for 2015 to the present\n",
    "# YOUR CODE HERE!\n",
    "\n",
    "plt.plot(new_df['close'],label='close')\n",
    "plt.plot(new_df['trend'],label='trend')\n",
    "plt.xlabel('Date')\n",
    "plt.ylabel('Close')\n",
    "plt.title('Close vs. Trend')\n",
    "plt.legend()\n",
    "plt.show()"
   ]
  },
  {
   "cell_type": "code",
   "execution_count": 12,
   "id": "8312989e-914f-45a5-9657-ad3bf711933c",
   "metadata": {},
   "outputs": [
    {
     "data": {
      "text/plain": [
       "<AxesSubplot:xlabel='Date'>"
      ]
     },
     "execution_count": 12,
     "metadata": {},
     "output_type": "execute_result"
    },
    {
     "data": {
      "image/png": "[encoded data removed]",
      "text/plain": [
       "<Figure size 432x288 with 1 Axes>"
      ]
     },
     "metadata": {
      "needs_background": "light"
     },
     "output_type": "display_data"
    }
   ],
   "source": [
    "# Plot the Settle Noise\n",
    "# YOUR CODE HERE!\n",
    "ts_noise.plot()"
   ]
  },
  {
   "cell_type": "code",
   "execution_count": 13,
   "id": "bb915bbf-67a3-4a73-8188-6ffd96ab977d",
   "metadata": {},
   "outputs": [
    {
     "data": {
      "text/html": [
       "<div>\n",
       "<style scoped>\n",
       "    .dataframe tbody tr th:only-of-type {\n",
       "        vertical-align: middle;\n",
       "    }\n",
       "\n",
       "    .dataframe tbody tr th {\n",
       "        vertical-align: top;\n",
       "    }\n",
       "\n",
       "    .dataframe thead th {\n",
       "        text-align: right;\n",
       "    }\n",
       "</style>\n",
       "<table border=\"1\" class=\"dataframe\">\n",
       "  <thead>\n",
       "    <tr style=\"text-align: right;\">\n",
       "      <th></th>\n",
       "      <th>close</th>\n",
       "    </tr>\n",
       "    <tr>\n",
       "      <th>Date</th>\n",
       "      <th></th>\n",
       "    </tr>\n",
       "  </thead>\n",
       "  <tbody>\n",
       "    <tr>\n",
       "      <th>2021-11-02</th>\n",
       "      <td>3.448448</td>\n",
       "    </tr>\n",
       "    <tr>\n",
       "      <th>2021-11-03</th>\n",
       "      <td>5.478526</td>\n",
       "    </tr>\n",
       "    <tr>\n",
       "      <th>2021-11-04</th>\n",
       "      <td>-0.224431</td>\n",
       "    </tr>\n",
       "    <tr>\n",
       "      <th>2021-11-05</th>\n",
       "      <td>-2.107051</td>\n",
       "    </tr>\n",
       "    <tr>\n",
       "      <th>2021-11-08</th>\n",
       "      <td>2.527550</td>\n",
       "    </tr>\n",
       "  </tbody>\n",
       "</table>\n",
       "</div>"
      ],
      "text/plain": [
       "               close\n",
       "Date                \n",
       "2021-11-02  3.448448\n",
       "2021-11-03  5.478526\n",
       "2021-11-04 -0.224431\n",
       "2021-11-05 -2.107051\n",
       "2021-11-08  2.527550"
      ]
     },
     "execution_count": 13,
     "metadata": {},
     "output_type": "execute_result"
    }
   ],
   "source": [
    "## Forecasting Resturns using an ARMA Model \n",
    "\n",
    "# Create a series using \"Price\" percentage returns, drop any nan\"s, and check the results:\n",
    "# (Make sure to multiply the pct_change() results by 100)\n",
    "# In this case, you may have to replace inf, -inf values with np.nan\"s\n",
    "returns = (gme_df[[\"close\"]].pct_change() * 100)\n",
    "returns = returns.replace(-np.inf, np.nan).dropna()\n",
    "returns.tail()"
   ]
  },
  {
   "cell_type": "code",
   "execution_count": 14,
   "id": "7c1ad929-abbe-4d28-93a7-4e8bdf9814e9",
   "metadata": {},
   "outputs": [
    {
     "name": "stderr",
     "output_type": "stream",
     "text": [
      "C:\\Users\\watso\\anaconda3\\envs\\mlenv\\lib\\site-packages\\statsmodels\\tsa\\arima_model.py:472: FutureWarning: \n",
      "statsmodels.tsa.arima_model.ARMA and statsmodels.tsa.arima_model.ARIMA have\n",
      "been deprecated in favor of statsmodels.tsa.arima.model.ARIMA (note the .\n",
      "between arima and model) and\n",
      "statsmodels.tsa.SARIMAX. These will be removed after the 0.12 release.\n",
      "\n",
      "statsmodels.tsa.arima.model.ARIMA makes use of the statespace framework and\n",
      "is both well tested and maintained.\n",
      "\n",
      "To silence this warning and continue using ARMA and ARIMA until they are\n",
      "removed, use:\n",
      "\n",
      "import warnings\n",
      "warnings.filterwarnings('ignore', 'statsmodels.tsa.arima_model.ARMA',\n",
      "                        FutureWarning)\n",
      "warnings.filterwarnings('ignore', 'statsmodels.tsa.arima_model.ARIMA',\n",
      "                        FutureWarning)\n",
      "\n",
      "  warnings.warn(ARIMA_DEPRECATION_WARN, FutureWarning)\n",
      "C:\\Users\\watso\\anaconda3\\envs\\mlenv\\lib\\site-packages\\statsmodels\\tsa\\base\\tsa_model.py:583: ValueWarning: A date index has been provided, but it has no associated frequency information and so will be ignored when e.g. forecasting.\n",
      "  ' ignored when e.g. forecasting.', ValueWarning)\n"
     ]
    }
   ],
   "source": [
    "# Estimate and ARMA model using statsmodels (use order=(2, 1))\n",
    "# YOUR CODE HERE!\n",
    "model = ARMA(returns['close'], order=(2,1))\n",
    "# Fit the model and assign it to a variable called results\n",
    "# YOUR CODE HERE!\n",
    "results = model.fit()"
   ]
  },
  {
   "cell_type": "code",
   "execution_count": 15,
   "id": "d57ab7f6-6f4e-4242-88ed-73851ae731bb",
   "metadata": {},
   "outputs": [
    {
     "data": {
      "text/html": [
       "<table class=\"simpletable\">\n",
       "<caption>ARMA Model Results</caption>\n",
       "<tr>\n",
       "  <th>Dep. Variable:</th>       <td>close</td>      <th>  No. Observations:  </th>    <td>502</td>   \n",
       "</tr>\n",
       "<tr>\n",
       "  <th>Model:</th>            <td>ARMA(2, 1)</td>    <th>  Log Likelihood     </th> <td>-1994.348</td>\n",
       "</tr>\n",
       "<tr>\n",
       "  <th>Method:</th>             <td>css-mle</td>     <th>  S.D. of innovations</th>  <td>12.856</td>  \n",
       "</tr>\n",
       "<tr>\n",
       "  <th>Date:</th>          <td>Wed, 10 Nov 2021</td> <th>  AIC                </th> <td>3998.696</td> \n",
       "</tr>\n",
       "<tr>\n",
       "  <th>Time:</th>              <td>01:44:54</td>     <th>  BIC                </th> <td>4019.789</td> \n",
       "</tr>\n",
       "<tr>\n",
       "  <th>Sample:</th>                <td>0</td>        <th>  HQIC               </th> <td>4006.971</td> \n",
       "</tr>\n",
       "<tr>\n",
       "  <th></th>                       <td> </td>        <th>                     </th>     <td> </td>    \n",
       "</tr>\n",
       "</table>\n",
       "<table class=\"simpletable\">\n",
       "<tr>\n",
       "       <td></td>          <th>coef</th>     <th>std err</th>      <th>z</th>      <th>P>|z|</th>  <th>[0.025</th>    <th>0.975]</th>  \n",
       "</tr>\n",
       "<tr>\n",
       "  <th>const</th>       <td>    1.4180</td> <td>    0.786</td> <td>    1.804</td> <td> 0.071</td> <td>   -0.123</td> <td>    2.959</td>\n",
       "</tr>\n",
       "<tr>\n",
       "  <th>ar.L1.close</th> <td>    0.3028</td> <td>    0.133</td> <td>    2.282</td> <td> 0.023</td> <td>    0.043</td> <td>    0.563</td>\n",
       "</tr>\n",
       "<tr>\n",
       "  <th>ar.L2.close</th> <td>    0.1474</td> <td>    0.047</td> <td>    3.166</td> <td> 0.002</td> <td>    0.056</td> <td>    0.239</td>\n",
       "</tr>\n",
       "<tr>\n",
       "  <th>ma.L1.close</th> <td>   -0.2456</td> <td>    0.129</td> <td>   -1.911</td> <td> 0.056</td> <td>   -0.498</td> <td>    0.006</td>\n",
       "</tr>\n",
       "</table>\n",
       "<table class=\"simpletable\">\n",
       "<caption>Roots</caption>\n",
       "<tr>\n",
       "    <td></td>   <th>            Real</th>  <th>         Imaginary</th> <th>         Modulus</th>  <th>        Frequency</th>\n",
       "</tr>\n",
       "<tr>\n",
       "  <th>AR.1</th> <td>           1.7728</td> <td>          +0.0000j</td> <td>           1.7728</td> <td>           0.0000</td>\n",
       "</tr>\n",
       "<tr>\n",
       "  <th>AR.2</th> <td>          -3.8268</td> <td>          +0.0000j</td> <td>           3.8268</td> <td>           0.5000</td>\n",
       "</tr>\n",
       "<tr>\n",
       "  <th>MA.1</th> <td>           4.0720</td> <td>          +0.0000j</td> <td>           4.0720</td> <td>           0.0000</td>\n",
       "</tr>\n",
       "</table>"
      ],
      "text/plain": [
       "<class 'statsmodels.iolib.summary.Summary'>\n",
       "\"\"\"\n",
       "                              ARMA Model Results                              \n",
       "==============================================================================\n",
       "Dep. Variable:                  close   No. Observations:                  502\n",
       "Model:                     ARMA(2, 1)   Log Likelihood               -1994.348\n",
       "Method:                       css-mle   S.D. of innovations             12.856\n",
       "Date:                Wed, 10 Nov 2021   AIC                           3998.696\n",
       "Time:                        01:44:54   BIC                           4019.789\n",
       "Sample:                             0   HQIC                          4006.971\n",
       "                                                                              \n",
       "===============================================================================\n",
       "                  coef    std err          z      P>|z|      [0.025      0.975]\n",
       "-------------------------------------------------------------------------------\n",
       "const           1.4180      0.786      1.804      0.071      -0.123       2.959\n",
       "ar.L1.close     0.3028      0.133      2.282      0.023       0.043       0.563\n",
       "ar.L2.close     0.1474      0.047      3.166      0.002       0.056       0.239\n",
       "ma.L1.close    -0.2456      0.129     -1.911      0.056      -0.498       0.006\n",
       "                                    Roots                                    \n",
       "=============================================================================\n",
       "                  Real          Imaginary           Modulus         Frequency\n",
       "-----------------------------------------------------------------------------\n",
       "AR.1            1.7728           +0.0000j            1.7728            0.0000\n",
       "AR.2           -3.8268           +0.0000j            3.8268            0.5000\n",
       "MA.1            4.0720           +0.0000j            4.0720            0.0000\n",
       "-----------------------------------------------------------------------------\n",
       "\"\"\""
      ]
     },
     "execution_count": 15,
     "metadata": {},
     "output_type": "execute_result"
    }
   ],
   "source": [
    "results.summary()"
   ]
  },
  {
   "cell_type": "code",
   "execution_count": 16,
   "id": "4ef814a9-734c-4c54-beb0-06e429060979",
   "metadata": {},
   "outputs": [
    {
     "data": {
      "text/plain": [
       "<AxesSubplot:title={'center':'5 Day Returns Forecast'}>"
      ]
     },
     "execution_count": 16,
     "metadata": {},
     "output_type": "execute_result"
    },
    {
     "data": {
      "image/png": "[encoded data removed]",
      "text/plain": [
       "<Figure size 432x288 with 1 Axes>"
      ]
     },
     "metadata": {
      "needs_background": "light"
     },
     "output_type": "display_data"
    }
   ],
   "source": [
    "pd.DataFrame(results.forecast(steps=5)[0]).plot(title=\"5 Day Returns Forecast\")"
   ]
  },
  {
   "cell_type": "code",
   "execution_count": null,
   "id": "e73bd9f8-9e5d-44f8-b01e-6110b772293d",
   "metadata": {},
   "outputs": [],
   "source": []
  },
  {
   "cell_type": "code",
   "execution_count": null,
   "id": "fc1ab057-8349-4ab5-b735-ebd44cc824de",
   "metadata": {},
   "outputs": [],
   "source": []
  },
  {
   "cell_type": "code",
   "execution_count": 17,
   "id": "3bab6865-7496-4edf-b27b-4e548bd6e38d",
   "metadata": {},
   "outputs": [
    {
     "data": {
      "text/html": [
       "<div>\n",
       "<style scoped>\n",
       "    .dataframe tbody tr th:only-of-type {\n",
       "        vertical-align: middle;\n",
       "    }\n",
       "\n",
       "    .dataframe tbody tr th {\n",
       "        vertical-align: top;\n",
       "    }\n",
       "\n",
       "    .dataframe thead th {\n",
       "        text-align: right;\n",
       "    }\n",
       "</style>\n",
       "<table border=\"1\" class=\"dataframe\">\n",
       "  <thead>\n",
       "    <tr style=\"text-align: right;\">\n",
       "      <th></th>\n",
       "      <th>Date</th>\n",
       "      <th>close</th>\n",
       "      <th>volume</th>\n",
       "      <th>change</th>\n",
       "      <th>changePercent</th>\n",
       "      <th>changeOverTime</th>\n",
       "      <th>Return</th>\n",
       "      <th>Lagged_Return</th>\n",
       "    </tr>\n",
       "  </thead>\n",
       "  <tbody>\n",
       "    <tr>\n",
       "      <th>0</th>\n",
       "      <td>2019-11-13</td>\n",
       "      <td>5.94</td>\n",
       "      <td>1533919</td>\n",
       "      <td>0.02</td>\n",
       "      <td>0.0034</td>\n",
       "      <td>-0.013289</td>\n",
       "      <td>0.337838</td>\n",
       "      <td>-1.661130</td>\n",
       "    </tr>\n",
       "    <tr>\n",
       "      <th>1</th>\n",
       "      <td>2019-11-14</td>\n",
       "      <td>5.98</td>\n",
       "      <td>1708735</td>\n",
       "      <td>0.04</td>\n",
       "      <td>0.0067</td>\n",
       "      <td>-0.006645</td>\n",
       "      <td>0.673401</td>\n",
       "      <td>0.337838</td>\n",
       "    </tr>\n",
       "    <tr>\n",
       "      <th>2</th>\n",
       "      <td>2019-11-15</td>\n",
       "      <td>5.88</td>\n",
       "      <td>2166051</td>\n",
       "      <td>-0.10</td>\n",
       "      <td>-0.0167</td>\n",
       "      <td>-0.023256</td>\n",
       "      <td>-1.672241</td>\n",
       "      <td>0.673401</td>\n",
       "    </tr>\n",
       "    <tr>\n",
       "      <th>3</th>\n",
       "      <td>2019-11-18</td>\n",
       "      <td>5.62</td>\n",
       "      <td>2995894</td>\n",
       "      <td>-0.26</td>\n",
       "      <td>-0.0442</td>\n",
       "      <td>-0.066445</td>\n",
       "      <td>-4.421769</td>\n",
       "      <td>-1.672241</td>\n",
       "    </tr>\n",
       "    <tr>\n",
       "      <th>4</th>\n",
       "      <td>2019-11-19</td>\n",
       "      <td>5.50</td>\n",
       "      <td>3360548</td>\n",
       "      <td>-0.12</td>\n",
       "      <td>-0.0214</td>\n",
       "      <td>-0.086379</td>\n",
       "      <td>-2.135231</td>\n",
       "      <td>-4.421769</td>\n",
       "    </tr>\n",
       "    <tr>\n",
       "      <th>...</th>\n",
       "      <td>...</td>\n",
       "      <td>...</td>\n",
       "      <td>...</td>\n",
       "      <td>...</td>\n",
       "      <td>...</td>\n",
       "      <td>...</td>\n",
       "      <td>...</td>\n",
       "      <td>...</td>\n",
       "    </tr>\n",
       "    <tr>\n",
       "      <th>496</th>\n",
       "      <td>2021-11-02</td>\n",
       "      <td>206.99</td>\n",
       "      <td>3882336</td>\n",
       "      <td>6.90</td>\n",
       "      <td>0.0345</td>\n",
       "      <td>33.383721</td>\n",
       "      <td>3.448448</td>\n",
       "      <td>9.034930</td>\n",
       "    </tr>\n",
       "    <tr>\n",
       "      <th>497</th>\n",
       "      <td>2021-11-03</td>\n",
       "      <td>218.33</td>\n",
       "      <td>11265594</td>\n",
       "      <td>11.34</td>\n",
       "      <td>0.0548</td>\n",
       "      <td>35.267442</td>\n",
       "      <td>5.478526</td>\n",
       "      <td>3.448448</td>\n",
       "    </tr>\n",
       "    <tr>\n",
       "      <th>498</th>\n",
       "      <td>2021-11-04</td>\n",
       "      <td>217.84</td>\n",
       "      <td>2907976</td>\n",
       "      <td>-0.49</td>\n",
       "      <td>-0.0022</td>\n",
       "      <td>35.186047</td>\n",
       "      <td>-0.224431</td>\n",
       "      <td>5.478526</td>\n",
       "    </tr>\n",
       "    <tr>\n",
       "      <th>499</th>\n",
       "      <td>2021-11-05</td>\n",
       "      <td>213.25</td>\n",
       "      <td>1810717</td>\n",
       "      <td>-4.59</td>\n",
       "      <td>-0.0211</td>\n",
       "      <td>34.423588</td>\n",
       "      <td>-2.107051</td>\n",
       "      <td>-0.224431</td>\n",
       "    </tr>\n",
       "    <tr>\n",
       "      <th>500</th>\n",
       "      <td>2021-11-08</td>\n",
       "      <td>218.64</td>\n",
       "      <td>2157912</td>\n",
       "      <td>5.39</td>\n",
       "      <td>0.0253</td>\n",
       "      <td>35.318937</td>\n",
       "      <td>2.527550</td>\n",
       "      <td>-2.107051</td>\n",
       "    </tr>\n",
       "  </tbody>\n",
       "</table>\n",
       "<p>501 rows × 8 columns</p>\n",
       "</div>"
      ],
      "text/plain": [
       "          Date   close    volume  change  changePercent  changeOverTime  \\\n",
       "0   2019-11-13    5.94   1533919    0.02         0.0034       -0.013289   \n",
       "1   2019-11-14    5.98   1708735    0.04         0.0067       -0.006645   \n",
       "2   2019-11-15    5.88   2166051   -0.10        -0.0167       -0.023256   \n",
       "3   2019-11-18    5.62   2995894   -0.26        -0.0442       -0.066445   \n",
       "4   2019-11-19    5.50   3360548   -0.12        -0.0214       -0.086379   \n",
       "..         ...     ...       ...     ...            ...             ...   \n",
       "496 2021-11-02  206.99   3882336    6.90         0.0345       33.383721   \n",
       "497 2021-11-03  218.33  11265594   11.34         0.0548       35.267442   \n",
       "498 2021-11-04  217.84   2907976   -0.49        -0.0022       35.186047   \n",
       "499 2021-11-05  213.25   1810717   -4.59        -0.0211       34.423588   \n",
       "500 2021-11-08  218.64   2157912    5.39         0.0253       35.318937   \n",
       "\n",
       "       Return  Lagged_Return  \n",
       "0    0.337838      -1.661130  \n",
       "1    0.673401       0.337838  \n",
       "2   -1.672241       0.673401  \n",
       "3   -4.421769      -1.672241  \n",
       "4   -2.135231      -4.421769  \n",
       "..        ...            ...  \n",
       "496  3.448448       9.034930  \n",
       "497  5.478526       3.448448  \n",
       "498 -0.224431       5.478526  \n",
       "499 -2.107051      -0.224431  \n",
       "500  2.527550      -2.107051  \n",
       "\n",
       "[501 rows x 8 columns]"
      ]
     },
     "execution_count": 17,
     "metadata": {},
     "output_type": "execute_result"
    }
   ],
   "source": [
    "df = gme_df.copy()\n",
    "df['Return'] = df.close.pct_change() * 100\n",
    "df['Lagged_Return'] = df['Return'].shift()\n",
    "df = df.replace(-np.inf, np.nan).dropna()\n",
    "df = df.reset_index()\n",
    "df"
   ]
  },
  {
   "cell_type": "code",
   "execution_count": 18,
   "id": "c9a67a7f-a0e2-4e19-a8ca-4a034bfa8cdf",
   "metadata": {},
   "outputs": [],
   "source": [
    "# train = df['2019':'2021-11-04']\n",
    "# test = df['2021-11-05':]\n",
    "\n",
    "train = df[0:496]\n",
    "test = df[496:]"
   ]
  },
  {
   "cell_type": "code",
   "execution_count": 19,
   "id": "796de35e-b2b4-43eb-9bae-079cb25312eb",
   "metadata": {},
   "outputs": [
    {
     "data": {
      "text/html": [
       "<div>\n",
       "<style scoped>\n",
       "    .dataframe tbody tr th:only-of-type {\n",
       "        vertical-align: middle;\n",
       "    }\n",
       "\n",
       "    .dataframe tbody tr th {\n",
       "        vertical-align: top;\n",
       "    }\n",
       "\n",
       "    .dataframe thead th {\n",
       "        text-align: right;\n",
       "    }\n",
       "</style>\n",
       "<table border=\"1\" class=\"dataframe\">\n",
       "  <thead>\n",
       "    <tr style=\"text-align: right;\">\n",
       "      <th></th>\n",
       "      <th>Date</th>\n",
       "      <th>close</th>\n",
       "      <th>volume</th>\n",
       "      <th>change</th>\n",
       "      <th>changePercent</th>\n",
       "      <th>changeOverTime</th>\n",
       "      <th>Return</th>\n",
       "      <th>Lagged_Return</th>\n",
       "    </tr>\n",
       "  </thead>\n",
       "  <tbody>\n",
       "    <tr>\n",
       "      <th>496</th>\n",
       "      <td>2021-11-02</td>\n",
       "      <td>206.99</td>\n",
       "      <td>3882336</td>\n",
       "      <td>6.90</td>\n",
       "      <td>0.0345</td>\n",
       "      <td>33.383721</td>\n",
       "      <td>3.448448</td>\n",
       "      <td>9.034930</td>\n",
       "    </tr>\n",
       "    <tr>\n",
       "      <th>497</th>\n",
       "      <td>2021-11-03</td>\n",
       "      <td>218.33</td>\n",
       "      <td>11265594</td>\n",
       "      <td>11.34</td>\n",
       "      <td>0.0548</td>\n",
       "      <td>35.267442</td>\n",
       "      <td>5.478526</td>\n",
       "      <td>3.448448</td>\n",
       "    </tr>\n",
       "    <tr>\n",
       "      <th>498</th>\n",
       "      <td>2021-11-04</td>\n",
       "      <td>217.84</td>\n",
       "      <td>2907976</td>\n",
       "      <td>-0.49</td>\n",
       "      <td>-0.0022</td>\n",
       "      <td>35.186047</td>\n",
       "      <td>-0.224431</td>\n",
       "      <td>5.478526</td>\n",
       "    </tr>\n",
       "    <tr>\n",
       "      <th>499</th>\n",
       "      <td>2021-11-05</td>\n",
       "      <td>213.25</td>\n",
       "      <td>1810717</td>\n",
       "      <td>-4.59</td>\n",
       "      <td>-0.0211</td>\n",
       "      <td>34.423588</td>\n",
       "      <td>-2.107051</td>\n",
       "      <td>-0.224431</td>\n",
       "    </tr>\n",
       "    <tr>\n",
       "      <th>500</th>\n",
       "      <td>2021-11-08</td>\n",
       "      <td>218.64</td>\n",
       "      <td>2157912</td>\n",
       "      <td>5.39</td>\n",
       "      <td>0.0253</td>\n",
       "      <td>35.318937</td>\n",
       "      <td>2.527550</td>\n",
       "      <td>-2.107051</td>\n",
       "    </tr>\n",
       "  </tbody>\n",
       "</table>\n",
       "</div>"
      ],
      "text/plain": [
       "          Date   close    volume  change  changePercent  changeOverTime  \\\n",
       "496 2021-11-02  206.99   3882336    6.90         0.0345       33.383721   \n",
       "497 2021-11-03  218.33  11265594   11.34         0.0548       35.267442   \n",
       "498 2021-11-04  217.84   2907976   -0.49        -0.0022       35.186047   \n",
       "499 2021-11-05  213.25   1810717   -4.59        -0.0211       34.423588   \n",
       "500 2021-11-08  218.64   2157912    5.39         0.0253       35.318937   \n",
       "\n",
       "       Return  Lagged_Return  \n",
       "496  3.448448       9.034930  \n",
       "497  5.478526       3.448448  \n",
       "498 -0.224431       5.478526  \n",
       "499 -2.107051      -0.224431  \n",
       "500  2.527550      -2.107051  "
      ]
     },
     "execution_count": 19,
     "metadata": {},
     "output_type": "execute_result"
    }
   ],
   "source": [
    "test"
   ]
  },
  {
   "cell_type": "code",
   "execution_count": 20,
   "id": "b7f073e9-c21a-4f95-8311-5096ab81979e",
   "metadata": {},
   "outputs": [],
   "source": [
    "X_train = train[\"Lagged_Return\"].to_frame()\n",
    "y_train = train[\"Return\"]\n",
    "X_test = test[\"Lagged_Return\"].to_frame()\n",
    "y_test = test[\"Return\"]"
   ]
  },
  {
   "cell_type": "code",
   "execution_count": 21,
   "id": "ba806108-19d5-496c-91e4-7039e7e42b09",
   "metadata": {},
   "outputs": [
    {
     "data": {
      "text/plain": [
       "LinearRegression()"
      ]
     },
     "execution_count": 21,
     "metadata": {},
     "output_type": "execute_result"
    }
   ],
   "source": [
    "# Fit a SKLearn linear regression using just the training set (X_train, Y_train):\n",
    "model = LinearRegression()\n",
    "model.fit(X_train, y_train)"
   ]
  },
  {
   "cell_type": "code",
   "execution_count": 22,
   "id": "745d6457-5716-46af-9918-11f0ff043bff",
   "metadata": {},
   "outputs": [],
   "source": [
    "# Make a prediction of \"y\" values using just the test dataset\n",
    "predictions = model.predict(X_test)"
   ]
  },
  {
   "cell_type": "code",
   "execution_count": 23,
   "id": "793af047-0e54-4901-a080-de51dec959c9",
   "metadata": {},
   "outputs": [],
   "source": [
    "# Assemble actual y data (Y_test) with predicted y data (from just above) into two columns in a DataFrame:\n",
    "Results = y_test.to_frame()\n",
    "Results[\"Predicted Return\"] = predictions"
   ]
  },
  {
   "cell_type": "code",
   "execution_count": 24,
   "id": "d47a93da-d185-441e-9bca-9994739f8978",
   "metadata": {},
   "outputs": [
    {
     "data": {
      "text/plain": [
       "array([<AxesSubplot:>, <AxesSubplot:>], dtype=object)"
      ]
     },
     "execution_count": 24,
     "metadata": {},
     "output_type": "execute_result"
    },
    {
     "data": {
      "image/png": "[encoded data removed]",
      "text/plain": [
       "<Figure size 432x288 with 2 Axes>"
      ]
     },
     "metadata": {
      "needs_background": "light"
     },
     "output_type": "display_data"
    }
   ],
   "source": [
    "# Plot the first 20 predictions vs the true values\n",
    "Results.plot(subplots=True)"
   ]
  },
  {
   "cell_type": "code",
   "execution_count": null,
   "id": "c630f0db-98ec-43ae-8b7d-f4292c4eea05",
   "metadata": {},
   "outputs": [],
   "source": []
  },
  {
   "cell_type": "code",
   "execution_count": null,
   "id": "60f814e1-02a6-4f64-93f3-d9bd56e61529",
   "metadata": {},
   "outputs": [],
   "source": []
  }
 ],
 "metadata": {
  "kernelspec": {
   "display_name": "Python 3",
   "language": "python",
   "name": "python3"
  },
  "language_info": {
   "codemirror_mode": {
    "name": "ipython",
    "version": 3
   },
   "file_extension": ".py",
   "mimetype": "text/x-python",
   "name": "python",
   "nbconvert_exporter": "python",
   "pygments_lexer": "ipython3",
   "version": "3.7.10"
  }
 },
 "nbformat": 4,
 "nbformat_minor": 5
}
