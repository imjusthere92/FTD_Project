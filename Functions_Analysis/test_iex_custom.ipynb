{
 "cells": [
  {
   "cell_type": "code",
   "execution_count": 1,
   "id": "928237d1-9a8a-49a3-9757-a2c8563c856d",
   "metadata": {},
   "outputs": [
    {
     "data": {
      "text/plain": [
       "True"
      ]
     },
     "execution_count": 1,
     "metadata": {},
     "output_type": "execute_result"
    }
   ],
   "source": [
    "import pandas as pd\n",
    "import numpy as np\n",
    "\n",
    "import glob\n",
    "\n",
    "from pathlib import Path\n",
    "import csv\n",
    "\n",
    "import os\n",
    "import requests\n",
    "import json\n",
    "\n",
    "import quandl\n",
    "#from iexfinance.stocks import Stock\n",
    "\n",
    "from dotenv import load_dotenv\n",
    "load_dotenv()"
   ]
  },
  {
   "cell_type": "code",
   "execution_count": 15,
   "id": "acf89104-861d-4188-9288-3f082c46a588",
   "metadata": {},
   "outputs": [],
   "source": [
    "## Constants \n",
    "\n",
    "## Set start date variable - dataframes will be created starting from this date\n",
    "start_date = '2020-01-01'\n",
    "end_date = '2021-11-09'\n",
    "default_date_range = '2y' ## Default Range for IEX functions - don't need more at the moment"
   ]
  },
  {
   "cell_type": "code",
   "execution_count": 3,
   "id": "1b22ad39-4e00-42a6-8760-71c81cb0c115",
   "metadata": {},
   "outputs": [
    {
     "data": {
      "text/plain": [
       "<Response [200]>"
      ]
     },
     "execution_count": 3,
     "metadata": {},
     "output_type": "execute_result"
    }
   ],
   "source": [
    "## QUANDL/NASDAQ \n",
    "nsdq_api_key = os.environ.get('NASDAQ_API_KEY')\n",
    "base_url_nsdq = 'https://data.nasdaq.com/api/v3/datasets/FINRA/'\n",
    "\n",
    "# ## Test iexfinance.stocks library setup and stability - should not be needed for this file \n",
    "# iex_token = os.getenv(\"IEX_TOKEN\")\n",
    "# iex_api_ver = os.getenv(\"IEX_API_VERSION\")\n",
    "# iex_out_form = os.getenv(\"IEX_OUTPUT_FORMAT\")\n",
    "\n",
    "iex_api_key = os.getenv(\"IEX_API_KEY\")\n",
    "iex_test_api_key = os.getenv(\"IEX_TEST_API_KEY\")\n",
    "\n",
    "real_token = iex_api_key\n",
    "test_token = iex_test_api_key\n",
    "\n",
    "base_url_iex = 'https://cloud.iexapis.com/stable/'\n",
    "sandbox_url = 'https://sandbox.iexapis.com/stable/'\n",
    "\n",
    "## IEX Status Test \n",
    "test_resp = requests.get(base_url_iex + 'status')\n",
    "test_resp"
   ]
  },
  {
   "cell_type": "code",
   "execution_count": 12,
   "id": "63c8e56a-6a21-4cfe-9c06-14ec0dacbdc5",
   "metadata": {},
   "outputs": [],
   "source": [
    "## IEX Calls and Functions \n",
    "\n",
    "def get_chart(stock_ticker, chart_range=default_date_range,token=test_token):\n",
    "    \n",
    "    if token == test_token:\n",
    "        resp_data = requests.get(sandbox_url+'stock/'+stock_ticker+'/chart/'+chart_range+'?chartCloseOnly=true&token='+test_token)\n",
    "        df = pd.DataFrame(resp_data.json())\n",
    "    elif token == real_token:\n",
    "        resp_data = requests.get(base_url_iex+'stock/'+stock_ticker+'/chart/'+chart_range+'?chartCloseOnly=true&token='+real_token)\n",
    "        df = pd.DataFrame(resp_data.json())\n",
    "\n",
    "    df.rename(columns={'date':'Date'},inplace=True)\n",
    "    df['Date'] = pd.to_datetime(df['Date'])\n",
    "    df.set_index('Date',inplace=True)\n",
    "    \n",
    "    return df"
   ]
  },
  {
   "cell_type": "code",
   "execution_count": 13,
   "id": "96c4c723-8c9e-4266-9dba-3897c94a1a14",
   "metadata": {},
   "outputs": [],
   "source": [
    "test_df = get_chart('GME','2y')"
   ]
  },
  {
   "cell_type": "code",
   "execution_count": 14,
   "id": "8f3641a8-1885-49a1-a8c9-3872e21a83dc",
   "metadata": {},
   "outputs": [
    {
     "data": {
      "text/html": [
       "<div>\n",
       "<style scoped>\n",
       "    .dataframe tbody tr th:only-of-type {\n",
       "        vertical-align: middle;\n",
       "    }\n",
       "\n",
       "    .dataframe tbody tr th {\n",
       "        vertical-align: top;\n",
       "    }\n",
       "\n",
       "    .dataframe thead th {\n",
       "        text-align: right;\n",
       "    }\n",
       "</style>\n",
       "<table border=\"1\" class=\"dataframe\">\n",
       "  <thead>\n",
       "    <tr style=\"text-align: right;\">\n",
       "      <th></th>\n",
       "      <th>close</th>\n",
       "      <th>volume</th>\n",
       "      <th>change</th>\n",
       "      <th>changePercent</th>\n",
       "      <th>changeOverTime</th>\n",
       "    </tr>\n",
       "    <tr>\n",
       "      <th>Date</th>\n",
       "      <th></th>\n",
       "      <th></th>\n",
       "      <th></th>\n",
       "      <th></th>\n",
       "      <th></th>\n",
       "    </tr>\n",
       "  </thead>\n",
       "  <tbody>\n",
       "    <tr>\n",
       "      <th>2019-11-11</th>\n",
       "      <td>6.30</td>\n",
       "      <td>3149553</td>\n",
       "      <td>0.000000</td>\n",
       "      <td>0.0000</td>\n",
       "      <td>0.000000</td>\n",
       "    </tr>\n",
       "    <tr>\n",
       "      <th>2019-11-12</th>\n",
       "      <td>6.04</td>\n",
       "      <td>1875079</td>\n",
       "      <td>-0.100176</td>\n",
       "      <td>-0.0172</td>\n",
       "      <td>-0.016944</td>\n",
       "    </tr>\n",
       "    <tr>\n",
       "      <th>2019-11-13</th>\n",
       "      <td>6.10</td>\n",
       "      <td>1610429</td>\n",
       "      <td>0.020821</td>\n",
       "      <td>0.0035</td>\n",
       "      <td>-0.013596</td>\n",
       "    </tr>\n",
       "    <tr>\n",
       "      <th>2019-11-14</th>\n",
       "      <td>6.02</td>\n",
       "      <td>1721149</td>\n",
       "      <td>0.041413</td>\n",
       "      <td>0.0067</td>\n",
       "      <td>-0.006847</td>\n",
       "    </tr>\n",
       "    <tr>\n",
       "      <th>2019-11-15</th>\n",
       "      <td>6.07</td>\n",
       "      <td>2260076</td>\n",
       "      <td>-0.100183</td>\n",
       "      <td>-0.0169</td>\n",
       "      <td>-0.023288</td>\n",
       "    </tr>\n",
       "    <tr>\n",
       "      <th>...</th>\n",
       "      <td>...</td>\n",
       "      <td>...</td>\n",
       "      <td>...</td>\n",
       "      <td>...</td>\n",
       "      <td>...</td>\n",
       "    </tr>\n",
       "    <tr>\n",
       "      <th>2021-11-02</th>\n",
       "      <td>215.47</td>\n",
       "      <td>3958313</td>\n",
       "      <td>6.997630</td>\n",
       "      <td>0.0357</td>\n",
       "      <td>34.310564</td>\n",
       "    </tr>\n",
       "    <tr>\n",
       "      <th>2021-11-03</th>\n",
       "      <td>225.19</td>\n",
       "      <td>11629039</td>\n",
       "      <td>11.456366</td>\n",
       "      <td>0.0550</td>\n",
       "      <td>36.170633</td>\n",
       "    </tr>\n",
       "    <tr>\n",
       "      <th>2021-11-04</th>\n",
       "      <td>220.54</td>\n",
       "      <td>2952792</td>\n",
       "      <td>-0.505885</td>\n",
       "      <td>-0.0022</td>\n",
       "      <td>35.476583</td>\n",
       "    </tr>\n",
       "    <tr>\n",
       "      <th>2021-11-05</th>\n",
       "      <td>213.34</td>\n",
       "      <td>1880875</td>\n",
       "      <td>-4.635614</td>\n",
       "      <td>-0.0214</td>\n",
       "      <td>34.973820</td>\n",
       "    </tr>\n",
       "    <tr>\n",
       "      <th>2021-11-08</th>\n",
       "      <td>227.15</td>\n",
       "      <td>2246060</td>\n",
       "      <td>5.566048</td>\n",
       "      <td>0.0264</td>\n",
       "      <td>37.022057</td>\n",
       "    </tr>\n",
       "  </tbody>\n",
       "</table>\n",
       "<p>503 rows × 5 columns</p>\n",
       "</div>"
      ],
      "text/plain": [
       "             close    volume     change  changePercent  changeOverTime\n",
       "Date                                                                  \n",
       "2019-11-11    6.30   3149553   0.000000         0.0000        0.000000\n",
       "2019-11-12    6.04   1875079  -0.100176        -0.0172       -0.016944\n",
       "2019-11-13    6.10   1610429   0.020821         0.0035       -0.013596\n",
       "2019-11-14    6.02   1721149   0.041413         0.0067       -0.006847\n",
       "2019-11-15    6.07   2260076  -0.100183        -0.0169       -0.023288\n",
       "...            ...       ...        ...            ...             ...\n",
       "2021-11-02  215.47   3958313   6.997630         0.0357       34.310564\n",
       "2021-11-03  225.19  11629039  11.456366         0.0550       36.170633\n",
       "2021-11-04  220.54   2952792  -0.505885        -0.0022       35.476583\n",
       "2021-11-05  213.34   1880875  -4.635614        -0.0214       34.973820\n",
       "2021-11-08  227.15   2246060   5.566048         0.0264       37.022057\n",
       "\n",
       "[503 rows x 5 columns]"
      ]
     },
     "execution_count": 14,
     "metadata": {},
     "output_type": "execute_result"
    }
   ],
   "source": [
    "test_df"
   ]
  },
  {
   "cell_type": "code",
   "execution_count": 7,
   "id": "88e6f070-a0f7-4b15-8f25-c6316dc09f11",
   "metadata": {},
   "outputs": [],
   "source": [
    "## I'm doing this at 1AM on Nov 10th and can't figure out why it won't give Nov 9th Data... \n",
    "\n",
    "## It's because IEX doesn't publish data until 4am... "
   ]
  },
  {
   "cell_type": "code",
   "execution_count": 8,
   "id": "5773aac5-28f9-48c0-8132-84d04969c20c",
   "metadata": {},
   "outputs": [
    {
     "data": {
      "text/plain": [
       "<Response [200]>"
      ]
     },
     "execution_count": 8,
     "metadata": {},
     "output_type": "execute_result"
    }
   ],
   "source": [
    "#resp_data = requests.get(sandbox_url+'stock/twtr/chart/5d?token='+test_token)\n",
    "test_resp_data = requests.get(sandbox_url+'stock/gme/chart/2y?chartCloseOnly=true&token='+test_token)\n",
    "## Use \"&\" symbol to seperate parameter requests, and to add token to end of request. \n",
    "test_resp_data"
   ]
  },
  {
   "cell_type": "code",
   "execution_count": 11,
   "id": "704c2c2d-c86b-4351-a4cc-5efa8d512567",
   "metadata": {},
   "outputs": [
    {
     "data": {
      "text/html": [
       "<div>\n",
       "<style scoped>\n",
       "    .dataframe tbody tr th:only-of-type {\n",
       "        vertical-align: middle;\n",
       "    }\n",
       "\n",
       "    .dataframe tbody tr th {\n",
       "        vertical-align: top;\n",
       "    }\n",
       "\n",
       "    .dataframe thead th {\n",
       "        text-align: right;\n",
       "    }\n",
       "</style>\n",
       "<table border=\"1\" class=\"dataframe\">\n",
       "  <thead>\n",
       "    <tr style=\"text-align: right;\">\n",
       "      <th></th>\n",
       "      <th>date</th>\n",
       "      <th>close</th>\n",
       "      <th>volume</th>\n",
       "      <th>change</th>\n",
       "      <th>changePercent</th>\n",
       "      <th>changeOverTime</th>\n",
       "    </tr>\n",
       "  </thead>\n",
       "  <tbody>\n",
       "    <tr>\n",
       "      <th>0</th>\n",
       "      <td>2019-11-11</td>\n",
       "      <td>6.03</td>\n",
       "      <td>3184078</td>\n",
       "      <td>0.000000</td>\n",
       "      <td>0.0000</td>\n",
       "      <td>0.000000</td>\n",
       "    </tr>\n",
       "    <tr>\n",
       "      <th>1</th>\n",
       "      <td>2019-11-12</td>\n",
       "      <td>6.16</td>\n",
       "      <td>1899621</td>\n",
       "      <td>-0.100421</td>\n",
       "      <td>-0.0167</td>\n",
       "      <td>-0.016905</td>\n",
       "    </tr>\n",
       "    <tr>\n",
       "      <th>2</th>\n",
       "      <td>2019-11-13</td>\n",
       "      <td>6.04</td>\n",
       "      <td>1587308</td>\n",
       "      <td>0.020200</td>\n",
       "      <td>0.0035</td>\n",
       "      <td>-0.013721</td>\n",
       "    </tr>\n",
       "    <tr>\n",
       "      <th>3</th>\n",
       "      <td>2019-11-14</td>\n",
       "      <td>6.13</td>\n",
       "      <td>1714226</td>\n",
       "      <td>0.041737</td>\n",
       "      <td>0.0068</td>\n",
       "      <td>-0.006874</td>\n",
       "    </tr>\n",
       "    <tr>\n",
       "      <th>4</th>\n",
       "      <td>2019-11-15</td>\n",
       "      <td>6.17</td>\n",
       "      <td>2255449</td>\n",
       "      <td>-0.104659</td>\n",
       "      <td>-0.0170</td>\n",
       "      <td>-0.023346</td>\n",
       "    </tr>\n",
       "  </tbody>\n",
       "</table>\n",
       "</div>"
      ],
      "text/plain": [
       "         date  close   volume    change  changePercent  changeOverTime\n",
       "0  2019-11-11   6.03  3184078  0.000000         0.0000        0.000000\n",
       "1  2019-11-12   6.16  1899621 -0.100421        -0.0167       -0.016905\n",
       "2  2019-11-13   6.04  1587308  0.020200         0.0035       -0.013721\n",
       "3  2019-11-14   6.13  1714226  0.041737         0.0068       -0.006874\n",
       "4  2019-11-15   6.17  2255449 -0.104659        -0.0170       -0.023346"
      ]
     },
     "execution_count": 11,
     "metadata": {},
     "output_type": "execute_result"
    }
   ],
   "source": [
    "data = test_resp_data.json()\n",
    "data = pd.DataFrame(data)\n",
    "data.head()"
   ]
  },
  {
   "cell_type": "code",
   "execution_count": null,
   "id": "fbac0bb1-9880-4aee-97ec-c36e29d8bc15",
   "metadata": {},
   "outputs": [],
   "source": []
  }
 ],
 "metadata": {
  "kernelspec": {
   "display_name": "Python 3",
   "language": "python",
   "name": "python3"
  },
  "language_info": {
   "codemirror_mode": {
    "name": "ipython",
    "version": 3
   },
   "file_extension": ".py",
   "mimetype": "text/x-python",
   "name": "python",
   "nbconvert_exporter": "python",
   "pygments_lexer": "ipython3",
   "version": "3.7.10"
  }
 },
 "nbformat": 4,
 "nbformat_minor": 5
}
